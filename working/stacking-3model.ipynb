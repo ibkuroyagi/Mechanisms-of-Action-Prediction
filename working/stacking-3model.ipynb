{
 "cells": [
  {
   "cell_type": "code",
   "execution_count": 1,
   "metadata": {
    "_cell_guid": "b1076dfc-b9ad-4769-8c92-a6c4dae69d19",
    "_uuid": "8f2839f25d086af736a60e9eeb907d3b93b6e0e5",
    "execution": {
     "iopub.execute_input": "2020-11-30T12:47:14.552129Z",
     "iopub.status.busy": "2020-11-30T12:47:14.551335Z",
     "iopub.status.idle": "2020-11-30T12:47:17.220145Z",
     "shell.execute_reply": "2020-11-30T12:47:17.219491Z"
    },
    "papermill": {
     "duration": 2.69769,
     "end_time": "2020-11-30T12:47:17.220277",
     "exception": false,
     "start_time": "2020-11-30T12:47:14.522587",
     "status": "completed"
    },
    "tags": []
   },
   "outputs": [
    {
     "name": "stderr",
     "output_type": "stream",
     "text": [
      "[INFO] 2020-11-30 12:47:17,212 >>\tstart process.\n"
     ]
    }
   ],
   "source": [
    "import sys\n",
    "import os\n",
    "import warnings\n",
    "\n",
    "import matplotlib.pyplot as plt\n",
    "import numpy as np\n",
    "import pandas as pd\n",
    "import torch\n",
    "import yaml\n",
    "from torch.utils.data import DataLoader\n",
    "sys.path.append(\"../input/iterative-stratification/iterative-stratification-master\")\n",
    "sys.path.append(\"../input/node-base/modules/datasets\")\n",
    "sys.path.append(\"../input/node-base/modules/facebookresearch\")\n",
    "sys.path.append(\"../input/node-base/modules/losses\")\n",
    "sys.path.append(\"../input/node-base/modules/Qwicen\")\n",
    "sys.path.append(\"../input/node-base/modules/trainer\")\n",
    "sys.path.append(\"../input/node-base/modules/utils\")\n",
    "import node\n",
    "from iterstrat.ml_stratifiers import MultilabelStratifiedKFold\n",
    "from Tab_dataset import MoaDataset\n",
    "from qhoptim import QHAdam\n",
    "from tab_trainer import mean_log_loss\n",
    "from tab_trainer import TabTrainer\n",
    "from utils import seed_everything\n",
    "from utils import create_logger\n",
    "from utils import get_logger\n",
    "from preprocess import preprocess_pipeline\n",
    "from label_smooth_loss import SmoothBCEwLogits\n",
    "warnings.filterwarnings(\"ignore\")\n",
    "DEBUG = False\n",
    "oof_list = []\n",
    "preds_list = []\n",
    "No = \"009-2\"\n",
    "create_logger(No)\n",
    "logging = get_logger(No)\n",
    "logging.info(\"start process.\")"
   ]
  },
  {
   "cell_type": "markdown",
   "metadata": {
    "papermill": {
     "duration": 0.015919,
     "end_time": "2020-11-30T12:47:17.253981",
     "exception": false,
     "start_time": "2020-11-30T12:47:17.238062",
     "status": "completed"
    },
    "tags": []
   },
   "source": [
    "## TabNet by Narita"
   ]
  },
  {
   "cell_type": "code",
   "execution_count": 2,
   "metadata": {
    "execution": {
     "iopub.execute_input": "2020-11-30T12:47:17.320571Z",
     "iopub.status.busy": "2020-11-30T12:47:17.304791Z",
     "iopub.status.idle": "2020-11-30T13:09:17.195499Z",
     "shell.execute_reply": "2020-11-30T13:09:17.195964Z"
    },
    "papermill": {
     "duration": 1319.926385,
     "end_time": "2020-11-30T13:09:17.196147",
     "exception": false,
     "start_time": "2020-11-30T12:47:17.269762",
     "status": "completed"
    },
    "tags": []
   },
   "outputs": [
    {
     "name": "stdout",
     "output_type": "stream",
     "text": [
      "Looking in links: /kaggle/input/pytorchtabnet/pytorch_tabnet-2.0.0-py3-none-any.whl\r\n",
      "Processing /kaggle/input/pytorchtabnet/pytorch_tabnet-2.0.0-py3-none-any.whl\r\n",
      "Requirement already satisfied: tqdm<5.0,>=4.36 in /opt/conda/lib/python3.7/site-packages (from pytorch-tabnet) (4.45.0)\r\n",
      "Requirement already satisfied: scipy>1.4 in /opt/conda/lib/python3.7/site-packages (from pytorch-tabnet) (1.4.1)\r\n",
      "Requirement already satisfied: torch<2.0,>=1.2 in /opt/conda/lib/python3.7/site-packages (from pytorch-tabnet) (1.6.0)\r\n",
      "Requirement already satisfied: numpy<2.0,>=1.17 in /opt/conda/lib/python3.7/site-packages (from pytorch-tabnet) (1.18.5)\r\n",
      "Requirement already satisfied: scikit_learn>0.21 in /opt/conda/lib/python3.7/site-packages (from pytorch-tabnet) (0.23.2)\r\n",
      "Requirement already satisfied: future in /opt/conda/lib/python3.7/site-packages (from torch<2.0,>=1.2->pytorch-tabnet) (0.18.2)\r\n",
      "Requirement already satisfied: threadpoolctl>=2.0.0 in /opt/conda/lib/python3.7/site-packages (from scikit_learn>0.21->pytorch-tabnet) (2.1.0)\r\n",
      "Requirement already satisfied: joblib>=0.11 in /opt/conda/lib/python3.7/site-packages (from scikit_learn>0.21->pytorch-tabnet) (0.14.1)\r\n",
      "Installing collected packages: pytorch-tabnet\r\n",
      "Successfully installed pytorch-tabnet-2.0.0\r\n",
      "Processing /kaggle/input/iterative-stratification/iterative-stratification-master\r\n",
      "Requirement already satisfied: numpy in /opt/conda/lib/python3.7/site-packages (from iterative-stratification==0.1.6) (1.18.5)\r\n",
      "Requirement already satisfied: scipy in /opt/conda/lib/python3.7/site-packages (from iterative-stratification==0.1.6) (1.4.1)\r\n",
      "Requirement already satisfied: scikit-learn in /opt/conda/lib/python3.7/site-packages (from iterative-stratification==0.1.6) (0.23.2)\r\n",
      "Requirement already satisfied: joblib>=0.11 in /opt/conda/lib/python3.7/site-packages (from scikit-learn->iterative-stratification==0.1.6) (0.14.1)\r\n",
      "Requirement already satisfied: threadpoolctl>=2.0.0 in /opt/conda/lib/python3.7/site-packages (from scikit-learn->iterative-stratification==0.1.6) (2.1.0)\r\n",
      "Building wheels for collected packages: iterative-stratification\r\n",
      "  Building wheel for iterative-stratification (setup.py) ... \u001b[?25l-\b \b\\\b \bdone\r\n",
      "\u001b[?25h  Created wheel for iterative-stratification: filename=iterative_stratification-0.1.6-py3-none-any.whl size=8401 sha256=c27ef7a3d75096364345951405e7ed0cd5d0304fa9041a54d50802fe3c2c63a8\r\n",
      "  Stored in directory: /root/.cache/pip/wheels/b8/47/3f/eb4af42d124f37d23d6f13a4c8bbc32c1d70140e6e1cecb4aa\r\n",
      "Successfully built iterative-stratification\r\n",
      "Installing collected packages: iterative-stratification\r\n",
      "Successfully installed iterative-stratification-0.1.6\r\n",
      "\u001b[34m not_ctl\n",
      "\u001b[34m Rank Gauss\n",
      "\u001b[34m PCA\n",
      "\u001b[34m One-Hot\n"
     ]
    },
    {
     "name": "stderr",
     "output_type": "stream",
     "text": [
      "100%|██████████| 5/5 [00:05<00:00,  1.02s/it]\n"
     ]
    },
    {
     "name": "stdout",
     "output_type": "stream",
     "text": [
      "\u001b[34mtrain_df.shape: \u001b[31m(21948, 1038)\n",
      "\u001b[34mtest_df.shape: \u001b[31m(3624, 1038)\n",
      "\u001b[34mX_test.shape: \u001b[31m(3624, 1037)\n",
      "\u001b[34m SEED:  \u001b[31m 0\n",
      "\u001b[32m ************************************************************ \u001b[36m\n",
      "\u001b[34m FOLDS:  \u001b[31m 1\n",
      "\u001b[32m ************************************************************ \u001b[36m\n",
      "Device used : cuda\n",
      "epoch 0  | loss: 0.44904 | val_logits_ll: 0.09639 |  0:00:03s\n",
      "epoch 10 | loss: 0.02013 | val_logits_ll: 0.01984 |  0:00:23s\n",
      "epoch 20 | loss: 0.01782 | val_logits_ll: 0.02047 |  0:00:43s\n",
      "epoch 30 | loss: 0.01721 | val_logits_ll: 0.01791 |  0:01:05s\n",
      "epoch 40 | loss: 0.01669 | val_logits_ll: 0.01766 |  0:01:25s\n",
      "epoch 50 | loss: 0.01642 | val_logits_ll: 0.0174  |  0:01:45s\n",
      "epoch 60 | loss: 0.01611 | val_logits_ll: 0.01721 |  0:02:07s\n",
      "epoch 70 | loss: 0.0157  | val_logits_ll: 0.01791 |  0:02:28s\n",
      "epoch 80 | loss: 0.01528 | val_logits_ll: 0.01716 |  0:02:50s\n",
      "\n",
      "Early stopping occured at epoch 87 with best_epoch = 72 and best_val_logits_ll = 0.01707\n",
      "Best weights from best epoch are automatically used!\n",
      "\u001b[33m ------------------------------------------------------------\n",
      "\u001b[34m FOLDS:  \u001b[31m 2\n",
      "\u001b[32m ************************************************************ \u001b[36m\n",
      "Device used : cuda\n",
      "epoch 0  | loss: 0.44867 | val_logits_ll: 0.10125 |  0:00:01s\n",
      "epoch 10 | loss: 0.01976 | val_logits_ll: 0.01945 |  0:00:23s\n",
      "epoch 20 | loss: 0.01799 | val_logits_ll: 0.01842 |  0:00:44s\n",
      "epoch 30 | loss: 0.01714 | val_logits_ll: 0.018   |  0:01:06s\n",
      "epoch 40 | loss: 0.01676 | val_logits_ll: 0.01953 |  0:01:27s\n",
      "epoch 50 | loss: 0.01639 | val_logits_ll: 0.01736 |  0:01:49s\n",
      "epoch 60 | loss: 0.01629 | val_logits_ll: 0.01702 |  0:02:11s\n",
      "epoch 70 | loss: 0.01612 | val_logits_ll: 0.01695 |  0:02:31s\n",
      "epoch 80 | loss: 0.01571 | val_logits_ll: 0.01701 |  0:02:54s\n",
      "epoch 90 | loss: 0.01543 | val_logits_ll: 0.0172  |  0:03:15s\n",
      "\n",
      "Early stopping occured at epoch 93 with best_epoch = 78 and best_val_logits_ll = 0.01677\n",
      "Best weights from best epoch are automatically used!\n",
      "\u001b[33m ------------------------------------------------------------\n",
      "\u001b[34m FOLDS:  \u001b[31m 3\n",
      "\u001b[32m ************************************************************ \u001b[36m\n",
      "Device used : cuda\n",
      "epoch 0  | loss: 0.45004 | val_logits_ll: 0.09289 |  0:00:02s\n",
      "epoch 10 | loss: 0.01986 | val_logits_ll: 0.01952 |  0:00:26s\n",
      "epoch 20 | loss: 0.01789 | val_logits_ll: 0.0188  |  0:00:50s\n",
      "epoch 30 | loss: 0.01708 | val_logits_ll: 0.01765 |  0:01:13s\n",
      "epoch 40 | loss: 0.01684 | val_logits_ll: 0.0175  |  0:01:38s\n",
      "epoch 50 | loss: 0.01648 | val_logits_ll: 0.01743 |  0:02:01s\n",
      "epoch 60 | loss: 0.01628 | val_logits_ll: 0.01724 |  0:02:25s\n",
      "epoch 70 | loss: 0.01601 | val_logits_ll: 0.01718 |  0:02:49s\n",
      "epoch 80 | loss: 0.0158  | val_logits_ll: 0.01688 |  0:03:13s\n",
      "epoch 90 | loss: 0.01552 | val_logits_ll: 0.01692 |  0:03:37s\n",
      "\n",
      "Early stopping occured at epoch 93 with best_epoch = 78 and best_val_logits_ll = 0.01679\n",
      "Best weights from best epoch are automatically used!\n",
      "\u001b[33m ------------------------------------------------------------\n",
      "\u001b[34m SEED:  \u001b[31m 1\n",
      "\u001b[32m ************************************************************ \u001b[36m\n",
      "\u001b[34m FOLDS:  \u001b[31m 1\n",
      "\u001b[32m ************************************************************ \u001b[36m\n",
      "Device used : cuda\n",
      "epoch 0  | loss: 0.44905 | val_logits_ll: 0.06913 |  0:00:02s\n",
      "epoch 10 | loss: 0.0191  | val_logits_ll: 0.01878 |  0:00:27s\n",
      "epoch 20 | loss: 0.01755 | val_logits_ll: 0.0182  |  0:00:52s\n",
      "epoch 30 | loss: 0.01691 | val_logits_ll: 0.01737 |  0:01:16s\n",
      "epoch 40 | loss: 0.01645 | val_logits_ll: 0.01738 |  0:01:42s\n",
      "epoch 50 | loss: 0.01614 | val_logits_ll: 0.01724 |  0:02:06s\n",
      "epoch 60 | loss: 0.01591 | val_logits_ll: 0.01714 |  0:02:31s\n",
      "epoch 70 | loss: 0.01557 | val_logits_ll: 0.01726 |  0:02:57s\n",
      "\n",
      "Early stopping occured at epoch 76 with best_epoch = 61 and best_val_logits_ll = 0.01711\n",
      "Best weights from best epoch are automatically used!\n",
      "\u001b[33m ------------------------------------------------------------\n",
      "\u001b[34m FOLDS:  \u001b[31m 2\n",
      "\u001b[32m ************************************************************ \u001b[36m\n",
      "Device used : cuda\n",
      "epoch 0  | loss: 0.45471 | val_logits_ll: 0.07675 |  0:00:02s\n",
      "epoch 10 | loss: 0.01886 | val_logits_ll: 0.02271 |  0:00:28s\n",
      "epoch 20 | loss: 0.01731 | val_logits_ll: 0.01785 |  0:00:52s\n",
      "epoch 30 | loss: 0.01679 | val_logits_ll: 0.01746 |  0:01:17s\n",
      "epoch 40 | loss: 0.01674 | val_logits_ll: 0.01722 |  0:01:42s\n",
      "epoch 50 | loss: 0.01634 | val_logits_ll: 0.01708 |  0:02:07s\n",
      "epoch 60 | loss: 0.01621 | val_logits_ll: 0.01714 |  0:02:33s\n",
      "epoch 70 | loss: 0.01597 | val_logits_ll: 0.01712 |  0:02:57s\n",
      "epoch 80 | loss: 0.01549 | val_logits_ll: 0.0172  |  0:03:22s\n",
      "\n",
      "Early stopping occured at epoch 81 with best_epoch = 66 and best_val_logits_ll = 0.01697\n",
      "Best weights from best epoch are automatically used!\n",
      "\u001b[33m ------------------------------------------------------------\n",
      "\u001b[34m FOLDS:  \u001b[31m 3\n",
      "\u001b[32m ************************************************************ \u001b[36m\n",
      "Device used : cuda\n",
      "epoch 0  | loss: 0.44574 | val_logits_ll: 0.07046 |  0:00:02s\n",
      "epoch 10 | loss: 0.01929 | val_logits_ll: 0.01885 |  0:00:26s\n",
      "epoch 20 | loss: 0.01769 | val_logits_ll: 0.01792 |  0:00:52s\n",
      "epoch 30 | loss: 0.0171  | val_logits_ll: 0.01881 |  0:01:17s\n",
      "epoch 40 | loss: 0.0167  | val_logits_ll: 0.01716 |  0:01:41s\n",
      "epoch 50 | loss: 0.01646 | val_logits_ll: 0.01716 |  0:02:07s\n",
      "epoch 60 | loss: 0.01613 | val_logits_ll: 0.01694 |  0:02:31s\n",
      "epoch 70 | loss: 0.01583 | val_logits_ll: 0.0169  |  0:02:57s\n",
      "\n",
      "Early stopping occured at epoch 72 with best_epoch = 57 and best_val_logits_ll = 0.01686\n",
      "Best weights from best epoch are automatically used!\n",
      "\u001b[33m ------------------------------------------------------------\n",
      "\u001b[34mOverall AUC: \u001b[31m0.7254184364740751\n",
      "\u001b[34mAverage CV: \u001b[31m0.016978340528085934\n",
      "\u001b[34msubmission.shape: \u001b[31m(3982, 207)\n"
     ]
    }
   ],
   "source": [
    "scores_auc_all = []\n",
    "test_cv_preds = []\n",
    "MAX_EPOCH = 200\n",
    "NB_SPLITS = 3\n",
    "\n",
    "# TabNet\n",
    "!pip install --no-index --find-links /kaggle/input/pytorchtabnet/pytorch_tabnet-2.0.0-py3-none-any.whl pytorch-tabnet\n",
    "# Iterative Stratification\n",
    "!pip install /kaggle/input/iterative-stratification/iterative-stratification-master/\n",
    "\n",
    "### General ###\n",
    "import os\n",
    "import sys\n",
    "import copy\n",
    "import tqdm\n",
    "import pickle\n",
    "import random\n",
    "import warnings\n",
    "warnings.filterwarnings(\"ignore\")\n",
    "sys.path.append(\"../input/rank-gauss\")\n",
    "os.environ[\"CUDA_LAUNCH_BLOCKING\"] = '1'\n",
    "\n",
    "### Data Wrangling ###\n",
    "import numpy as np\n",
    "import pandas as pd\n",
    "from scipy import stats\n",
    "from gauss_rank_scaler import GaussRankScaler\n",
    "\n",
    "### Data Visualization ###\n",
    "import seaborn as sns\n",
    "import matplotlib.pyplot as plt\n",
    "plt.style.use(\"fivethirtyeight\")\n",
    "\n",
    "### Machine Learning ###\n",
    "from sklearn.decomposition import PCA\n",
    "from sklearn.decomposition import FastICA\n",
    "from sklearn.preprocessing import LabelEncoder\n",
    "from sklearn.metrics import roc_auc_score, log_loss\n",
    "from sklearn.preprocessing import QuantileTransformer\n",
    "from sklearn.feature_selection import VarianceThreshold\n",
    "from sklearn.preprocessing import StandardScaler\n",
    "from iterstrat.ml_stratifiers import MultilabelStratifiedKFold\n",
    "\n",
    "### Deep Learning ###\n",
    "import torch\n",
    "from torch import nn\n",
    "import torch.optim as optim\n",
    "from torch.nn import functional as F\n",
    "from torch.nn.modules.loss import _WeightedLoss\n",
    "from torch.utils.data import DataLoader, Dataset\n",
    "from torch.optim.lr_scheduler import ReduceLROnPlateau\n",
    "# Tabnet \n",
    "from pytorch_tabnet.metrics import Metric\n",
    "from pytorch_tabnet.tab_model import TabNetRegressor\n",
    "\n",
    "### Make prettier the prints ###\n",
    "from colorama import Fore\n",
    "c_ = Fore.CYAN\n",
    "m_ = Fore.MAGENTA\n",
    "r_ = Fore.RED\n",
    "b_ = Fore.BLUE\n",
    "y_ = Fore.YELLOW\n",
    "g_ = Fore.GREEN\n",
    "\n",
    "seed = 42\n",
    "\n",
    "def set_seed(seed):\n",
    "    random.seed(seed)\n",
    "    np.random.seed(seed)\n",
    "    torch.manual_seed(seed)\n",
    "    os.environ[\"PYTHONHASHSEED\"] = str(seed)\n",
    "    \n",
    "    if torch.cuda.is_available():\n",
    "        torch.cuda.manual_seed(seed)\n",
    "        torch.cuda.manual_seed_all(seed)\n",
    "        torch.backends.cudnn.deterministic = True\n",
    "        torch.backends.cudnn.benchmark = False\n",
    "set_seed(seed)\n",
    "\n",
    "# Parameters\n",
    "data_path = \"../input/lish-moa/\"\n",
    "no_ctl = True\n",
    "scale = \"rankgauss\"\n",
    "variance_threshould = 0.7\n",
    "decompo = \"PCA\"\n",
    "ncompo_genes = 80\n",
    "ncompo_cells = 10\n",
    "ica_ncompo_genes = 80\n",
    "ica_ncompo_cells = 10\n",
    "encoding = \"dummy\"\n",
    "\n",
    "train = pd.read_csv(data_path + \"train_features.csv\")\n",
    "#train.drop(columns = [\"sig_id\"], inplace = True)\n",
    "\n",
    "targets = pd.read_csv(data_path + \"train_targets_scored.csv\")\n",
    "#train_targets_scored.drop(columns = [\"sig_id\"], inplace = True)\n",
    "\n",
    "#train_targets_nonscored = pd.read_csv(data_path + \"train_targets_nonscored.csv\")\n",
    "\n",
    "test = pd.read_csv(data_path + \"test_features.csv\")\n",
    "#test.drop(columns = [\"sig_id\"], inplace = True)\n",
    "\n",
    "submission = pd.read_csv(data_path + \"sample_submission.csv\")\n",
    "\n",
    "if no_ctl:\n",
    "    # cp_type == ctl_vehicle\n",
    "    print(b_, \"not_ctl\")\n",
    "    train = train[train[\"cp_type\"] != \"ctl_vehicle\"]\n",
    "    test = test[test[\"cp_type\"] != \"ctl_vehicle\"]\n",
    "    targets = targets.iloc[train.index]\n",
    "    train.reset_index(drop = True, inplace = True)\n",
    "    test.reset_index(drop = True, inplace = True)\n",
    "    targets.reset_index(drop = True, inplace = True)\n",
    "\n",
    "GENES = [col for col in train.columns if col.startswith(\"g-\")]\n",
    "CELLS = [col for col in train.columns if col.startswith(\"c-\")]\n",
    "\n",
    "data_all = pd.concat([train, test], ignore_index = True)\n",
    "cols_numeric = [feat for feat in list(data_all.columns) if feat not in [\"sig_id\", \"cp_type\", \"cp_time\", \"cp_dose\"]]\n",
    "mask = (data_all[cols_numeric].var() >= variance_threshould).values\n",
    "tmp = data_all[cols_numeric].loc[:, mask]\n",
    "data_all = pd.concat([data_all[[\"sig_id\", \"cp_type\", \"cp_time\", \"cp_dose\"]], tmp], axis = 1)\n",
    "cols_numeric = [feat for feat in list(data_all.columns) if feat not in [\"sig_id\", \"cp_type\", \"cp_time\", \"cp_dose\"]]\n",
    "\n",
    "def scale_minmax(col):\n",
    "    return (col - col.min()) / (col.max() - col.min())\n",
    "\n",
    "def scale_norm(col):\n",
    "    return (col - col.mean()) / col.std()\n",
    "\n",
    "if scale == \"boxcox\":\n",
    "    print(b_, \"boxcox\")\n",
    "    data_all[cols_numeric] = data_all[cols_numeric].apply(scale_minmax, axis = 0)\n",
    "    trans = []\n",
    "    for feat in cols_numeric:\n",
    "        trans_var, lambda_var = stats.boxcox(data_all[feat].dropna() + 1)\n",
    "        trans.append(scale_minmax(trans_var))\n",
    "    data_all[cols_numeric] = np.asarray(trans).T\n",
    "    \n",
    "elif scale == \"norm\":\n",
    "    print(b_, \"norm\")\n",
    "    data_all[cols_numeric] = data_all[cols_numeric].apply(scale_norm, axis = 0)\n",
    "    \n",
    "elif scale == \"minmax\":\n",
    "    print(b_, \"minmax\")\n",
    "    data_all[cols_numeric] = data_all[cols_numeric].apply(scale_minmax, axis = 0)\n",
    "    \n",
    "elif scale == \"rankgauss\":\n",
    "    ### Rank Gauss ###\n",
    "    print(b_, \"Rank Gauss\")\n",
    "    scaler = GaussRankScaler()\n",
    "    data_all[cols_numeric] = scaler.fit_transform(data_all[cols_numeric])\n",
    "    \n",
    "else:\n",
    "    pass\n",
    "\n",
    "# PCA\n",
    "if decompo == \"PCA\":\n",
    "    print(b_, \"PCA\")\n",
    "    GENES = [col for col in data_all.columns if col.startswith(\"g-\")]\n",
    "    CELLS = [col for col in data_all.columns if col.startswith(\"c-\")]\n",
    "    \n",
    "    pca_genes = PCA(n_components = ncompo_genes,\n",
    "                    random_state = seed).fit_transform(data_all[GENES])\n",
    "    pca_cells = PCA(n_components = ncompo_cells,\n",
    "                    random_state = seed).fit_transform(data_all[CELLS])\n",
    "    \n",
    "    pca_genes = pd.DataFrame(pca_genes, columns = [f\"pca_g-{i}\" for i in range(ncompo_genes)])\n",
    "    pca_cells = pd.DataFrame(pca_cells, columns = [f\"pca_c-{i}\" for i in range(ncompo_cells)])\n",
    "    data_all = pd.concat([data_all, pca_genes, pca_cells], axis = 1)\n",
    "else:\n",
    "    pass\n",
    "\n",
    "GENES = [col for col in data_all.columns if col.startswith(\"g-\")]\n",
    "CELLS = [col for col in data_all.columns if col.startswith(\"c-\")]\n",
    "\n",
    "ica_genes = FastICA(n_components = ica_ncompo_genes,\n",
    "                    random_state = seed).fit_transform(data_all[GENES])\n",
    "ica_cells = FastICA(n_components = ica_ncompo_cells,\n",
    "                    random_state = seed).fit_transform(data_all[CELLS])\n",
    "\n",
    "ica_genes = pd.DataFrame(ica_genes, columns = [f\"ica_g-{i}\" for i in range(ica_ncompo_genes)])\n",
    "ica_cells = pd.DataFrame(ica_cells, columns = [f\"ica_c-{i}\" for i in range(ica_ncompo_cells)])\n",
    "data_all = pd.concat([data_all, ica_genes, ica_cells], axis = 1)\n",
    "\n",
    "# Encoding\n",
    "if encoding == \"lb\":\n",
    "    print(b_, \"Label Encoding\")\n",
    "    for feat in [\"cp_time\", \"cp_dose\"]:\n",
    "        data_all[feat] = LabelEncoder().fit_transform(data_all[feat])\n",
    "elif encoding == \"dummy\":\n",
    "    print(b_, \"One-Hot\")\n",
    "    data_all = pd.get_dummies(data_all, columns = [\"cp_time\", \"cp_dose\"])\n",
    "    \n",
    "GENES = [col for col in data_all.columns if col.startswith(\"g-\")]\n",
    "CELLS = [col for col in data_all.columns if col.startswith(\"c-\")]\n",
    "\n",
    "for stats in tqdm.tqdm([\"sum\", \"mean\", \"std\", \"kurt\", \"skew\"]):\n",
    "    data_all[\"g_\" + stats] = getattr(data_all[GENES], stats)(axis = 1)\n",
    "    data_all[\"c_\" + stats] = getattr(data_all[CELLS], stats)(axis = 1)    \n",
    "    data_all[\"gc_\" + stats] = getattr(data_all[GENES + CELLS], stats)(axis = 1)\n",
    "\n",
    "with open(\"data_all.pickle\", \"wb\") as f:\n",
    "    pickle.dump(data_all, f)\n",
    "\n",
    "with open(\"data_all.pickle\", \"rb\") as f:\n",
    "    data_all = pickle.load(f)\n",
    "\n",
    "# train_df and test_df\n",
    "features_to_drop = [\"cp_type\"]\n",
    "data_all.drop(features_to_drop, axis = 1, inplace = True)\n",
    "train_df = data_all[: train.shape[0]]\n",
    "train_df.reset_index(drop = True, inplace = True)\n",
    "# The following line it's a bad practice in my opinion, targets on train set\n",
    "#train_df = pd.concat([train_df, targets], axis = 1)\n",
    "test_df = data_all[train_df.shape[0]: ]\n",
    "test_df.reset_index(drop = True, inplace = True)\n",
    "\n",
    "print(f\"{b_}train_df.shape: {r_}{train_df.shape}\")\n",
    "print(f\"{b_}test_df.shape: {r_}{test_df.shape}\")\n",
    "\n",
    "X_test = test_df.drop(\"sig_id\", axis=1).values\n",
    "print(f\"{b_}X_test.shape: {r_}{X_test.shape}\")\n",
    "\n",
    "# n_d and n_a are different from the original work, 32 instead of 24\n",
    "# This is the first change in the code from the original\n",
    "tabnet_params = dict(\n",
    "    n_d = 32,\n",
    "    n_a = 32,\n",
    "    n_steps = 1,\n",
    "    gamma = 1.3,\n",
    "    lambda_sparse = 0,\n",
    "    optimizer_fn = optim.Adam,\n",
    "    optimizer_params = dict(lr = 2e-2, weight_decay = 1e-5),\n",
    "    mask_type = \"entmax\",\n",
    "    scheduler_params = dict(\n",
    "        mode = \"min\", patience = 5, min_lr = 1e-5, factor = 0.9),\n",
    "    scheduler_fn = ReduceLROnPlateau,\n",
    "    seed = seed,\n",
    "    verbose = 10\n",
    ")\n",
    "\n",
    "class LogitsLogLoss(Metric):\n",
    "    \"\"\"\n",
    "    LogLoss with sigmoid applied\n",
    "    \"\"\"\n",
    "\n",
    "    def __init__(self):\n",
    "        self._name = \"logits_ll\"\n",
    "        self._maximize = False\n",
    "\n",
    "    def __call__(self, y_true, y_pred):\n",
    "        \"\"\"\n",
    "        Compute LogLoss of predictions.\n",
    "\n",
    "        Parameters\n",
    "        ----------\n",
    "        y_true: np.ndarray\n",
    "            Target matrix or vector\n",
    "        y_score: np.ndarray\n",
    "            Score matrix or vector\n",
    "\n",
    "        Returns\n",
    "        -------\n",
    "            float\n",
    "            LogLoss of predictions vs targets.\n",
    "        \"\"\"\n",
    "        logits = 1 / (1 + np.exp(-y_pred))\n",
    "        aux = (1 - y_true) * np.log(1 - logits + 1e-15) + y_true * np.log(logits + 1e-15)\n",
    "        return np.mean(-aux)\n",
    "\n",
    "#mskf = MultilabelStratifiedKFold(n_splits = NB_SPLITS, random_state = 0, shuffle = True)\n",
    "\n",
    "#oof_preds = []\n",
    "#oof_targets = []\n",
    "#scores = []\n",
    "#scores_auc = []\n",
    "\n",
    "#train_df = train_df_org.copy()\n",
    "#X_test = X_test_org.copy()\n",
    "\n",
    "for random_state in [0, 1]:\n",
    "    mskf = MultilabelStratifiedKFold(n_splits = NB_SPLITS, random_state = random_state, shuffle = True)\n",
    "    if random_state > 0:\n",
    "        train_df_org = train_df.copy()\n",
    "        X_test_org = X_test.copy()\n",
    "        train_df = pd.merge(train_df, oof_x, on='sig_id')\n",
    "        X_test = np.concatenate([X_test, test_x], axis=1)\n",
    "        X_test = pd.DataFrame(X_test, columns=train_df.columns[1:])\n",
    "        # cate drop\n",
    "        cate_cols = ['cp_time_24','cp_time_48','cp_time_72','cp_dose_D1','cp_dose_D2']\n",
    "        train_df = train_df.drop(cate_cols, axis=1)\n",
    "        X_test = X_test.drop(cate_cols, axis=1)\n",
    "        \n",
    "        all_data = np.concatenate([train_df.iloc[:, 1:].values, X_test.values], axis=0)\n",
    "        \n",
    "        sc = StandardScaler()\n",
    "        z_all_data = sc.fit_transform(all_data)\n",
    "        x_tr = z_all_data[:train_df.shape[0],:]\n",
    "        x_te = z_all_data[train_df.shape[0]:,:]\n",
    "        x_tr = pd.DataFrame(x_tr, index=train_df.index, columns=train_df.columns[1:])\n",
    "        x_tr = pd.concat([train_df.iloc[:, 0], x_tr], axis=1)\n",
    "        train_df = x_tr\n",
    "        X_test = x_te\n",
    "        \n",
    "    print(b_,\"SEED: \", r_, random_state)\n",
    "    print(g_, '*' * 60, c_)\n",
    "    \n",
    "    oof_preds = []\n",
    "    oof_targets = []\n",
    "    scores = []\n",
    "    scores_auc = []\n",
    "    for fold_nb, (train_idx, val_idx) in enumerate(mskf.split(train_df, targets)):\n",
    "        print(b_,\"FOLDS: \", r_, fold_nb + 1)\n",
    "        print(g_, '*' * 60, c_)\n",
    "\n",
    "        X_train, y_train = train_df.iloc[train_idx, 1:].values, targets.iloc[train_idx, 1:].values\n",
    "        X_val, y_val = train_df.iloc[val_idx, 1:].values, targets.iloc[val_idx, 1:].values\n",
    "        ### Model ###\n",
    "        model = TabNetRegressor(**tabnet_params)\n",
    "\n",
    "        ### Fit ###\n",
    "        # Another change to the original code\n",
    "        # virtual_batch_size of 32 instead of 128\n",
    "        model.fit(\n",
    "            X_train = X_train,\n",
    "            y_train = y_train,\n",
    "            eval_set = [(X_val, y_val)],\n",
    "            eval_name = [\"val\"],\n",
    "            eval_metric = [\"logits_ll\"],\n",
    "            max_epochs = MAX_EPOCH,\n",
    "            patience = 15,\n",
    "            batch_size = 1024, \n",
    "            virtual_batch_size = 32,\n",
    "            num_workers = 1,\n",
    "            drop_last = False,\n",
    "            # To use binary cross entropy because this is not a regression problem\n",
    "            loss_fn = F.binary_cross_entropy_with_logits\n",
    "        )\n",
    "        print(y_, '-' * 60)\n",
    "\n",
    "        ### Predict on validation ###\n",
    "        preds_val = model.predict(X_val)\n",
    "        valid_explain, _ = model.explain(X_val)\n",
    "        if fold_nb == 0:\n",
    "            valid_explains = valid_explain\n",
    "        else:\n",
    "            valid_explains = np.concatenate([valid_explains, valid_explain], axis=0)\n",
    "        # Apply sigmoid to the predictions\n",
    "        preds = 1 / (1 + np.exp(-preds_val))\n",
    "        score = np.min(model.history[\"val_logits_ll\"])\n",
    "        ### Save OOF for CV ###\n",
    "        oof_preds.append(preds_val) # preds\n",
    "        oof_targets.append(y_val)\n",
    "        scores.append(score)\n",
    "\n",
    "        ### Predict on test ###\n",
    "        preds_test = model.predict(X_test)\n",
    "        test_explain, _ = model.explain(X_test)\n",
    "        if fold_nb == 0:\n",
    "            test_explains = test_explain\n",
    "        else:\n",
    "            test_explains = np.concatenate([test_explains, test_explain], axis=0)\n",
    "        test_cv_preds.append(1 / (1 + np.exp(-preds_test)))\n",
    "        \n",
    "        if fold_nb == 0:\n",
    "            # train\n",
    "            oof_x = pd.DataFrame(preds_val, index=val_idx, columns = [f\"pred_{target}\" for target in targets.columns[1:]])\n",
    "            oof_x = pd.concat([train_df.iloc[val_idx, 0], oof_x], axis=1) # concat id\n",
    "            #print(oof_x.shape)\n",
    "            oof_explain = pd.DataFrame(valid_explain, index=val_idx, columns = [f\"explain_{feature}\" for feature in train_df.columns[1:]])\n",
    "            #print(oof_explain.shape)\n",
    "            oof_x = pd.concat([oof_x, oof_explain], axis=1)\n",
    "            #print(oof_x.shape)\n",
    "            # test\n",
    "            test_x = preds_test / NB_SPLITS\n",
    "            test_explain = test_explain / NB_SPLITS\n",
    "            test_x = np.concatenate([test_x, test_explain], axis=1)\n",
    "        elif fold_nb > 0:\n",
    "            # train\n",
    "            oof_x_ = pd.DataFrame(preds_val, index=val_idx, columns = [f\"pred_{target}\" for target in targets.columns[1:]])\n",
    "            oof_x_ = pd.concat([train_df.iloc[val_idx, 0], oof_x_], axis=1) # concat id\n",
    "            oof_explain_ = pd.DataFrame(valid_explain, index=val_idx, columns = [f\"explain_{feature}\" for feature in train_df.columns[1:]])\n",
    "            oof_x_ = pd.concat([oof_x_, oof_explain_], axis=1)\n",
    "            # test\n",
    "            test_x_ = preds_test / NB_SPLITS\n",
    "            test_explain_ = test_explain / NB_SPLITS\n",
    "            test_x_ = np.concatenate([test_x_, test_explain_], axis=1)\n",
    "            #print(oof_x.shape, oof_x_.shape)\n",
    "            # concat axis=0\n",
    "            oof_x = pd.concat([oof_x, oof_x_], axis=0)\n",
    "            test_x += test_x_\n",
    "    \n",
    "    #oof_x = oof_x.sort_index()\n",
    "\n",
    "    #valid_explains = pd.DataFrame(valid_explains, columns=train_df.columns)\n",
    "    #test_explains = pd.DataFrame(test_explains, columns=train_df.columns)\n",
    "    oof_preds_all = np.concatenate(oof_preds)\n",
    "    oof_targets_all = np.concatenate(oof_targets)\n",
    "    test_preds_all = np.stack(test_cv_preds)\n",
    "\n",
    "aucs = []\n",
    "for task_id in range(oof_preds_all.shape[1]):\n",
    "    aucs.append(roc_auc_score(y_true = oof_targets_all[:, task_id],\n",
    "                              y_score = oof_preds_all[:, task_id]\n",
    "                             ))\n",
    "print(f\"{b_}Overall AUC: {r_}{np.mean(aucs)}\")\n",
    "print(f\"{b_}Average CV: {r_}{np.mean(scores)}\")\n",
    "\n",
    "targets = pd.read_csv(\"../input/lish-moa/train_targets_scored.csv\")\n",
    "oof_target = pd.merge(oof_x.iloc[:,:207], targets, on='sig_id', how='right')\n",
    "oof_target = oof_target.fillna(0)\n",
    "\n",
    "oof_tab = oof_target.iloc[:,:207]\n",
    "tmp = oof_tab.drop(\"sig_id\",axis=1)\n",
    "oof_tab.iloc[:,1:] = 1 / (1 + np.exp(-tmp))\n",
    "oof_tab.to_csv(\"oof_tab.csv\")\n",
    "oof_list.append(oof_tab)\n",
    "\n",
    "all_feat = [col for col in submission.columns if col not in [\"sig_id\"]]\n",
    "# To obtain the same lenght of test_preds_all and submission\n",
    "test = pd.read_csv(data_path + \"test_features.csv\")\n",
    "sig_id = test[test[\"cp_type\"] != \"ctl_vehicle\"].sig_id.reset_index(drop = True)\n",
    "tmp = pd.DataFrame(test_preds_all[5:,:,:].mean(axis=0), columns = all_feat)\n",
    "tmp[\"sig_id\"] = sig_id\n",
    "\n",
    "submission = pd.merge(test[[\"sig_id\"]], tmp, on = \"sig_id\", how = \"left\")\n",
    "submission.fillna(0, inplace = True)\n",
    "\n",
    "#submission[all_feat] = tmp.mean(axis = 0)\n",
    "\n",
    "# Set control to 0\n",
    "#submission.loc[test[\"cp_type\"] == 0, submission.columns[1:]] = 0\n",
    "submission.to_csv(\"tab_submission.csv\", index = None)\n",
    "\n",
    "preds_list.append(submission)\n",
    "\n",
    "print(f\"{b_}submission.shape: {r_}{submission.shape}\")\n",
    "\n",
    "#Overall AUC: 0.7476299061567433\n",
    "#Average CV: 0.016676474311527602"
   ]
  },
  {
   "cell_type": "markdown",
   "metadata": {
    "papermill": {
     "duration": 0.05092,
     "end_time": "2020-11-30T13:09:17.298622",
     "exception": false,
     "start_time": "2020-11-30T13:09:17.247702",
     "status": "completed"
    },
    "tags": []
   },
   "source": [
    "## NODE model seed 1"
   ]
  },
  {
   "cell_type": "code",
   "execution_count": 3,
   "metadata": {
    "_cell_guid": "79c7e3d0-c299-4dcb-8224-4455121ee9b0",
    "_uuid": "d629ff2d2480ee46fbb7e2d37f6b5fab8052498a",
    "execution": {
     "iopub.execute_input": "2020-11-30T13:09:17.416206Z",
     "iopub.status.busy": "2020-11-30T13:09:17.415283Z",
     "iopub.status.idle": "2020-11-30T13:09:17.487258Z",
     "shell.execute_reply": "2020-11-30T13:09:17.471863Z"
    },
    "papermill": {
     "duration": 0.138059,
     "end_time": "2020-11-30T13:09:17.487371",
     "exception": false,
     "start_time": "2020-11-30T13:09:17.349312",
     "status": "completed"
    },
    "tags": []
   },
   "outputs": [
    {
     "name": "stderr",
     "output_type": "stream",
     "text": [
      "[INFO] 2020-11-30 13:09:17,436 >>\tseed: 4\n",
      "[INFO] 2020-11-30 13:09:17,437 >>\tis_concat: True\n",
      "[INFO] 2020-11-30 13:09:17,438 >>\tnorm_type: RankGauss\n",
      "[INFO] 2020-11-30 13:09:17,439 >>\tQuantileTransformer: {'n_quantiles': 100, 'random_state': 1, 'output_distribution': 'normal'}\n",
      "[INFO] 2020-11-30 13:09:17,440 >>\tpca_threshold: 0.9\n",
      "[INFO] 2020-11-30 13:09:17,442 >>\tVarianceThreshold: 0\n",
      "[INFO] 2020-11-30 13:09:17,443 >>\tn_cluster_g: 20\n",
      "[INFO] 2020-11-30 13:09:17,444 >>\tn_cluster_c: 10\n",
      "[INFO] 2020-11-30 13:09:17,445 >>\tBayesianGaussianMixture_g: {'n_components': 40, 'covariance_type': 'diag', 'max_iter': 2000, 'random_state': 1, 'n_init': 3, 'weight_concentration_prior_type': 'dirichlet_process', 'verbose': -1}\n",
      "[INFO] 2020-11-30 13:09:17,446 >>\tBayesianGaussianMixture_c: {'n_components': 20, 'covariance_type': 'diag', 'max_iter': 2000, 'random_state': 1, 'n_init': 3, 'weight_concentration_prior_type': 'dirichlet_process', 'verbose': -1}\n",
      "[INFO] 2020-11-30 13:09:17,447 >>\tmodel_type: NODE\n",
      "[INFO] 2020-11-30 13:09:17,448 >>\tmodel_params: {'layer_dim': 256, 'num_layers': 4, 'tree_dim': 1, 'depth': 4, 'input_dropout': 0.4, 'flatten_output': True}\n",
      "[INFO] 2020-11-30 13:09:17,449 >>\tout_dim: 206\n",
      "[INFO] 2020-11-30 13:09:17,450 >>\tn_fold: 5\n",
      "[INFO] 2020-11-30 13:09:17,451 >>\tbatch_size: 256\n",
      "[INFO] 2020-11-30 13:09:17,451 >>\tnum_workers: 2\n",
      "[INFO] 2020-11-30 13:09:17,452 >>\tpin_memory: True\n",
      "[INFO] 2020-11-30 13:09:17,453 >>\taccum_grads: 1\n",
      "[INFO] 2020-11-30 13:09:17,454 >>\tloss_type: SmoothBCEwLogits\n",
      "[INFO] 2020-11-30 13:09:17,455 >>\tloss_params: {'reduction': 'sum', 'smoothing': 0.0008}\n",
      "[INFO] 2020-11-30 13:09:17,455 >>\toptimizer_type: QHAdam\n",
      "[INFO] 2020-11-30 13:09:17,456 >>\toptimizer_params: {'lr': 0.001, 'nus': [0.7, 1.0], 'betas': [0.995, 0.999], 'weight_decay': 1e-05}\n",
      "[INFO] 2020-11-30 13:09:17,457 >>\tscheduler_type: CosineAnnealingLR\n",
      "[INFO] 2020-11-30 13:09:17,458 >>\tscheduler_params: {'T_max': 1000, 'eta_min': 5e-06}\n",
      "[INFO] 2020-11-30 13:09:17,459 >>\ttrain_max_steps: 2200\n",
      "[INFO] 2020-11-30 13:09:17,460 >>\tsave_interval_steps: 2000\n",
      "[INFO] 2020-11-30 13:09:17,460 >>\toutdir: exp/node/v009-2\n",
      "[INFO] 2020-11-30 13:09:17,462 >>\tresumes: ['', 'exp/node/v009-2/best/best_loss0fold.pkl', 'exp/node/v009-2/best/best_loss1fold.pkl', 'exp/node/v009-2/best/best_loss2fold.pkl', 'exp/node/v009-2/best/best_loss3fold.pkl']\n",
      "[INFO] 2020-11-30 13:09:17,463 >>\tcheckpoints: ['exp/node/v009-2/best/best_loss0fold.pkl', 'exp/node/v009-2/best/best_loss1fold.pkl', 'exp/node/v009-2/best/best_loss2fold.pkl', 'exp/node/v009-2/best/best_loss3fold.pkl', 'exp/node/v009-2/best/best_loss4fold.pkl']\n"
     ]
    }
   ],
   "source": [
    "No = \"009-2\"\n",
    "conf_path = f\"../input/node-base/conf/tuning/node.v{No}.yaml\"\n",
    "with open(conf_path) as f:\n",
    "    config = yaml.load(f, Loader=yaml.Loader)\n",
    "config[\"train_max_steps\"] = 2200\n",
    "config[\"outdir\"] = f\"exp/node/v{No}\"\n",
    "config[\"batch_size\"] = 256\n",
    "config[\"n_fold\"] = 5\n",
    "for k, v in config.items():\n",
    "    logging.info(f'{k}: {v}')\n",
    "device = torch.device(\"cuda:0\" if torch.cuda.is_available() else \"cpu\")\n",
    "seed_everything(config[\"seed\"])\n",
    "\n",
    "# resumes = [\"\" for _ in range(config[\"n_fold\"])]\n",
    "resumes = [\"\"]\n",
    "resumes += [f\"{config['outdir']}/best/best_loss{fold}fold.pkl\" for fold in range(config[\"n_fold\"] - 1)]\n",
    "logging.info(f\"resumes: {resumes}\")\n",
    "checkpoints = [f\"{config['outdir']}/best/best_loss{fold}fold.pkl\" for fold in range(config[\"n_fold\"])]\n",
    "logging.info(f\"checkpoints: {checkpoints}\")\n",
    "# optional\n",
    "is_pseudo_label = True\n",
    "pseudo_label_threshold = 0.95"
   ]
  },
  {
   "cell_type": "code",
   "execution_count": 4,
   "metadata": {
    "execution": {
     "iopub.execute_input": "2020-11-30T13:09:17.621641Z",
     "iopub.status.busy": "2020-11-30T13:09:17.620746Z",
     "iopub.status.idle": "2020-11-30T13:14:16.559858Z",
     "shell.execute_reply": "2020-11-30T13:14:16.560588Z"
    },
    "papermill": {
     "duration": 299.012512,
     "end_time": "2020-11-30T13:14:16.560847",
     "exception": false,
     "start_time": "2020-11-30T13:09:17.548335",
     "status": "completed"
    },
    "tags": []
   },
   "outputs": [
    {
     "name": "stderr",
     "output_type": "stream",
     "text": [
      "[INFO] 2020-11-30 13:09:21,887 >>\tSuccessfully load input files.\n"
     ]
    },
    {
     "name": "stdout",
     "output_type": "stream",
     "text": [
      "Successfully caluculate original statistics.\n",
      "Caution: You use test data to make rank gauss feature.\n",
      "Successfully caluculate RankGauss.\n",
      "Successfully caluculate RankGauss statistics.\n",
      "Caution: You use test data to make PCA feature.\n",
      "Caution: You use test data to make PCA feature.\n",
      "Caution: You use test data to make zscore feature.\n",
      "Successfully caluculate PCA.\n",
      "Successfully caluculate k-means++.\n",
      "Caution: You use test data to make dpgmm feature.\n",
      "Successfully caluculate dpgmm-g.\n",
      "Caution: You use test data to make dpgmm feature.\n",
      "Successfully caluculate dpgmm-c.\n",
      "Successfully decode categorical features.\n",
      "52 Index(['dpgmm_g-0', 'dpgmm_g-2', 'dpgmm_g-3', 'dpgmm_g-4', 'dpgmm_g-7',\n",
      "       'dpgmm_g-8', 'dpgmm_g-9', 'dpgmm_g-10', 'dpgmm_g-11', 'dpgmm_g-12',\n",
      "       'dpgmm_g-13', 'dpgmm_g-14', 'dpgmm_g-15', 'dpgmm_g-16', 'dpgmm_g-17',\n",
      "       'dpgmm_g-18', 'dpgmm_g-19', 'dpgmm_g-20', 'dpgmm_g-21', 'dpgmm_g-22',\n",
      "       'dpgmm_g-23', 'dpgmm_g-24', 'dpgmm_g-25', 'dpgmm_g-26', 'dpgmm_g-27',\n",
      "       'dpgmm_g-28', 'dpgmm_g-29', 'dpgmm_g-30', 'dpgmm_g-31', 'dpgmm_g-32',\n",
      "       'dpgmm_g-33', 'dpgmm_g-34', 'dpgmm_g-35', 'dpgmm_g-36', 'dpgmm_g-37',\n",
      "       'dpgmm_g-38', 'dpgmm_g-39', 'dpgmm_c-1', 'dpgmm_c-2', 'dpgmm_c-3',\n",
      "       'dpgmm_c-4', 'dpgmm_c-5', 'dpgmm_c-7', 'dpgmm_c-9', 'dpgmm_c-10',\n",
      "       'dpgmm_c-11', 'dpgmm_c-12', 'dpgmm_c-13', 'dpgmm_c-14', 'dpgmm_c-16',\n",
      "       'dpgmm_c-17', 'dpgmm_c-19'],\n",
      "      dtype='object')\n"
     ]
    },
    {
     "name": "stderr",
     "output_type": "stream",
     "text": [
      "[INFO] 2020-11-30 13:14:16,545 >>\tSuccessfully preprocessed.\n",
      "[INFO] 2020-11-30 13:14:16,546 >>\t(21948, 1452), (3982, 1452), (21948, 206)\n"
     ]
    }
   ],
   "source": [
    "# preprocess\n",
    "train_features = pd.read_csv(\"../input/lish-moa/train_features.csv\")\n",
    "train_targets = pd.read_csv(\"../input/lish-moa/train_targets_scored.csv\")\n",
    "test_features = pd.read_csv(\"../input/lish-moa/test_features.csv\")\n",
    "logging.info(\"Successfully load input files.\")\n",
    "train_, test_ = preprocess_pipeline(train_features, test_features, config, path=\"\", is_concat=config.get(\"is_concat\", False))\n",
    "drop_idx = train_[\"cp_type\"] == 0\n",
    "drop_cols = train_.columns[train_.std() < 0.2]\n",
    "print(len(drop_cols), drop_cols)\n",
    "train = train_.drop(columns=drop_cols)\n",
    "test = test_.drop(columns=drop_cols)\n",
    "top_feats = np.arange(train.shape[1])\n",
    "train = train.loc[drop_idx].reset_index(drop=True)\n",
    "del train_targets[\"sig_id\"]\n",
    "train_targets = train_targets.loc[drop_idx].reset_index(drop=True)\n",
    "targets = [col for col in train_targets.columns]\n",
    "train = train.values\n",
    "test = test.values\n",
    "train_targets = train_targets.values\n",
    "ntargets = train_targets.shape[1]\n",
    "\n",
    "logging.info(\"Successfully preprocessed.\")\n",
    "logging.info(f\"{train.shape}, {test.shape}, {train_targets.shape}\")"
   ]
  },
  {
   "cell_type": "code",
   "execution_count": 5,
   "metadata": {
    "execution": {
     "iopub.execute_input": "2020-11-30T13:14:16.823399Z",
     "iopub.status.busy": "2020-11-30T13:14:16.812757Z",
     "iopub.status.idle": "2020-11-30T13:42:24.361428Z",
     "shell.execute_reply": "2020-11-30T13:42:24.360885Z"
    },
    "papermill": {
     "duration": 1687.694103,
     "end_time": "2020-11-30T13:42:24.361544",
     "exception": false,
     "start_time": "2020-11-30T13:14:16.667441",
     "status": "completed"
    },
    "tags": []
   },
   "outputs": [
    {
     "name": "stderr",
     "output_type": "stream",
     "text": [
      "[INFO] 2020-11-30 13:14:18,424 >>\tStart to train fold 0.\n",
      "[INFO] 2020-11-30 13:14:18,741 >>\ttrain_set:torch.Size([1452]), val_set:torch.Size([1452])\n",
      "[INFO] 2020-11-30 13:14:18,827 >>\tStart training!\n",
      "[train]:   3%|▎         | 69/2200 [00:06<03:16, 10.82it/s]"
     ]
    },
    {
     "name": "stdout",
     "output_type": "stream",
     "text": [
      "(Steps: 69) Finished 0 epoch training (69 steps per epoch).\n",
      "(Epoch: 0) train/loss = 0.00001.\n",
      "(Epoch: 0) train/epoch_metric = 0.58754.\n",
      "(Epoch: 0) train/epoch_auc = 0.58125.\n",
      "(Epoch: 0) train/epoch_acc = 0.70983.\n",
      "(Epoch: 0) train/epoch_recall = 0.40113.\n",
      "(Epoch: 0) train/epoch_precision = 0.00517.\n"
     ]
    },
    {
     "name": "stderr",
     "output_type": "stream",
     "text": [
      "[train]:   6%|▌         | 137/2200 [00:17<02:45, 12.50it/s]"
     ]
    },
    {
     "name": "stdout",
     "output_type": "stream",
     "text": [
      "(Steps: 138) Finished 1 epoch training (69 steps per epoch).\n",
      "(Epoch: 1) train/loss = 0.00000.\n",
      "(Epoch: 1) train/epoch_metric = 0.17893.\n",
      "(Epoch: 1) train/epoch_auc = 0.59697.\n",
      "(Epoch: 1) train/epoch_acc = 0.99176.\n",
      "(Epoch: 1) train/epoch_recall = 0.10199.\n",
      "(Epoch: 1) train/epoch_precision = 0.07205.\n"
     ]
    },
    {
     "name": "stderr",
     "output_type": "stream",
     "text": [
      "[train]:   9%|▉         | 207/2200 [00:27<02:16, 14.56it/s]"
     ]
    },
    {
     "name": "stdout",
     "output_type": "stream",
     "text": [
      "(Steps: 207) Finished 2 epoch training (69 steps per epoch).\n",
      "(Epoch: 2) train/loss = 0.00000.\n",
      "(Epoch: 2) train/epoch_metric = 0.05413.\n",
      "(Epoch: 2) train/epoch_auc = 0.61306.\n",
      "(Epoch: 2) train/epoch_acc = 0.99646.\n",
      "(Epoch: 2) train/epoch_recall = 0.07425.\n",
      "(Epoch: 2) train/epoch_precision = 0.74869.\n"
     ]
    },
    {
     "name": "stderr",
     "output_type": "stream",
     "text": [
      "[train]:  12%|█▎        | 275/2200 [00:38<02:12, 14.56it/s]"
     ]
    },
    {
     "name": "stdout",
     "output_type": "stream",
     "text": [
      "(Steps: 276) Finished 3 epoch training (69 steps per epoch).\n",
      "(Epoch: 3) train/loss = 0.00000.\n",
      "(Epoch: 3) train/epoch_metric = 0.02856.\n",
      "(Epoch: 3) train/epoch_auc = 0.64773.\n",
      "(Epoch: 3) train/epoch_acc = 0.99650.\n",
      "(Epoch: 3) train/epoch_recall = 0.07447.\n",
      "(Epoch: 3) train/epoch_precision = 0.83597.\n"
     ]
    },
    {
     "name": "stderr",
     "output_type": "stream",
     "text": [
      "[train]:  16%|█▌        | 345/2200 [00:48<02:19, 13.34it/s]"
     ]
    },
    {
     "name": "stdout",
     "output_type": "stream",
     "text": [
      "(Steps: 345) Finished 4 epoch training (69 steps per epoch).\n",
      "(Epoch: 4) train/loss = 0.00000.\n",
      "(Epoch: 4) train/epoch_metric = 0.02251.\n",
      "(Epoch: 4) train/epoch_auc = 0.70109.\n",
      "(Epoch: 4) train/epoch_acc = 0.99652.\n",
      "(Epoch: 4) train/epoch_recall = 0.07788.\n",
      "(Epoch: 4) train/epoch_precision = 0.86349.\n"
     ]
    },
    {
     "name": "stderr",
     "output_type": "stream",
     "text": [
      "[train]:  19%|█▉        | 413/2200 [00:59<02:02, 14.57it/s]"
     ]
    },
    {
     "name": "stdout",
     "output_type": "stream",
     "text": [
      "(Steps: 414) Finished 5 epoch training (69 steps per epoch).\n",
      "(Epoch: 5) train/loss = 0.00000.\n",
      "(Epoch: 5) train/epoch_metric = 0.02110.\n",
      "(Epoch: 5) train/epoch_auc = 0.74330.\n",
      "(Epoch: 5) train/epoch_acc = 0.99655.\n",
      "(Epoch: 5) train/epoch_recall = 0.08634.\n",
      "(Epoch: 5) train/epoch_precision = 0.88249.\n"
     ]
    },
    {
     "name": "stderr",
     "output_type": "stream",
     "text": [
      "[train]:  22%|██▏       | 483/2200 [01:09<01:55, 14.83it/s]"
     ]
    },
    {
     "name": "stdout",
     "output_type": "stream",
     "text": [
      "(Steps: 483) Finished 6 epoch training (69 steps per epoch).\n",
      "(Epoch: 6) train/loss = 0.00000.\n",
      "(Epoch: 6) train/epoch_metric = 0.02059.\n",
      "(Epoch: 6) train/epoch_auc = 0.77419.\n",
      "(Epoch: 6) train/epoch_acc = 0.99658.\n",
      "(Epoch: 6) train/epoch_recall = 0.09450.\n",
      "(Epoch: 6) train/epoch_precision = 0.88657.\n"
     ]
    },
    {
     "name": "stderr",
     "output_type": "stream",
     "text": [
      "[train]:  25%|██▌       | 551/2200 [01:19<01:54, 14.35it/s]"
     ]
    },
    {
     "name": "stdout",
     "output_type": "stream",
     "text": [
      "(Steps: 552) Finished 7 epoch training (69 steps per epoch).\n",
      "(Epoch: 7) train/loss = 0.00000.\n",
      "(Epoch: 7) train/epoch_metric = 0.02019.\n",
      "(Epoch: 7) train/epoch_auc = 0.79843.\n",
      "(Epoch: 7) train/epoch_acc = 0.99660.\n",
      "(Epoch: 7) train/epoch_recall = 0.10132.\n",
      "(Epoch: 7) train/epoch_precision = 0.88817.\n"
     ]
    },
    {
     "name": "stderr",
     "output_type": "stream",
     "text": [
      "[train]:  28%|██▊       | 621/2200 [01:30<01:48, 14.49it/s]"
     ]
    },
    {
     "name": "stdout",
     "output_type": "stream",
     "text": [
      "(Steps: 621) Finished 8 epoch training (69 steps per epoch).\n",
      "(Epoch: 8) train/loss = 0.00000.\n",
      "(Epoch: 8) train/epoch_metric = 0.01980.\n",
      "(Epoch: 8) train/epoch_auc = 0.81228.\n",
      "(Epoch: 8) train/epoch_acc = 0.99664.\n",
      "(Epoch: 8) train/epoch_recall = 0.11030.\n",
      "(Epoch: 8) train/epoch_precision = 0.90837.\n"
     ]
    },
    {
     "name": "stderr",
     "output_type": "stream",
     "text": [
      "[train]:  31%|███▏      | 689/2200 [01:41<01:43, 14.66it/s]"
     ]
    },
    {
     "name": "stdout",
     "output_type": "stream",
     "text": [
      "(Steps: 690) Finished 9 epoch training (69 steps per epoch).\n",
      "(Epoch: 9) train/loss = 0.00000.\n",
      "(Epoch: 9) train/epoch_metric = 0.01943.\n",
      "(Epoch: 9) train/epoch_auc = 0.82566.\n",
      "(Epoch: 9) train/epoch_acc = 0.99668.\n",
      "(Epoch: 9) train/epoch_recall = 0.11897.\n",
      "(Epoch: 9) train/epoch_precision = 0.91657.\n"
     ]
    },
    {
     "name": "stderr",
     "output_type": "stream",
     "text": [
      "[train]:  34%|███▍      | 759/2200 [01:51<01:38, 14.68it/s]"
     ]
    },
    {
     "name": "stdout",
     "output_type": "stream",
     "text": [
      "(Steps: 759) Finished 10 epoch training (69 steps per epoch).\n",
      "(Epoch: 10) train/loss = 0.00000.\n",
      "(Epoch: 10) train/epoch_metric = 0.01910.\n",
      "(Epoch: 10) train/epoch_auc = 0.83274.\n",
      "(Epoch: 10) train/epoch_acc = 0.99670.\n",
      "(Epoch: 10) train/epoch_recall = 0.12602.\n",
      "(Epoch: 10) train/epoch_precision = 0.91148.\n"
     ]
    },
    {
     "name": "stderr",
     "output_type": "stream",
     "text": [
      "[train]:  38%|███▊      | 827/2200 [02:02<01:33, 14.72it/s]"
     ]
    },
    {
     "name": "stdout",
     "output_type": "stream",
     "text": [
      "(Steps: 828) Finished 11 epoch training (69 steps per epoch).\n",
      "(Epoch: 11) train/loss = 0.00000.\n",
      "(Epoch: 11) train/epoch_metric = 0.01883.\n",
      "(Epoch: 11) train/epoch_auc = 0.84186.\n",
      "(Epoch: 11) train/epoch_acc = 0.99671.\n",
      "(Epoch: 11) train/epoch_recall = 0.12899.\n",
      "(Epoch: 11) train/epoch_precision = 0.91719.\n"
     ]
    },
    {
     "name": "stderr",
     "output_type": "stream",
     "text": [
      "[train]:  41%|████      | 897/2200 [02:12<01:27, 14.81it/s]"
     ]
    },
    {
     "name": "stdout",
     "output_type": "stream",
     "text": [
      "(Steps: 897) Finished 12 epoch training (69 steps per epoch).\n",
      "(Epoch: 12) train/loss = 0.00000.\n",
      "(Epoch: 12) train/epoch_metric = 0.01859.\n",
      "(Epoch: 12) train/epoch_auc = 0.84858.\n",
      "(Epoch: 12) train/epoch_acc = 0.99673.\n",
      "(Epoch: 12) train/epoch_recall = 0.13574.\n",
      "(Epoch: 12) train/epoch_precision = 0.91317.\n"
     ]
    },
    {
     "name": "stderr",
     "output_type": "stream",
     "text": [
      "[train]:  44%|████▍     | 965/2200 [02:22<01:25, 14.47it/s]"
     ]
    },
    {
     "name": "stdout",
     "output_type": "stream",
     "text": [
      "(Steps: 966) Finished 13 epoch training (69 steps per epoch).\n",
      "(Epoch: 13) train/loss = 0.00000.\n",
      "(Epoch: 13) train/epoch_metric = 0.01839.\n",
      "(Epoch: 13) train/epoch_auc = 0.85459.\n",
      "(Epoch: 13) train/epoch_acc = 0.99676.\n",
      "(Epoch: 13) train/epoch_recall = 0.14041.\n",
      "(Epoch: 13) train/epoch_precision = 0.93205.\n"
     ]
    },
    {
     "name": "stderr",
     "output_type": "stream",
     "text": [
      "[train]:  47%|████▋     | 1035/2200 [02:34<01:22, 14.04it/s]\n",
      "[dev]:   0%|          | 0/18 [00:00<?, ?it/s]\u001b[A"
     ]
    },
    {
     "name": "stdout",
     "output_type": "stream",
     "text": [
      "(Steps: 1035) Finished 14 epoch training (69 steps per epoch).\n",
      "(Epoch: 14) train/loss = 0.00000.\n",
      "(Epoch: 14) train/epoch_metric = 0.01821.\n",
      "(Epoch: 14) train/epoch_auc = 0.85963.\n",
      "(Epoch: 14) train/epoch_acc = 0.99678.\n",
      "(Epoch: 14) train/epoch_recall = 0.14619.\n",
      "(Epoch: 14) train/epoch_precision = 0.92753.\n",
      "(Steps: 1035) Start dev data's evaluation.\n"
     ]
    },
    {
     "name": "stderr",
     "output_type": "stream",
     "text": [
      "\n",
      "[dev]:   6%|▌         | 1/18 [00:00<00:03,  5.24it/s]\u001b[A\n",
      "[dev]:  22%|██▏       | 4/18 [00:00<00:02,  6.77it/s]\u001b[A\n",
      "[dev]:  39%|███▉      | 7/18 [00:00<00:01,  8.63it/s]\u001b[A\n",
      "[dev]:  56%|█████▌    | 10/18 [00:00<00:00, 10.81it/s]\u001b[A\n",
      "[dev]:  72%|███████▏  | 13/18 [00:00<00:00, 13.20it/s]\u001b[A\n",
      "[dev]: 100%|██████████| 18/18 [00:00<00:00, 20.33it/s]\n"
     ]
    },
    {
     "name": "stdout",
     "output_type": "stream",
     "text": [
      "(Steps: 1035) Finished dev data's evaluation (18 steps per epoch).\n",
      "(Epoch: 15) dev/loss = 0.00000.\n",
      "(Epoch: 15) dev/epoch_metric = 0.01828.\n",
      "(Epoch: 15) dev/epoch_auc = 0.84996.\n",
      "(Epoch: 15) dev/epoch_acc = 0.99679.\n",
      "(Epoch: 15) dev/epoch_recall = 0.14694.\n",
      "(Epoch: 15) dev/epoch_precision = 0.93561.\n",
      "(Steps: 1035) Start eval data's evaluation.\n"
     ]
    },
    {
     "name": "stderr",
     "output_type": "stream",
     "text": [
      "[train]:  50%|█████     | 1103/2200 [02:46<01:14, 14.80it/s]"
     ]
    },
    {
     "name": "stdout",
     "output_type": "stream",
     "text": [
      "(Steps: 1104) Finished 15 epoch training (69 steps per epoch).\n",
      "(Epoch: 15) train/loss = 0.00000.\n",
      "(Epoch: 15) train/epoch_metric = 0.01801.\n",
      "(Epoch: 15) train/epoch_auc = 0.86569.\n",
      "(Epoch: 15) train/epoch_acc = 0.99679.\n",
      "(Epoch: 15) train/epoch_recall = 0.15198.\n",
      "(Epoch: 15) train/epoch_precision = 0.92589.\n"
     ]
    },
    {
     "name": "stderr",
     "output_type": "stream",
     "text": [
      "[train]:  53%|█████▎    | 1173/2200 [02:57<01:20, 12.75it/s]"
     ]
    },
    {
     "name": "stdout",
     "output_type": "stream",
     "text": [
      "(Steps: 1173) Finished 16 epoch training (69 steps per epoch).\n",
      "(Epoch: 16) train/loss = 0.00000.\n",
      "(Epoch: 16) train/epoch_metric = 0.01787.\n",
      "(Epoch: 16) train/epoch_auc = 0.87189.\n",
      "(Epoch: 16) train/epoch_acc = 0.99680.\n",
      "(Epoch: 16) train/epoch_recall = 0.15383.\n",
      "(Epoch: 16) train/epoch_precision = 0.91933.\n"
     ]
    },
    {
     "name": "stderr",
     "output_type": "stream",
     "text": [
      "[train]:  56%|█████▋    | 1241/2200 [03:07<01:04, 14.82it/s]"
     ]
    },
    {
     "name": "stdout",
     "output_type": "stream",
     "text": [
      "(Steps: 1242) Finished 17 epoch training (69 steps per epoch).\n",
      "(Epoch: 17) train/loss = 0.00000.\n",
      "(Epoch: 17) train/epoch_metric = 0.01771.\n",
      "(Epoch: 17) train/epoch_auc = 0.87682.\n",
      "(Epoch: 17) train/epoch_acc = 0.99682.\n",
      "(Epoch: 17) train/epoch_recall = 0.16036.\n",
      "(Epoch: 17) train/epoch_precision = 0.92393.\n"
     ]
    },
    {
     "name": "stderr",
     "output_type": "stream",
     "text": [
      "[train]:  60%|█████▉    | 1311/2200 [03:17<01:00, 14.65it/s]"
     ]
    },
    {
     "name": "stdout",
     "output_type": "stream",
     "text": [
      "(Steps: 1311) Finished 18 epoch training (69 steps per epoch).\n",
      "(Epoch: 18) train/loss = 0.00000.\n",
      "(Epoch: 18) train/epoch_metric = 0.01760.\n",
      "(Epoch: 18) train/epoch_auc = 0.88129.\n",
      "(Epoch: 18) train/epoch_acc = 0.99681.\n",
      "(Epoch: 18) train/epoch_recall = 0.15880.\n",
      "(Epoch: 18) train/epoch_precision = 0.92046.\n"
     ]
    },
    {
     "name": "stderr",
     "output_type": "stream",
     "text": [
      "[train]:  63%|██████▎   | 1379/2200 [03:28<00:59, 13.75it/s]"
     ]
    },
    {
     "name": "stdout",
     "output_type": "stream",
     "text": [
      "(Steps: 1380) Finished 19 epoch training (69 steps per epoch).\n",
      "(Epoch: 19) train/loss = 0.00000.\n",
      "(Epoch: 19) train/epoch_metric = 0.01746.\n",
      "(Epoch: 19) train/epoch_auc = 0.88659.\n",
      "(Epoch: 19) train/epoch_acc = 0.99684.\n",
      "(Epoch: 19) train/epoch_recall = 0.16437.\n",
      "(Epoch: 19) train/epoch_precision = 0.92953.\n"
     ]
    },
    {
     "name": "stderr",
     "output_type": "stream",
     "text": [
      "[train]:  66%|██████▌   | 1449/2200 [03:39<00:50, 14.73it/s]"
     ]
    },
    {
     "name": "stdout",
     "output_type": "stream",
     "text": [
      "(Steps: 1449) Finished 20 epoch training (69 steps per epoch).\n",
      "(Epoch: 20) train/loss = 0.00000.\n",
      "(Epoch: 20) train/epoch_metric = 0.01731.\n",
      "(Epoch: 20) train/epoch_auc = 0.89136.\n",
      "(Epoch: 20) train/epoch_acc = 0.99686.\n",
      "(Epoch: 20) train/epoch_recall = 0.17082.\n",
      "(Epoch: 20) train/epoch_precision = 0.92751.\n"
     ]
    },
    {
     "name": "stderr",
     "output_type": "stream",
     "text": [
      "[train]:  69%|██████▉   | 1517/2200 [03:49<00:51, 13.21it/s]"
     ]
    },
    {
     "name": "stdout",
     "output_type": "stream",
     "text": [
      "(Steps: 1518) Finished 21 epoch training (69 steps per epoch).\n",
      "(Epoch: 21) train/loss = 0.00000.\n",
      "(Epoch: 21) train/epoch_metric = 0.01723.\n",
      "(Epoch: 21) train/epoch_auc = 0.89581.\n",
      "(Epoch: 21) train/epoch_acc = 0.99687.\n",
      "(Epoch: 21) train/epoch_recall = 0.17193.\n",
      "(Epoch: 21) train/epoch_precision = 0.93280.\n"
     ]
    },
    {
     "name": "stderr",
     "output_type": "stream",
     "text": [
      "[train]:  72%|███████▏  | 1587/2200 [03:59<00:40, 14.97it/s]"
     ]
    },
    {
     "name": "stdout",
     "output_type": "stream",
     "text": [
      "(Steps: 1587) Finished 22 epoch training (69 steps per epoch).\n",
      "(Epoch: 22) train/loss = 0.00000.\n",
      "(Epoch: 22) train/epoch_metric = 0.01714.\n",
      "(Epoch: 22) train/epoch_auc = 0.89928.\n",
      "(Epoch: 22) train/epoch_acc = 0.99687.\n",
      "(Epoch: 22) train/epoch_recall = 0.17342.\n",
      "(Epoch: 22) train/epoch_precision = 0.93333.\n"
     ]
    },
    {
     "name": "stderr",
     "output_type": "stream",
     "text": [
      "[train]:  75%|███████▌  | 1655/2200 [04:09<00:36, 15.04it/s]"
     ]
    },
    {
     "name": "stdout",
     "output_type": "stream",
     "text": [
      "(Steps: 1656) Finished 23 epoch training (69 steps per epoch).\n",
      "(Epoch: 23) train/loss = 0.00000.\n",
      "(Epoch: 23) train/epoch_metric = 0.01710.\n",
      "(Epoch: 23) train/epoch_auc = 0.90139.\n",
      "(Epoch: 23) train/epoch_acc = 0.99688.\n",
      "(Epoch: 23) train/epoch_recall = 0.17727.\n",
      "(Epoch: 23) train/epoch_precision = 0.92780.\n"
     ]
    },
    {
     "name": "stderr",
     "output_type": "stream",
     "text": [
      "[train]:  78%|███████▊  | 1725/2200 [04:20<00:30, 15.43it/s]"
     ]
    },
    {
     "name": "stdout",
     "output_type": "stream",
     "text": [
      "(Steps: 1725) Finished 24 epoch training (69 steps per epoch).\n",
      "(Epoch: 24) train/loss = 0.00000.\n",
      "(Epoch: 24) train/epoch_metric = 0.01698.\n",
      "(Epoch: 24) train/epoch_auc = 0.90557.\n",
      "(Epoch: 24) train/epoch_acc = 0.99689.\n",
      "(Epoch: 24) train/epoch_recall = 0.17994.\n",
      "(Epoch: 24) train/epoch_precision = 0.93021.\n"
     ]
    },
    {
     "name": "stderr",
     "output_type": "stream",
     "text": [
      "[train]:  82%|████████▏ | 1793/2200 [04:30<00:26, 15.34it/s]"
     ]
    },
    {
     "name": "stdout",
     "output_type": "stream",
     "text": [
      "(Steps: 1794) Finished 25 epoch training (69 steps per epoch).\n",
      "(Epoch: 25) train/loss = 0.00000.\n",
      "(Epoch: 25) train/epoch_metric = 0.01685.\n",
      "(Epoch: 25) train/epoch_auc = 0.90974.\n",
      "(Epoch: 25) train/epoch_acc = 0.99691.\n",
      "(Epoch: 25) train/epoch_recall = 0.18454.\n",
      "(Epoch: 25) train/epoch_precision = 0.93675.\n"
     ]
    },
    {
     "name": "stderr",
     "output_type": "stream",
     "text": [
      "[train]:  85%|████████▍ | 1863/2200 [04:41<00:21, 15.47it/s]"
     ]
    },
    {
     "name": "stdout",
     "output_type": "stream",
     "text": [
      "(Steps: 1863) Finished 26 epoch training (69 steps per epoch).\n",
      "(Epoch: 26) train/loss = 0.00000.\n",
      "(Epoch: 26) train/epoch_metric = 0.01676.\n",
      "(Epoch: 26) train/epoch_auc = 0.91308.\n",
      "(Epoch: 26) train/epoch_acc = 0.99692.\n",
      "(Epoch: 26) train/epoch_recall = 0.18506.\n",
      "(Epoch: 26) train/epoch_precision = 0.94472.\n"
     ]
    },
    {
     "name": "stderr",
     "output_type": "stream",
     "text": [
      "[train]:  88%|████████▊ | 1931/2200 [04:51<00:17, 15.43it/s]"
     ]
    },
    {
     "name": "stdout",
     "output_type": "stream",
     "text": [
      "(Steps: 1932) Finished 27 epoch training (69 steps per epoch).\n",
      "(Epoch: 27) train/loss = 0.00000.\n",
      "(Epoch: 27) train/epoch_metric = 0.01670.\n",
      "(Epoch: 27) train/epoch_auc = 0.91638.\n",
      "(Epoch: 27) train/epoch_acc = 0.99691.\n",
      "(Epoch: 27) train/epoch_recall = 0.18395.\n",
      "(Epoch: 27) train/epoch_precision = 0.93797.\n"
     ]
    },
    {
     "name": "stderr",
     "output_type": "stream",
     "text": [
      "[train]:  91%|█████████ | 2001/2200 [05:01<00:14, 13.71it/s]"
     ]
    },
    {
     "name": "stdout",
     "output_type": "stream",
     "text": [
      "(Steps: 2001) Finished 28 epoch training (69 steps per epoch).\n",
      "(Epoch: 28) train/loss = 0.00000.\n",
      "(Epoch: 28) train/epoch_metric = 0.01660.\n",
      "(Epoch: 28) train/epoch_auc = 0.91884.\n",
      "(Epoch: 28) train/epoch_acc = 0.99694.\n",
      "(Epoch: 28) train/epoch_recall = 0.18892.\n",
      "(Epoch: 28) train/epoch_precision = 0.94403.\n"
     ]
    },
    {
     "name": "stderr",
     "output_type": "stream",
     "text": [
      "[train]:  94%|█████████▍| 2069/2200 [05:12<00:08, 15.49it/s]\n",
      "[dev]:   0%|          | 0/18 [00:00<?, ?it/s]\u001b[A"
     ]
    },
    {
     "name": "stdout",
     "output_type": "stream",
     "text": [
      "(Steps: 2070) Finished 29 epoch training (69 steps per epoch).\n",
      "(Epoch: 29) train/loss = 0.00000.\n",
      "(Epoch: 29) train/epoch_metric = 0.01649.\n",
      "(Epoch: 29) train/epoch_auc = 0.92221.\n",
      "(Epoch: 29) train/epoch_acc = 0.99694.\n",
      "(Epoch: 29) train/epoch_recall = 0.19092.\n",
      "(Epoch: 29) train/epoch_precision = 0.93805.\n",
      "(Steps: 2070) Start dev data's evaluation.\n"
     ]
    },
    {
     "name": "stderr",
     "output_type": "stream",
     "text": [
      "\n",
      "[dev]:   6%|▌         | 1/18 [00:00<00:02,  6.01it/s]\u001b[A\n",
      "[dev]:  22%|██▏       | 4/18 [00:00<00:01,  7.63it/s]\u001b[A\n",
      "[dev]:  39%|███▉      | 7/18 [00:00<00:01,  9.49it/s]\u001b[A\n",
      "[dev]:  56%|█████▌    | 10/18 [00:00<00:00, 11.39it/s]\u001b[A\n",
      "[dev]:  72%|███████▏  | 13/18 [00:00<00:00, 13.39it/s]\u001b[A\n",
      "[dev]: 100%|██████████| 18/18 [00:00<00:00, 18.78it/s]\n"
     ]
    },
    {
     "name": "stdout",
     "output_type": "stream",
     "text": [
      "(Steps: 2070) Finished dev data's evaluation (18 steps per epoch).\n",
      "(Epoch: 30) dev/loss = 0.00000.\n",
      "(Epoch: 30) dev/epoch_metric = 0.01732.\n",
      "(Epoch: 30) dev/epoch_auc = 0.88217.\n",
      "(Epoch: 30) dev/epoch_acc = 0.99692.\n",
      "(Epoch: 30) dev/epoch_recall = 0.18084.\n",
      "(Epoch: 30) dev/epoch_precision = 0.95298.\n",
      "(Steps: 2070) Start eval data's evaluation.\n"
     ]
    },
    {
     "name": "stderr",
     "output_type": "stream",
     "text": [
      "[train]:  97%|█████████▋| 2139/2200 [05:24<00:03, 15.42it/s]"
     ]
    },
    {
     "name": "stdout",
     "output_type": "stream",
     "text": [
      "(Steps: 2139) Finished 30 epoch training (69 steps per epoch).\n",
      "(Epoch: 30) train/loss = 0.00000.\n",
      "(Epoch: 30) train/epoch_metric = 0.01644.\n",
      "(Epoch: 30) train/epoch_auc = 0.92451.\n",
      "(Epoch: 30) train/epoch_acc = 0.99695.\n",
      "(Epoch: 30) train/epoch_recall = 0.19337.\n",
      "(Epoch: 30) train/epoch_precision = 0.94218.\n"
     ]
    },
    {
     "name": "stderr",
     "output_type": "stream",
     "text": [
      "[train]: 100%|██████████| 2200/2200 [05:34<00:00,  6.57it/s]\n",
      "[INFO] 2020-11-30 13:19:53,609 >>\tSuccessfully load checkpoint from exp/node/v009-2/best/best_loss0fold.pkl.\n",
      "  0%|          | 0/18 [00:00<?, ?it/s]"
     ]
    },
    {
     "name": "stdout",
     "output_type": "stream",
     "text": [
      "Finished training.\n"
     ]
    },
    {
     "name": "stderr",
     "output_type": "stream",
     "text": [
      "100%|██████████| 18/18 [00:00<00:00, 26.88it/s]\n",
      "[INFO] 2020-11-30 13:19:54,300 >>\tSuccessfully inference dev data at fold0.\n",
      "[INFO] 2020-11-30 13:19:54,638 >>\tfold0 score: 0.017321, Step:2070, Epoch:30.\n",
      "[INFO] 2020-11-30 13:19:54,650 >>\tStart to train fold 1.\n",
      "[INFO] 2020-11-30 13:19:54,815 >>\tThe number of pseudo labels is (170, 206)\n",
      "[INFO] 2020-11-30 13:19:55,051 >>\ttrain_set:torch.Size([1452]), val_set:torch.Size([1452])\n",
      "[INFO] 2020-11-30 13:19:55,142 >>\tSuccessfully resumed from exp/node/v009-2/best/best_loss0fold.pkl.\n",
      "[INFO] 2020-11-30 13:19:55,143 >>\tStart training!\n",
      "[train]:   3%|▎         | 70/2200 [00:05<02:19, 15.23it/s]"
     ]
    },
    {
     "name": "stdout",
     "output_type": "stream",
     "text": [
      "(Steps: 70) Finished 30 epoch training (70 steps per epoch).\n",
      "(Epoch: 30) train/loss = 0.00000.\n",
      "(Epoch: 30) train/epoch_metric = 0.01695.\n",
      "(Epoch: 30) train/epoch_auc = 0.89610.\n",
      "(Epoch: 30) train/epoch_acc = 0.99693.\n",
      "(Epoch: 30) train/epoch_recall = 0.18849.\n",
      "(Epoch: 30) train/epoch_precision = 0.93792.\n"
     ]
    },
    {
     "name": "stderr",
     "output_type": "stream",
     "text": [
      "[train]:   6%|▋         | 140/2200 [00:15<02:13, 15.44it/s]"
     ]
    },
    {
     "name": "stdout",
     "output_type": "stream",
     "text": [
      "(Steps: 140) Finished 31 epoch training (70 steps per epoch).\n",
      "(Epoch: 31) train/loss = 0.00000.\n",
      "(Epoch: 31) train/epoch_metric = 0.01674.\n",
      "(Epoch: 31) train/epoch_auc = 0.91074.\n",
      "(Epoch: 31) train/epoch_acc = 0.99694.\n",
      "(Epoch: 31) train/epoch_recall = 0.19042.\n",
      "(Epoch: 31) train/epoch_precision = 0.93851.\n"
     ]
    },
    {
     "name": "stderr",
     "output_type": "stream",
     "text": [
      "[train]:  10%|▉         | 210/2200 [00:25<02:20, 14.13it/s]"
     ]
    },
    {
     "name": "stdout",
     "output_type": "stream",
     "text": [
      "(Steps: 210) Finished 32 epoch training (70 steps per epoch).\n",
      "(Epoch: 32) train/loss = 0.00000.\n",
      "(Epoch: 32) train/epoch_metric = 0.01660.\n",
      "(Epoch: 32) train/epoch_auc = 0.91709.\n",
      "(Epoch: 32) train/epoch_acc = 0.99694.\n",
      "(Epoch: 32) train/epoch_recall = 0.19027.\n",
      "(Epoch: 32) train/epoch_precision = 0.94157.\n"
     ]
    },
    {
     "name": "stderr",
     "output_type": "stream",
     "text": [
      "[train]:  13%|█▎        | 280/2200 [00:35<02:46, 11.52it/s]"
     ]
    },
    {
     "name": "stdout",
     "output_type": "stream",
     "text": [
      "(Steps: 280) Finished 33 epoch training (70 steps per epoch).\n",
      "(Epoch: 33) train/loss = 0.00000.\n",
      "(Epoch: 33) train/epoch_metric = 0.01661.\n",
      "(Epoch: 33) train/epoch_auc = 0.91590.\n",
      "(Epoch: 33) train/epoch_acc = 0.99695.\n",
      "(Epoch: 33) train/epoch_recall = 0.19049.\n",
      "(Epoch: 33) train/epoch_precision = 0.94580.\n"
     ]
    },
    {
     "name": "stderr",
     "output_type": "stream",
     "text": [
      "[train]:  16%|█▌        | 350/2200 [00:45<01:58, 15.61it/s]"
     ]
    },
    {
     "name": "stdout",
     "output_type": "stream",
     "text": [
      "(Steps: 350) Finished 34 epoch training (70 steps per epoch).\n",
      "(Epoch: 34) train/loss = 0.00000.\n",
      "(Epoch: 34) train/epoch_metric = 0.01664.\n",
      "(Epoch: 34) train/epoch_auc = 0.91494.\n",
      "(Epoch: 34) train/epoch_acc = 0.99696.\n",
      "(Epoch: 34) train/epoch_recall = 0.19346.\n",
      "(Epoch: 34) train/epoch_precision = 0.94658.\n"
     ]
    },
    {
     "name": "stderr",
     "output_type": "stream",
     "text": [
      "[train]:  19%|█▉        | 420/2200 [00:56<02:08, 13.80it/s]"
     ]
    },
    {
     "name": "stdout",
     "output_type": "stream",
     "text": [
      "(Steps: 420) Finished 35 epoch training (70 steps per epoch).\n",
      "(Epoch: 35) train/loss = 0.00000.\n",
      "(Epoch: 35) train/epoch_metric = 0.01665.\n",
      "(Epoch: 35) train/epoch_auc = 0.91307.\n",
      "(Epoch: 35) train/epoch_acc = 0.99696.\n",
      "(Epoch: 35) train/epoch_recall = 0.19376.\n",
      "(Epoch: 35) train/epoch_precision = 0.94666.\n"
     ]
    },
    {
     "name": "stderr",
     "output_type": "stream",
     "text": [
      "[train]:  22%|██▏       | 490/2200 [01:06<02:07, 13.36it/s]"
     ]
    },
    {
     "name": "stdout",
     "output_type": "stream",
     "text": [
      "(Steps: 490) Finished 36 epoch training (70 steps per epoch).\n",
      "(Epoch: 36) train/loss = 0.00000.\n",
      "(Epoch: 36) train/epoch_metric = 0.01673.\n",
      "(Epoch: 36) train/epoch_auc = 0.91000.\n",
      "(Epoch: 36) train/epoch_acc = 0.99695.\n",
      "(Epoch: 36) train/epoch_recall = 0.19153.\n",
      "(Epoch: 36) train/epoch_precision = 0.94158.\n"
     ]
    },
    {
     "name": "stderr",
     "output_type": "stream",
     "text": [
      "[train]:  25%|██▌       | 560/2200 [01:17<01:45, 15.62it/s]"
     ]
    },
    {
     "name": "stdout",
     "output_type": "stream",
     "text": [
      "(Steps: 560) Finished 37 epoch training (70 steps per epoch).\n",
      "(Epoch: 37) train/loss = 0.00000.\n",
      "(Epoch: 37) train/epoch_metric = 0.01680.\n",
      "(Epoch: 37) train/epoch_auc = 0.90702.\n",
      "(Epoch: 37) train/epoch_acc = 0.99694.\n",
      "(Epoch: 37) train/epoch_recall = 0.19294.\n",
      "(Epoch: 37) train/epoch_precision = 0.92918.\n"
     ]
    },
    {
     "name": "stderr",
     "output_type": "stream",
     "text": [
      "[train]:  29%|██▊       | 630/2200 [01:27<01:40, 15.59it/s]"
     ]
    },
    {
     "name": "stdout",
     "output_type": "stream",
     "text": [
      "(Steps: 630) Finished 38 epoch training (70 steps per epoch).\n",
      "(Epoch: 38) train/loss = 0.00000.\n",
      "(Epoch: 38) train/epoch_metric = 0.01682.\n",
      "(Epoch: 38) train/epoch_auc = 0.90383.\n",
      "(Epoch: 38) train/epoch_acc = 0.99694.\n",
      "(Epoch: 38) train/epoch_recall = 0.19235.\n",
      "(Epoch: 38) train/epoch_precision = 0.93536.\n"
     ]
    },
    {
     "name": "stderr",
     "output_type": "stream",
     "text": [
      "[train]:  32%|███▏      | 700/2200 [01:37<01:36, 15.53it/s]"
     ]
    },
    {
     "name": "stdout",
     "output_type": "stream",
     "text": [
      "(Steps: 700) Finished 39 epoch training (70 steps per epoch).\n",
      "(Epoch: 39) train/loss = 0.00000.\n",
      "(Epoch: 39) train/epoch_metric = 0.01688.\n",
      "(Epoch: 39) train/epoch_auc = 0.90072.\n",
      "(Epoch: 39) train/epoch_acc = 0.99694.\n",
      "(Epoch: 39) train/epoch_recall = 0.19235.\n",
      "(Epoch: 39) train/epoch_precision = 0.93536.\n"
     ]
    },
    {
     "name": "stderr",
     "output_type": "stream",
     "text": [
      "[train]:  35%|███▌      | 770/2200 [01:48<01:31, 15.58it/s]"
     ]
    },
    {
     "name": "stdout",
     "output_type": "stream",
     "text": [
      "(Steps: 770) Finished 40 epoch training (70 steps per epoch).\n",
      "(Epoch: 40) train/loss = 0.00000.\n",
      "(Epoch: 40) train/epoch_metric = 0.01685.\n",
      "(Epoch: 40) train/epoch_auc = 0.90146.\n",
      "(Epoch: 40) train/epoch_acc = 0.99697.\n",
      "(Epoch: 40) train/epoch_recall = 0.19733.\n",
      "(Epoch: 40) train/epoch_precision = 0.94086.\n"
     ]
    },
    {
     "name": "stderr",
     "output_type": "stream",
     "text": [
      "[train]:  38%|███▊      | 840/2200 [01:59<01:27, 15.56it/s]"
     ]
    },
    {
     "name": "stdout",
     "output_type": "stream",
     "text": [
      "(Steps: 840) Finished 41 epoch training (70 steps per epoch).\n",
      "(Epoch: 41) train/loss = 0.00000.\n",
      "(Epoch: 41) train/epoch_metric = 0.01685.\n",
      "(Epoch: 41) train/epoch_auc = 0.89906.\n",
      "(Epoch: 41) train/epoch_acc = 0.99696.\n",
      "(Epoch: 41) train/epoch_recall = 0.19770.\n",
      "(Epoch: 41) train/epoch_precision = 0.93371.\n"
     ]
    },
    {
     "name": "stderr",
     "output_type": "stream",
     "text": [
      "[train]:  41%|████▏     | 910/2200 [02:09<01:23, 15.39it/s]"
     ]
    },
    {
     "name": "stdout",
     "output_type": "stream",
     "text": [
      "(Steps: 910) Finished 42 epoch training (70 steps per epoch).\n",
      "(Epoch: 42) train/loss = 0.00000.\n",
      "(Epoch: 42) train/epoch_metric = 0.01685.\n",
      "(Epoch: 42) train/epoch_auc = 0.89863.\n",
      "(Epoch: 42) train/epoch_acc = 0.99697.\n",
      "(Epoch: 42) train/epoch_recall = 0.20082.\n",
      "(Epoch: 42) train/epoch_precision = 0.93499.\n"
     ]
    },
    {
     "name": "stderr",
     "output_type": "stream",
     "text": [
      "[train]:  45%|████▍     | 980/2200 [02:20<01:18, 15.51it/s]"
     ]
    },
    {
     "name": "stdout",
     "output_type": "stream",
     "text": [
      "(Steps: 980) Finished 43 epoch training (70 steps per epoch).\n",
      "(Epoch: 43) train/loss = 0.00000.\n",
      "(Epoch: 43) train/epoch_metric = 0.01683.\n",
      "(Epoch: 43) train/epoch_auc = 0.89765.\n",
      "(Epoch: 43) train/epoch_acc = 0.99698.\n",
      "(Epoch: 43) train/epoch_recall = 0.20163.\n",
      "(Epoch: 43) train/epoch_precision = 0.93912.\n"
     ]
    },
    {
     "name": "stderr",
     "output_type": "stream",
     "text": [
      "[train]:  48%|████▊     | 1050/2200 [02:30<01:13, 15.58it/s]\n",
      "[dev]:   0%|          | 0/18 [00:00<?, ?it/s]\u001b[A"
     ]
    },
    {
     "name": "stdout",
     "output_type": "stream",
     "text": [
      "(Steps: 1050) Finished 44 epoch training (70 steps per epoch).\n",
      "(Epoch: 44) train/loss = 0.00000.\n",
      "(Epoch: 44) train/epoch_metric = 0.01680.\n",
      "(Epoch: 44) train/epoch_auc = 0.89767.\n",
      "(Epoch: 44) train/epoch_acc = 0.99697.\n",
      "(Epoch: 44) train/epoch_recall = 0.20097.\n",
      "(Epoch: 44) train/epoch_precision = 0.93343.\n",
      "(Steps: 1050) Start dev data's evaluation.\n"
     ]
    },
    {
     "name": "stderr",
     "output_type": "stream",
     "text": [
      "\n",
      "[dev]:   6%|▌         | 1/18 [00:00<00:02,  6.78it/s]\u001b[A\n",
      "[dev]:  22%|██▏       | 4/18 [00:00<00:01,  8.81it/s]\u001b[A\n",
      "[dev]:  39%|███▉      | 7/18 [00:00<00:00, 11.17it/s]\u001b[A\n",
      "[dev]:  56%|█████▌    | 10/18 [00:00<00:00, 13.73it/s]\u001b[A\n",
      "[dev]:  72%|███████▏  | 13/18 [00:00<00:00, 16.29it/s]\u001b[A\n",
      "[dev]: 100%|██████████| 18/18 [00:00<00:00, 22.53it/s]\n"
     ]
    },
    {
     "name": "stdout",
     "output_type": "stream",
     "text": [
      "(Steps: 1050) Finished dev data's evaluation (18 steps per epoch).\n",
      "(Epoch: 45) dev/loss = 0.00000.\n",
      "(Epoch: 45) dev/epoch_metric = 0.01720.\n",
      "(Epoch: 45) dev/epoch_auc = 0.88142.\n",
      "(Epoch: 45) dev/epoch_acc = 0.99700.\n",
      "(Epoch: 45) dev/epoch_recall = 0.20805.\n",
      "(Epoch: 45) dev/epoch_precision = 0.95129.\n",
      "(Steps: 1050) Start eval data's evaluation.\n"
     ]
    },
    {
     "name": "stderr",
     "output_type": "stream",
     "text": [
      "[train]:  51%|█████     | 1120/2200 [02:42<01:14, 14.58it/s]"
     ]
    },
    {
     "name": "stdout",
     "output_type": "stream",
     "text": [
      "(Steps: 1120) Finished 45 epoch training (70 steps per epoch).\n",
      "(Epoch: 45) train/loss = 0.00000.\n",
      "(Epoch: 45) train/epoch_metric = 0.01677.\n",
      "(Epoch: 45) train/epoch_auc = 0.89901.\n",
      "(Epoch: 45) train/epoch_acc = 0.99697.\n",
      "(Epoch: 45) train/epoch_recall = 0.20208.\n",
      "(Epoch: 45) train/epoch_precision = 0.93185.\n"
     ]
    },
    {
     "name": "stderr",
     "output_type": "stream",
     "text": [
      "[train]:  54%|█████▍    | 1189/2200 [02:53<01:11, 14.21it/s]"
     ]
    },
    {
     "name": "stdout",
     "output_type": "stream",
     "text": [
      "(Steps: 1190) Finished 46 epoch training (70 steps per epoch).\n",
      "(Epoch: 46) train/loss = 0.00000.\n",
      "(Epoch: 46) train/epoch_metric = 0.01672.\n",
      "(Epoch: 46) train/epoch_auc = 0.89986.\n",
      "(Epoch: 46) train/epoch_acc = 0.99698.\n",
      "(Epoch: 46) train/epoch_recall = 0.20475.\n",
      "(Epoch: 46) train/epoch_precision = 0.92610.\n"
     ]
    },
    {
     "name": "stderr",
     "output_type": "stream",
     "text": [
      "[train]:  57%|█████▋    | 1259/2200 [03:04<01:00, 15.43it/s]"
     ]
    },
    {
     "name": "stdout",
     "output_type": "stream",
     "text": [
      "(Steps: 1260) Finished 47 epoch training (70 steps per epoch).\n",
      "(Epoch: 47) train/loss = 0.00000.\n",
      "(Epoch: 47) train/epoch_metric = 0.01671.\n",
      "(Epoch: 47) train/epoch_auc = 0.89928.\n",
      "(Epoch: 47) train/epoch_acc = 0.99699.\n",
      "(Epoch: 47) train/epoch_recall = 0.20698.\n",
      "(Epoch: 47) train/epoch_precision = 0.92900.\n"
     ]
    },
    {
     "name": "stderr",
     "output_type": "stream",
     "text": [
      "[train]:  60%|██████    | 1329/2200 [03:14<00:57, 15.28it/s]"
     ]
    },
    {
     "name": "stdout",
     "output_type": "stream",
     "text": [
      "(Steps: 1330) Finished 48 epoch training (70 steps per epoch).\n",
      "(Epoch: 48) train/loss = 0.00000.\n",
      "(Epoch: 48) train/epoch_metric = 0.01666.\n",
      "(Epoch: 48) train/epoch_auc = 0.90008.\n",
      "(Epoch: 48) train/epoch_acc = 0.99699.\n",
      "(Epoch: 48) train/epoch_recall = 0.20780.\n",
      "(Epoch: 48) train/epoch_precision = 0.92957.\n"
     ]
    },
    {
     "name": "stderr",
     "output_type": "stream",
     "text": [
      "[train]:  64%|██████▎   | 1400/2200 [03:25<00:50, 15.69it/s]"
     ]
    },
    {
     "name": "stdout",
     "output_type": "stream",
     "text": [
      "(Steps: 1400) Finished 49 epoch training (70 steps per epoch).\n",
      "(Epoch: 49) train/loss = 0.00000.\n",
      "(Epoch: 49) train/epoch_metric = 0.01662.\n",
      "(Epoch: 49) train/epoch_auc = 0.90138.\n",
      "(Epoch: 49) train/epoch_acc = 0.99700.\n",
      "(Epoch: 49) train/epoch_recall = 0.20876.\n",
      "(Epoch: 49) train/epoch_precision = 0.92956.\n"
     ]
    },
    {
     "name": "stderr",
     "output_type": "stream",
     "text": [
      "[train]:  67%|██████▋   | 1470/2200 [03:35<00:46, 15.69it/s]"
     ]
    },
    {
     "name": "stdout",
     "output_type": "stream",
     "text": [
      "(Steps: 1470) Finished 50 epoch training (70 steps per epoch).\n",
      "(Epoch: 50) train/loss = 0.00000.\n",
      "(Epoch: 50) train/epoch_metric = 0.01656.\n",
      "(Epoch: 50) train/epoch_auc = 0.90260.\n",
      "(Epoch: 50) train/epoch_acc = 0.99700.\n",
      "(Epoch: 50) train/epoch_recall = 0.21114.\n",
      "(Epoch: 50) train/epoch_precision = 0.92546.\n"
     ]
    },
    {
     "name": "stderr",
     "output_type": "stream",
     "text": [
      "[train]:  70%|███████   | 1540/2200 [03:45<00:42, 15.70it/s]"
     ]
    },
    {
     "name": "stdout",
     "output_type": "stream",
     "text": [
      "(Steps: 1540) Finished 51 epoch training (70 steps per epoch).\n",
      "(Epoch: 51) train/loss = 0.00000.\n",
      "(Epoch: 51) train/epoch_metric = 0.01655.\n",
      "(Epoch: 51) train/epoch_auc = 0.90147.\n",
      "(Epoch: 51) train/epoch_acc = 0.99701.\n",
      "(Epoch: 51) train/epoch_recall = 0.21077.\n",
      "(Epoch: 51) train/epoch_precision = 0.93233.\n"
     ]
    },
    {
     "name": "stderr",
     "output_type": "stream",
     "text": [
      "[train]:  73%|███████▎  | 1610/2200 [03:56<00:40, 14.45it/s]"
     ]
    },
    {
     "name": "stdout",
     "output_type": "stream",
     "text": [
      "(Steps: 1610) Finished 52 epoch training (70 steps per epoch).\n",
      "(Epoch: 52) train/loss = 0.00000.\n",
      "(Epoch: 52) train/epoch_metric = 0.01652.\n",
      "(Epoch: 52) train/epoch_auc = 0.90329.\n",
      "(Epoch: 52) train/epoch_acc = 0.99700.\n",
      "(Epoch: 52) train/epoch_recall = 0.21166.\n",
      "(Epoch: 52) train/epoch_precision = 0.92382.\n"
     ]
    },
    {
     "name": "stderr",
     "output_type": "stream",
     "text": [
      "[train]:  76%|███████▋  | 1680/2200 [04:06<00:33, 15.73it/s]"
     ]
    },
    {
     "name": "stdout",
     "output_type": "stream",
     "text": [
      "(Steps: 1680) Finished 53 epoch training (70 steps per epoch).\n",
      "(Epoch: 53) train/loss = 0.00000.\n",
      "(Epoch: 53) train/epoch_metric = 0.01647.\n",
      "(Epoch: 53) train/epoch_auc = 0.90385.\n",
      "(Epoch: 53) train/epoch_acc = 0.99700.\n",
      "(Epoch: 53) train/epoch_recall = 0.21225.\n",
      "(Epoch: 53) train/epoch_precision = 0.92432.\n"
     ]
    },
    {
     "name": "stderr",
     "output_type": "stream",
     "text": [
      "[train]:  80%|███████▉  | 1750/2200 [04:16<00:29, 15.16it/s]"
     ]
    },
    {
     "name": "stdout",
     "output_type": "stream",
     "text": [
      "(Steps: 1750) Finished 54 epoch training (70 steps per epoch).\n",
      "(Epoch: 54) train/loss = 0.00000.\n",
      "(Epoch: 54) train/epoch_metric = 0.01641.\n",
      "(Epoch: 54) train/epoch_auc = 0.90520.\n",
      "(Epoch: 54) train/epoch_acc = 0.99702.\n",
      "(Epoch: 54) train/epoch_recall = 0.21463.\n",
      "(Epoch: 54) train/epoch_precision = 0.93286.\n"
     ]
    },
    {
     "name": "stderr",
     "output_type": "stream",
     "text": [
      "[train]:  83%|████████▎ | 1820/2200 [04:27<00:26, 14.61it/s]"
     ]
    },
    {
     "name": "stdout",
     "output_type": "stream",
     "text": [
      "(Steps: 1820) Finished 55 epoch training (70 steps per epoch).\n",
      "(Epoch: 55) train/loss = 0.00000.\n",
      "(Epoch: 55) train/epoch_metric = 0.01642.\n",
      "(Epoch: 55) train/epoch_auc = 0.90602.\n",
      "(Epoch: 55) train/epoch_acc = 0.99700.\n",
      "(Epoch: 55) train/epoch_recall = 0.21292.\n",
      "(Epoch: 55) train/epoch_precision = 0.91481.\n"
     ]
    },
    {
     "name": "stderr",
     "output_type": "stream",
     "text": [
      "[train]:  86%|████████▌ | 1890/2200 [04:37<00:19, 15.86it/s]"
     ]
    },
    {
     "name": "stdout",
     "output_type": "stream",
     "text": [
      "(Steps: 1890) Finished 56 epoch training (70 steps per epoch).\n",
      "(Epoch: 56) train/loss = 0.00000.\n",
      "(Epoch: 56) train/epoch_metric = 0.01639.\n",
      "(Epoch: 56) train/epoch_auc = 0.90614.\n",
      "(Epoch: 56) train/epoch_acc = 0.99701.\n",
      "(Epoch: 56) train/epoch_recall = 0.21374.\n",
      "(Epoch: 56) train/epoch_precision = 0.92779.\n"
     ]
    },
    {
     "name": "stderr",
     "output_type": "stream",
     "text": [
      "[train]:  89%|████████▉ | 1960/2200 [04:47<00:15, 15.67it/s]"
     ]
    },
    {
     "name": "stdout",
     "output_type": "stream",
     "text": [
      "(Steps: 1960) Finished 57 epoch training (70 steps per epoch).\n",
      "(Epoch: 57) train/loss = 0.00000.\n",
      "(Epoch: 57) train/epoch_metric = 0.01634.\n",
      "(Epoch: 57) train/epoch_auc = 0.90695.\n",
      "(Epoch: 57) train/epoch_acc = 0.99701.\n",
      "(Epoch: 57) train/epoch_recall = 0.21411.\n",
      "(Epoch: 57) train/epoch_precision = 0.92940.\n"
     ]
    },
    {
     "name": "stderr",
     "output_type": "stream",
     "text": [
      "[train]:  92%|█████████▏| 2030/2200 [04:58<00:11, 15.09it/s]"
     ]
    },
    {
     "name": "stdout",
     "output_type": "stream",
     "text": [
      "(Steps: 2030) Finished 58 epoch training (70 steps per epoch).\n",
      "(Epoch: 58) train/loss = 0.00000.\n",
      "(Epoch: 58) train/epoch_metric = 0.01630.\n",
      "(Epoch: 58) train/epoch_auc = 0.90738.\n",
      "(Epoch: 58) train/epoch_acc = 0.99701.\n",
      "(Epoch: 58) train/epoch_recall = 0.21500.\n",
      "(Epoch: 58) train/epoch_precision = 0.92640.\n"
     ]
    },
    {
     "name": "stderr",
     "output_type": "stream",
     "text": [
      "[train]:  95%|█████████▌| 2100/2200 [05:08<00:06, 15.63it/s]\n",
      "[dev]:   0%|          | 0/18 [00:00<?, ?it/s]\u001b[A"
     ]
    },
    {
     "name": "stdout",
     "output_type": "stream",
     "text": [
      "(Steps: 2100) Finished 59 epoch training (70 steps per epoch).\n",
      "(Epoch: 59) train/loss = 0.00000.\n",
      "(Epoch: 59) train/epoch_metric = 0.01625.\n",
      "(Epoch: 59) train/epoch_auc = 0.90896.\n",
      "(Epoch: 59) train/epoch_acc = 0.99703.\n",
      "(Epoch: 59) train/epoch_recall = 0.21701.\n",
      "(Epoch: 59) train/epoch_precision = 0.93355.\n",
      "(Steps: 2100) Start dev data's evaluation.\n"
     ]
    },
    {
     "name": "stderr",
     "output_type": "stream",
     "text": [
      "\n",
      "[dev]:   6%|▌         | 1/18 [00:00<00:02,  6.29it/s]\u001b[A\n",
      "[dev]:  22%|██▏       | 4/18 [00:00<00:01,  8.23it/s]\u001b[A\n",
      "[dev]:  39%|███▉      | 7/18 [00:00<00:01, 10.52it/s]\u001b[A\n",
      "[dev]:  56%|█████▌    | 10/18 [00:00<00:00, 13.02it/s]\u001b[A\n",
      "[dev]:  72%|███████▏  | 13/18 [00:00<00:00, 15.55it/s]\u001b[A\n",
      "[dev]: 100%|██████████| 18/18 [00:00<00:00, 23.18it/s]\n"
     ]
    },
    {
     "name": "stdout",
     "output_type": "stream",
     "text": [
      "(Steps: 2100) Finished dev data's evaluation (18 steps per epoch).\n",
      "(Epoch: 60) dev/loss = 0.00000.\n",
      "(Epoch: 60) dev/epoch_metric = 0.01695.\n",
      "(Epoch: 60) dev/epoch_auc = 0.88412.\n",
      "(Epoch: 60) dev/epoch_acc = 0.99702.\n",
      "(Epoch: 60) dev/epoch_recall = 0.21545.\n",
      "(Epoch: 60) dev/epoch_precision = 0.94792.\n",
      "(Steps: 2100) Start eval data's evaluation.\n"
     ]
    },
    {
     "name": "stderr",
     "output_type": "stream",
     "text": [
      "[train]:  99%|█████████▊| 2170/2200 [05:21<00:01, 15.46it/s]"
     ]
    },
    {
     "name": "stdout",
     "output_type": "stream",
     "text": [
      "(Steps: 2170) Finished 60 epoch training (70 steps per epoch).\n",
      "(Epoch: 60) train/loss = 0.00000.\n",
      "(Epoch: 60) train/epoch_metric = 0.01627.\n",
      "(Epoch: 60) train/epoch_auc = 0.90890.\n",
      "(Epoch: 60) train/epoch_acc = 0.99702.\n",
      "(Epoch: 60) train/epoch_recall = 0.21552.\n",
      "(Epoch: 60) train/epoch_precision = 0.93043.\n"
     ]
    },
    {
     "name": "stderr",
     "output_type": "stream",
     "text": [
      "[train]: 100%|██████████| 2200/2200 [05:29<00:00,  6.68it/s]\n",
      "[INFO] 2020-11-30 13:25:24,511 >>\tSuccessfully load checkpoint from exp/node/v009-2/best/best_loss1fold.pkl.\n",
      "  0%|          | 0/18 [00:00<?, ?it/s]"
     ]
    },
    {
     "name": "stdout",
     "output_type": "stream",
     "text": [
      "Finished training.\n"
     ]
    },
    {
     "name": "stderr",
     "output_type": "stream",
     "text": [
      "100%|██████████| 18/18 [00:00<00:00, 26.73it/s]\n",
      "[INFO] 2020-11-30 13:25:25,197 >>\tSuccessfully inference dev data at fold1.\n",
      "[INFO] 2020-11-30 13:25:25,487 >>\tfold1 score: 0.016947, Step:2100, Epoch:60.\n",
      "[INFO] 2020-11-30 13:25:25,502 >>\tStart to train fold 2.\n",
      "[INFO] 2020-11-30 13:25:25,668 >>\tThe number of pseudo labels is (432, 206)\n",
      "[INFO] 2020-11-30 13:25:25,910 >>\ttrain_set:torch.Size([1452]), val_set:torch.Size([1452])\n",
      "[INFO] 2020-11-30 13:25:26,000 >>\tSuccessfully resumed from exp/node/v009-2/best/best_loss1fold.pkl.\n",
      "[INFO] 2020-11-30 13:25:26,001 >>\tStart training!\n",
      "[train]:   3%|▎         | 71/2200 [00:04<02:16, 15.54it/s]"
     ]
    },
    {
     "name": "stdout",
     "output_type": "stream",
     "text": [
      "(Steps: 71) Finished 60 epoch training (71 steps per epoch).\n",
      "(Epoch: 60) train/loss = 0.00000.\n",
      "(Epoch: 60) train/epoch_metric = 0.01681.\n",
      "(Epoch: 60) train/epoch_auc = 0.89074.\n",
      "(Epoch: 60) train/epoch_acc = 0.99698.\n",
      "(Epoch: 60) train/epoch_recall = 0.20768.\n",
      "(Epoch: 60) train/epoch_precision = 0.92562.\n"
     ]
    },
    {
     "name": "stderr",
     "output_type": "stream",
     "text": [
      "[train]:   6%|▋         | 141/2200 [00:14<02:13, 15.43it/s]"
     ]
    },
    {
     "name": "stdout",
     "output_type": "stream",
     "text": [
      "(Steps: 142) Finished 61 epoch training (71 steps per epoch).\n",
      "(Epoch: 61) train/loss = 0.00000.\n",
      "(Epoch: 61) train/epoch_metric = 0.01662.\n",
      "(Epoch: 61) train/epoch_auc = 0.89786.\n",
      "(Epoch: 61) train/epoch_acc = 0.99699.\n",
      "(Epoch: 61) train/epoch_recall = 0.20820.\n",
      "(Epoch: 61) train/epoch_precision = 0.92579.\n"
     ]
    },
    {
     "name": "stderr",
     "output_type": "stream",
     "text": [
      "[train]:  10%|▉         | 212/2200 [00:26<02:28, 13.35it/s]"
     ]
    },
    {
     "name": "stdout",
     "output_type": "stream",
     "text": [
      "(Steps: 213) Finished 62 epoch training (71 steps per epoch).\n",
      "(Epoch: 62) train/loss = 0.00000.\n",
      "(Epoch: 62) train/epoch_metric = 0.01651.\n",
      "(Epoch: 62) train/epoch_auc = 0.90112.\n",
      "(Epoch: 62) train/epoch_acc = 0.99701.\n",
      "(Epoch: 62) train/epoch_recall = 0.21451.\n",
      "(Epoch: 62) train/epoch_precision = 0.92782.\n"
     ]
    },
    {
     "name": "stderr",
     "output_type": "stream",
     "text": [
      "[train]:  13%|█▎        | 284/2200 [00:36<02:01, 15.83it/s]"
     ]
    },
    {
     "name": "stdout",
     "output_type": "stream",
     "text": [
      "(Steps: 284) Finished 63 epoch training (71 steps per epoch).\n",
      "(Epoch: 63) train/loss = 0.00000.\n",
      "(Epoch: 63) train/epoch_metric = 0.01645.\n",
      "(Epoch: 63) train/epoch_auc = 0.90401.\n",
      "(Epoch: 63) train/epoch_acc = 0.99700.\n",
      "(Epoch: 63) train/epoch_recall = 0.21288.\n",
      "(Epoch: 63) train/epoch_precision = 0.92551.\n"
     ]
    },
    {
     "name": "stderr",
     "output_type": "stream",
     "text": [
      "[train]:  16%|█▌        | 354/2200 [00:46<02:04, 14.85it/s]"
     ]
    },
    {
     "name": "stdout",
     "output_type": "stream",
     "text": [
      "(Steps: 355) Finished 64 epoch training (71 steps per epoch).\n",
      "(Epoch: 64) train/loss = 0.00000.\n",
      "(Epoch: 64) train/epoch_metric = 0.01640.\n",
      "(Epoch: 64) train/epoch_auc = 0.90499.\n",
      "(Epoch: 64) train/epoch_acc = 0.99701.\n",
      "(Epoch: 64) train/epoch_recall = 0.21369.\n",
      "(Epoch: 64) train/epoch_precision = 0.92637.\n"
     ]
    },
    {
     "name": "stderr",
     "output_type": "stream",
     "text": [
      "[train]:  19%|█▉        | 426/2200 [00:56<02:56, 10.04it/s]"
     ]
    },
    {
     "name": "stdout",
     "output_type": "stream",
     "text": [
      "(Steps: 426) Finished 65 epoch training (71 steps per epoch).\n",
      "(Epoch: 65) train/loss = 0.00000.\n",
      "(Epoch: 65) train/epoch_metric = 0.01635.\n",
      "(Epoch: 65) train/epoch_auc = 0.90618.\n",
      "(Epoch: 65) train/epoch_acc = 0.99701.\n",
      "(Epoch: 65) train/epoch_recall = 0.21629.\n",
      "(Epoch: 65) train/epoch_precision = 0.92513.\n"
     ]
    },
    {
     "name": "stderr",
     "output_type": "stream",
     "text": [
      "[train]:  23%|██▎       | 496/2200 [01:07<02:02, 13.96it/s]"
     ]
    },
    {
     "name": "stdout",
     "output_type": "stream",
     "text": [
      "(Steps: 497) Finished 66 epoch training (71 steps per epoch).\n",
      "(Epoch: 66) train/loss = 0.00000.\n",
      "(Epoch: 66) train/epoch_metric = 0.01631.\n",
      "(Epoch: 66) train/epoch_auc = 0.90689.\n",
      "(Epoch: 66) train/epoch_acc = 0.99702.\n",
      "(Epoch: 66) train/epoch_recall = 0.21837.\n",
      "(Epoch: 66) train/epoch_precision = 0.92086.\n"
     ]
    },
    {
     "name": "stderr",
     "output_type": "stream",
     "text": [
      "[train]:  26%|██▌       | 568/2200 [01:17<01:43, 15.70it/s]"
     ]
    },
    {
     "name": "stdout",
     "output_type": "stream",
     "text": [
      "(Steps: 568) Finished 67 epoch training (71 steps per epoch).\n",
      "(Epoch: 67) train/loss = 0.00000.\n",
      "(Epoch: 67) train/epoch_metric = 0.01625.\n",
      "(Epoch: 67) train/epoch_auc = 0.90840.\n",
      "(Epoch: 67) train/epoch_acc = 0.99702.\n",
      "(Epoch: 67) train/epoch_recall = 0.21607.\n",
      "(Epoch: 67) train/epoch_precision = 0.93037.\n"
     ]
    },
    {
     "name": "stderr",
     "output_type": "stream",
     "text": [
      "[train]:  29%|██▉       | 638/2200 [01:28<02:00, 13.01it/s]"
     ]
    },
    {
     "name": "stdout",
     "output_type": "stream",
     "text": [
      "(Steps: 639) Finished 68 epoch training (71 steps per epoch).\n",
      "(Epoch: 68) train/loss = 0.00000.\n",
      "(Epoch: 68) train/epoch_metric = 0.01623.\n",
      "(Epoch: 68) train/epoch_auc = 0.90912.\n",
      "(Epoch: 68) train/epoch_acc = 0.99702.\n",
      "(Epoch: 68) train/epoch_recall = 0.21651.\n",
      "(Epoch: 68) train/epoch_precision = 0.93080.\n"
     ]
    },
    {
     "name": "stderr",
     "output_type": "stream",
     "text": [
      "[train]:  32%|███▏      | 710/2200 [01:39<01:34, 15.75it/s]"
     ]
    },
    {
     "name": "stdout",
     "output_type": "stream",
     "text": [
      "(Steps: 710) Finished 69 epoch training (71 steps per epoch).\n",
      "(Epoch: 69) train/loss = 0.00000.\n",
      "(Epoch: 69) train/epoch_metric = 0.01618.\n",
      "(Epoch: 69) train/epoch_auc = 0.91035.\n",
      "(Epoch: 69) train/epoch_acc = 0.99702.\n",
      "(Epoch: 69) train/epoch_recall = 0.21874.\n",
      "(Epoch: 69) train/epoch_precision = 0.92736.\n"
     ]
    },
    {
     "name": "stderr",
     "output_type": "stream",
     "text": [
      "[train]:  35%|███▌      | 780/2200 [01:49<01:33, 15.25it/s]"
     ]
    },
    {
     "name": "stdout",
     "output_type": "stream",
     "text": [
      "(Steps: 781) Finished 70 epoch training (71 steps per epoch).\n",
      "(Epoch: 70) train/loss = 0.00000.\n",
      "(Epoch: 70) train/epoch_metric = 0.01616.\n",
      "(Epoch: 70) train/epoch_auc = 0.91127.\n",
      "(Epoch: 70) train/epoch_acc = 0.99703.\n",
      "(Epoch: 70) train/epoch_recall = 0.21837.\n",
      "(Epoch: 70) train/epoch_precision = 0.93047.\n"
     ]
    },
    {
     "name": "stderr",
     "output_type": "stream",
     "text": [
      "[train]:  39%|███▊      | 852/2200 [01:59<01:24, 15.95it/s]"
     ]
    },
    {
     "name": "stdout",
     "output_type": "stream",
     "text": [
      "(Steps: 852) Finished 71 epoch training (71 steps per epoch).\n",
      "(Epoch: 71) train/loss = 0.00000.\n",
      "(Epoch: 71) train/epoch_metric = 0.01613.\n",
      "(Epoch: 71) train/epoch_auc = 0.91172.\n",
      "(Epoch: 71) train/epoch_acc = 0.99701.\n",
      "(Epoch: 71) train/epoch_recall = 0.21710.\n",
      "(Epoch: 71) train/epoch_precision = 0.92160.\n"
     ]
    },
    {
     "name": "stderr",
     "output_type": "stream",
     "text": [
      "[train]:  42%|████▏     | 922/2200 [02:10<01:22, 15.46it/s]"
     ]
    },
    {
     "name": "stdout",
     "output_type": "stream",
     "text": [
      "(Steps: 923) Finished 72 epoch training (71 steps per epoch).\n",
      "(Epoch: 72) train/loss = 0.00000.\n",
      "(Epoch: 72) train/epoch_metric = 0.01612.\n",
      "(Epoch: 72) train/epoch_auc = 0.91180.\n",
      "(Epoch: 72) train/epoch_acc = 0.99703.\n",
      "(Epoch: 72) train/epoch_recall = 0.22052.\n",
      "(Epoch: 72) train/epoch_precision = 0.92732.\n"
     ]
    },
    {
     "name": "stderr",
     "output_type": "stream",
     "text": [
      "[train]:  45%|████▌     | 994/2200 [02:21<01:19, 15.23it/s]"
     ]
    },
    {
     "name": "stdout",
     "output_type": "stream",
     "text": [
      "(Steps: 994) Finished 73 epoch training (71 steps per epoch).\n",
      "(Epoch: 73) train/loss = 0.00000.\n",
      "(Epoch: 73) train/epoch_metric = 0.01605.\n",
      "(Epoch: 73) train/epoch_auc = 0.91293.\n",
      "(Epoch: 73) train/epoch_acc = 0.99703.\n",
      "(Epoch: 73) train/epoch_recall = 0.21970.\n",
      "(Epoch: 73) train/epoch_precision = 0.93174.\n"
     ]
    },
    {
     "name": "stderr",
     "output_type": "stream",
     "text": [
      "[train]:  48%|████▊     | 1064/2200 [02:31<01:13, 15.40it/s]\n",
      "[dev]:   0%|          | 0/18 [00:00<?, ?it/s]\u001b[A"
     ]
    },
    {
     "name": "stdout",
     "output_type": "stream",
     "text": [
      "(Steps: 1065) Finished 74 epoch training (71 steps per epoch).\n",
      "(Epoch: 74) train/loss = 0.00000.\n",
      "(Epoch: 74) train/epoch_metric = 0.01604.\n",
      "(Epoch: 74) train/epoch_auc = 0.91418.\n",
      "(Epoch: 74) train/epoch_acc = 0.99702.\n",
      "(Epoch: 74) train/epoch_recall = 0.21822.\n",
      "(Epoch: 74) train/epoch_precision = 0.92808.\n",
      "(Steps: 1065) Start dev data's evaluation.\n"
     ]
    },
    {
     "name": "stderr",
     "output_type": "stream",
     "text": [
      "\n",
      "[dev]:   6%|▌         | 1/18 [00:00<00:02,  6.41it/s]\u001b[A\n",
      "[dev]:  28%|██▊       | 5/18 [00:00<00:01,  8.41it/s]\u001b[A\n",
      "[dev]:  44%|████▍     | 8/18 [00:00<00:00, 10.72it/s]\u001b[A\n",
      "[dev]:  61%|██████    | 11/18 [00:00<00:00, 13.22it/s]\u001b[A\n",
      "[dev]:  78%|███████▊  | 14/18 [00:00<00:00, 15.81it/s]\u001b[A\n",
      "[dev]: 100%|██████████| 18/18 [00:00<00:00, 23.60it/s]\n"
     ]
    },
    {
     "name": "stdout",
     "output_type": "stream",
     "text": [
      "(Steps: 1065) Finished dev data's evaluation (18 steps per epoch).\n",
      "(Epoch: 75) dev/loss = 0.00000.\n",
      "(Epoch: 75) dev/epoch_metric = 0.01651.\n",
      "(Epoch: 75) dev/epoch_auc = 0.89305.\n",
      "(Epoch: 75) dev/epoch_acc = 0.99705.\n",
      "(Epoch: 75) dev/epoch_recall = 0.21624.\n",
      "(Epoch: 75) dev/epoch_precision = 0.95532.\n",
      "(Steps: 1065) Start eval data's evaluation.\n"
     ]
    },
    {
     "name": "stderr",
     "output_type": "stream",
     "text": [
      "[train]:  52%|█████▏    | 1136/2200 [02:45<01:07, 15.81it/s]"
     ]
    },
    {
     "name": "stdout",
     "output_type": "stream",
     "text": [
      "(Steps: 1136) Finished 75 epoch training (71 steps per epoch).\n",
      "(Epoch: 75) train/loss = 0.00000.\n",
      "(Epoch: 75) train/epoch_metric = 0.01602.\n",
      "(Epoch: 75) train/epoch_auc = 0.91424.\n",
      "(Epoch: 75) train/epoch_acc = 0.99702.\n",
      "(Epoch: 75) train/epoch_recall = 0.21940.\n",
      "(Epoch: 75) train/epoch_precision = 0.92006.\n"
     ]
    },
    {
     "name": "stderr",
     "output_type": "stream",
     "text": [
      "[train]:  55%|█████▍    | 1206/2200 [02:55<01:05, 15.27it/s]"
     ]
    },
    {
     "name": "stdout",
     "output_type": "stream",
     "text": [
      "(Steps: 1207) Finished 76 epoch training (71 steps per epoch).\n",
      "(Epoch: 76) train/loss = 0.00000.\n",
      "(Epoch: 76) train/epoch_metric = 0.01600.\n",
      "(Epoch: 76) train/epoch_auc = 0.91417.\n",
      "(Epoch: 76) train/epoch_acc = 0.99704.\n",
      "(Epoch: 76) train/epoch_recall = 0.22237.\n",
      "(Epoch: 76) train/epoch_precision = 0.93192.\n"
     ]
    },
    {
     "name": "stderr",
     "output_type": "stream",
     "text": [
      "[train]:  58%|█████▊    | 1278/2200 [03:05<01:01, 14.98it/s]"
     ]
    },
    {
     "name": "stdout",
     "output_type": "stream",
     "text": [
      "(Steps: 1278) Finished 77 epoch training (71 steps per epoch).\n",
      "(Epoch: 77) train/loss = 0.00000.\n",
      "(Epoch: 77) train/epoch_metric = 0.01597.\n",
      "(Epoch: 77) train/epoch_auc = 0.91487.\n",
      "(Epoch: 77) train/epoch_acc = 0.99704.\n",
      "(Epoch: 77) train/epoch_recall = 0.22237.\n",
      "(Epoch: 77) train/epoch_precision = 0.93106.\n"
     ]
    },
    {
     "name": "stderr",
     "output_type": "stream",
     "text": [
      "[train]:  61%|██████▏   | 1348/2200 [03:16<00:55, 15.40it/s]"
     ]
    },
    {
     "name": "stdout",
     "output_type": "stream",
     "text": [
      "(Steps: 1349) Finished 78 epoch training (71 steps per epoch).\n",
      "(Epoch: 78) train/loss = 0.00000.\n",
      "(Epoch: 78) train/epoch_metric = 0.01596.\n",
      "(Epoch: 78) train/epoch_auc = 0.91616.\n",
      "(Epoch: 78) train/epoch_acc = 0.99703.\n",
      "(Epoch: 78) train/epoch_recall = 0.22089.\n",
      "(Epoch: 78) train/epoch_precision = 0.92198.\n"
     ]
    },
    {
     "name": "stderr",
     "output_type": "stream",
     "text": [
      "[train]:  65%|██████▍   | 1420/2200 [03:27<00:51, 15.20it/s]"
     ]
    },
    {
     "name": "stdout",
     "output_type": "stream",
     "text": [
      "(Steps: 1420) Finished 79 epoch training (71 steps per epoch).\n",
      "(Epoch: 79) train/loss = 0.00000.\n",
      "(Epoch: 79) train/epoch_metric = 0.01589.\n",
      "(Epoch: 79) train/epoch_auc = 0.91710.\n",
      "(Epoch: 79) train/epoch_acc = 0.99704.\n",
      "(Epoch: 79) train/epoch_recall = 0.22163.\n",
      "(Epoch: 79) train/epoch_precision = 0.92997.\n"
     ]
    },
    {
     "name": "stderr",
     "output_type": "stream",
     "text": [
      "[train]:  68%|██████▊   | 1490/2200 [03:37<00:46, 15.26it/s]"
     ]
    },
    {
     "name": "stdout",
     "output_type": "stream",
     "text": [
      "(Steps: 1491) Finished 80 epoch training (71 steps per epoch).\n",
      "(Epoch: 80) train/loss = 0.00000.\n",
      "(Epoch: 80) train/epoch_metric = 0.01590.\n",
      "(Epoch: 80) train/epoch_auc = 0.91667.\n",
      "(Epoch: 80) train/epoch_acc = 0.99705.\n",
      "(Epoch: 80) train/epoch_recall = 0.22511.\n",
      "(Epoch: 80) train/epoch_precision = 0.93270.\n"
     ]
    },
    {
     "name": "stderr",
     "output_type": "stream",
     "text": [
      "[train]:  71%|███████   | 1562/2200 [03:48<00:40, 15.81it/s]"
     ]
    },
    {
     "name": "stdout",
     "output_type": "stream",
     "text": [
      "(Steps: 1562) Finished 81 epoch training (71 steps per epoch).\n",
      "(Epoch: 81) train/loss = 0.00000.\n",
      "(Epoch: 81) train/epoch_metric = 0.01585.\n",
      "(Epoch: 81) train/epoch_auc = 0.91857.\n",
      "(Epoch: 81) train/epoch_acc = 0.99705.\n",
      "(Epoch: 81) train/epoch_recall = 0.22474.\n",
      "(Epoch: 81) train/epoch_precision = 0.92774.\n"
     ]
    },
    {
     "name": "stderr",
     "output_type": "stream",
     "text": [
      "[train]:  74%|███████▍  | 1632/2200 [03:58<00:36, 15.46it/s]"
     ]
    },
    {
     "name": "stdout",
     "output_type": "stream",
     "text": [
      "(Steps: 1633) Finished 82 epoch training (71 steps per epoch).\n",
      "(Epoch: 82) train/loss = 0.00000.\n",
      "(Epoch: 82) train/epoch_metric = 0.01589.\n",
      "(Epoch: 82) train/epoch_auc = 0.91780.\n",
      "(Epoch: 82) train/epoch_acc = 0.99702.\n",
      "(Epoch: 82) train/epoch_recall = 0.21911.\n",
      "(Epoch: 82) train/epoch_precision = 0.92486.\n"
     ]
    },
    {
     "name": "stderr",
     "output_type": "stream",
     "text": [
      "[train]:  77%|███████▋  | 1704/2200 [04:08<00:31, 15.62it/s]"
     ]
    },
    {
     "name": "stdout",
     "output_type": "stream",
     "text": [
      "(Steps: 1704) Finished 83 epoch training (71 steps per epoch).\n",
      "(Epoch: 83) train/loss = 0.00000.\n",
      "(Epoch: 83) train/epoch_metric = 0.01582.\n",
      "(Epoch: 83) train/epoch_auc = 0.91862.\n",
      "(Epoch: 83) train/epoch_acc = 0.99704.\n",
      "(Epoch: 83) train/epoch_recall = 0.22259.\n",
      "(Epoch: 83) train/epoch_precision = 0.92968.\n"
     ]
    },
    {
     "name": "stderr",
     "output_type": "stream",
     "text": [
      "[train]:  81%|████████  | 1774/2200 [04:19<00:36, 11.55it/s]"
     ]
    },
    {
     "name": "stdout",
     "output_type": "stream",
     "text": [
      "(Steps: 1775) Finished 84 epoch training (71 steps per epoch).\n",
      "(Epoch: 84) train/loss = 0.00000.\n",
      "(Epoch: 84) train/epoch_metric = 0.01581.\n",
      "(Epoch: 84) train/epoch_auc = 0.91925.\n",
      "(Epoch: 84) train/epoch_acc = 0.99704.\n",
      "(Epoch: 84) train/epoch_recall = 0.22200.\n",
      "(Epoch: 84) train/epoch_precision = 0.93182.\n"
     ]
    },
    {
     "name": "stderr",
     "output_type": "stream",
     "text": [
      "[train]:  84%|████████▍ | 1845/2200 [04:30<00:24, 14.74it/s]"
     ]
    },
    {
     "name": "stdout",
     "output_type": "stream",
     "text": [
      "(Steps: 1846) Finished 85 epoch training (71 steps per epoch).\n",
      "(Epoch: 85) train/loss = 0.00000.\n",
      "(Epoch: 85) train/epoch_metric = 0.01580.\n",
      "(Epoch: 85) train/epoch_auc = 0.91949.\n",
      "(Epoch: 85) train/epoch_acc = 0.99704.\n",
      "(Epoch: 85) train/epoch_recall = 0.22341.\n",
      "(Epoch: 85) train/epoch_precision = 0.92251.\n"
     ]
    },
    {
     "name": "stderr",
     "output_type": "stream",
     "text": [
      "[train]:  87%|████████▋ | 1917/2200 [04:40<00:18, 15.55it/s]"
     ]
    },
    {
     "name": "stdout",
     "output_type": "stream",
     "text": [
      "(Steps: 1917) Finished 86 epoch training (71 steps per epoch).\n",
      "(Epoch: 86) train/loss = 0.00000.\n",
      "(Epoch: 86) train/epoch_metric = 0.01575.\n",
      "(Epoch: 86) train/epoch_auc = 0.92046.\n",
      "(Epoch: 86) train/epoch_acc = 0.99704.\n",
      "(Epoch: 86) train/epoch_recall = 0.22378.\n",
      "(Epoch: 86) train/epoch_precision = 0.93089.\n"
     ]
    },
    {
     "name": "stderr",
     "output_type": "stream",
     "text": [
      "[train]:  90%|█████████ | 1987/2200 [04:51<00:14, 15.02it/s]"
     ]
    },
    {
     "name": "stdout",
     "output_type": "stream",
     "text": [
      "(Steps: 1988) Finished 87 epoch training (71 steps per epoch).\n",
      "(Epoch: 87) train/loss = 0.00000.\n",
      "(Epoch: 87) train/epoch_metric = 0.01571.\n",
      "(Epoch: 87) train/epoch_auc = 0.92146.\n",
      "(Epoch: 87) train/epoch_acc = 0.99705.\n",
      "(Epoch: 87) train/epoch_recall = 0.22497.\n",
      "(Epoch: 87) train/epoch_precision = 0.92752.\n"
     ]
    },
    {
     "name": "stderr",
     "output_type": "stream",
     "text": [
      "[train]:  94%|█████████▎| 2059/2200 [05:01<00:09, 15.60it/s]"
     ]
    },
    {
     "name": "stdout",
     "output_type": "stream",
     "text": [
      "(Steps: 2059) Finished 88 epoch training (71 steps per epoch).\n",
      "(Epoch: 88) train/loss = 0.00000.\n",
      "(Epoch: 88) train/epoch_metric = 0.01573.\n",
      "(Epoch: 88) train/epoch_auc = 0.92091.\n",
      "(Epoch: 88) train/epoch_acc = 0.99704.\n",
      "(Epoch: 88) train/epoch_recall = 0.22460.\n",
      "(Epoch: 88) train/epoch_precision = 0.92713.\n"
     ]
    },
    {
     "name": "stderr",
     "output_type": "stream",
     "text": [
      "[train]:  97%|█████████▋| 2129/2200 [05:11<00:04, 15.27it/s]\n",
      "[dev]:   0%|          | 0/18 [00:00<?, ?it/s]\u001b[A"
     ]
    },
    {
     "name": "stdout",
     "output_type": "stream",
     "text": [
      "(Steps: 2130) Finished 89 epoch training (71 steps per epoch).\n",
      "(Epoch: 89) train/loss = 0.00000.\n",
      "(Epoch: 89) train/epoch_metric = 0.01569.\n",
      "(Epoch: 89) train/epoch_auc = 0.92171.\n",
      "(Epoch: 89) train/epoch_acc = 0.99706.\n",
      "(Epoch: 89) train/epoch_recall = 0.22638.\n",
      "(Epoch: 89) train/epoch_precision = 0.93276.\n",
      "(Steps: 2130) Start dev data's evaluation.\n"
     ]
    },
    {
     "name": "stderr",
     "output_type": "stream",
     "text": [
      "\n",
      "[dev]:   6%|▌         | 1/18 [00:00<00:02,  7.00it/s]\u001b[A\n",
      "[dev]:  22%|██▏       | 4/18 [00:00<00:01,  9.07it/s]\u001b[A\n",
      "[dev]:  39%|███▉      | 7/18 [00:00<00:00, 11.36it/s]\u001b[A\n",
      "[dev]:  56%|█████▌    | 10/18 [00:00<00:00, 13.95it/s]\u001b[A\n",
      "[dev]:  72%|███████▏  | 13/18 [00:00<00:00, 16.26it/s]\u001b[A\n",
      "[dev]: 100%|██████████| 18/18 [00:00<00:00, 23.32it/s]\n"
     ]
    },
    {
     "name": "stdout",
     "output_type": "stream",
     "text": [
      "(Steps: 2130) Finished dev data's evaluation (18 steps per epoch).\n",
      "(Epoch: 90) dev/loss = 0.00000.\n",
      "(Epoch: 90) dev/epoch_metric = 0.01652.\n",
      "(Epoch: 90) dev/epoch_auc = 0.88986.\n",
      "(Epoch: 90) dev/epoch_acc = 0.99704.\n",
      "(Epoch: 90) dev/epoch_recall = 0.21356.\n",
      "(Epoch: 90) dev/epoch_precision = 0.95225.\n",
      "(Steps: 2130) Start eval data's evaluation.\n"
     ]
    },
    {
     "name": "stderr",
     "output_type": "stream",
     "text": [
      "[train]: 100%|█████████▉| 2199/2200 [05:25<00:00, 14.97it/s]\n",
      "[dev]:   0%|          | 0/18 [00:00<?, ?it/s]\u001b[A"
     ]
    },
    {
     "name": "stdout",
     "output_type": "stream",
     "text": [
      "(Steps: 2200) Start dev data's evaluation.\n"
     ]
    },
    {
     "name": "stderr",
     "output_type": "stream",
     "text": [
      "\n",
      "[dev]:   6%|▌         | 1/18 [00:00<00:02,  6.38it/s]\u001b[A\n",
      "[dev]:  22%|██▏       | 4/18 [00:00<00:01,  8.35it/s]\u001b[A\n",
      "[dev]:  39%|███▉      | 7/18 [00:00<00:01, 10.64it/s]\u001b[A\n",
      "[dev]:  61%|██████    | 11/18 [00:00<00:00, 13.20it/s]\u001b[A\n",
      "[dev]:  78%|███████▊  | 14/18 [00:00<00:00, 15.72it/s]\u001b[A\n",
      "[dev]: 100%|██████████| 18/18 [00:00<00:00, 23.33it/s]\n",
      "[train]: 100%|██████████| 2200/2200 [05:27<00:00,  6.71it/s]\n",
      "[INFO] 2020-11-30 13:30:53,695 >>\tSuccessfully load checkpoint from exp/node/v009-2/best/best_loss2fold.pkl.\n",
      "  0%|          | 0/18 [00:00<?, ?it/s]"
     ]
    },
    {
     "name": "stdout",
     "output_type": "stream",
     "text": [
      "(Steps: 2200) Finished dev data's evaluation (18 steps per epoch).\n",
      "(Epoch: 90) dev/loss = 0.00000.\n",
      "(Epoch: 90) dev/epoch_metric = 0.01653.\n",
      "(Epoch: 90) dev/epoch_auc = 0.88989.\n",
      "(Epoch: 90) dev/epoch_acc = 0.99703.\n",
      "(Epoch: 90) dev/epoch_recall = 0.21386.\n",
      "(Epoch: 90) dev/epoch_precision = 0.94855.\n",
      "(Steps: 2200) Start eval data's evaluation.\n",
      "Finished training.\n"
     ]
    },
    {
     "name": "stderr",
     "output_type": "stream",
     "text": [
      "100%|██████████| 18/18 [00:00<00:00, 26.03it/s]\n",
      "[INFO] 2020-11-30 13:30:54,401 >>\tSuccessfully inference dev data at fold2.\n",
      "[INFO] 2020-11-30 13:30:54,694 >>\tfold2 score: 0.016514, Step:1065, Epoch:75.\n",
      "[INFO] 2020-11-30 13:30:54,712 >>\tStart to train fold 3.\n",
      "[INFO] 2020-11-30 13:30:54,877 >>\tThe number of pseudo labels is (700, 206)\n",
      "[INFO] 2020-11-30 13:30:55,126 >>\ttrain_set:torch.Size([1452]), val_set:torch.Size([1452])\n",
      "[INFO] 2020-11-30 13:30:55,217 >>\tSuccessfully resumed from exp/node/v009-2/best/best_loss2fold.pkl.\n",
      "[INFO] 2020-11-30 13:30:55,218 >>\tStart training!\n",
      "[train]:   3%|▎         | 71/2200 [00:04<02:23, 14.88it/s]"
     ]
    },
    {
     "name": "stdout",
     "output_type": "stream",
     "text": [
      "(Steps: 72) Finished 75 epoch training (72 steps per epoch).\n",
      "(Epoch: 75) train/loss = 0.00000.\n",
      "(Epoch: 75) train/epoch_metric = 0.01653.\n",
      "(Epoch: 75) train/epoch_auc = 0.89664.\n",
      "(Epoch: 75) train/epoch_acc = 0.99700.\n",
      "(Epoch: 75) train/epoch_recall = 0.21413.\n",
      "(Epoch: 75) train/epoch_precision = 0.92062.\n"
     ]
    },
    {
     "name": "stderr",
     "output_type": "stream",
     "text": [
      "[train]:   6%|▋         | 143/2200 [00:14<02:20, 14.65it/s]"
     ]
    },
    {
     "name": "stdout",
     "output_type": "stream",
     "text": [
      "(Steps: 144) Finished 76 epoch training (72 steps per epoch).\n",
      "(Epoch: 76) train/loss = 0.00000.\n",
      "(Epoch: 76) train/epoch_metric = 0.01631.\n",
      "(Epoch: 76) train/epoch_auc = 0.90325.\n",
      "(Epoch: 76) train/epoch_acc = 0.99702.\n",
      "(Epoch: 76) train/epoch_recall = 0.21836.\n",
      "(Epoch: 76) train/epoch_precision = 0.92990.\n"
     ]
    },
    {
     "name": "stderr",
     "output_type": "stream",
     "text": [
      "[train]:  10%|▉         | 215/2200 [00:26<02:52, 11.53it/s]"
     ]
    },
    {
     "name": "stdout",
     "output_type": "stream",
     "text": [
      "(Steps: 216) Finished 77 epoch training (72 steps per epoch).\n",
      "(Epoch: 77) train/loss = 0.00000.\n",
      "(Epoch: 77) train/epoch_metric = 0.01628.\n",
      "(Epoch: 77) train/epoch_auc = 0.90571.\n",
      "(Epoch: 77) train/epoch_acc = 0.99702.\n",
      "(Epoch: 77) train/epoch_recall = 0.21747.\n",
      "(Epoch: 77) train/epoch_precision = 0.92670.\n"
     ]
    },
    {
     "name": "stderr",
     "output_type": "stream",
     "text": [
      "[train]:  13%|█▎        | 287/2200 [00:36<02:18, 13.83it/s]"
     ]
    },
    {
     "name": "stdout",
     "output_type": "stream",
     "text": [
      "(Steps: 288) Finished 78 epoch training (72 steps per epoch).\n",
      "(Epoch: 78) train/loss = 0.00000.\n",
      "(Epoch: 78) train/epoch_metric = 0.01619.\n",
      "(Epoch: 78) train/epoch_auc = 0.90921.\n",
      "(Epoch: 78) train/epoch_acc = 0.99702.\n",
      "(Epoch: 78) train/epoch_recall = 0.21866.\n",
      "(Epoch: 78) train/epoch_precision = 0.92561.\n"
     ]
    },
    {
     "name": "stderr",
     "output_type": "stream",
     "text": [
      "[train]:  16%|█▋        | 359/2200 [00:46<02:12, 13.90it/s]"
     ]
    },
    {
     "name": "stdout",
     "output_type": "stream",
     "text": [
      "(Steps: 360) Finished 79 epoch training (72 steps per epoch).\n",
      "(Epoch: 79) train/loss = 0.00000.\n",
      "(Epoch: 79) train/epoch_metric = 0.01612.\n",
      "(Epoch: 79) train/epoch_auc = 0.91007.\n",
      "(Epoch: 79) train/epoch_acc = 0.99705.\n",
      "(Epoch: 79) train/epoch_recall = 0.22333.\n",
      "(Epoch: 79) train/epoch_precision = 0.93395.\n"
     ]
    },
    {
     "name": "stderr",
     "output_type": "stream",
     "text": [
      "[train]:  20%|█▉        | 431/2200 [00:58<03:52,  7.60it/s]"
     ]
    },
    {
     "name": "stdout",
     "output_type": "stream",
     "text": [
      "(Steps: 432) Finished 80 epoch training (72 steps per epoch).\n",
      "(Epoch: 80) train/loss = 0.00000.\n",
      "(Epoch: 80) train/epoch_metric = 0.01613.\n",
      "(Epoch: 80) train/epoch_auc = 0.91099.\n",
      "(Epoch: 80) train/epoch_acc = 0.99703.\n",
      "(Epoch: 80) train/epoch_recall = 0.21917.\n",
      "(Epoch: 80) train/epoch_precision = 0.92810.\n"
     ]
    },
    {
     "name": "stderr",
     "output_type": "stream",
     "text": [
      "[train]:  23%|██▎       | 503/2200 [01:08<02:12, 12.84it/s]"
     ]
    },
    {
     "name": "stdout",
     "output_type": "stream",
     "text": [
      "(Steps: 504) Finished 81 epoch training (72 steps per epoch).\n",
      "(Epoch: 81) train/loss = 0.00000.\n",
      "(Epoch: 81) train/epoch_metric = 0.01601.\n",
      "(Epoch: 81) train/epoch_auc = 0.91292.\n",
      "(Epoch: 81) train/epoch_acc = 0.99704.\n",
      "(Epoch: 81) train/epoch_recall = 0.22177.\n",
      "(Epoch: 81) train/epoch_precision = 0.93149.\n"
     ]
    },
    {
     "name": "stderr",
     "output_type": "stream",
     "text": [
      "[train]:  26%|██▌       | 575/2200 [01:18<01:48, 14.96it/s]"
     ]
    },
    {
     "name": "stdout",
     "output_type": "stream",
     "text": [
      "(Steps: 576) Finished 82 epoch training (72 steps per epoch).\n",
      "(Epoch: 82) train/loss = 0.00000.\n",
      "(Epoch: 82) train/epoch_metric = 0.01598.\n",
      "(Epoch: 82) train/epoch_auc = 0.91385.\n",
      "(Epoch: 82) train/epoch_acc = 0.99703.\n",
      "(Epoch: 82) train/epoch_recall = 0.22081.\n",
      "(Epoch: 82) train/epoch_precision = 0.92341.\n"
     ]
    },
    {
     "name": "stderr",
     "output_type": "stream",
     "text": [
      "[train]:  29%|██▉       | 647/2200 [01:29<01:52, 13.86it/s]"
     ]
    },
    {
     "name": "stdout",
     "output_type": "stream",
     "text": [
      "(Steps: 648) Finished 83 epoch training (72 steps per epoch).\n",
      "(Epoch: 83) train/loss = 0.00000.\n",
      "(Epoch: 83) train/epoch_metric = 0.01596.\n",
      "(Epoch: 83) train/epoch_auc = 0.91408.\n",
      "(Epoch: 83) train/epoch_acc = 0.99705.\n",
      "(Epoch: 83) train/epoch_recall = 0.22533.\n",
      "(Epoch: 83) train/epoch_precision = 0.93364.\n"
     ]
    },
    {
     "name": "stderr",
     "output_type": "stream",
     "text": [
      "[train]:  33%|███▎      | 719/2200 [01:40<01:41, 14.57it/s]"
     ]
    },
    {
     "name": "stdout",
     "output_type": "stream",
     "text": [
      "(Steps: 720) Finished 84 epoch training (72 steps per epoch).\n",
      "(Epoch: 84) train/loss = 0.00000.\n",
      "(Epoch: 84) train/epoch_metric = 0.01593.\n",
      "(Epoch: 84) train/epoch_auc = 0.91548.\n",
      "(Epoch: 84) train/epoch_acc = 0.99704.\n",
      "(Epoch: 84) train/epoch_recall = 0.22333.\n",
      "(Epoch: 84) train/epoch_precision = 0.93020.\n"
     ]
    },
    {
     "name": "stderr",
     "output_type": "stream",
     "text": [
      "[train]:  36%|███▌      | 791/2200 [01:51<01:39, 14.15it/s]"
     ]
    },
    {
     "name": "stdout",
     "output_type": "stream",
     "text": [
      "(Steps: 792) Finished 85 epoch training (72 steps per epoch).\n",
      "(Epoch: 85) train/loss = 0.00000.\n",
      "(Epoch: 85) train/epoch_metric = 0.01590.\n",
      "(Epoch: 85) train/epoch_auc = 0.91651.\n",
      "(Epoch: 85) train/epoch_acc = 0.99705.\n",
      "(Epoch: 85) train/epoch_recall = 0.22414.\n",
      "(Epoch: 85) train/epoch_precision = 0.93447.\n"
     ]
    },
    {
     "name": "stderr",
     "output_type": "stream",
     "text": [
      "[train]:  39%|███▉      | 863/2200 [02:02<01:41, 13.20it/s]"
     ]
    },
    {
     "name": "stdout",
     "output_type": "stream",
     "text": [
      "(Steps: 864) Finished 86 epoch training (72 steps per epoch).\n",
      "(Epoch: 86) train/loss = 0.00000.\n",
      "(Epoch: 86) train/epoch_metric = 0.01587.\n",
      "(Epoch: 86) train/epoch_auc = 0.91669.\n",
      "(Epoch: 86) train/epoch_acc = 0.99705.\n",
      "(Epoch: 86) train/epoch_recall = 0.22444.\n",
      "(Epoch: 86) train/epoch_precision = 0.93426.\n"
     ]
    },
    {
     "name": "stderr",
     "output_type": "stream",
     "text": [
      "[train]:  42%|████▎     | 935/2200 [02:13<01:25, 14.85it/s]"
     ]
    },
    {
     "name": "stdout",
     "output_type": "stream",
     "text": [
      "(Steps: 936) Finished 87 epoch training (72 steps per epoch).\n",
      "(Epoch: 87) train/loss = 0.00000.\n",
      "(Epoch: 87) train/epoch_metric = 0.01582.\n",
      "(Epoch: 87) train/epoch_auc = 0.91829.\n",
      "(Epoch: 87) train/epoch_acc = 0.99706.\n",
      "(Epoch: 87) train/epoch_recall = 0.22703.\n",
      "(Epoch: 87) train/epoch_precision = 0.93212.\n"
     ]
    },
    {
     "name": "stderr",
     "output_type": "stream",
     "text": [
      "[train]:  46%|████▌     | 1007/2200 [02:23<01:20, 14.87it/s]"
     ]
    },
    {
     "name": "stdout",
     "output_type": "stream",
     "text": [
      "(Steps: 1008) Finished 88 epoch training (72 steps per epoch).\n",
      "(Epoch: 88) train/loss = 0.00000.\n",
      "(Epoch: 88) train/epoch_metric = 0.01578.\n",
      "(Epoch: 88) train/epoch_auc = 0.91888.\n",
      "(Epoch: 88) train/epoch_acc = 0.99706.\n",
      "(Epoch: 88) train/epoch_recall = 0.22600.\n",
      "(Epoch: 88) train/epoch_precision = 0.93583.\n"
     ]
    },
    {
     "name": "stderr",
     "output_type": "stream",
     "text": [
      "[train]:  49%|████▉     | 1079/2200 [02:34<01:15, 14.90it/s]\n",
      "[dev]:   0%|          | 0/18 [00:00<?, ?it/s]\u001b[A"
     ]
    },
    {
     "name": "stdout",
     "output_type": "stream",
     "text": [
      "(Steps: 1080) Finished 89 epoch training (72 steps per epoch).\n",
      "(Epoch: 89) train/loss = 0.00000.\n",
      "(Epoch: 89) train/epoch_metric = 0.01576.\n",
      "(Epoch: 89) train/epoch_auc = 0.91913.\n",
      "(Epoch: 89) train/epoch_acc = 0.99705.\n",
      "(Epoch: 89) train/epoch_recall = 0.22555.\n",
      "(Epoch: 89) train/epoch_precision = 0.92744.\n",
      "(Steps: 1080) Start dev data's evaluation.\n"
     ]
    },
    {
     "name": "stderr",
     "output_type": "stream",
     "text": [
      "\n",
      "[dev]:   6%|▌         | 1/18 [00:00<00:03,  5.15it/s]\u001b[A\n",
      "[dev]:  22%|██▏       | 4/18 [00:00<00:02,  6.64it/s]\u001b[A\n",
      "[dev]:  39%|███▉      | 7/18 [00:00<00:01,  8.61it/s]\u001b[A\n",
      "[dev]:  56%|█████▌    | 10/18 [00:00<00:00, 10.42it/s]\u001b[A\n",
      "[dev]:  72%|███████▏  | 13/18 [00:00<00:00, 12.29it/s]\u001b[A\n",
      "[dev]: 100%|██████████| 18/18 [00:00<00:00, 18.03it/s]\n"
     ]
    },
    {
     "name": "stdout",
     "output_type": "stream",
     "text": [
      "(Steps: 1080) Finished dev data's evaluation (18 steps per epoch).\n",
      "(Epoch: 90) dev/loss = 0.00000.\n",
      "(Epoch: 90) dev/epoch_metric = 0.01665.\n",
      "(Epoch: 90) dev/epoch_auc = 0.89295.\n",
      "(Epoch: 90) dev/epoch_acc = 0.99700.\n",
      "(Epoch: 90) dev/epoch_recall = 0.20197.\n",
      "(Epoch: 90) dev/epoch_precision = 0.95493.\n",
      "(Steps: 1080) Start eval data's evaluation.\n"
     ]
    },
    {
     "name": "stderr",
     "output_type": "stream",
     "text": [
      "[train]:  52%|█████▏    | 1151/2200 [02:47<01:10, 14.89it/s]"
     ]
    },
    {
     "name": "stdout",
     "output_type": "stream",
     "text": [
      "(Steps: 1152) Finished 90 epoch training (72 steps per epoch).\n",
      "(Epoch: 90) train/loss = 0.00000.\n",
      "(Epoch: 90) train/epoch_metric = 0.01576.\n",
      "(Epoch: 90) train/epoch_auc = 0.92023.\n",
      "(Epoch: 90) train/epoch_acc = 0.99705.\n",
      "(Epoch: 90) train/epoch_recall = 0.22622.\n",
      "(Epoch: 90) train/epoch_precision = 0.92933.\n"
     ]
    },
    {
     "name": "stderr",
     "output_type": "stream",
     "text": [
      "[train]:  56%|█████▌    | 1223/2200 [02:58<01:16, 12.75it/s]"
     ]
    },
    {
     "name": "stdout",
     "output_type": "stream",
     "text": [
      "(Steps: 1224) Finished 91 epoch training (72 steps per epoch).\n",
      "(Epoch: 91) train/loss = 0.00000.\n",
      "(Epoch: 91) train/epoch_metric = 0.01573.\n",
      "(Epoch: 91) train/epoch_auc = 0.91978.\n",
      "(Epoch: 91) train/epoch_acc = 0.99705.\n",
      "(Epoch: 91) train/epoch_recall = 0.22800.\n",
      "(Epoch: 91) train/epoch_precision = 0.92620.\n"
     ]
    },
    {
     "name": "stderr",
     "output_type": "stream",
     "text": [
      "[train]:  59%|█████▉    | 1295/2200 [03:08<01:00, 14.91it/s]"
     ]
    },
    {
     "name": "stdout",
     "output_type": "stream",
     "text": [
      "(Steps: 1296) Finished 92 epoch training (72 steps per epoch).\n",
      "(Epoch: 92) train/loss = 0.00000.\n",
      "(Epoch: 92) train/epoch_metric = 0.01574.\n",
      "(Epoch: 92) train/epoch_auc = 0.92091.\n",
      "(Epoch: 92) train/epoch_acc = 0.99704.\n",
      "(Epoch: 92) train/epoch_recall = 0.22436.\n",
      "(Epoch: 92) train/epoch_precision = 0.92737.\n"
     ]
    },
    {
     "name": "stderr",
     "output_type": "stream",
     "text": [
      "[train]:  62%|██████▏   | 1367/2200 [03:19<00:55, 14.96it/s]"
     ]
    },
    {
     "name": "stdout",
     "output_type": "stream",
     "text": [
      "(Steps: 1368) Finished 93 epoch training (72 steps per epoch).\n",
      "(Epoch: 93) train/loss = 0.00000.\n",
      "(Epoch: 93) train/epoch_metric = 0.01570.\n",
      "(Epoch: 93) train/epoch_auc = 0.92086.\n",
      "(Epoch: 93) train/epoch_acc = 0.99706.\n",
      "(Epoch: 93) train/epoch_recall = 0.22629.\n",
      "(Epoch: 93) train/epoch_precision = 0.93476.\n"
     ]
    },
    {
     "name": "stderr",
     "output_type": "stream",
     "text": [
      "[train]:  65%|██████▌   | 1439/2200 [03:29<00:52, 14.52it/s]"
     ]
    },
    {
     "name": "stdout",
     "output_type": "stream",
     "text": [
      "(Steps: 1440) Finished 94 epoch training (72 steps per epoch).\n",
      "(Epoch: 94) train/loss = 0.00000.\n",
      "(Epoch: 94) train/epoch_metric = 0.01569.\n",
      "(Epoch: 94) train/epoch_auc = 0.92078.\n",
      "(Epoch: 94) train/epoch_acc = 0.99705.\n",
      "(Epoch: 94) train/epoch_recall = 0.22614.\n",
      "(Epoch: 94) train/epoch_precision = 0.92959.\n"
     ]
    },
    {
     "name": "stderr",
     "output_type": "stream",
     "text": [
      "[train]:  69%|██████▊   | 1511/2200 [03:40<00:45, 15.04it/s]"
     ]
    },
    {
     "name": "stdout",
     "output_type": "stream",
     "text": [
      "(Steps: 1512) Finished 95 epoch training (72 steps per epoch).\n",
      "(Epoch: 95) train/loss = 0.00000.\n",
      "(Epoch: 95) train/epoch_metric = 0.01566.\n",
      "(Epoch: 95) train/epoch_auc = 0.92213.\n",
      "(Epoch: 95) train/epoch_acc = 0.99705.\n",
      "(Epoch: 95) train/epoch_recall = 0.22518.\n",
      "(Epoch: 95) train/epoch_precision = 0.93074.\n"
     ]
    },
    {
     "name": "stderr",
     "output_type": "stream",
     "text": [
      "[train]:  72%|███████▏  | 1584/2200 [03:51<00:40, 15.06it/s]"
     ]
    },
    {
     "name": "stdout",
     "output_type": "stream",
     "text": [
      "(Steps: 1584) Finished 96 epoch training (72 steps per epoch).\n",
      "(Epoch: 96) train/loss = 0.00000.\n",
      "(Epoch: 96) train/epoch_metric = 0.01562.\n",
      "(Epoch: 96) train/epoch_auc = 0.92258.\n",
      "(Epoch: 96) train/epoch_acc = 0.99706.\n",
      "(Epoch: 96) train/epoch_recall = 0.22733.\n",
      "(Epoch: 96) train/epoch_precision = 0.93647.\n"
     ]
    },
    {
     "name": "stderr",
     "output_type": "stream",
     "text": [
      "[train]:  75%|███████▌  | 1656/2200 [04:02<00:42, 12.95it/s]"
     ]
    },
    {
     "name": "stdout",
     "output_type": "stream",
     "text": [
      "(Steps: 1656) Finished 97 epoch training (72 steps per epoch).\n",
      "(Epoch: 97) train/loss = 0.00000.\n",
      "(Epoch: 97) train/epoch_metric = 0.01565.\n",
      "(Epoch: 97) train/epoch_auc = 0.92244.\n",
      "(Epoch: 97) train/epoch_acc = 0.99705.\n",
      "(Epoch: 97) train/epoch_recall = 0.22674.\n",
      "(Epoch: 97) train/epoch_precision = 0.92864.\n"
     ]
    },
    {
     "name": "stderr",
     "output_type": "stream",
     "text": [
      "[train]:  79%|███████▊  | 1728/2200 [04:12<00:31, 15.08it/s]"
     ]
    },
    {
     "name": "stdout",
     "output_type": "stream",
     "text": [
      "(Steps: 1728) Finished 98 epoch training (72 steps per epoch).\n",
      "(Epoch: 98) train/loss = 0.00000.\n",
      "(Epoch: 98) train/epoch_metric = 0.01563.\n",
      "(Epoch: 98) train/epoch_auc = 0.92267.\n",
      "(Epoch: 98) train/epoch_acc = 0.99705.\n",
      "(Epoch: 98) train/epoch_recall = 0.22696.\n",
      "(Epoch: 98) train/epoch_precision = 0.93124.\n"
     ]
    },
    {
     "name": "stderr",
     "output_type": "stream",
     "text": [
      "[train]:  82%|████████▏ | 1800/2200 [04:23<00:26, 14.96it/s]"
     ]
    },
    {
     "name": "stdout",
     "output_type": "stream",
     "text": [
      "(Steps: 1800) Finished 99 epoch training (72 steps per epoch).\n",
      "(Epoch: 99) train/loss = 0.00000.\n",
      "(Epoch: 99) train/epoch_metric = 0.01562.\n",
      "(Epoch: 99) train/epoch_auc = 0.92366.\n",
      "(Epoch: 99) train/epoch_acc = 0.99704.\n",
      "(Epoch: 99) train/epoch_recall = 0.22511.\n",
      "(Epoch: 99) train/epoch_precision = 0.92589.\n"
     ]
    },
    {
     "name": "stderr",
     "output_type": "stream",
     "text": [
      "[train]:  85%|████████▌ | 1872/2200 [04:33<00:21, 15.25it/s]"
     ]
    },
    {
     "name": "stdout",
     "output_type": "stream",
     "text": [
      "(Steps: 1872) Finished 100 epoch training (72 steps per epoch).\n",
      "(Epoch: 100) train/loss = 0.00000.\n",
      "(Epoch: 100) train/epoch_metric = 0.01561.\n",
      "(Epoch: 100) train/epoch_auc = 0.92337.\n",
      "(Epoch: 100) train/epoch_acc = 0.99705.\n",
      "(Epoch: 100) train/epoch_recall = 0.22436.\n",
      "(Epoch: 100) train/epoch_precision = 0.93626.\n"
     ]
    },
    {
     "name": "stderr",
     "output_type": "stream",
     "text": [
      "[train]:  88%|████████▊ | 1944/2200 [04:44<00:16, 15.37it/s]"
     ]
    },
    {
     "name": "stdout",
     "output_type": "stream",
     "text": [
      "(Steps: 1944) Finished 101 epoch training (72 steps per epoch).\n",
      "(Epoch: 101) train/loss = 0.00000.\n",
      "(Epoch: 101) train/epoch_metric = 0.01560.\n",
      "(Epoch: 101) train/epoch_auc = 0.92327.\n",
      "(Epoch: 101) train/epoch_acc = 0.99706.\n",
      "(Epoch: 101) train/epoch_recall = 0.22696.\n",
      "(Epoch: 101) train/epoch_precision = 0.93181.\n"
     ]
    },
    {
     "name": "stderr",
     "output_type": "stream",
     "text": [
      "[train]:  92%|█████████▏| 2015/2200 [04:56<00:15, 12.25it/s]"
     ]
    },
    {
     "name": "stdout",
     "output_type": "stream",
     "text": [
      "(Steps: 2016) Finished 102 epoch training (72 steps per epoch).\n",
      "(Epoch: 102) train/loss = 0.00000.\n",
      "(Epoch: 102) train/epoch_metric = 0.01554.\n",
      "(Epoch: 102) train/epoch_auc = 0.92452.\n",
      "(Epoch: 102) train/epoch_acc = 0.99706.\n",
      "(Epoch: 102) train/epoch_recall = 0.23007.\n",
      "(Epoch: 102) train/epoch_precision = 0.92821.\n"
     ]
    },
    {
     "name": "stderr",
     "output_type": "stream",
     "text": [
      "[train]:  95%|█████████▍| 2087/2200 [05:06<00:08, 12.97it/s]"
     ]
    },
    {
     "name": "stdout",
     "output_type": "stream",
     "text": [
      "(Steps: 2088) Finished 103 epoch training (72 steps per epoch).\n",
      "(Epoch: 103) train/loss = 0.00000.\n",
      "(Epoch: 103) train/epoch_metric = 0.01558.\n",
      "(Epoch: 103) train/epoch_auc = 0.92330.\n",
      "(Epoch: 103) train/epoch_acc = 0.99706.\n",
      "(Epoch: 103) train/epoch_recall = 0.22852.\n",
      "(Epoch: 103) train/epoch_precision = 0.93422.\n"
     ]
    },
    {
     "name": "stderr",
     "output_type": "stream",
     "text": [
      "[train]:  98%|█████████▊| 2159/2200 [05:16<00:02, 14.75it/s]\n",
      "[dev]:   0%|          | 0/18 [00:00<?, ?it/s]\u001b[A"
     ]
    },
    {
     "name": "stdout",
     "output_type": "stream",
     "text": [
      "(Steps: 2160) Finished 104 epoch training (72 steps per epoch).\n",
      "(Epoch: 104) train/loss = 0.00000.\n",
      "(Epoch: 104) train/epoch_metric = 0.01552.\n",
      "(Epoch: 104) train/epoch_auc = 0.92481.\n",
      "(Epoch: 104) train/epoch_acc = 0.99706.\n",
      "(Epoch: 104) train/epoch_recall = 0.22711.\n",
      "(Epoch: 104) train/epoch_precision = 0.93756.\n",
      "(Steps: 2160) Start dev data's evaluation.\n"
     ]
    },
    {
     "name": "stderr",
     "output_type": "stream",
     "text": [
      "\n",
      "[dev]:   6%|▌         | 1/18 [00:00<00:02,  6.85it/s]\u001b[A\n",
      "[dev]:  22%|██▏       | 4/18 [00:00<00:01,  8.85it/s]\u001b[A\n",
      "[dev]:  39%|███▉      | 7/18 [00:00<00:00, 11.09it/s]\u001b[A\n",
      "[dev]:  56%|█████▌    | 10/18 [00:00<00:00, 13.64it/s]\u001b[A\n",
      "[dev]:  72%|███████▏  | 13/18 [00:00<00:00, 16.10it/s]\u001b[A\n",
      "[dev]: 100%|██████████| 18/18 [00:00<00:00, 22.83it/s]\n"
     ]
    },
    {
     "name": "stdout",
     "output_type": "stream",
     "text": [
      "(Steps: 2160) Finished dev data's evaluation (18 steps per epoch).\n",
      "(Epoch: 105) dev/loss = 0.00000.\n",
      "(Epoch: 105) dev/epoch_metric = 0.01675.\n",
      "(Epoch: 105) dev/epoch_auc = 0.88832.\n",
      "(Epoch: 105) dev/epoch_acc = 0.99698.\n",
      "(Epoch: 105) dev/epoch_recall = 0.19750.\n",
      "(Epoch: 105) dev/epoch_precision = 0.94579.\n",
      "(Steps: 2160) Start eval data's evaluation.\n"
     ]
    },
    {
     "name": "stderr",
     "output_type": "stream",
     "text": [
      "[train]: 100%|█████████▉| 2199/2200 [05:27<00:00, 12.48it/s]\n",
      "[dev]:   0%|          | 0/18 [00:00<?, ?it/s]\u001b[A"
     ]
    },
    {
     "name": "stdout",
     "output_type": "stream",
     "text": [
      "(Steps: 2200) Start dev data's evaluation.\n"
     ]
    },
    {
     "name": "stderr",
     "output_type": "stream",
     "text": [
      "\n",
      "[dev]:   6%|▌         | 1/18 [00:00<00:03,  5.57it/s]\u001b[A\n",
      "[dev]:  22%|██▏       | 4/18 [00:00<00:01,  7.23it/s]\u001b[A\n",
      "[dev]:  39%|███▉      | 7/18 [00:00<00:01,  9.06it/s]\u001b[A\n",
      "[dev]:  56%|█████▌    | 10/18 [00:00<00:00, 11.20it/s]\u001b[A\n",
      "[dev]:  72%|███████▏  | 13/18 [00:00<00:00, 13.01it/s]\u001b[A\n",
      "[dev]: 100%|██████████| 18/18 [00:00<00:00, 18.84it/s]\n",
      "[train]: 100%|██████████| 2200/2200 [05:30<00:00,  6.67it/s]\n",
      "[INFO] 2020-11-30 13:36:25,277 >>\tSuccessfully load checkpoint from exp/node/v009-2/best/best_loss3fold.pkl.\n",
      "  0%|          | 0/18 [00:00<?, ?it/s]"
     ]
    },
    {
     "name": "stdout",
     "output_type": "stream",
     "text": [
      "(Steps: 2200) Finished dev data's evaluation (18 steps per epoch).\n",
      "(Epoch: 105) dev/loss = 0.00000.\n",
      "(Epoch: 105) dev/epoch_metric = 0.01668.\n",
      "(Epoch: 105) dev/epoch_auc = 0.89001.\n",
      "(Epoch: 105) dev/epoch_acc = 0.99699.\n",
      "(Epoch: 105) dev/epoch_recall = 0.20167.\n",
      "(Epoch: 105) dev/epoch_precision = 0.94553.\n",
      "(Steps: 2200) Start eval data's evaluation.\n",
      "Finished training.\n"
     ]
    },
    {
     "name": "stderr",
     "output_type": "stream",
     "text": [
      "100%|██████████| 18/18 [00:00<00:00, 26.65it/s]\n",
      "[INFO] 2020-11-30 13:36:25,964 >>\tSuccessfully inference dev data at fold3.\n",
      "[INFO] 2020-11-30 13:36:26,255 >>\tfold3 score: 0.016655, Step:1080, Epoch:90.\n",
      "[INFO] 2020-11-30 13:36:26,277 >>\tStart to train fold 4.\n",
      "[INFO] 2020-11-30 13:36:26,441 >>\tThe number of pseudo labels is (961, 206)\n",
      "[INFO] 2020-11-30 13:36:26,693 >>\ttrain_set:torch.Size([1452]), val_set:torch.Size([1452])\n",
      "[INFO] 2020-11-30 13:36:26,781 >>\tSuccessfully resumed from exp/node/v009-2/best/best_loss3fold.pkl.\n",
      "[INFO] 2020-11-30 13:36:26,782 >>\tStart training!\n",
      "[train]:   3%|▎         | 73/2200 [00:04<02:18, 15.30it/s]"
     ]
    },
    {
     "name": "stdout",
     "output_type": "stream",
     "text": [
      "(Steps: 73) Finished 90 epoch training (73 steps per epoch).\n",
      "(Epoch: 90) train/loss = 0.00000.\n",
      "(Epoch: 90) train/epoch_metric = 0.01642.\n",
      "(Epoch: 90) train/epoch_auc = 0.89752.\n",
      "(Epoch: 90) train/epoch_acc = 0.99701.\n",
      "(Epoch: 90) train/epoch_recall = 0.21523.\n",
      "(Epoch: 90) train/epoch_precision = 0.92320.\n"
     ]
    },
    {
     "name": "stderr",
     "output_type": "stream",
     "text": [
      "[train]:   7%|▋         | 145/2200 [00:15<02:15, 15.16it/s]"
     ]
    },
    {
     "name": "stdout",
     "output_type": "stream",
     "text": [
      "(Steps: 146) Finished 91 epoch training (73 steps per epoch).\n",
      "(Epoch: 91) train/loss = 0.00000.\n",
      "(Epoch: 91) train/epoch_metric = 0.01622.\n",
      "(Epoch: 91) train/epoch_auc = 0.90611.\n",
      "(Epoch: 91) train/epoch_acc = 0.99703.\n",
      "(Epoch: 91) train/epoch_recall = 0.21753.\n",
      "(Epoch: 91) train/epoch_precision = 0.93696.\n"
     ]
    },
    {
     "name": "stderr",
     "output_type": "stream",
     "text": [
      "[train]:  10%|▉         | 219/2200 [00:26<02:08, 15.40it/s]"
     ]
    },
    {
     "name": "stdout",
     "output_type": "stream",
     "text": [
      "(Steps: 219) Finished 92 epoch training (73 steps per epoch).\n",
      "(Epoch: 92) train/loss = 0.00000.\n",
      "(Epoch: 92) train/epoch_metric = 0.01612.\n",
      "(Epoch: 92) train/epoch_auc = 0.91000.\n",
      "(Epoch: 92) train/epoch_acc = 0.99703.\n",
      "(Epoch: 92) train/epoch_recall = 0.21776.\n",
      "(Epoch: 92) train/epoch_precision = 0.93107.\n"
     ]
    },
    {
     "name": "stderr",
     "output_type": "stream",
     "text": [
      "[train]:  13%|█▎        | 291/2200 [00:37<02:05, 15.21it/s]"
     ]
    },
    {
     "name": "stdout",
     "output_type": "stream",
     "text": [
      "(Steps: 292) Finished 93 epoch training (73 steps per epoch).\n",
      "(Epoch: 93) train/loss = 0.00000.\n",
      "(Epoch: 93) train/epoch_metric = 0.01606.\n",
      "(Epoch: 93) train/epoch_auc = 0.91121.\n",
      "(Epoch: 93) train/epoch_acc = 0.99704.\n",
      "(Epoch: 93) train/epoch_recall = 0.22043.\n",
      "(Epoch: 93) train/epoch_precision = 0.93009.\n"
     ]
    },
    {
     "name": "stderr",
     "output_type": "stream",
     "text": [
      "[train]:  17%|█▋        | 365/2200 [00:48<01:59, 15.40it/s]"
     ]
    },
    {
     "name": "stdout",
     "output_type": "stream",
     "text": [
      "(Steps: 365) Finished 94 epoch training (73 steps per epoch).\n",
      "(Epoch: 94) train/loss = 0.00000.\n",
      "(Epoch: 94) train/epoch_metric = 0.01598.\n",
      "(Epoch: 94) train/epoch_auc = 0.91377.\n",
      "(Epoch: 94) train/epoch_acc = 0.99704.\n",
      "(Epoch: 94) train/epoch_recall = 0.22177.\n",
      "(Epoch: 94) train/epoch_precision = 0.93078.\n"
     ]
    },
    {
     "name": "stderr",
     "output_type": "stream",
     "text": [
      "[train]:  20%|█▉        | 437/2200 [00:58<02:01, 14.53it/s]"
     ]
    },
    {
     "name": "stdout",
     "output_type": "stream",
     "text": [
      "(Steps: 438) Finished 95 epoch training (73 steps per epoch).\n",
      "(Epoch: 95) train/loss = 0.00000.\n",
      "(Epoch: 95) train/epoch_metric = 0.01593.\n",
      "(Epoch: 95) train/epoch_auc = 0.91538.\n",
      "(Epoch: 95) train/epoch_acc = 0.99705.\n",
      "(Epoch: 95) train/epoch_recall = 0.22392.\n",
      "(Epoch: 95) train/epoch_precision = 0.93371.\n"
     ]
    },
    {
     "name": "stderr",
     "output_type": "stream",
     "text": [
      "[train]:  23%|██▎       | 510/2200 [01:09<02:02, 13.76it/s]"
     ]
    },
    {
     "name": "stdout",
     "output_type": "stream",
     "text": [
      "(Steps: 511) Finished 96 epoch training (73 steps per epoch).\n",
      "(Epoch: 96) train/loss = 0.00000.\n",
      "(Epoch: 96) train/epoch_metric = 0.01586.\n",
      "(Epoch: 96) train/epoch_auc = 0.91616.\n",
      "(Epoch: 96) train/epoch_acc = 0.99704.\n",
      "(Epoch: 96) train/epoch_recall = 0.22184.\n",
      "(Epoch: 96) train/epoch_precision = 0.93138.\n"
     ]
    },
    {
     "name": "stderr",
     "output_type": "stream",
     "text": [
      "[train]:  26%|██▋       | 583/2200 [01:21<01:48, 14.84it/s]"
     ]
    },
    {
     "name": "stdout",
     "output_type": "stream",
     "text": [
      "(Steps: 584) Finished 97 epoch training (73 steps per epoch).\n",
      "(Epoch: 97) train/loss = 0.00000.\n",
      "(Epoch: 97) train/epoch_metric = 0.01585.\n",
      "(Epoch: 97) train/epoch_auc = 0.91774.\n",
      "(Epoch: 97) train/epoch_acc = 0.99705.\n",
      "(Epoch: 97) train/epoch_recall = 0.22214.\n",
      "(Epoch: 97) train/epoch_precision = 0.93408.\n"
     ]
    },
    {
     "name": "stderr",
     "output_type": "stream",
     "text": [
      "[train]:  30%|██▉       | 657/2200 [01:31<01:40, 15.40it/s]"
     ]
    },
    {
     "name": "stdout",
     "output_type": "stream",
     "text": [
      "(Steps: 657) Finished 98 epoch training (73 steps per epoch).\n",
      "(Epoch: 98) train/loss = 0.00000.\n",
      "(Epoch: 98) train/epoch_metric = 0.01581.\n",
      "(Epoch: 98) train/epoch_auc = 0.91774.\n",
      "(Epoch: 98) train/epoch_acc = 0.99705.\n",
      "(Epoch: 98) train/epoch_recall = 0.22481.\n",
      "(Epoch: 98) train/epoch_precision = 0.93022.\n"
     ]
    },
    {
     "name": "stderr",
     "output_type": "stream",
     "text": [
      "[train]:  33%|███▎      | 730/2200 [01:43<02:24, 10.18it/s]"
     ]
    },
    {
     "name": "stdout",
     "output_type": "stream",
     "text": [
      "(Steps: 730) Finished 99 epoch training (73 steps per epoch).\n",
      "(Epoch: 99) train/loss = 0.00000.\n",
      "(Epoch: 99) train/epoch_metric = 0.01582.\n",
      "(Epoch: 99) train/epoch_auc = 0.91837.\n",
      "(Epoch: 99) train/epoch_acc = 0.99704.\n",
      "(Epoch: 99) train/epoch_recall = 0.22251.\n",
      "(Epoch: 99) train/epoch_precision = 0.93012.\n"
     ]
    },
    {
     "name": "stderr",
     "output_type": "stream",
     "text": [
      "[train]:  36%|███▋      | 802/2200 [01:53<01:31, 15.23it/s]"
     ]
    },
    {
     "name": "stdout",
     "output_type": "stream",
     "text": [
      "(Steps: 803) Finished 100 epoch training (73 steps per epoch).\n",
      "(Epoch: 100) train/loss = 0.00000.\n",
      "(Epoch: 100) train/epoch_metric = 0.01577.\n",
      "(Epoch: 100) train/epoch_auc = 0.91924.\n",
      "(Epoch: 100) train/epoch_acc = 0.99706.\n",
      "(Epoch: 100) train/epoch_recall = 0.22563.\n",
      "(Epoch: 100) train/epoch_precision = 0.93417.\n"
     ]
    },
    {
     "name": "stderr",
     "output_type": "stream",
     "text": [
      "[train]:  40%|███▉      | 876/2200 [02:04<01:25, 15.47it/s]"
     ]
    },
    {
     "name": "stdout",
     "output_type": "stream",
     "text": [
      "(Steps: 876) Finished 101 epoch training (73 steps per epoch).\n",
      "(Epoch: 101) train/loss = 0.00000.\n",
      "(Epoch: 101) train/epoch_metric = 0.01574.\n",
      "(Epoch: 101) train/epoch_auc = 0.91991.\n",
      "(Epoch: 101) train/epoch_acc = 0.99705.\n",
      "(Epoch: 101) train/epoch_recall = 0.22377.\n",
      "(Epoch: 101) train/epoch_precision = 0.93222.\n"
     ]
    },
    {
     "name": "stderr",
     "output_type": "stream",
     "text": [
      "[train]:  43%|████▎     | 948/2200 [02:14<01:44, 11.98it/s]"
     ]
    },
    {
     "name": "stdout",
     "output_type": "stream",
     "text": [
      "(Steps: 949) Finished 102 epoch training (73 steps per epoch).\n",
      "(Epoch: 102) train/loss = 0.00000.\n",
      "(Epoch: 102) train/epoch_metric = 0.01574.\n",
      "(Epoch: 102) train/epoch_auc = 0.91961.\n",
      "(Epoch: 102) train/epoch_acc = 0.99705.\n",
      "(Epoch: 102) train/epoch_recall = 0.22311.\n",
      "(Epoch: 102) train/epoch_precision = 0.93610.\n"
     ]
    },
    {
     "name": "stderr",
     "output_type": "stream",
     "text": [
      "[train]:  46%|████▋     | 1022/2200 [02:26<01:15, 15.51it/s]"
     ]
    },
    {
     "name": "stdout",
     "output_type": "stream",
     "text": [
      "(Steps: 1022) Finished 103 epoch training (73 steps per epoch).\n",
      "(Epoch: 103) train/loss = 0.00000.\n",
      "(Epoch: 103) train/epoch_metric = 0.01573.\n",
      "(Epoch: 103) train/epoch_auc = 0.91996.\n",
      "(Epoch: 103) train/epoch_acc = 0.99705.\n",
      "(Epoch: 103) train/epoch_recall = 0.22281.\n",
      "(Epoch: 103) train/epoch_precision = 0.93485.\n"
     ]
    },
    {
     "name": "stderr",
     "output_type": "stream",
     "text": [
      "[train]:  50%|████▉     | 1094/2200 [02:37<01:13, 15.09it/s]\n",
      "[dev]:   0%|          | 0/18 [00:00<?, ?it/s]\u001b[A"
     ]
    },
    {
     "name": "stdout",
     "output_type": "stream",
     "text": [
      "(Steps: 1095) Finished 104 epoch training (73 steps per epoch).\n",
      "(Epoch: 104) train/loss = 0.00000.\n",
      "(Epoch: 104) train/epoch_metric = 0.01570.\n",
      "(Epoch: 104) train/epoch_auc = 0.92127.\n",
      "(Epoch: 104) train/epoch_acc = 0.99705.\n",
      "(Epoch: 104) train/epoch_recall = 0.22385.\n",
      "(Epoch: 104) train/epoch_precision = 0.92594.\n",
      "(Steps: 1095) Start dev data's evaluation.\n"
     ]
    },
    {
     "name": "stderr",
     "output_type": "stream",
     "text": [
      "\n",
      "[dev]:   6%|▌         | 1/18 [00:00<00:02,  6.78it/s]\u001b[A\n",
      "[dev]:  22%|██▏       | 4/18 [00:00<00:01,  8.83it/s]\u001b[A\n",
      "[dev]:  39%|███▉      | 7/18 [00:00<00:00, 11.18it/s]\u001b[A\n",
      "[dev]:  56%|█████▌    | 10/18 [00:00<00:00, 13.77it/s]\u001b[A\n",
      "[dev]:  72%|███████▏  | 13/18 [00:00<00:00, 16.30it/s]\u001b[A\n",
      "[dev]: 100%|██████████| 18/18 [00:00<00:00, 23.55it/s]\n"
     ]
    },
    {
     "name": "stdout",
     "output_type": "stream",
     "text": [
      "(Steps: 1095) Finished dev data's evaluation (18 steps per epoch).\n",
      "(Epoch: 105) dev/loss = 0.00000.\n",
      "(Epoch: 105) dev/epoch_metric = 0.01659.\n",
      "(Epoch: 105) dev/epoch_auc = 0.89777.\n",
      "(Epoch: 105) dev/epoch_acc = 0.99698.\n",
      "(Epoch: 105) dev/epoch_recall = 0.20390.\n",
      "(Epoch: 105) dev/epoch_precision = 0.94521.\n",
      "(Steps: 1095) Start eval data's evaluation.\n"
     ]
    },
    {
     "name": "stderr",
     "output_type": "stream",
     "text": [
      "[train]:  53%|█████▎    | 1168/2200 [02:51<01:26, 11.97it/s]"
     ]
    },
    {
     "name": "stdout",
     "output_type": "stream",
     "text": [
      "(Steps: 1168) Finished 105 epoch training (73 steps per epoch).\n",
      "(Epoch: 105) train/loss = 0.00000.\n",
      "(Epoch: 105) train/epoch_metric = 0.01570.\n",
      "(Epoch: 105) train/epoch_auc = 0.92072.\n",
      "(Epoch: 105) train/epoch_acc = 0.99706.\n",
      "(Epoch: 105) train/epoch_recall = 0.22652.\n",
      "(Epoch: 105) train/epoch_precision = 0.93071.\n"
     ]
    },
    {
     "name": "stderr",
     "output_type": "stream",
     "text": [
      "[train]:  56%|█████▋    | 1240/2200 [03:01<01:02, 15.27it/s]"
     ]
    },
    {
     "name": "stdout",
     "output_type": "stream",
     "text": [
      "(Steps: 1241) Finished 106 epoch training (73 steps per epoch).\n",
      "(Epoch: 106) train/loss = 0.00000.\n",
      "(Epoch: 106) train/epoch_metric = 0.01568.\n",
      "(Epoch: 106) train/epoch_auc = 0.92122.\n",
      "(Epoch: 106) train/epoch_acc = 0.99705.\n",
      "(Epoch: 106) train/epoch_recall = 0.22511.\n",
      "(Epoch: 106) train/epoch_precision = 0.92717.\n"
     ]
    },
    {
     "name": "stderr",
     "output_type": "stream",
     "text": [
      "[train]:  60%|█████▉    | 1314/2200 [03:11<00:57, 15.47it/s]"
     ]
    },
    {
     "name": "stdout",
     "output_type": "stream",
     "text": [
      "(Steps: 1314) Finished 107 epoch training (73 steps per epoch).\n",
      "(Epoch: 107) train/loss = 0.00000.\n",
      "(Epoch: 107) train/epoch_metric = 0.01565.\n",
      "(Epoch: 107) train/epoch_auc = 0.92141.\n",
      "(Epoch: 107) train/epoch_acc = 0.99706.\n",
      "(Epoch: 107) train/epoch_recall = 0.22637.\n",
      "(Epoch: 107) train/epoch_precision = 0.93323.\n"
     ]
    },
    {
     "name": "stderr",
     "output_type": "stream",
     "text": [
      "[train]:  63%|██████▎   | 1386/2200 [03:22<01:11, 11.38it/s]"
     ]
    },
    {
     "name": "stdout",
     "output_type": "stream",
     "text": [
      "(Steps: 1387) Finished 108 epoch training (73 steps per epoch).\n",
      "(Epoch: 108) train/loss = 0.00000.\n",
      "(Epoch: 108) train/epoch_metric = 0.01565.\n",
      "(Epoch: 108) train/epoch_auc = 0.92136.\n",
      "(Epoch: 108) train/epoch_acc = 0.99706.\n",
      "(Epoch: 108) train/epoch_recall = 0.22652.\n",
      "(Epoch: 108) train/epoch_precision = 0.93556.\n"
     ]
    },
    {
     "name": "stderr",
     "output_type": "stream",
     "text": [
      "[train]:  66%|██████▋   | 1460/2200 [03:34<00:47, 15.51it/s]"
     ]
    },
    {
     "name": "stdout",
     "output_type": "stream",
     "text": [
      "(Steps: 1460) Finished 109 epoch training (73 steps per epoch).\n",
      "(Epoch: 109) train/loss = 0.00000.\n",
      "(Epoch: 109) train/epoch_metric = 0.01563.\n",
      "(Epoch: 109) train/epoch_auc = 0.92276.\n",
      "(Epoch: 109) train/epoch_acc = 0.99707.\n",
      "(Epoch: 109) train/epoch_recall = 0.22682.\n",
      "(Epoch: 109) train/epoch_precision = 0.93622.\n"
     ]
    },
    {
     "name": "stderr",
     "output_type": "stream",
     "text": [
      "[train]:  70%|██████▉   | 1532/2200 [03:44<00:43, 15.27it/s]"
     ]
    },
    {
     "name": "stdout",
     "output_type": "stream",
     "text": [
      "(Steps: 1533) Finished 110 epoch training (73 steps per epoch).\n",
      "(Epoch: 110) train/loss = 0.00000.\n",
      "(Epoch: 110) train/epoch_metric = 0.01560.\n",
      "(Epoch: 110) train/epoch_auc = 0.92293.\n",
      "(Epoch: 110) train/epoch_acc = 0.99705.\n",
      "(Epoch: 110) train/epoch_recall = 0.22600.\n",
      "(Epoch: 110) train/epoch_precision = 0.92800.\n"
     ]
    },
    {
     "name": "stderr",
     "output_type": "stream",
     "text": [
      "[train]:  73%|███████▎  | 1605/2200 [03:55<00:42, 13.84it/s]"
     ]
    },
    {
     "name": "stdout",
     "output_type": "stream",
     "text": [
      "(Steps: 1606) Finished 111 epoch training (73 steps per epoch).\n",
      "(Epoch: 111) train/loss = 0.00000.\n",
      "(Epoch: 111) train/epoch_metric = 0.01559.\n",
      "(Epoch: 111) train/epoch_auc = 0.92293.\n",
      "(Epoch: 111) train/epoch_acc = 0.99706.\n",
      "(Epoch: 111) train/epoch_recall = 0.22533.\n",
      "(Epoch: 111) train/epoch_precision = 0.93553.\n"
     ]
    },
    {
     "name": "stderr",
     "output_type": "stream",
     "text": [
      "[train]:  76%|███████▋  | 1679/2200 [04:06<00:33, 15.63it/s]"
     ]
    },
    {
     "name": "stdout",
     "output_type": "stream",
     "text": [
      "(Steps: 1679) Finished 112 epoch training (73 steps per epoch).\n",
      "(Epoch: 112) train/loss = 0.00000.\n",
      "(Epoch: 112) train/epoch_metric = 0.01562.\n",
      "(Epoch: 112) train/epoch_auc = 0.92346.\n",
      "(Epoch: 112) train/epoch_acc = 0.99705.\n",
      "(Epoch: 112) train/epoch_recall = 0.22407.\n",
      "(Epoch: 112) train/epoch_precision = 0.92972.\n"
     ]
    },
    {
     "name": "stderr",
     "output_type": "stream",
     "text": [
      "[train]:  80%|███████▉  | 1751/2200 [04:16<00:29, 15.46it/s]"
     ]
    },
    {
     "name": "stdout",
     "output_type": "stream",
     "text": [
      "(Steps: 1752) Finished 113 epoch training (73 steps per epoch).\n",
      "(Epoch: 113) train/loss = 0.00000.\n",
      "(Epoch: 113) train/epoch_metric = 0.01559.\n",
      "(Epoch: 113) train/epoch_auc = 0.92386.\n",
      "(Epoch: 113) train/epoch_acc = 0.99706.\n",
      "(Epoch: 113) train/epoch_recall = 0.22526.\n",
      "(Epoch: 113) train/epoch_precision = 0.93523.\n"
     ]
    },
    {
     "name": "stderr",
     "output_type": "stream",
     "text": [
      "[train]:  83%|████████▎ | 1825/2200 [04:27<00:25, 14.74it/s]"
     ]
    },
    {
     "name": "stdout",
     "output_type": "stream",
     "text": [
      "(Steps: 1825) Finished 114 epoch training (73 steps per epoch).\n",
      "(Epoch: 114) train/loss = 0.00000.\n",
      "(Epoch: 114) train/epoch_metric = 0.01559.\n",
      "(Epoch: 114) train/epoch_auc = 0.92422.\n",
      "(Epoch: 114) train/epoch_acc = 0.99705.\n",
      "(Epoch: 114) train/epoch_recall = 0.22496.\n",
      "(Epoch: 114) train/epoch_precision = 0.92883.\n"
     ]
    },
    {
     "name": "stderr",
     "output_type": "stream",
     "text": [
      "[train]:  86%|████████▌ | 1897/2200 [04:38<00:19, 15.35it/s]"
     ]
    },
    {
     "name": "stdout",
     "output_type": "stream",
     "text": [
      "(Steps: 1898) Finished 115 epoch training (73 steps per epoch).\n",
      "(Epoch: 115) train/loss = 0.00000.\n",
      "(Epoch: 115) train/epoch_metric = 0.01559.\n",
      "(Epoch: 115) train/epoch_auc = 0.92409.\n",
      "(Epoch: 115) train/epoch_acc = 0.99705.\n",
      "(Epoch: 115) train/epoch_recall = 0.22496.\n",
      "(Epoch: 115) train/epoch_precision = 0.92969.\n"
     ]
    },
    {
     "name": "stderr",
     "output_type": "stream",
     "text": [
      "[train]:  90%|████████▉ | 1971/2200 [04:49<00:14, 15.57it/s]"
     ]
    },
    {
     "name": "stdout",
     "output_type": "stream",
     "text": [
      "(Steps: 1971) Finished 116 epoch training (73 steps per epoch).\n",
      "(Epoch: 116) train/loss = 0.00000.\n",
      "(Epoch: 116) train/epoch_metric = 0.01553.\n",
      "(Epoch: 116) train/epoch_auc = 0.92407.\n",
      "(Epoch: 116) train/epoch_acc = 0.99705.\n",
      "(Epoch: 116) train/epoch_recall = 0.22519.\n",
      "(Epoch: 116) train/epoch_precision = 0.92663.\n"
     ]
    },
    {
     "name": "stderr",
     "output_type": "stream",
     "text": [
      "[train]:  93%|█████████▎| 2043/2200 [04:59<00:10, 15.13it/s]"
     ]
    },
    {
     "name": "stdout",
     "output_type": "stream",
     "text": [
      "(Steps: 2044) Finished 117 epoch training (73 steps per epoch).\n",
      "(Epoch: 117) train/loss = 0.00000.\n",
      "(Epoch: 117) train/epoch_metric = 0.01554.\n",
      "(Epoch: 117) train/epoch_auc = 0.92413.\n",
      "(Epoch: 117) train/epoch_acc = 0.99705.\n",
      "(Epoch: 117) train/epoch_recall = 0.22363.\n",
      "(Epoch: 117) train/epoch_precision = 0.93391.\n"
     ]
    },
    {
     "name": "stderr",
     "output_type": "stream",
     "text": [
      "[train]:  96%|█████████▌| 2117/2200 [05:10<00:05, 14.96it/s]"
     ]
    },
    {
     "name": "stdout",
     "output_type": "stream",
     "text": [
      "(Steps: 2117) Finished 118 epoch training (73 steps per epoch).\n",
      "(Epoch: 118) train/loss = 0.00000.\n",
      "(Epoch: 118) train/epoch_metric = 0.01552.\n",
      "(Epoch: 118) train/epoch_auc = 0.92537.\n",
      "(Epoch: 118) train/epoch_acc = 0.99705.\n",
      "(Epoch: 118) train/epoch_recall = 0.22496.\n",
      "(Epoch: 118) train/epoch_precision = 0.92969.\n"
     ]
    },
    {
     "name": "stderr",
     "output_type": "stream",
     "text": [
      "[train]: 100%|█████████▉| 2189/2200 [05:21<00:00, 14.52it/s]\n",
      "[dev]:   0%|          | 0/18 [00:00<?, ?it/s]\u001b[A"
     ]
    },
    {
     "name": "stdout",
     "output_type": "stream",
     "text": [
      "(Steps: 2190) Finished 119 epoch training (73 steps per epoch).\n",
      "(Epoch: 119) train/loss = 0.00000.\n",
      "(Epoch: 119) train/epoch_metric = 0.01553.\n",
      "(Epoch: 119) train/epoch_auc = 0.92480.\n",
      "(Epoch: 119) train/epoch_acc = 0.99706.\n",
      "(Epoch: 119) train/epoch_recall = 0.22667.\n",
      "(Epoch: 119) train/epoch_precision = 0.93474.\n",
      "(Steps: 2190) Start dev data's evaluation.\n"
     ]
    },
    {
     "name": "stderr",
     "output_type": "stream",
     "text": [
      "\n",
      "[dev]:   6%|▌         | 1/18 [00:00<00:03,  4.55it/s]\u001b[A\n",
      "[dev]:  17%|█▋        | 3/18 [00:00<00:02,  5.86it/s]\u001b[A\n",
      "[dev]:  28%|██▊       | 5/18 [00:00<00:01,  7.36it/s]\u001b[A\n",
      "[dev]:  39%|███▉      | 7/18 [00:00<00:01,  9.08it/s]\u001b[A\n",
      "[dev]:  50%|█████     | 9/18 [00:00<00:00, 10.74it/s]\u001b[A\n",
      "[dev]:  61%|██████    | 11/18 [00:00<00:00, 12.44it/s]\u001b[A\n",
      "[dev]:  72%|███████▏  | 13/18 [00:00<00:00, 13.97it/s]\u001b[A\n",
      "[dev]: 100%|██████████| 18/18 [00:01<00:00, 16.09it/s]\n"
     ]
    },
    {
     "name": "stdout",
     "output_type": "stream",
     "text": [
      "(Steps: 2190) Finished dev data's evaluation (18 steps per epoch).\n",
      "(Epoch: 120) dev/loss = 0.00000.\n",
      "(Epoch: 120) dev/epoch_metric = 0.01669.\n",
      "(Epoch: 120) dev/epoch_auc = 0.89310.\n",
      "(Epoch: 120) dev/epoch_acc = 0.99698.\n",
      "(Epoch: 120) dev/epoch_recall = 0.20686.\n",
      "(Epoch: 120) dev/epoch_precision = 0.94213.\n",
      "(Steps: 2190) Start eval data's evaluation.\n"
     ]
    },
    {
     "name": "stderr",
     "output_type": "stream",
     "text": [
      "[train]: 100%|█████████▉| 2199/2200 [05:30<00:00,  2.78it/s]\n",
      "[dev]:   0%|          | 0/18 [00:00<?, ?it/s]\u001b[A"
     ]
    },
    {
     "name": "stdout",
     "output_type": "stream",
     "text": [
      "(Steps: 2200) Start dev data's evaluation.\n"
     ]
    },
    {
     "name": "stderr",
     "output_type": "stream",
     "text": [
      "\n",
      "[dev]:   6%|▌         | 1/18 [00:00<00:03,  4.76it/s]\u001b[A\n",
      "[dev]:  22%|██▏       | 4/18 [00:00<00:02,  6.21it/s]\u001b[A\n",
      "[dev]:  39%|███▉      | 7/18 [00:00<00:01,  7.92it/s]\u001b[A\n",
      "[dev]:  56%|█████▌    | 10/18 [00:00<00:00,  9.96it/s]\u001b[A\n",
      "[dev]:  72%|███████▏  | 13/18 [00:00<00:00, 11.98it/s]\u001b[A\n",
      "[dev]: 100%|██████████| 18/18 [00:00<00:00, 18.92it/s]\n",
      "[train]: 100%|██████████| 2200/2200 [05:32<00:00,  6.61it/s]\n",
      "[INFO] 2020-11-30 13:41:59,704 >>\tSuccessfully load checkpoint from exp/node/v009-2/best/best_loss4fold.pkl.\n",
      "  0%|          | 0/18 [00:00<?, ?it/s]"
     ]
    },
    {
     "name": "stdout",
     "output_type": "stream",
     "text": [
      "(Steps: 2200) Finished dev data's evaluation (18 steps per epoch).\n",
      "(Epoch: 120) dev/loss = 0.00000.\n",
      "(Epoch: 120) dev/epoch_metric = 0.01666.\n",
      "(Epoch: 120) dev/epoch_auc = 0.89256.\n",
      "(Epoch: 120) dev/epoch_acc = 0.99698.\n",
      "(Epoch: 120) dev/epoch_recall = 0.20479.\n",
      "(Epoch: 120) dev/epoch_precision = 0.94802.\n",
      "(Steps: 2200) Start eval data's evaluation.\n",
      "Finished training.\n"
     ]
    },
    {
     "name": "stderr",
     "output_type": "stream",
     "text": [
      "100%|██████████| 18/18 [00:00<00:00, 27.16it/s]\n",
      "[INFO] 2020-11-30 13:42:00,378 >>\tSuccessfully inference dev data at fold4.\n",
      "[INFO] 2020-11-30 13:42:00,667 >>\tfold4 score: 0.016587, Step:1095, Epoch:105.\n",
      "[INFO] 2020-11-30 13:42:01,485 >>\tCV score: 0.016805\n",
      "[INFO] 2020-11-30 13:42:17,344 >>\tsaved at exp/node/v009-2/node_fine_oof.csv\n",
      "[INFO] 2020-11-30 13:42:17,359 >>\tStart to train fold 0.\n",
      "[INFO] 2020-11-30 13:42:17,487 >>\tSuccessfully load checkpoint from exp/node/v009-2/best/best_loss0fold.pkl.\n",
      "100%|██████████| 16/16 [00:00<00:00, 20.90it/s]\n",
      "[INFO] 2020-11-30 13:42:18,261 >>\tSuccessfully inference eval data at fold0.\n",
      "Step:2070, Epoch:30\n",
      "[INFO] 2020-11-30 13:42:18,263 >>\tStart to train fold 1.\n",
      "[INFO] 2020-11-30 13:42:18,395 >>\tSuccessfully load checkpoint from exp/node/v009-2/best/best_loss1fold.pkl.\n",
      "100%|██████████| 16/16 [00:00<00:00, 20.27it/s]\n",
      "[INFO] 2020-11-30 13:42:19,194 >>\tSuccessfully inference eval data at fold1.\n",
      "Step:2100, Epoch:60\n",
      "[INFO] 2020-11-30 13:42:19,195 >>\tStart to train fold 2.\n",
      "[INFO] 2020-11-30 13:42:19,326 >>\tSuccessfully load checkpoint from exp/node/v009-2/best/best_loss2fold.pkl.\n",
      "100%|██████████| 16/16 [00:01<00:00, 13.73it/s]\n",
      "[INFO] 2020-11-30 13:42:20,511 >>\tSuccessfully inference eval data at fold2.\n",
      "Step:1065, Epoch:75\n",
      "[INFO] 2020-11-30 13:42:20,516 >>\tStart to train fold 3.\n",
      "[INFO] 2020-11-30 13:42:20,649 >>\tSuccessfully load checkpoint from exp/node/v009-2/best/best_loss3fold.pkl.\n",
      "100%|██████████| 16/16 [00:00<00:00, 20.90it/s]\n",
      "[INFO] 2020-11-30 13:42:21,426 >>\tSuccessfully inference eval data at fold3.\n",
      "Step:1080, Epoch:90\n",
      "[INFO] 2020-11-30 13:42:21,427 >>\tStart to train fold 4.\n",
      "[INFO] 2020-11-30 13:42:21,520 >>\tSuccessfully load checkpoint from exp/node/v009-2/best/best_loss4fold.pkl.\n",
      "100%|██████████| 16/16 [00:00<00:00, 26.71it/s]\n",
      "[INFO] 2020-11-30 13:42:22,134 >>\tSuccessfully inference eval data at fold4.\n",
      "Step:1095, Epoch:105\n",
      "[INFO] 2020-11-30 13:42:24,352 >>\tsaved at submission.csv\n"
     ]
    }
   ],
   "source": [
    "# training\n",
    "if config.get(\"loss_type\", \"BCELoss\") == \"SmoothBCEwLogits\":\n",
    "    loss_class = SmoothBCEwLogits\n",
    "else:\n",
    "    loss_class = getattr(\n",
    "        torch.nn,\n",
    "        # keep compatibility\n",
    "        config.get(\"loss_type\", \"BCELoss\"),\n",
    "    )\n",
    "criterion = loss_class(**config[\"loss_params\"]).to(device)\n",
    "model_class = getattr(\n",
    "    node,\n",
    "    # keep compatibility\n",
    "    config.get(\"model_type\", \"NODE\"),\n",
    ")\n",
    "oof_targets = np.zeros((len(train), config[\"out_dim\"]))\n",
    "# for GPU/CPU\n",
    "kfold = MultilabelStratifiedKFold(\n",
    "    n_splits=config[\"n_fold\"], random_state=config[\"seed\"], shuffle=True\n",
    ")\n",
    "for n, (tr, te) in enumerate(kfold.split(train_targets, train_targets)):\n",
    "    logging.info(f\"Start to train fold {n}.\")\n",
    "    xtrain, xval = train[tr], train[te]\n",
    "    ytrain, yval = train_targets[tr], train_targets[te]\n",
    "    if is_pseudo_label and (n >= 1):\n",
    "        logging.info(f\"The number of pseudo labels is {add_ytrain.shape}\")\n",
    "        xtrain = np.concatenate([xtrain, add_xtrain], axis=0)\n",
    "        ytrain = np.concatenate([ytrain, add_ytrain], axis=0)\n",
    "    train_set = MoaDataset(xtrain, ytrain, top_feats)\n",
    "    val_set = MoaDataset(xval, yval, top_feats)\n",
    "    logging.info(\n",
    "        f\"train_set:{train_set[0]['X'].shape}, val_set:{val_set[0]['X'].shape}\"\n",
    "    )\n",
    "\n",
    "    data_loader = {\n",
    "        \"train\": DataLoader(\n",
    "            train_set,\n",
    "            batch_size=config[\"batch_size\"],\n",
    "            num_workers=config[\"num_workers\"],\n",
    "            pin_memory=config[\"pin_memory\"],\n",
    "            shuffle=True,\n",
    "        ),\n",
    "        \"dev\": DataLoader(\n",
    "            val_set,\n",
    "            batch_size=config[\"batch_size\"],\n",
    "            num_workers=config[\"num_workers\"],\n",
    "            pin_memory=config[\"pin_memory\"],\n",
    "            shuffle=False,\n",
    "        ),\n",
    "        \"eval\": DataLoader(\n",
    "            val_set,\n",
    "            batch_size=config[\"batch_size\"],\n",
    "            num_workers=config[\"num_workers\"],\n",
    "            pin_memory=config[\"pin_memory\"],\n",
    "            shuffle=False,\n",
    "        ),\n",
    "    }\n",
    "    model = model_class(\n",
    "        input_dim=len(top_feats),\n",
    "        out_dim=config[\"out_dim\"],\n",
    "        **config[\"model_params\"],\n",
    "    ).to(device)\n",
    "\n",
    "    if config[\"optimizer_type\"] == \"QHAdam\":\n",
    "        optimizer_class = QHAdam\n",
    "    else:\n",
    "        optimizer_class = getattr(\n",
    "            torch.optim,\n",
    "            # keep compatibility\n",
    "            config.get(\"optimizer_type\", \"Adam\"),\n",
    "        )\n",
    "    optimizer = optimizer_class(\n",
    "        params=model.parameters(), **config[\"optimizer_params\"]\n",
    "    )\n",
    "\n",
    "    scheduler_class = getattr(\n",
    "        torch.optim.lr_scheduler,\n",
    "        # keep compatibility\n",
    "        config.get(\"scheduler_type\", \"StepLR\"),\n",
    "    )\n",
    "    scheduler = scheduler_class(optimizer=optimizer, **config[\"scheduler_params\"])\n",
    "    trainer = TabTrainer(\n",
    "        steps=0,\n",
    "        epochs=0,\n",
    "        data_loader=data_loader,\n",
    "        model=model.to(device),\n",
    "        criterion=criterion,\n",
    "        optimizer=optimizer,\n",
    "        scheduler=scheduler,\n",
    "        config=config,\n",
    "        device=device,\n",
    "        add_name=f\"{n}fold\",\n",
    "        train=True,\n",
    "        is_kernel=True,\n",
    "        verbose=15,\n",
    "    )\n",
    "    # resume from checkpoint\n",
    "    if len(resumes[n]) != 0:\n",
    "        trainer.load_checkpoint(resumes[n])\n",
    "        trainer.steps = 0\n",
    "        logging.info(f\"Successfully resumed from {resumes[n]}.\")\n",
    "\n",
    "    # run training loop\n",
    "    try:\n",
    "        logging.info(\"Start training!\")\n",
    "        trainer.run()\n",
    "    except KeyboardInterrupt:\n",
    "        trainer.save_checkpoint(\n",
    "            os.path.join(config[\"outdir\"], f\"checkpoint-{trainer.steps}steps.pkl\")\n",
    "        )\n",
    "        logging.info(f\"Successfully saved checkpoint @ {trainer.steps}steps.\")\n",
    "    trainer.load_checkpoint(checkpoints[n])\n",
    "    logging.info(f\"Successfully load checkpoint from {checkpoints[n]}.\")\n",
    "    oof_targets[te] = trainer.inference()\n",
    "    logging.info(f\"Successfully inference dev data at fold{n}.\")\n",
    "    fold_score = mean_log_loss(yval, oof_targets[te])\n",
    "    logging.info(\n",
    "        f\"fold{n} score: {fold_score:.6f}, Step:{trainer.steps}, Epoch:{trainer.epochs}.\"\n",
    "    )\n",
    "    if is_pseudo_label:\n",
    "        add_train_idx = (oof_targets > pseudo_label_threshold).any(axis=1)\n",
    "        add_ytrain = oof_targets[add_train_idx]\n",
    "        add_xtrain = train[add_train_idx]\n",
    "        \n",
    "# calculate oof score\n",
    "cv_score = mean_log_loss(train_targets, oof_targets)\n",
    "logging.info(f\"CV score: {cv_score:.6f}\")\n",
    "oof = pd.read_csv(\"../input/lish-moa/train_targets_scored.csv\")\n",
    "oof.loc[drop_idx, targets] = oof_targets\n",
    "oof_path = os.path.join(config[\"outdir\"], \"node_fine_oof.csv\")\n",
    "oof.to_csv(oof_path, index=False)\n",
    "# save oof\n",
    "logging.info(f\"saved at {oof_path}\")\n",
    "oof_list.append(oof)\n",
    "\n",
    "# inference\n",
    "eval_set = MoaDataset(test, None, top_feats, mode=\"test\")\n",
    "eval_loader = {\n",
    "    \"eval\": DataLoader(\n",
    "        eval_set,\n",
    "        batch_size=config[\"batch_size\"],\n",
    "        num_workers=config[\"num_workers\"],\n",
    "        pin_memory=config[\"pin_memory\"],\n",
    "        shuffle=False,\n",
    "    ),\n",
    "}\n",
    "preds = np.zeros((len(checkpoints), len(test), ntargets))\n",
    "for n, checkpoint in enumerate(checkpoints):\n",
    "    logging.info(f\"Start to train fold {n}.\")\n",
    "    model = model_class(\n",
    "        input_dim=len(top_feats),\n",
    "        out_dim=config[\"out_dim\"],\n",
    "        **config[\"model_params\"],\n",
    "    ).to(device)\n",
    "    # eval data\n",
    "    trainer = TabTrainer(\n",
    "        steps=0,\n",
    "        epochs=0,\n",
    "        data_loader=eval_loader,\n",
    "        model=model.to(device),\n",
    "        criterion={},\n",
    "        optimizer={},\n",
    "        scheduler={},\n",
    "        config=config,\n",
    "        device=device,\n",
    "        add_name=f\"{n}fold\",\n",
    "    )\n",
    "    trainer.load_checkpoint(checkpoint)\n",
    "    logging.info(f\"Successfully load checkpoint from {checkpoint}.\")\n",
    "    # run training loop\n",
    "    preds[n] = trainer.inference()\n",
    "    logging.info(f\"Successfully inference eval data at fold{n}.\\nStep:{trainer.steps}, Epoch:{trainer.epochs}\")\n",
    "\n",
    "# calculate eval data's submission file\n",
    "preds_mean = preds.mean(axis=0)\n",
    "ss = pd.read_csv(\"../input/lish-moa/sample_submission.csv\")\n",
    "ss[targets] = preds_mean\n",
    "ss.loc[test_features[\"cp_type\"] == \"ctl_vehicle\", targets] = 0\n",
    "sub_path = os.path.join(\"submission.csv\")\n",
    "ss.to_csv(sub_path, index=False)\n",
    "logging.info(f\"saved at {sub_path}\")\n",
    "preds_list.append(ss)"
   ]
  },
  {
   "cell_type": "markdown",
   "metadata": {
    "papermill": {
     "duration": 2.397672,
     "end_time": "2020-11-30T13:42:28.963001",
     "exception": false,
     "start_time": "2020-11-30T13:42:26.565329",
     "status": "completed"
    },
    "tags": []
   },
   "source": [
    "## MLP fine-tune model"
   ]
  },
  {
   "cell_type": "code",
   "execution_count": 6,
   "metadata": {
    "execution": {
     "iopub.execute_input": "2020-11-30T13:42:33.437973Z",
     "iopub.status.busy": "2020-11-30T13:42:33.437231Z",
     "iopub.status.idle": "2020-11-30T13:42:33.513520Z",
     "shell.execute_reply": "2020-11-30T13:42:33.512757Z"
    },
    "papermill": {
     "duration": 2.230834,
     "end_time": "2020-11-30T13:42:33.513633",
     "exception": false,
     "start_time": "2020-11-30T13:42:31.282799",
     "status": "completed"
    },
    "tags": []
   },
   "outputs": [
    {
     "name": "stderr",
     "output_type": "stream",
     "text": [
      "[INFO] 2020-11-30 13:42:33,435 >>\tstart process.\n",
      "[INFO] 2020-11-30 13:42:33,454 >>\tseed: 1\n",
      "[INFO] 2020-11-30 13:42:33,455 >>\tis_concat: True\n",
      "[INFO] 2020-11-30 13:42:33,456 >>\tnorm_type: RankGauss\n",
      "[INFO] 2020-11-30 13:42:33,459 >>\tQuantileTransformer: {'n_quantiles': 100, 'random_state': 1, 'output_distribution': 'normal'}\n",
      "[INFO] 2020-11-30 13:42:33,460 >>\tpca_threshold: 0.9\n",
      "[INFO] 2020-11-30 13:42:33,462 >>\tVarianceThreshold: 0\n",
      "[INFO] 2020-11-30 13:42:33,464 >>\tn_cluster_g: 20\n",
      "[INFO] 2020-11-30 13:42:33,466 >>\tn_cluster_c: 10\n",
      "[INFO] 2020-11-30 13:42:33,467 >>\tBayesianGaussianMixture_g: {'n_components': 40, 'covariance_type': 'diag', 'max_iter': 2000, 'random_state': 1, 'n_init': 5, 'weight_concentration_prior_type': 'dirichlet_process', 'verbose': -1}\n",
      "[INFO] 2020-11-30 13:42:33,470 >>\tBayesianGaussianMixture_c: {'n_components': 20, 'covariance_type': 'diag', 'max_iter': 2000, 'random_state': 1, 'n_init': 5, 'weight_concentration_prior_type': 'dirichlet_process', 'verbose': -1}\n",
      "[INFO] 2020-11-30 13:42:33,471 >>\tmodel_type: TAB\n",
      "[INFO] 2020-11-30 13:42:33,472 >>\tmodel_params: {'layer_dim': 512}\n",
      "[INFO] 2020-11-30 13:42:33,473 >>\tout_dim: 206\n",
      "[INFO] 2020-11-30 13:42:33,475 >>\tn_fold: 7\n",
      "[INFO] 2020-11-30 13:42:33,477 >>\tbatch_size: 128\n",
      "[INFO] 2020-11-30 13:42:33,479 >>\tnum_workers: 2\n",
      "[INFO] 2020-11-30 13:42:33,480 >>\tpin_memory: True\n",
      "[INFO] 2020-11-30 13:42:33,482 >>\taccum_grads: 1\n",
      "[INFO] 2020-11-30 13:42:33,488 >>\tloss_type: SmoothBCEwLogits\n",
      "[INFO] 2020-11-30 13:42:33,488 >>\tloss_params: {'reduction': 'sum', 'smoothing': 0.0008}\n",
      "[INFO] 2020-11-30 13:42:33,491 >>\toptimizer_type: QHAdam\n",
      "[INFO] 2020-11-30 13:42:33,492 >>\toptimizer_params: {'lr': 0.001, 'nus': [0.7, 1.0], 'betas': [0.995, 0.999], 'weight_decay': 1e-05}\n",
      "[INFO] 2020-11-30 13:42:33,494 >>\tscheduler_type: ReduceLROnPlateau\n",
      "[INFO] 2020-11-30 13:42:33,495 >>\tscheduler_params: {'mode': 'min', 'factor': 0.2, 'patience': 10, 'verbose': False}\n",
      "[INFO] 2020-11-30 13:42:33,497 >>\ttrain_max_steps: 2500\n",
      "[INFO] 2020-11-30 13:42:33,499 >>\tsave_interval_steps: 1000\n",
      "[INFO] 2020-11-30 13:42:33,501 >>\toutdir: exp/node/v010\n",
      "[INFO] 2020-11-30 13:42:33,502 >>\tresumes: ['', 'exp/node/v010/best/best_loss0fold.pkl', 'exp/node/v010/best/best_loss1fold.pkl', 'exp/node/v010/best/best_loss2fold.pkl', 'exp/node/v010/best/best_loss3fold.pkl', 'exp/node/v010/best/best_loss4fold.pkl', 'exp/node/v010/best/best_loss5fold.pkl']\n",
      "[INFO] 2020-11-30 13:42:33,504 >>\tcheckpoints: ['exp/node/v010/best/best_loss0fold.pkl', 'exp/node/v010/best/best_loss1fold.pkl', 'exp/node/v010/best/best_loss2fold.pkl', 'exp/node/v010/best/best_loss3fold.pkl', 'exp/node/v010/best/best_loss4fold.pkl', 'exp/node/v010/best/best_loss5fold.pkl', 'exp/node/v010/best/best_loss6fold.pkl']\n"
     ]
    }
   ],
   "source": [
    "No = \"010\"\n",
    "logging.info(\"start process.\")\n",
    "conf_path = f\"../input/node-base/conf/tuning/node.v{No}.yaml\"\n",
    "with open(conf_path) as f:\n",
    "    config = yaml.load(f, Loader=yaml.Loader)\n",
    "config[\"train_max_steps\"] = 2500\n",
    "config[\"outdir\"] = f\"exp/node/v{No}\"\n",
    "\n",
    "for k, v in config.items():\n",
    "    logging.info(f'{k}: {v}')\n",
    "device = torch.device(\"cuda:0\" if torch.cuda.is_available() else \"cpu\")\n",
    "seed_everything(config[\"seed\"])\n",
    "\n",
    "resumes = [\"\"]\n",
    "resumes += [f\"{config['outdir']}/best/best_loss{fold}fold.pkl\" for fold in range(config[\"n_fold\"] - 1)]\n",
    "logging.info(f\"resumes: {resumes}\")\n",
    "checkpoints = [f\"{config['outdir']}/best/best_loss{fold}fold.pkl\" for fold in range(config[\"n_fold\"])]\n",
    "logging.info(f\"checkpoints: {checkpoints}\")\n",
    "# optional\n",
    "is_pseudo_label = True\n",
    "pseudo_label_threshold = 0.95"
   ]
  },
  {
   "cell_type": "code",
   "execution_count": 7,
   "metadata": {
    "execution": {
     "iopub.execute_input": "2020-11-30T13:42:37.792430Z",
     "iopub.status.busy": "2020-11-30T13:42:37.782516Z",
     "iopub.status.idle": "2020-11-30T14:02:23.947704Z",
     "shell.execute_reply": "2020-11-30T14:02:23.948241Z"
    },
    "papermill": {
     "duration": 1188.329527,
     "end_time": "2020-11-30T14:02:23.948400",
     "exception": false,
     "start_time": "2020-11-30T13:42:35.618873",
     "status": "completed"
    },
    "tags": []
   },
   "outputs": [
    {
     "name": "stderr",
     "output_type": "stream",
     "text": [
      "[INFO] 2020-11-30 13:42:39,277 >>\tStart to train fold 0.\n",
      "[INFO] 2020-11-30 13:42:39,855 >>\ttrain_set:torch.Size([1452]), val_set:torch.Size([1452])\n",
      "[INFO] 2020-11-30 13:42:39,876 >>\tStart training!\n",
      "[train]:   6%|▌         | 147/2500 [00:03<01:09, 33.80it/s]"
     ]
    },
    {
     "name": "stdout",
     "output_type": "stream",
     "text": [
      "(Steps: 147) Finished 0 epoch training (147 steps per epoch).\n",
      "(Epoch: 0) train/loss = 0.00002.\n",
      "(Epoch: 0) train/epoch_metric = 0.44375.\n",
      "(Epoch: 0) train/epoch_auc = 0.55793.\n",
      "(Epoch: 0) train/epoch_acc = 0.84188.\n",
      "(Epoch: 0) train/epoch_recall = 0.24125.\n",
      "(Epoch: 0) train/epoch_precision = 0.00575.\n"
     ]
    },
    {
     "name": "stderr",
     "output_type": "stream",
     "text": [
      "[train]:  12%|█▏        | 294/2500 [00:14<01:13, 29.90it/s]"
     ]
    },
    {
     "name": "stdout",
     "output_type": "stream",
     "text": [
      "(Steps: 294) Finished 1 epoch training (147 steps per epoch).\n",
      "(Epoch: 1) train/loss = 0.00000.\n",
      "(Epoch: 1) train/epoch_metric = 0.06291.\n",
      "(Epoch: 1) train/epoch_auc = 0.57914.\n",
      "(Epoch: 1) train/epoch_acc = 0.99593.\n",
      "(Epoch: 1) train/epoch_recall = 0.06617.\n",
      "(Epoch: 1) train/epoch_precision = 0.29367.\n"
     ]
    },
    {
     "name": "stderr",
     "output_type": "stream",
     "text": [
      "[train]:  18%|█▊        | 438/2500 [00:23<00:54, 37.78it/s]"
     ]
    },
    {
     "name": "stdout",
     "output_type": "stream",
     "text": [
      "(Steps: 441) Finished 2 epoch training (147 steps per epoch).\n",
      "(Epoch: 2) train/loss = 0.00000.\n",
      "(Epoch: 2) train/epoch_metric = 0.02474.\n",
      "(Epoch: 2) train/epoch_auc = 0.66428.\n",
      "(Epoch: 2) train/epoch_acc = 0.99642.\n",
      "(Epoch: 2) train/epoch_recall = 0.06360.\n",
      "(Epoch: 2) train/epoch_precision = 0.72742.\n"
     ]
    },
    {
     "name": "stderr",
     "output_type": "stream",
     "text": [
      "[train]:  23%|██▎       | 587/2500 [00:33<01:03, 30.01it/s]"
     ]
    },
    {
     "name": "stdout",
     "output_type": "stream",
     "text": [
      "(Steps: 588) Finished 3 epoch training (147 steps per epoch).\n",
      "(Epoch: 3) train/loss = 0.00000.\n",
      "(Epoch: 3) train/epoch_metric = 0.02146.\n",
      "(Epoch: 3) train/epoch_auc = 0.75052.\n",
      "(Epoch: 3) train/epoch_acc = 0.99646.\n",
      "(Epoch: 3) train/epoch_recall = 0.07039.\n",
      "(Epoch: 3) train/epoch_precision = 0.77795.\n"
     ]
    },
    {
     "name": "stderr",
     "output_type": "stream",
     "text": [
      "[train]:  29%|██▉       | 735/2500 [00:43<00:44, 39.44it/s]"
     ]
    },
    {
     "name": "stdout",
     "output_type": "stream",
     "text": [
      "(Steps: 735) Finished 4 epoch training (147 steps per epoch).\n",
      "(Epoch: 4) train/loss = 0.00000.\n",
      "(Epoch: 4) train/epoch_metric = 0.02072.\n",
      "(Epoch: 4) train/epoch_auc = 0.79188.\n",
      "(Epoch: 4) train/epoch_acc = 0.99650.\n",
      "(Epoch: 4) train/epoch_recall = 0.08113.\n",
      "(Epoch: 4) train/epoch_precision = 0.80260.\n"
     ]
    },
    {
     "name": "stderr",
     "output_type": "stream",
     "text": [
      "[train]:  35%|███▌      | 881/2500 [00:52<00:41, 38.62it/s]"
     ]
    },
    {
     "name": "stdout",
     "output_type": "stream",
     "text": [
      "(Steps: 882) Finished 5 epoch training (147 steps per epoch).\n",
      "(Epoch: 5) train/loss = 0.00000.\n",
      "(Epoch: 5) train/epoch_metric = 0.02022.\n",
      "(Epoch: 5) train/epoch_auc = 0.81239.\n",
      "(Epoch: 5) train/epoch_acc = 0.99654.\n",
      "(Epoch: 5) train/epoch_recall = 0.08806.\n",
      "(Epoch: 5) train/epoch_precision = 0.82909.\n"
     ]
    },
    {
     "name": "stderr",
     "output_type": "stream",
     "text": [
      "[train]:  41%|████      | 1025/2500 [01:01<00:39, 37.63it/s]"
     ]
    },
    {
     "name": "stdout",
     "output_type": "stream",
     "text": [
      "(Steps: 1029) Finished 6 epoch training (147 steps per epoch).\n",
      "(Epoch: 6) train/loss = 0.00000.\n",
      "(Epoch: 6) train/epoch_metric = 0.01970.\n",
      "(Epoch: 6) train/epoch_auc = 0.82759.\n",
      "(Epoch: 6) train/epoch_acc = 0.99659.\n",
      "(Epoch: 6) train/epoch_recall = 0.09762.\n",
      "(Epoch: 6) train/epoch_precision = 0.87570.\n"
     ]
    },
    {
     "name": "stderr",
     "output_type": "stream",
     "text": [
      "[train]:  47%|████▋     | 1174/2500 [01:13<00:49, 26.74it/s]"
     ]
    },
    {
     "name": "stdout",
     "output_type": "stream",
     "text": [
      "(Steps: 1176) Finished 7 epoch training (147 steps per epoch).\n",
      "(Epoch: 7) train/loss = 0.00000.\n",
      "(Epoch: 7) train/epoch_metric = 0.01920.\n",
      "(Epoch: 7) train/epoch_auc = 0.83809.\n",
      "(Epoch: 7) train/epoch_acc = 0.99666.\n",
      "(Epoch: 7) train/epoch_recall = 0.11598.\n",
      "(Epoch: 7) train/epoch_precision = 0.89137.\n"
     ]
    },
    {
     "name": "stderr",
     "output_type": "stream",
     "text": [
      "[train]:  53%|█████▎    | 1320/2500 [01:22<00:29, 39.38it/s]"
     ]
    },
    {
     "name": "stdout",
     "output_type": "stream",
     "text": [
      "(Steps: 1323) Finished 8 epoch training (147 steps per epoch).\n",
      "(Epoch: 8) train/loss = 0.00000.\n",
      "(Epoch: 8) train/epoch_metric = 0.01877.\n",
      "(Epoch: 8) train/epoch_auc = 0.84766.\n",
      "(Epoch: 8) train/epoch_acc = 0.99673.\n",
      "(Epoch: 8) train/epoch_recall = 0.13677.\n",
      "(Epoch: 8) train/epoch_precision = 0.90426.\n"
     ]
    },
    {
     "name": "stderr",
     "output_type": "stream",
     "text": [
      "[train]:  59%|█████▉    | 1469/2500 [01:31<00:26, 38.69it/s]"
     ]
    },
    {
     "name": "stdout",
     "output_type": "stream",
     "text": [
      "(Steps: 1470) Finished 9 epoch training (147 steps per epoch).\n",
      "(Epoch: 9) train/loss = 0.00000.\n",
      "(Epoch: 9) train/epoch_metric = 0.01836.\n",
      "(Epoch: 9) train/epoch_auc = 0.85934.\n",
      "(Epoch: 9) train/epoch_acc = 0.99679.\n",
      "(Epoch: 9) train/epoch_recall = 0.15284.\n",
      "(Epoch: 9) train/epoch_precision = 0.91044.\n"
     ]
    },
    {
     "name": "stderr",
     "output_type": "stream",
     "text": [
      "[train]:  65%|██████▍   | 1614/2500 [01:41<00:28, 30.71it/s]"
     ]
    },
    {
     "name": "stdout",
     "output_type": "stream",
     "text": [
      "(Steps: 1617) Finished 10 epoch training (147 steps per epoch).\n",
      "(Epoch: 10) train/loss = 0.00000.\n",
      "(Epoch: 10) train/epoch_metric = 0.01799.\n",
      "(Epoch: 10) train/epoch_auc = 0.86807.\n",
      "(Epoch: 10) train/epoch_acc = 0.99686.\n",
      "(Epoch: 10) train/epoch_recall = 0.17107.\n",
      "(Epoch: 10) train/epoch_precision = 0.91955.\n"
     ]
    },
    {
     "name": "stderr",
     "output_type": "stream",
     "text": [
      "[train]:  71%|███████   | 1763/2500 [01:51<00:23, 30.95it/s]"
     ]
    },
    {
     "name": "stdout",
     "output_type": "stream",
     "text": [
      "(Steps: 1764) Finished 11 epoch training (147 steps per epoch).\n",
      "(Epoch: 11) train/loss = 0.00000.\n",
      "(Epoch: 11) train/epoch_metric = 0.01763.\n",
      "(Epoch: 11) train/epoch_auc = 0.87594.\n",
      "(Epoch: 11) train/epoch_acc = 0.99690.\n",
      "(Epoch: 11) train/epoch_recall = 0.18187.\n",
      "(Epoch: 11) train/epoch_precision = 0.92691.\n"
     ]
    },
    {
     "name": "stderr",
     "output_type": "stream",
     "text": [
      "[train]:  76%|███████▋  | 1907/2500 [02:01<00:15, 38.10it/s]"
     ]
    },
    {
     "name": "stdout",
     "output_type": "stream",
     "text": [
      "(Steps: 1911) Finished 12 epoch training (147 steps per epoch).\n",
      "(Epoch: 12) train/loss = 0.00000.\n",
      "(Epoch: 12) train/epoch_metric = 0.01730.\n",
      "(Epoch: 12) train/epoch_auc = 0.88421.\n",
      "(Epoch: 12) train/epoch_acc = 0.99694.\n",
      "(Epoch: 12) train/epoch_recall = 0.19636.\n",
      "(Epoch: 12) train/epoch_precision = 0.92163.\n"
     ]
    },
    {
     "name": "stderr",
     "output_type": "stream",
     "text": [
      "[train]:  82%|████████▏ | 2055/2500 [02:11<00:11, 38.26it/s]"
     ]
    },
    {
     "name": "stdout",
     "output_type": "stream",
     "text": [
      "(Steps: 2058) Finished 13 epoch training (147 steps per epoch).\n",
      "(Epoch: 13) train/loss = 0.00000.\n",
      "(Epoch: 13) train/epoch_metric = 0.01692.\n",
      "(Epoch: 13) train/epoch_auc = 0.89393.\n",
      "(Epoch: 13) train/epoch_acc = 0.99698.\n",
      "(Epoch: 13) train/epoch_recall = 0.20599.\n",
      "(Epoch: 13) train/epoch_precision = 0.92502.\n"
     ]
    },
    {
     "name": "stderr",
     "output_type": "stream",
     "text": [
      "[train]:  88%|████████▊ | 2203/2500 [02:20<00:07, 38.61it/s]\n",
      "[dev]:   0%|          | 0/25 [00:00<?, ?it/s]\u001b[A"
     ]
    },
    {
     "name": "stdout",
     "output_type": "stream",
     "text": [
      "(Steps: 2205) Finished 14 epoch training (147 steps per epoch).\n",
      "(Epoch: 14) train/loss = 0.00000.\n",
      "(Epoch: 14) train/epoch_metric = 0.01656.\n",
      "(Epoch: 14) train/epoch_auc = 0.90143.\n",
      "(Epoch: 14) train/epoch_acc = 0.99703.\n",
      "(Epoch: 14) train/epoch_recall = 0.21673.\n",
      "(Epoch: 14) train/epoch_precision = 0.93737.\n",
      "(Steps: 2205) Start dev data's evaluation.\n"
     ]
    },
    {
     "name": "stderr",
     "output_type": "stream",
     "text": [
      "\n",
      "[dev]:   4%|▍         | 1/25 [00:00<00:05,  4.49it/s]\u001b[A\n",
      "[dev]:  24%|██▍       | 6/25 [00:00<00:03,  6.16it/s]\u001b[A\n",
      "[dev]:  44%|████▍     | 11/25 [00:00<00:01,  8.29it/s]\u001b[A\n",
      "[dev]:  64%|██████▍   | 16/25 [00:00<00:00, 10.95it/s]\u001b[A\n",
      "[dev]: 100%|██████████| 25/25 [00:00<00:00, 29.61it/s]\n"
     ]
    },
    {
     "name": "stdout",
     "output_type": "stream",
     "text": [
      "(Steps: 2205) Finished dev data's evaluation (25 steps per epoch).\n",
      "(Epoch: 15) dev/loss = 0.00000.\n",
      "(Epoch: 15) dev/epoch_metric = 0.01709.\n",
      "(Epoch: 15) dev/epoch_auc = 0.88585.\n",
      "(Epoch: 15) dev/epoch_acc = 0.99698.\n",
      "(Epoch: 15) dev/epoch_recall = 0.20863.\n",
      "(Epoch: 15) dev/epoch_precision = 0.92125.\n",
      "(Steps: 2205) Start eval data's evaluation.\n"
     ]
    },
    {
     "name": "stderr",
     "output_type": "stream",
     "text": [
      "[train]:  94%|█████████▍| 2351/2500 [02:32<00:03, 39.05it/s]"
     ]
    },
    {
     "name": "stdout",
     "output_type": "stream",
     "text": [
      "(Steps: 2352) Finished 15 epoch training (147 steps per epoch).\n",
      "(Epoch: 15) train/loss = 0.00000.\n",
      "(Epoch: 15) train/epoch_metric = 0.01616.\n",
      "(Epoch: 15) train/epoch_auc = 0.91134.\n",
      "(Epoch: 15) train/epoch_acc = 0.99706.\n",
      "(Epoch: 15) train/epoch_recall = 0.22497.\n",
      "(Epoch: 15) train/epoch_precision = 0.93520.\n"
     ]
    },
    {
     "name": "stderr",
     "output_type": "stream",
     "text": [
      "[train]: 100%|█████████▉| 2495/2500 [02:42<00:00, 37.16it/s]"
     ]
    },
    {
     "name": "stdout",
     "output_type": "stream",
     "text": [
      "(Steps: 2499) Finished 16 epoch training (147 steps per epoch).\n",
      "(Epoch: 16) train/loss = 0.00000.\n",
      "(Epoch: 16) train/epoch_metric = 0.01570.\n",
      "(Epoch: 16) train/epoch_auc = 0.92135.\n",
      "(Epoch: 16) train/epoch_acc = 0.99709.\n",
      "(Epoch: 16) train/epoch_recall = 0.23315.\n",
      "(Epoch: 16) train/epoch_precision = 0.94179.\n"
     ]
    },
    {
     "name": "stderr",
     "output_type": "stream",
     "text": [
      "[train]: 100%|██████████| 2500/2500 [02:48<00:00, 14.85it/s]\n",
      "[INFO] 2020-11-30 13:45:28,235 >>\tSuccessfully load checkpoint from exp/node/v010/best/best_loss0fold.pkl.\n",
      "  0%|          | 0/25 [00:00<?, ?it/s]"
     ]
    },
    {
     "name": "stdout",
     "output_type": "stream",
     "text": [
      "Finished training.\n"
     ]
    },
    {
     "name": "stderr",
     "output_type": "stream",
     "text": [
      "100%|██████████| 25/25 [00:00<00:00, 84.91it/s]\n",
      "[INFO] 2020-11-30 13:45:28,546 >>\tSuccessfully inference dev data at fold0.\n",
      "[INFO] 2020-11-30 13:45:28,789 >>\tfold0 score: 0.017090, Step:2205, Epoch:15.\n",
      "[INFO] 2020-11-30 13:45:28,804 >>\tStart to train fold 1.\n",
      "[INFO] 2020-11-30 13:45:28,970 >>\tThe number of pseudo labels is (249, 206)\n",
      "[INFO] 2020-11-30 13:45:29,404 >>\ttrain_set:torch.Size([1452]), val_set:torch.Size([1452])\n",
      "[INFO] 2020-11-30 13:45:29,431 >>\tSuccessfully resumed from exp/node/v010/best/best_loss0fold.pkl.\n",
      "[INFO] 2020-11-30 13:45:29,432 >>\tStart training!\n",
      "[train]:   6%|▌         | 146/2500 [00:03<01:02, 37.64it/s]"
     ]
    },
    {
     "name": "stdout",
     "output_type": "stream",
     "text": [
      "(Steps: 149) Finished 15 epoch training (149 steps per epoch).\n",
      "(Epoch: 15) train/loss = 0.00000.\n",
      "(Epoch: 15) train/epoch_metric = 0.01694.\n",
      "(Epoch: 15) train/epoch_auc = 0.88432.\n",
      "(Epoch: 15) train/epoch_acc = 0.99699.\n",
      "(Epoch: 15) train/epoch_recall = 0.21055.\n",
      "(Epoch: 15) train/epoch_precision = 0.91894.\n"
     ]
    },
    {
     "name": "stderr",
     "output_type": "stream",
     "text": [
      "[train]:  12%|█▏        | 295/2500 [00:13<01:12, 30.43it/s]"
     ]
    },
    {
     "name": "stdout",
     "output_type": "stream",
     "text": [
      "(Steps: 298) Finished 16 epoch training (149 steps per epoch).\n",
      "(Epoch: 16) train/loss = 0.00000.\n",
      "(Epoch: 16) train/epoch_metric = 0.01601.\n",
      "(Epoch: 16) train/epoch_auc = 0.91010.\n",
      "(Epoch: 16) train/epoch_acc = 0.99707.\n",
      "(Epoch: 16) train/epoch_recall = 0.23120.\n",
      "(Epoch: 16) train/epoch_precision = 0.92410.\n"
     ]
    },
    {
     "name": "stderr",
     "output_type": "stream",
     "text": [
      "[train]:  18%|█▊        | 447/2500 [00:25<01:03, 32.56it/s]"
     ]
    },
    {
     "name": "stdout",
     "output_type": "stream",
     "text": [
      "(Steps: 447) Finished 17 epoch training (149 steps per epoch).\n",
      "(Epoch: 17) train/loss = 0.00000.\n",
      "(Epoch: 17) train/epoch_metric = 0.01523.\n",
      "(Epoch: 17) train/epoch_auc = 0.92639.\n",
      "(Epoch: 17) train/epoch_acc = 0.99711.\n",
      "(Epoch: 17) train/epoch_recall = 0.24125.\n",
      "(Epoch: 17) train/epoch_precision = 0.93025.\n"
     ]
    },
    {
     "name": "stderr",
     "output_type": "stream",
     "text": [
      "[train]:  24%|██▍       | 595/2500 [00:34<00:55, 34.24it/s]"
     ]
    },
    {
     "name": "stdout",
     "output_type": "stream",
     "text": [
      "(Steps: 596) Finished 18 epoch training (149 steps per epoch).\n",
      "(Epoch: 18) train/loss = 0.00000.\n",
      "(Epoch: 18) train/epoch_metric = 0.01457.\n",
      "(Epoch: 18) train/epoch_auc = 0.93975.\n",
      "(Epoch: 18) train/epoch_acc = 0.99715.\n",
      "(Epoch: 18) train/epoch_recall = 0.25192.\n",
      "(Epoch: 18) train/epoch_precision = 0.93565.\n"
     ]
    },
    {
     "name": "stderr",
     "output_type": "stream",
     "text": [
      "[train]:  30%|██▉       | 744/2500 [00:44<00:52, 33.51it/s]"
     ]
    },
    {
     "name": "stdout",
     "output_type": "stream",
     "text": [
      "(Steps: 745) Finished 19 epoch training (149 steps per epoch).\n",
      "(Epoch: 19) train/loss = 0.00000.\n",
      "(Epoch: 19) train/epoch_metric = 0.01395.\n",
      "(Epoch: 19) train/epoch_auc = 0.94893.\n",
      "(Epoch: 19) train/epoch_acc = 0.99719.\n",
      "(Epoch: 19) train/epoch_recall = 0.26426.\n",
      "(Epoch: 19) train/epoch_precision = 0.93525.\n"
     ]
    },
    {
     "name": "stderr",
     "output_type": "stream",
     "text": [
      "[train]:  36%|███▌      | 892/2500 [00:55<00:55, 29.23it/s]"
     ]
    },
    {
     "name": "stdout",
     "output_type": "stream",
     "text": [
      "(Steps: 894) Finished 20 epoch training (149 steps per epoch).\n",
      "(Epoch: 20) train/loss = 0.00000.\n",
      "(Epoch: 20) train/epoch_metric = 0.01327.\n",
      "(Epoch: 20) train/epoch_auc = 0.95761.\n",
      "(Epoch: 20) train/epoch_acc = 0.99724.\n",
      "(Epoch: 20) train/epoch_recall = 0.27916.\n",
      "(Epoch: 20) train/epoch_precision = 0.93414.\n"
     ]
    },
    {
     "name": "stderr",
     "output_type": "stream",
     "text": [
      "[train]:  42%|████▏     | 1042/2500 [01:04<00:44, 32.68it/s]"
     ]
    },
    {
     "name": "stdout",
     "output_type": "stream",
     "text": [
      "(Steps: 1043) Finished 21 epoch training (149 steps per epoch).\n",
      "(Epoch: 21) train/loss = 0.00000.\n",
      "(Epoch: 21) train/epoch_metric = 0.01265.\n",
      "(Epoch: 21) train/epoch_auc = 0.96504.\n",
      "(Epoch: 21) train/epoch_acc = 0.99730.\n",
      "(Epoch: 21) train/epoch_recall = 0.29462.\n",
      "(Epoch: 21) train/epoch_precision = 0.93552.\n"
     ]
    },
    {
     "name": "stderr",
     "output_type": "stream",
     "text": [
      "[train]:  48%|████▊     | 1192/2500 [01:14<00:58, 22.41it/s]"
     ]
    },
    {
     "name": "stdout",
     "output_type": "stream",
     "text": [
      "(Steps: 1192) Finished 22 epoch training (149 steps per epoch).\n",
      "(Epoch: 22) train/loss = 0.00000.\n",
      "(Epoch: 22) train/epoch_metric = 0.01203.\n",
      "(Epoch: 22) train/epoch_auc = 0.97000.\n",
      "(Epoch: 22) train/epoch_acc = 0.99735.\n",
      "(Epoch: 22) train/epoch_recall = 0.31111.\n",
      "(Epoch: 22) train/epoch_precision = 0.93385.\n"
     ]
    },
    {
     "name": "stderr",
     "output_type": "stream",
     "text": [
      "[train]:  54%|█████▎    | 1341/2500 [01:24<00:36, 31.99it/s]"
     ]
    },
    {
     "name": "stdout",
     "output_type": "stream",
     "text": [
      "(Steps: 1341) Finished 23 epoch training (149 steps per epoch).\n",
      "(Epoch: 23) train/loss = 0.00000.\n",
      "(Epoch: 23) train/epoch_metric = 0.01147.\n",
      "(Epoch: 23) train/epoch_auc = 0.97395.\n",
      "(Epoch: 23) train/epoch_acc = 0.99741.\n",
      "(Epoch: 23) train/epoch_recall = 0.32802.\n",
      "(Epoch: 23) train/epoch_precision = 0.92968.\n"
     ]
    },
    {
     "name": "stderr",
     "output_type": "stream",
     "text": [
      "[train]:  59%|█████▉    | 1487/2500 [01:35<00:33, 30.44it/s]"
     ]
    },
    {
     "name": "stdout",
     "output_type": "stream",
     "text": [
      "(Steps: 1490) Finished 24 epoch training (149 steps per epoch).\n",
      "(Epoch: 24) train/loss = 0.00000.\n",
      "(Epoch: 24) train/epoch_metric = 0.01101.\n",
      "(Epoch: 24) train/epoch_auc = 0.97732.\n",
      "(Epoch: 24) train/epoch_acc = 0.99746.\n",
      "(Epoch: 24) train/epoch_recall = 0.34341.\n",
      "(Epoch: 24) train/epoch_precision = 0.92964.\n"
     ]
    },
    {
     "name": "stderr",
     "output_type": "stream",
     "text": [
      "[train]:  65%|██████▌   | 1636/2500 [01:44<00:23, 37.51it/s]"
     ]
    },
    {
     "name": "stdout",
     "output_type": "stream",
     "text": [
      "(Steps: 1639) Finished 25 epoch training (149 steps per epoch).\n",
      "(Epoch: 25) train/loss = 0.00000.\n",
      "(Epoch: 25) train/epoch_metric = 0.01046.\n",
      "(Epoch: 25) train/epoch_auc = 0.98040.\n",
      "(Epoch: 25) train/epoch_acc = 0.99752.\n",
      "(Epoch: 25) train/epoch_recall = 0.36330.\n",
      "(Epoch: 25) train/epoch_precision = 0.92289.\n"
     ]
    },
    {
     "name": "stderr",
     "output_type": "stream",
     "text": [
      "[train]:  72%|███████▏  | 1788/2500 [01:55<00:28, 24.61it/s]"
     ]
    },
    {
     "name": "stdout",
     "output_type": "stream",
     "text": [
      "(Steps: 1788) Finished 26 epoch training (149 steps per epoch).\n",
      "(Epoch: 26) train/loss = 0.00000.\n",
      "(Epoch: 26) train/epoch_metric = 0.01003.\n",
      "(Epoch: 26) train/epoch_auc = 0.98251.\n",
      "(Epoch: 26) train/epoch_acc = 0.99757.\n",
      "(Epoch: 26) train/epoch_recall = 0.38194.\n",
      "(Epoch: 26) train/epoch_precision = 0.91651.\n"
     ]
    },
    {
     "name": "stderr",
     "output_type": "stream",
     "text": [
      "[train]:  77%|███████▋  | 1935/2500 [02:04<00:15, 36.18it/s]"
     ]
    },
    {
     "name": "stdout",
     "output_type": "stream",
     "text": [
      "(Steps: 1937) Finished 27 epoch training (149 steps per epoch).\n",
      "(Epoch: 27) train/loss = 0.00000.\n",
      "(Epoch: 27) train/epoch_metric = 0.00965.\n",
      "(Epoch: 27) train/epoch_auc = 0.98462.\n",
      "(Epoch: 27) train/epoch_acc = 0.99765.\n",
      "(Epoch: 27) train/epoch_recall = 0.40058.\n",
      "(Epoch: 27) train/epoch_precision = 0.92480.\n"
     ]
    },
    {
     "name": "stderr",
     "output_type": "stream",
     "text": [
      "[train]:  83%|████████▎ | 2084/2500 [02:15<00:15, 27.12it/s]"
     ]
    },
    {
     "name": "stdout",
     "output_type": "stream",
     "text": [
      "(Steps: 2086) Finished 28 epoch training (149 steps per epoch).\n",
      "(Epoch: 28) train/loss = 0.00000.\n",
      "(Epoch: 28) train/epoch_metric = 0.00935.\n",
      "(Epoch: 28) train/epoch_auc = 0.98592.\n",
      "(Epoch: 28) train/epoch_acc = 0.99768.\n",
      "(Epoch: 28) train/epoch_recall = 0.41735.\n",
      "(Epoch: 28) train/epoch_precision = 0.91367.\n"
     ]
    },
    {
     "name": "stderr",
     "output_type": "stream",
     "text": [
      "[train]:  89%|████████▉ | 2235/2500 [02:26<00:08, 31.50it/s]\n",
      "[dev]:   0%|          | 0/25 [00:00<?, ?it/s]\u001b[A"
     ]
    },
    {
     "name": "stdout",
     "output_type": "stream",
     "text": [
      "(Steps: 2235) Finished 29 epoch training (149 steps per epoch).\n",
      "(Epoch: 29) train/loss = 0.00000.\n",
      "(Epoch: 29) train/epoch_metric = 0.00903.\n",
      "(Epoch: 29) train/epoch_auc = 0.98724.\n",
      "(Epoch: 29) train/epoch_acc = 0.99773.\n",
      "(Epoch: 29) train/epoch_recall = 0.42941.\n",
      "(Epoch: 29) train/epoch_precision = 0.91874.\n",
      "(Steps: 2235) Start dev data's evaluation.\n"
     ]
    },
    {
     "name": "stderr",
     "output_type": "stream",
     "text": [
      "\n",
      "[dev]:   4%|▍         | 1/25 [00:00<00:02,  9.48it/s]\u001b[A\n",
      "[dev]:  48%|████▊     | 12/25 [00:00<00:00, 13.05it/s]\u001b[A\n",
      "[dev]: 100%|██████████| 25/25 [00:00<00:00, 66.39it/s]\n"
     ]
    },
    {
     "name": "stdout",
     "output_type": "stream",
     "text": [
      "(Steps: 2235) Finished dev data's evaluation (25 steps per epoch).\n",
      "(Epoch: 30) dev/loss = 0.00000.\n",
      "(Epoch: 30) dev/epoch_metric = 0.01791.\n",
      "(Epoch: 30) dev/epoch_auc = 0.82713.\n",
      "(Epoch: 30) dev/epoch_acc = 0.99704.\n",
      "(Epoch: 30) dev/epoch_recall = 0.24007.\n",
      "(Epoch: 30) dev/epoch_precision = 0.88415.\n",
      "(Steps: 2235) Start eval data's evaluation.\n"
     ]
    },
    {
     "name": "stderr",
     "output_type": "stream",
     "text": [
      "[train]:  95%|█████████▌| 2381/2500 [02:37<00:03, 37.19it/s]"
     ]
    },
    {
     "name": "stdout",
     "output_type": "stream",
     "text": [
      "(Steps: 2384) Finished 30 epoch training (149 steps per epoch).\n",
      "(Epoch: 30) train/loss = 0.00000.\n",
      "(Epoch: 30) train/epoch_metric = 0.00872.\n",
      "(Epoch: 30) train/epoch_auc = 0.98867.\n",
      "(Epoch: 30) train/epoch_acc = 0.99781.\n",
      "(Epoch: 30) train/epoch_recall = 0.45007.\n",
      "(Epoch: 30) train/epoch_precision = 0.91931.\n"
     ]
    },
    {
     "name": "stderr",
     "output_type": "stream",
     "text": [
      "[train]:  98%|█████████▊| 2448/2500 [02:44<00:01, 29.50it/s]"
     ]
    },
    {
     "name": "stdout",
     "output_type": "stream",
     "text": [
      "recalibrate layer.weight_v\n"
     ]
    },
    {
     "name": "stderr",
     "output_type": "stream",
     "text": [
      "[train]: 100%|██████████| 2500/2500 [02:45<00:00, 15.07it/s]\n",
      "[INFO] 2020-11-30 13:48:15,334 >>\tSuccessfully load checkpoint from exp/node/v010/best/best_loss1fold.pkl.\n",
      "  0%|          | 0/25 [00:00<?, ?it/s]"
     ]
    },
    {
     "name": "stdout",
     "output_type": "stream",
     "text": [
      "Finished training.\n"
     ]
    },
    {
     "name": "stderr",
     "output_type": "stream",
     "text": [
      "100%|██████████| 25/25 [00:00<00:00, 54.75it/s]\n",
      "[INFO] 2020-11-30 13:48:15,810 >>\tSuccessfully inference dev data at fold1.\n",
      "[INFO] 2020-11-30 13:48:16,170 >>\tfold1 score: 0.017909, Step:2235, Epoch:30.\n",
      "[INFO] 2020-11-30 13:48:16,190 >>\tStart to train fold 2.\n",
      "[INFO] 2020-11-30 13:48:16,386 >>\tThe number of pseudo labels is (567, 206)\n",
      "[INFO] 2020-11-30 13:48:16,712 >>\ttrain_set:torch.Size([1452]), val_set:torch.Size([1452])\n",
      "[INFO] 2020-11-30 13:48:16,750 >>\tSuccessfully resumed from exp/node/v010/best/best_loss1fold.pkl.\n",
      "[INFO] 2020-11-30 13:48:16,752 >>\tStart training!\n",
      "[train]:   0%|          | 7/2500 [00:00<05:06,  8.14it/s]"
     ]
    },
    {
     "name": "stdout",
     "output_type": "stream",
     "text": [
      "recalibrate layer.weight_v\n"
     ]
    },
    {
     "name": "stderr",
     "output_type": "stream",
     "text": [
      "[train]:   6%|▌         | 151/2500 [00:04<01:13, 32.16it/s]"
     ]
    },
    {
     "name": "stdout",
     "output_type": "stream",
     "text": [
      "(Steps: 152) Finished 30 epoch training (152 steps per epoch).\n",
      "(Epoch: 30) train/loss = 0.00000.\n",
      "(Epoch: 30) train/epoch_metric = 0.01080.\n",
      "(Epoch: 30) train/epoch_auc = 0.95354.\n",
      "(Epoch: 30) train/epoch_acc = 0.99762.\n",
      "(Epoch: 30) train/epoch_recall = 0.39717.\n",
      "(Epoch: 30) train/epoch_precision = 0.91393.\n"
     ]
    },
    {
     "name": "stderr",
     "output_type": "stream",
     "text": [
      "[train]:  12%|█▏        | 304/2500 [00:14<00:57, 38.21it/s]"
     ]
    },
    {
     "name": "stdout",
     "output_type": "stream",
     "text": [
      "(Steps: 304) Finished 31 epoch training (152 steps per epoch).\n",
      "(Epoch: 31) train/loss = 0.00000.\n",
      "(Epoch: 31) train/epoch_metric = 0.01040.\n",
      "(Epoch: 31) train/epoch_auc = 0.96533.\n",
      "(Epoch: 31) train/epoch_acc = 0.99763.\n",
      "(Epoch: 31) train/epoch_recall = 0.40119.\n",
      "(Epoch: 31) train/epoch_precision = 0.91588.\n"
     ]
    },
    {
     "name": "stderr",
     "output_type": "stream",
     "text": [
      "[train]:  18%|█▊        | 456/2500 [00:23<00:52, 38.74it/s]"
     ]
    },
    {
     "name": "stdout",
     "output_type": "stream",
     "text": [
      "(Steps: 456) Finished 32 epoch training (152 steps per epoch).\n",
      "(Epoch: 32) train/loss = 0.00000.\n",
      "(Epoch: 32) train/epoch_metric = 0.01013.\n",
      "(Epoch: 32) train/epoch_auc = 0.96859.\n",
      "(Epoch: 32) train/epoch_acc = 0.99766.\n",
      "(Epoch: 32) train/epoch_recall = 0.40549.\n",
      "(Epoch: 32) train/epoch_precision = 0.92160.\n"
     ]
    },
    {
     "name": "stderr",
     "output_type": "stream",
     "text": [
      "[train]:  24%|██▍       | 608/2500 [00:34<01:39, 19.09it/s]"
     ]
    },
    {
     "name": "stdout",
     "output_type": "stream",
     "text": [
      "(Steps: 608) Finished 33 epoch training (152 steps per epoch).\n",
      "(Epoch: 33) train/loss = 0.00000.\n",
      "(Epoch: 33) train/epoch_metric = 0.00999.\n",
      "(Epoch: 33) train/epoch_auc = 0.97028.\n",
      "(Epoch: 33) train/epoch_acc = 0.99770.\n",
      "(Epoch: 33) train/epoch_recall = 0.41795.\n",
      "(Epoch: 33) train/epoch_precision = 0.92080.\n"
     ]
    },
    {
     "name": "stderr",
     "output_type": "stream",
     "text": [
      "[train]:  30%|███       | 756/2500 [00:45<00:47, 36.35it/s]"
     ]
    },
    {
     "name": "stdout",
     "output_type": "stream",
     "text": [
      "(Steps: 760) Finished 34 epoch training (152 steps per epoch).\n",
      "(Epoch: 34) train/loss = 0.00000.\n",
      "(Epoch: 34) train/epoch_metric = 0.00980.\n",
      "(Epoch: 34) train/epoch_auc = 0.97223.\n",
      "(Epoch: 34) train/epoch_acc = 0.99773.\n",
      "(Epoch: 34) train/epoch_recall = 0.42516.\n",
      "(Epoch: 34) train/epoch_precision = 0.92495.\n"
     ]
    },
    {
     "name": "stderr",
     "output_type": "stream",
     "text": [
      "[train]:  36%|███▋      | 910/2500 [00:54<00:43, 36.83it/s]"
     ]
    },
    {
     "name": "stdout",
     "output_type": "stream",
     "text": [
      "(Steps: 912) Finished 35 epoch training (152 steps per epoch).\n",
      "(Epoch: 35) train/loss = 0.00000.\n",
      "(Epoch: 35) train/epoch_metric = 0.00971.\n",
      "(Epoch: 35) train/epoch_auc = 0.97311.\n",
      "(Epoch: 35) train/epoch_acc = 0.99774.\n",
      "(Epoch: 35) train/epoch_recall = 0.42973.\n",
      "(Epoch: 35) train/epoch_precision = 0.92335.\n"
     ]
    },
    {
     "name": "stderr",
     "output_type": "stream",
     "text": [
      "[train]:  42%|████▏     | 1061/2500 [01:04<00:38, 36.97it/s]"
     ]
    },
    {
     "name": "stdout",
     "output_type": "stream",
     "text": [
      "(Steps: 1064) Finished 36 epoch training (152 steps per epoch).\n",
      "(Epoch: 36) train/loss = 0.00000.\n",
      "(Epoch: 36) train/epoch_metric = 0.00970.\n",
      "(Epoch: 36) train/epoch_auc = 0.97333.\n",
      "(Epoch: 36) train/epoch_acc = 0.99776.\n",
      "(Epoch: 36) train/epoch_recall = 0.43292.\n",
      "(Epoch: 36) train/epoch_precision = 0.92689.\n"
     ]
    },
    {
     "name": "stderr",
     "output_type": "stream",
     "text": [
      "[train]:  49%|████▊     | 1215/2500 [01:15<00:41, 30.69it/s]"
     ]
    },
    {
     "name": "stdout",
     "output_type": "stream",
     "text": [
      "(Steps: 1216) Finished 37 epoch training (152 steps per epoch).\n",
      "(Epoch: 37) train/loss = 0.00000.\n",
      "(Epoch: 37) train/epoch_metric = 0.00960.\n",
      "(Epoch: 37) train/epoch_auc = 0.97434.\n",
      "(Epoch: 37) train/epoch_acc = 0.99777.\n",
      "(Epoch: 37) train/epoch_recall = 0.43506.\n",
      "(Epoch: 37) train/epoch_precision = 0.92722.\n"
     ]
    },
    {
     "name": "stderr",
     "output_type": "stream",
     "text": [
      "[train]:  55%|█████▍    | 1368/2500 [01:24<00:29, 38.75it/s]"
     ]
    },
    {
     "name": "stdout",
     "output_type": "stream",
     "text": [
      "(Steps: 1368) Finished 38 epoch training (152 steps per epoch).\n",
      "(Epoch: 38) train/loss = 0.00000.\n",
      "(Epoch: 38) train/epoch_metric = 0.00963.\n",
      "(Epoch: 38) train/epoch_auc = 0.97496.\n",
      "(Epoch: 38) train/epoch_acc = 0.99775.\n",
      "(Epoch: 38) train/epoch_recall = 0.43257.\n",
      "(Epoch: 38) train/epoch_precision = 0.92109.\n"
     ]
    },
    {
     "name": "stderr",
     "output_type": "stream",
     "text": [
      "[train]:  61%|██████    | 1516/2500 [01:35<00:40, 24.17it/s]"
     ]
    },
    {
     "name": "stdout",
     "output_type": "stream",
     "text": [
      "(Steps: 1520) Finished 39 epoch training (152 steps per epoch).\n",
      "(Epoch: 39) train/loss = 0.00000.\n",
      "(Epoch: 39) train/epoch_metric = 0.00963.\n",
      "(Epoch: 39) train/epoch_auc = 0.97401.\n",
      "(Epoch: 39) train/epoch_acc = 0.99777.\n",
      "(Epoch: 39) train/epoch_recall = 0.43728.\n",
      "(Epoch: 39) train/epoch_precision = 0.92161.\n"
     ]
    },
    {
     "name": "stderr",
     "output_type": "stream",
     "text": [
      "[train]:  67%|██████▋   | 1672/2500 [01:45<00:26, 31.51it/s]"
     ]
    },
    {
     "name": "stdout",
     "output_type": "stream",
     "text": [
      "(Steps: 1672) Finished 40 epoch training (152 steps per epoch).\n",
      "(Epoch: 40) train/loss = 0.00000.\n",
      "(Epoch: 40) train/epoch_metric = 0.00954.\n",
      "(Epoch: 40) train/epoch_auc = 0.97529.\n",
      "(Epoch: 40) train/epoch_acc = 0.99777.\n",
      "(Epoch: 40) train/epoch_recall = 0.43790.\n",
      "(Epoch: 40) train/epoch_precision = 0.92171.\n"
     ]
    },
    {
     "name": "stderr",
     "output_type": "stream",
     "text": [
      "[train]:  73%|███████▎  | 1823/2500 [01:55<00:22, 30.20it/s]"
     ]
    },
    {
     "name": "stdout",
     "output_type": "stream",
     "text": [
      "(Steps: 1824) Finished 41 epoch training (152 steps per epoch).\n",
      "(Epoch: 41) train/loss = 0.00000.\n",
      "(Epoch: 41) train/epoch_metric = 0.00956.\n",
      "(Epoch: 41) train/epoch_auc = 0.97592.\n",
      "(Epoch: 41) train/epoch_acc = 0.99775.\n",
      "(Epoch: 41) train/epoch_recall = 0.43479.\n",
      "(Epoch: 41) train/epoch_precision = 0.91769.\n"
     ]
    },
    {
     "name": "stderr",
     "output_type": "stream",
     "text": [
      "[train]:  79%|███████▉  | 1976/2500 [02:05<00:13, 37.72it/s]"
     ]
    },
    {
     "name": "stdout",
     "output_type": "stream",
     "text": [
      "(Steps: 1976) Finished 42 epoch training (152 steps per epoch).\n",
      "(Epoch: 42) train/loss = 0.00000.\n",
      "(Epoch: 42) train/epoch_metric = 0.00941.\n",
      "(Epoch: 42) train/epoch_auc = 0.97673.\n",
      "(Epoch: 42) train/epoch_acc = 0.99779.\n",
      "(Epoch: 42) train/epoch_recall = 0.44234.\n",
      "(Epoch: 42) train/epoch_precision = 0.92430.\n"
     ]
    },
    {
     "name": "stderr",
     "output_type": "stream",
     "text": [
      "[train]:  85%|████████▍ | 2124/2500 [02:14<00:10, 35.56it/s]"
     ]
    },
    {
     "name": "stdout",
     "output_type": "stream",
     "text": [
      "(Steps: 2128) Finished 43 epoch training (152 steps per epoch).\n",
      "(Epoch: 43) train/loss = 0.00000.\n",
      "(Epoch: 43) train/epoch_metric = 0.00944.\n",
      "(Epoch: 43) train/epoch_auc = 0.97704.\n",
      "(Epoch: 43) train/epoch_acc = 0.99777.\n",
      "(Epoch: 43) train/epoch_recall = 0.44019.\n",
      "(Epoch: 43) train/epoch_precision = 0.92101.\n"
     ]
    },
    {
     "name": "stderr",
     "output_type": "stream",
     "text": [
      "[train]:  91%|█████████ | 2280/2500 [02:24<00:05, 37.95it/s]\n",
      "[dev]:   0%|          | 0/25 [00:00<?, ?it/s]\u001b[A"
     ]
    },
    {
     "name": "stdout",
     "output_type": "stream",
     "text": [
      "(Steps: 2280) Finished 44 epoch training (152 steps per epoch).\n",
      "(Epoch: 44) train/loss = 0.00000.\n",
      "(Epoch: 44) train/epoch_metric = 0.00937.\n",
      "(Epoch: 44) train/epoch_auc = 0.97636.\n",
      "(Epoch: 44) train/epoch_acc = 0.99782.\n",
      "(Epoch: 44) train/epoch_recall = 0.45127.\n",
      "(Epoch: 44) train/epoch_precision = 0.92307.\n",
      "(Steps: 2280) Start dev data's evaluation.\n"
     ]
    },
    {
     "name": "stderr",
     "output_type": "stream",
     "text": [
      "\n",
      "[dev]:   4%|▍         | 1/25 [00:00<00:03,  6.80it/s]\u001b[A\n",
      "[dev]:  40%|████      | 10/25 [00:00<00:01,  9.39it/s]\u001b[A\n",
      "[dev]: 100%|██████████| 25/25 [00:00<00:00, 54.87it/s]\n"
     ]
    },
    {
     "name": "stdout",
     "output_type": "stream",
     "text": [
      "(Steps: 2280) Finished dev data's evaluation (25 steps per epoch).\n",
      "(Epoch: 45) dev/loss = 0.00000.\n",
      "(Epoch: 45) dev/epoch_metric = 0.00696.\n",
      "(Epoch: 45) dev/epoch_auc = 0.99378.\n",
      "(Epoch: 45) dev/epoch_acc = 0.99813.\n",
      "(Epoch: 45) dev/epoch_recall = 0.50498.\n",
      "(Epoch: 45) dev/epoch_precision = 0.98621.\n",
      "(Steps: 2280) Start eval data's evaluation.\n"
     ]
    },
    {
     "name": "stderr",
     "output_type": "stream",
     "text": [
      "[train]:  97%|█████████▋| 2429/2500 [02:37<00:01, 36.39it/s]"
     ]
    },
    {
     "name": "stdout",
     "output_type": "stream",
     "text": [
      "(Steps: 2432) Finished 45 epoch training (152 steps per epoch).\n",
      "(Epoch: 45) train/loss = 0.00000.\n",
      "(Epoch: 45) train/epoch_metric = 0.00945.\n",
      "(Epoch: 45) train/epoch_auc = 0.97707.\n",
      "(Epoch: 45) train/epoch_acc = 0.99779.\n",
      "(Epoch: 45) train/epoch_recall = 0.44559.\n",
      "(Epoch: 45) train/epoch_precision = 0.92058.\n"
     ]
    },
    {
     "name": "stderr",
     "output_type": "stream",
     "text": [
      "[train]: 100%|██████████| 2500/2500 [02:45<00:00, 15.13it/s]\n",
      "[INFO] 2020-11-30 13:51:02,011 >>\tSuccessfully load checkpoint from exp/node/v010/best/best_loss2fold.pkl.\n",
      "  0%|          | 0/25 [00:00<?, ?it/s]"
     ]
    },
    {
     "name": "stdout",
     "output_type": "stream",
     "text": [
      "Finished training.\n"
     ]
    },
    {
     "name": "stderr",
     "output_type": "stream",
     "text": [
      "100%|██████████| 25/25 [00:00<00:00, 85.75it/s]\n",
      "[INFO] 2020-11-30 13:51:02,320 >>\tSuccessfully inference dev data at fold2.\n",
      "[INFO] 2020-11-30 13:51:02,559 >>\tfold2 score: 0.006964, Step:2280, Epoch:45.\n",
      "[INFO] 2020-11-30 13:51:02,584 >>\tStart to train fold 3.\n",
      "[INFO] 2020-11-30 13:51:02,743 >>\tThe number of pseudo labels is (1042, 206)\n",
      "[INFO] 2020-11-30 13:51:03,013 >>\ttrain_set:torch.Size([1452]), val_set:torch.Size([1452])\n",
      "[INFO] 2020-11-30 13:51:03,042 >>\tSuccessfully resumed from exp/node/v010/best/best_loss2fold.pkl.\n",
      "[INFO] 2020-11-30 13:51:03,043 >>\tStart training!\n",
      "[train]:   1%|          | 15/2500 [00:00<03:08, 13.18it/s]"
     ]
    },
    {
     "name": "stdout",
     "output_type": "stream",
     "text": [
      "recalibrate layer.weight_v\n"
     ]
    },
    {
     "name": "stderr",
     "output_type": "stream",
     "text": [
      "[train]:   6%|▌         | 153/2500 [00:03<01:13, 31.85it/s]"
     ]
    },
    {
     "name": "stdout",
     "output_type": "stream",
     "text": [
      "(Steps: 156) Finished 45 epoch training (156 steps per epoch).\n",
      "(Epoch: 45) train/loss = 0.00000.\n",
      "(Epoch: 45) train/epoch_metric = 0.01133.\n",
      "(Epoch: 45) train/epoch_auc = 0.96074.\n",
      "(Epoch: 45) train/epoch_acc = 0.99745.\n",
      "(Epoch: 45) train/epoch_recall = 0.36535.\n",
      "(Epoch: 45) train/epoch_precision = 0.87963.\n"
     ]
    },
    {
     "name": "stderr",
     "output_type": "stream",
     "text": [
      "[train]:  12%|█▏        | 312/2500 [00:12<00:58, 37.57it/s]"
     ]
    },
    {
     "name": "stdout",
     "output_type": "stream",
     "text": [
      "(Steps: 312) Finished 46 epoch training (156 steps per epoch).\n",
      "(Epoch: 46) train/loss = 0.00000.\n",
      "(Epoch: 46) train/epoch_metric = 0.01042.\n",
      "(Epoch: 46) train/epoch_auc = 0.97444.\n",
      "(Epoch: 46) train/epoch_acc = 0.99758.\n",
      "(Epoch: 46) train/epoch_recall = 0.38959.\n",
      "(Epoch: 46) train/epoch_precision = 0.91036.\n"
     ]
    },
    {
     "name": "stderr",
     "output_type": "stream",
     "text": [
      "[train]:  19%|█▊        | 468/2500 [00:23<01:04, 31.28it/s]"
     ]
    },
    {
     "name": "stdout",
     "output_type": "stream",
     "text": [
      "(Steps: 468) Finished 47 epoch training (156 steps per epoch).\n",
      "(Epoch: 47) train/loss = 0.00000.\n",
      "(Epoch: 47) train/epoch_metric = 0.00968.\n",
      "(Epoch: 47) train/epoch_auc = 0.98070.\n",
      "(Epoch: 47) train/epoch_acc = 0.99770.\n",
      "(Epoch: 47) train/epoch_recall = 0.41992.\n",
      "(Epoch: 47) train/epoch_precision = 0.92046.\n"
     ]
    },
    {
     "name": "stderr",
     "output_type": "stream",
     "text": [
      "[train]:  25%|██▍       | 623/2500 [00:33<00:52, 35.54it/s]"
     ]
    },
    {
     "name": "stdout",
     "output_type": "stream",
     "text": [
      "(Steps: 624) Finished 48 epoch training (156 steps per epoch).\n",
      "(Epoch: 48) train/loss = 0.00000.\n",
      "(Epoch: 48) train/epoch_metric = 0.00913.\n",
      "(Epoch: 48) train/epoch_auc = 0.98384.\n",
      "(Epoch: 48) train/epoch_acc = 0.99779.\n",
      "(Epoch: 48) train/epoch_recall = 0.44429.\n",
      "(Epoch: 48) train/epoch_precision = 0.92210.\n"
     ]
    },
    {
     "name": "stderr",
     "output_type": "stream",
     "text": [
      "[train]:  31%|███       | 780/2500 [00:43<00:49, 34.66it/s]"
     ]
    },
    {
     "name": "stdout",
     "output_type": "stream",
     "text": [
      "(Steps: 780) Finished 49 epoch training (156 steps per epoch).\n",
      "(Epoch: 49) train/loss = 0.00000.\n",
      "(Epoch: 49) train/epoch_metric = 0.00878.\n",
      "(Epoch: 49) train/epoch_auc = 0.98539.\n",
      "(Epoch: 49) train/epoch_acc = 0.99784.\n",
      "(Epoch: 49) train/epoch_recall = 0.46139.\n",
      "(Epoch: 49) train/epoch_precision = 0.91701.\n"
     ]
    },
    {
     "name": "stderr",
     "output_type": "stream",
     "text": [
      "[train]:  37%|███▋      | 933/2500 [00:53<00:46, 33.40it/s]"
     ]
    },
    {
     "name": "stdout",
     "output_type": "stream",
     "text": [
      "(Steps: 936) Finished 50 epoch training (156 steps per epoch).\n",
      "(Epoch: 50) train/loss = 0.00000.\n",
      "(Epoch: 50) train/epoch_metric = 0.00850.\n",
      "(Epoch: 50) train/epoch_auc = 0.98734.\n",
      "(Epoch: 50) train/epoch_acc = 0.99791.\n",
      "(Epoch: 50) train/epoch_recall = 0.47718.\n",
      "(Epoch: 50) train/epoch_precision = 0.92447.\n"
     ]
    },
    {
     "name": "stderr",
     "output_type": "stream",
     "text": [
      "[train]:  44%|████▎     | 1092/2500 [01:05<00:55, 25.28it/s]"
     ]
    },
    {
     "name": "stdout",
     "output_type": "stream",
     "text": [
      "(Steps: 1092) Finished 51 epoch training (156 steps per epoch).\n",
      "(Epoch: 51) train/loss = 0.00000.\n",
      "(Epoch: 51) train/epoch_metric = 0.00835.\n",
      "(Epoch: 51) train/epoch_auc = 0.98791.\n",
      "(Epoch: 51) train/epoch_acc = 0.99792.\n",
      "(Epoch: 51) train/epoch_recall = 0.48307.\n",
      "(Epoch: 51) train/epoch_precision = 0.92032.\n"
     ]
    },
    {
     "name": "stderr",
     "output_type": "stream",
     "text": [
      "[train]:  50%|████▉     | 1244/2500 [01:14<00:37, 33.30it/s]"
     ]
    },
    {
     "name": "stdout",
     "output_type": "stream",
     "text": [
      "(Steps: 1248) Finished 52 epoch training (156 steps per epoch).\n",
      "(Epoch: 52) train/loss = 0.00000.\n",
      "(Epoch: 52) train/epoch_metric = 0.00822.\n",
      "(Epoch: 52) train/epoch_auc = 0.98903.\n",
      "(Epoch: 52) train/epoch_acc = 0.99792.\n",
      "(Epoch: 52) train/epoch_recall = 0.48577.\n",
      "(Epoch: 52) train/epoch_precision = 0.91580.\n"
     ]
    },
    {
     "name": "stderr",
     "output_type": "stream",
     "text": [
      "[train]:  56%|█████▌    | 1400/2500 [01:24<00:35, 31.12it/s]"
     ]
    },
    {
     "name": "stdout",
     "output_type": "stream",
     "text": [
      "(Steps: 1404) Finished 53 epoch training (156 steps per epoch).\n",
      "(Epoch: 53) train/loss = 0.00000.\n",
      "(Epoch: 53) train/epoch_metric = 0.00809.\n",
      "(Epoch: 53) train/epoch_auc = 0.98957.\n",
      "(Epoch: 53) train/epoch_acc = 0.99792.\n",
      "(Epoch: 53) train/epoch_recall = 0.48771.\n",
      "(Epoch: 53) train/epoch_precision = 0.91456.\n"
     ]
    },
    {
     "name": "stderr",
     "output_type": "stream",
     "text": [
      "[train]:  59%|█████▉    | 1479/2500 [01:32<00:28, 35.96it/s]"
     ]
    },
    {
     "name": "stdout",
     "output_type": "stream",
     "text": [
      "recalibrate layer.weight_v\n"
     ]
    },
    {
     "name": "stderr",
     "output_type": "stream",
     "text": [
      "[train]:  62%|██████▏   | 1557/2500 [01:34<00:29, 31.73it/s]"
     ]
    },
    {
     "name": "stdout",
     "output_type": "stream",
     "text": [
      "(Steps: 1560) Finished 54 epoch training (156 steps per epoch).\n",
      "(Epoch: 54) train/loss = 0.00000.\n",
      "(Epoch: 54) train/epoch_metric = 0.00788.\n",
      "(Epoch: 54) train/epoch_auc = 0.99015.\n",
      "(Epoch: 54) train/epoch_acc = 0.99799.\n",
      "(Epoch: 54) train/epoch_recall = 0.50232.\n",
      "(Epoch: 54) train/epoch_precision = 0.92114.\n"
     ]
    },
    {
     "name": "stderr",
     "output_type": "stream",
     "text": [
      "[train]:  69%|██████▊   | 1713/2500 [01:46<00:29, 26.40it/s]"
     ]
    },
    {
     "name": "stdout",
     "output_type": "stream",
     "text": [
      "(Steps: 1716) Finished 55 epoch training (156 steps per epoch).\n",
      "(Epoch: 55) train/loss = 0.00000.\n",
      "(Epoch: 55) train/epoch_metric = 0.00750.\n",
      "(Epoch: 55) train/epoch_auc = 0.99191.\n",
      "(Epoch: 55) train/epoch_acc = 0.99809.\n",
      "(Epoch: 55) train/epoch_recall = 0.52836.\n",
      "(Epoch: 55) train/epoch_precision = 0.92924.\n"
     ]
    },
    {
     "name": "stderr",
     "output_type": "stream",
     "text": [
      "[train]:  75%|███████▍  | 1868/2500 [01:57<00:19, 32.08it/s]"
     ]
    },
    {
     "name": "stdout",
     "output_type": "stream",
     "text": [
      "(Steps: 1872) Finished 56 epoch training (156 steps per epoch).\n",
      "(Epoch: 56) train/loss = 0.00000.\n",
      "(Epoch: 56) train/epoch_metric = 0.00756.\n",
      "(Epoch: 56) train/epoch_auc = 0.99123.\n",
      "(Epoch: 56) train/epoch_acc = 0.99805.\n",
      "(Epoch: 56) train/epoch_recall = 0.52164.\n",
      "(Epoch: 56) train/epoch_precision = 0.92226.\n"
     ]
    },
    {
     "name": "stderr",
     "output_type": "stream",
     "text": [
      "[train]:  81%|████████  | 2028/2500 [02:06<00:14, 32.17it/s]"
     ]
    },
    {
     "name": "stdout",
     "output_type": "stream",
     "text": [
      "(Steps: 2028) Finished 57 epoch training (156 steps per epoch).\n",
      "(Epoch: 57) train/loss = 0.00000.\n",
      "(Epoch: 57) train/epoch_metric = 0.00740.\n",
      "(Epoch: 57) train/epoch_auc = 0.99181.\n",
      "(Epoch: 57) train/epoch_acc = 0.99809.\n",
      "(Epoch: 57) train/epoch_recall = 0.52877.\n",
      "(Epoch: 57) train/epoch_precision = 0.92681.\n"
     ]
    },
    {
     "name": "stderr",
     "output_type": "stream",
     "text": [
      "[train]:  87%|████████▋ | 2181/2500 [02:16<00:11, 27.84it/s]"
     ]
    },
    {
     "name": "stdout",
     "output_type": "stream",
     "text": [
      "(Steps: 2184) Finished 58 epoch training (156 steps per epoch).\n",
      "(Epoch: 58) train/loss = 0.00000.\n",
      "(Epoch: 58) train/epoch_metric = 0.00738.\n",
      "(Epoch: 58) train/epoch_auc = 0.99189.\n",
      "(Epoch: 58) train/epoch_acc = 0.99811.\n",
      "(Epoch: 58) train/epoch_recall = 0.53223.\n",
      "(Epoch: 58) train/epoch_precision = 0.92950.\n"
     ]
    },
    {
     "name": "stderr",
     "output_type": "stream",
     "text": [
      "[train]:  94%|█████████▎| 2338/2500 [02:27<00:07, 22.60it/s]\n",
      "[dev]:   0%|          | 0/25 [00:00<?, ?it/s]\u001b[A"
     ]
    },
    {
     "name": "stdout",
     "output_type": "stream",
     "text": [
      "(Steps: 2340) Finished 59 epoch training (156 steps per epoch).\n",
      "(Epoch: 59) train/loss = 0.00000.\n",
      "(Epoch: 59) train/epoch_metric = 0.00741.\n",
      "(Epoch: 59) train/epoch_auc = 0.99198.\n",
      "(Epoch: 59) train/epoch_acc = 0.99811.\n",
      "(Epoch: 59) train/epoch_recall = 0.53694.\n",
      "(Epoch: 59) train/epoch_precision = 0.92574.\n",
      "(Steps: 2340) Start dev data's evaluation.\n"
     ]
    },
    {
     "name": "stderr",
     "output_type": "stream",
     "text": [
      "\n",
      "[dev]:   4%|▍         | 1/25 [00:00<00:02,  9.17it/s]\u001b[A\n",
      "[dev]:  56%|█████▌    | 14/25 [00:00<00:00, 12.69it/s]\u001b[A\n",
      "[dev]: 100%|██████████| 25/25 [00:00<00:00, 64.01it/s]\n"
     ]
    },
    {
     "name": "stdout",
     "output_type": "stream",
     "text": [
      "(Steps: 2340) Finished dev data's evaluation (25 steps per epoch).\n",
      "(Epoch: 60) dev/loss = 0.00000.\n",
      "(Epoch: 60) dev/epoch_metric = 0.01359.\n",
      "(Epoch: 60) dev/epoch_auc = 0.94318.\n",
      "(Epoch: 60) dev/epoch_acc = 0.99727.\n",
      "(Epoch: 60) dev/epoch_recall = 0.28702.\n",
      "(Epoch: 60) dev/epoch_precision = 0.93117.\n",
      "(Steps: 2340) Start eval data's evaluation.\n"
     ]
    },
    {
     "name": "stderr",
     "output_type": "stream",
     "text": [
      "[train]: 100%|█████████▉| 2494/2500 [02:39<00:00, 24.73it/s]"
     ]
    },
    {
     "name": "stdout",
     "output_type": "stream",
     "text": [
      "(Steps: 2496) Finished 60 epoch training (156 steps per epoch).\n",
      "(Epoch: 60) train/loss = 0.00000.\n",
      "(Epoch: 60) train/epoch_metric = 0.00746.\n",
      "(Epoch: 60) train/epoch_auc = 0.99161.\n",
      "(Epoch: 60) train/epoch_acc = 0.99808.\n",
      "(Epoch: 60) train/epoch_recall = 0.53127.\n",
      "(Epoch: 60) train/epoch_precision = 0.91902.\n"
     ]
    },
    {
     "name": "stderr",
     "output_type": "stream",
     "text": [
      "[train]: 100%|██████████| 2500/2500 [02:46<00:00, 15.03it/s]\n",
      "[INFO] 2020-11-30 13:53:49,438 >>\tSuccessfully load checkpoint from exp/node/v010/best/best_loss3fold.pkl.\n",
      "  0%|          | 0/25 [00:00<?, ?it/s]"
     ]
    },
    {
     "name": "stdout",
     "output_type": "stream",
     "text": [
      "Finished training.\n"
     ]
    },
    {
     "name": "stderr",
     "output_type": "stream",
     "text": [
      "100%|██████████| 25/25 [00:00<00:00, 72.48it/s]\n",
      "[INFO] 2020-11-30 13:53:49,800 >>\tSuccessfully inference dev data at fold3.\n",
      "[INFO] 2020-11-30 13:53:50,049 >>\tfold3 score: 0.013593, Step:2340, Epoch:60.\n",
      "[INFO] 2020-11-30 13:53:50,079 >>\tStart to train fold 4.\n",
      "[INFO] 2020-11-30 13:53:50,246 >>\tThe number of pseudo labels is (1404, 206)\n",
      "[INFO] 2020-11-30 13:53:50,519 >>\ttrain_set:torch.Size([1452]), val_set:torch.Size([1452])\n",
      "[INFO] 2020-11-30 13:53:50,547 >>\tSuccessfully resumed from exp/node/v010/best/best_loss3fold.pkl.\n",
      "[INFO] 2020-11-30 13:53:50,548 >>\tStart training!\n",
      "[train]:   6%|▋         | 158/2500 [00:04<01:04, 36.19it/s]"
     ]
    },
    {
     "name": "stdout",
     "output_type": "stream",
     "text": [
      "(Steps: 158) Finished 60 epoch training (158 steps per epoch).\n",
      "(Epoch: 60) train/loss = 0.00000.\n",
      "(Epoch: 60) train/epoch_metric = 0.01087.\n",
      "(Epoch: 60) train/epoch_auc = 0.96415.\n",
      "(Epoch: 60) train/epoch_acc = 0.99750.\n",
      "(Epoch: 60) train/epoch_recall = 0.38986.\n",
      "(Epoch: 60) train/epoch_precision = 0.86705.\n"
     ]
    },
    {
     "name": "stderr",
     "output_type": "stream",
     "text": [
      "[train]:  13%|█▎        | 316/2500 [00:14<01:26, 25.27it/s]"
     ]
    },
    {
     "name": "stdout",
     "output_type": "stream",
     "text": [
      "(Steps: 316) Finished 61 epoch training (158 steps per epoch).\n",
      "(Epoch: 61) train/loss = 0.00000.\n",
      "(Epoch: 61) train/epoch_metric = 0.00977.\n",
      "(Epoch: 61) train/epoch_auc = 0.97863.\n",
      "(Epoch: 61) train/epoch_acc = 0.99766.\n",
      "(Epoch: 61) train/epoch_recall = 0.41930.\n",
      "(Epoch: 61) train/epoch_precision = 0.89847.\n"
     ]
    },
    {
     "name": "stderr",
     "output_type": "stream",
     "text": [
      "[train]:  19%|█▉        | 474/2500 [00:25<01:43, 19.53it/s]"
     ]
    },
    {
     "name": "stdout",
     "output_type": "stream",
     "text": [
      "(Steps: 474) Finished 62 epoch training (158 steps per epoch).\n",
      "(Epoch: 62) train/loss = 0.00000.\n",
      "(Epoch: 62) train/epoch_metric = 0.00909.\n",
      "(Epoch: 62) train/epoch_auc = 0.98332.\n",
      "(Epoch: 62) train/epoch_acc = 0.99777.\n",
      "(Epoch: 62) train/epoch_recall = 0.44728.\n",
      "(Epoch: 62) train/epoch_precision = 0.90905.\n"
     ]
    },
    {
     "name": "stderr",
     "output_type": "stream",
     "text": [
      "[train]:  25%|██▌       | 632/2500 [00:34<00:49, 37.62it/s]"
     ]
    },
    {
     "name": "stdout",
     "output_type": "stream",
     "text": [
      "(Steps: 632) Finished 63 epoch training (158 steps per epoch).\n",
      "(Epoch: 63) train/loss = 0.00000.\n",
      "(Epoch: 63) train/epoch_metric = 0.00848.\n",
      "(Epoch: 63) train/epoch_auc = 0.98671.\n",
      "(Epoch: 63) train/epoch_acc = 0.99789.\n",
      "(Epoch: 63) train/epoch_recall = 0.47749.\n",
      "(Epoch: 63) train/epoch_precision = 0.91589.\n"
     ]
    },
    {
     "name": "stderr",
     "output_type": "stream",
     "text": [
      "[train]:  32%|███▏      | 790/2500 [00:44<00:45, 37.74it/s]"
     ]
    },
    {
     "name": "stdout",
     "output_type": "stream",
     "text": [
      "(Steps: 790) Finished 64 epoch training (158 steps per epoch).\n",
      "(Epoch: 64) train/loss = 0.00000.\n",
      "(Epoch: 64) train/epoch_metric = 0.00807.\n",
      "(Epoch: 64) train/epoch_auc = 0.98868.\n",
      "(Epoch: 64) train/epoch_acc = 0.99797.\n",
      "(Epoch: 64) train/epoch_recall = 0.49938.\n",
      "(Epoch: 64) train/epoch_precision = 0.91834.\n"
     ]
    },
    {
     "name": "stderr",
     "output_type": "stream",
     "text": [
      "[train]:  38%|███▊      | 945/2500 [00:55<00:59, 26.22it/s]"
     ]
    },
    {
     "name": "stdout",
     "output_type": "stream",
     "text": [
      "(Steps: 948) Finished 65 epoch training (158 steps per epoch).\n",
      "(Epoch: 65) train/loss = 0.00000.\n",
      "(Epoch: 65) train/epoch_metric = 0.00777.\n",
      "(Epoch: 65) train/epoch_auc = 0.98992.\n",
      "(Epoch: 65) train/epoch_acc = 0.99804.\n",
      "(Epoch: 65) train/epoch_recall = 0.51676.\n",
      "(Epoch: 65) train/epoch_precision = 0.92247.\n"
     ]
    },
    {
     "name": "stderr",
     "output_type": "stream",
     "text": [
      "[train]:  44%|████▍     | 1103/2500 [01:06<00:36, 38.42it/s]"
     ]
    },
    {
     "name": "stdout",
     "output_type": "stream",
     "text": [
      "(Steps: 1106) Finished 66 epoch training (158 steps per epoch).\n",
      "(Epoch: 66) train/loss = 0.00000.\n",
      "(Epoch: 66) train/epoch_metric = 0.00765.\n",
      "(Epoch: 66) train/epoch_auc = 0.99077.\n",
      "(Epoch: 66) train/epoch_acc = 0.99803.\n",
      "(Epoch: 66) train/epoch_recall = 0.51912.\n",
      "(Epoch: 66) train/epoch_precision = 0.91479.\n"
     ]
    },
    {
     "name": "stderr",
     "output_type": "stream",
     "text": [
      "[train]:  50%|█████     | 1260/2500 [01:15<00:33, 36.90it/s]"
     ]
    },
    {
     "name": "stdout",
     "output_type": "stream",
     "text": [
      "(Steps: 1264) Finished 67 epoch training (158 steps per epoch).\n",
      "(Epoch: 67) train/loss = 0.00000.\n",
      "(Epoch: 67) train/epoch_metric = 0.00758.\n",
      "(Epoch: 67) train/epoch_auc = 0.99040.\n",
      "(Epoch: 67) train/epoch_acc = 0.99806.\n",
      "(Epoch: 67) train/epoch_recall = 0.52743.\n",
      "(Epoch: 67) train/epoch_precision = 0.91427.\n"
     ]
    },
    {
     "name": "stderr",
     "output_type": "stream",
     "text": [
      "[train]:  57%|█████▋    | 1422/2500 [01:25<00:28, 37.54it/s]"
     ]
    },
    {
     "name": "stdout",
     "output_type": "stream",
     "text": [
      "(Steps: 1422) Finished 68 epoch training (158 steps per epoch).\n",
      "(Epoch: 68) train/loss = 0.00000.\n",
      "(Epoch: 68) train/epoch_metric = 0.00749.\n",
      "(Epoch: 68) train/epoch_auc = 0.99109.\n",
      "(Epoch: 68) train/epoch_acc = 0.99808.\n",
      "(Epoch: 68) train/epoch_recall = 0.53207.\n",
      "(Epoch: 68) train/epoch_precision = 0.91999.\n"
     ]
    },
    {
     "name": "stderr",
     "output_type": "stream",
     "text": [
      "[train]:  63%|██████▎   | 1579/2500 [01:36<00:31, 29.09it/s]"
     ]
    },
    {
     "name": "stdout",
     "output_type": "stream",
     "text": [
      "(Steps: 1580) Finished 69 epoch training (158 steps per epoch).\n",
      "(Epoch: 69) train/loss = 0.00000.\n",
      "(Epoch: 69) train/epoch_metric = 0.00737.\n",
      "(Epoch: 69) train/epoch_auc = 0.99126.\n",
      "(Epoch: 69) train/epoch_acc = 0.99810.\n",
      "(Epoch: 69) train/epoch_recall = 0.53609.\n",
      "(Epoch: 69) train/epoch_precision = 0.92065.\n"
     ]
    },
    {
     "name": "stderr",
     "output_type": "stream",
     "text": [
      "[train]:  70%|██████▉   | 1738/2500 [01:46<00:19, 38.61it/s]"
     ]
    },
    {
     "name": "stdout",
     "output_type": "stream",
     "text": [
      "(Steps: 1738) Finished 70 epoch training (158 steps per epoch).\n",
      "(Epoch: 70) train/loss = 0.00000.\n",
      "(Epoch: 70) train/epoch_metric = 0.00737.\n",
      "(Epoch: 70) train/epoch_auc = 0.99178.\n",
      "(Epoch: 70) train/epoch_acc = 0.99808.\n",
      "(Epoch: 70) train/epoch_recall = 0.53394.\n",
      "(Epoch: 70) train/epoch_precision = 0.91468.\n"
     ]
    },
    {
     "name": "stderr",
     "output_type": "stream",
     "text": [
      "[train]:  76%|███████▌  | 1896/2500 [01:56<00:16, 37.06it/s]"
     ]
    },
    {
     "name": "stdout",
     "output_type": "stream",
     "text": [
      "(Steps: 1896) Finished 71 epoch training (158 steps per epoch).\n",
      "(Epoch: 71) train/loss = 0.00000.\n",
      "(Epoch: 71) train/epoch_metric = 0.00730.\n",
      "(Epoch: 71) train/epoch_auc = 0.99197.\n",
      "(Epoch: 71) train/epoch_acc = 0.99812.\n",
      "(Epoch: 71) train/epoch_recall = 0.54323.\n",
      "(Epoch: 71) train/epoch_precision = 0.91988.\n"
     ]
    },
    {
     "name": "stderr",
     "output_type": "stream",
     "text": [
      "[train]:  82%|████████▏ | 2053/2500 [02:07<00:12, 34.88it/s]"
     ]
    },
    {
     "name": "stdout",
     "output_type": "stream",
     "text": [
      "(Steps: 2054) Finished 72 epoch training (158 steps per epoch).\n",
      "(Epoch: 72) train/loss = 0.00000.\n",
      "(Epoch: 72) train/epoch_metric = 0.00723.\n",
      "(Epoch: 72) train/epoch_auc = 0.99189.\n",
      "(Epoch: 72) train/epoch_acc = 0.99814.\n",
      "(Epoch: 72) train/epoch_recall = 0.54579.\n",
      "(Epoch: 72) train/epoch_precision = 0.92282.\n"
     ]
    },
    {
     "name": "stderr",
     "output_type": "stream",
     "text": [
      "[train]:  88%|████████▊ | 2212/2500 [02:18<00:09, 28.82it/s]"
     ]
    },
    {
     "name": "stdout",
     "output_type": "stream",
     "text": [
      "(Steps: 2212) Finished 73 epoch training (158 steps per epoch).\n",
      "(Epoch: 73) train/loss = 0.00000.\n",
      "(Epoch: 73) train/epoch_metric = 0.00714.\n",
      "(Epoch: 73) train/epoch_auc = 0.99234.\n",
      "(Epoch: 73) train/epoch_acc = 0.99815.\n",
      "(Epoch: 73) train/epoch_recall = 0.54974.\n",
      "(Epoch: 73) train/epoch_precision = 0.92183.\n"
     ]
    },
    {
     "name": "stderr",
     "output_type": "stream",
     "text": [
      "[train]:  95%|█████████▍| 2367/2500 [02:28<00:03, 37.00it/s]\n",
      "[dev]:   0%|          | 0/25 [00:00<?, ?it/s]\u001b[A"
     ]
    },
    {
     "name": "stdout",
     "output_type": "stream",
     "text": [
      "(Steps: 2370) Finished 74 epoch training (158 steps per epoch).\n",
      "(Epoch: 74) train/loss = 0.00000.\n",
      "(Epoch: 74) train/epoch_metric = 0.00705.\n",
      "(Epoch: 74) train/epoch_auc = 0.99231.\n",
      "(Epoch: 74) train/epoch_acc = 0.99817.\n",
      "(Epoch: 74) train/epoch_recall = 0.55556.\n",
      "(Epoch: 74) train/epoch_precision = 0.92279.\n",
      "(Steps: 2370) Start dev data's evaluation.\n"
     ]
    },
    {
     "name": "stderr",
     "output_type": "stream",
     "text": [
      "\n",
      "[dev]:   4%|▍         | 1/25 [00:00<00:02,  8.65it/s]\u001b[A\n",
      "[dev]: 100%|██████████| 25/25 [00:00<00:00, 70.54it/s]\n"
     ]
    },
    {
     "name": "stdout",
     "output_type": "stream",
     "text": [
      "(Steps: 2370) Finished dev data's evaluation (25 steps per epoch).\n",
      "(Epoch: 75) dev/loss = 0.00000.\n",
      "(Epoch: 75) dev/epoch_metric = 0.01492.\n",
      "(Epoch: 75) dev/epoch_auc = 0.90878.\n",
      "(Epoch: 75) dev/epoch_acc = 0.99722.\n",
      "(Epoch: 75) dev/epoch_recall = 0.27729.\n",
      "(Epoch: 75) dev/epoch_precision = 0.92393.\n",
      "(Steps: 2370) Start eval data's evaluation.\n"
     ]
    },
    {
     "name": "stderr",
     "output_type": "stream",
     "text": [
      "[train]: 100%|█████████▉| 2496/2500 [02:38<00:00, 41.30it/s]\n",
      "[dev]:   0%|          | 0/25 [00:00<?, ?it/s]\u001b[A"
     ]
    },
    {
     "name": "stdout",
     "output_type": "stream",
     "text": [
      "(Steps: 2500) Start dev data's evaluation.\n"
     ]
    },
    {
     "name": "stderr",
     "output_type": "stream",
     "text": [
      "\n",
      "[dev]:   4%|▍         | 1/25 [00:00<00:02,  9.56it/s]\u001b[A\n",
      "[dev]: 100%|██████████| 25/25 [00:00<00:00, 72.45it/s]\n",
      "[train]: 100%|██████████| 2500/2500 [02:40<00:00, 15.59it/s]\n",
      "[INFO] 2020-11-30 13:56:30,940 >>\tSuccessfully load checkpoint from exp/node/v010/best/best_loss4fold.pkl.\n",
      "  0%|          | 0/25 [00:00<?, ?it/s]"
     ]
    },
    {
     "name": "stdout",
     "output_type": "stream",
     "text": [
      "(Steps: 2500) Finished dev data's evaluation (25 steps per epoch).\n",
      "(Epoch: 75) dev/loss = 0.00000.\n",
      "(Epoch: 75) dev/epoch_metric = 0.01521.\n",
      "(Epoch: 75) dev/epoch_auc = 0.90224.\n",
      "(Epoch: 75) dev/epoch_acc = 0.99720.\n",
      "(Epoch: 75) dev/epoch_recall = 0.27148.\n",
      "(Epoch: 75) dev/epoch_precision = 0.92635.\n",
      "(Steps: 2500) Start eval data's evaluation.\n",
      "Finished training.\n"
     ]
    },
    {
     "name": "stderr",
     "output_type": "stream",
     "text": [
      "100%|██████████| 25/25 [00:00<00:00, 84.71it/s]\n",
      "[INFO] 2020-11-30 13:56:31,249 >>\tSuccessfully inference dev data at fold4.\n",
      "[INFO] 2020-11-30 13:56:31,493 >>\tfold4 score: 0.014917, Step:2370, Epoch:75.\n",
      "[INFO] 2020-11-30 13:56:31,525 >>\tStart to train fold 5.\n",
      "[INFO] 2020-11-30 13:56:31,691 >>\tThe number of pseudo labels is (1754, 206)\n",
      "[INFO] 2020-11-30 13:56:31,965 >>\ttrain_set:torch.Size([1452]), val_set:torch.Size([1452])\n",
      "[INFO] 2020-11-30 13:56:31,993 >>\tSuccessfully resumed from exp/node/v010/best/best_loss4fold.pkl.\n",
      "[INFO] 2020-11-30 13:56:31,994 >>\tStart training!\n",
      "[train]:   1%|          | 15/2500 [00:00<03:05, 13.40it/s]"
     ]
    },
    {
     "name": "stdout",
     "output_type": "stream",
     "text": [
      "recalibrate layer.weight_v\n"
     ]
    },
    {
     "name": "stderr",
     "output_type": "stream",
     "text": [
      "[train]:   6%|▋         | 161/2500 [00:03<01:19, 29.52it/s]"
     ]
    },
    {
     "name": "stdout",
     "output_type": "stream",
     "text": [
      "(Steps: 161) Finished 75 epoch training (161 steps per epoch).\n",
      "(Epoch: 75) train/loss = 0.00000.\n",
      "(Epoch: 75) train/epoch_metric = 0.00923.\n",
      "(Epoch: 75) train/epoch_auc = 0.96722.\n",
      "(Epoch: 75) train/epoch_acc = 0.99788.\n",
      "(Epoch: 75) train/epoch_recall = 0.47960.\n",
      "(Epoch: 75) train/epoch_precision = 0.90889.\n"
     ]
    },
    {
     "name": "stderr",
     "output_type": "stream",
     "text": [
      "[train]:  13%|█▎        | 321/2500 [00:15<01:15, 28.76it/s]"
     ]
    },
    {
     "name": "stdout",
     "output_type": "stream",
     "text": [
      "(Steps: 322) Finished 76 epoch training (161 steps per epoch).\n",
      "(Epoch: 76) train/loss = 0.00000.\n",
      "(Epoch: 76) train/epoch_metric = 0.00876.\n",
      "(Epoch: 76) train/epoch_auc = 0.97732.\n",
      "(Epoch: 76) train/epoch_acc = 0.99795.\n",
      "(Epoch: 76) train/epoch_recall = 0.49041.\n",
      "(Epoch: 76) train/epoch_precision = 0.92319.\n"
     ]
    },
    {
     "name": "stderr",
     "output_type": "stream",
     "text": [
      "[train]:  19%|█▉        | 481/2500 [00:26<00:59, 33.88it/s]"
     ]
    },
    {
     "name": "stdout",
     "output_type": "stream",
     "text": [
      "(Steps: 483) Finished 77 epoch training (161 steps per epoch).\n",
      "(Epoch: 77) train/loss = 0.00000.\n",
      "(Epoch: 77) train/epoch_metric = 0.00844.\n",
      "(Epoch: 77) train/epoch_auc = 0.98066.\n",
      "(Epoch: 77) train/epoch_acc = 0.99800.\n",
      "(Epoch: 77) train/epoch_recall = 0.50301.\n",
      "(Epoch: 77) train/epoch_precision = 0.92733.\n"
     ]
    },
    {
     "name": "stderr",
     "output_type": "stream",
     "text": [
      "[train]:  26%|██▌       | 642/2500 [00:36<00:51, 36.24it/s]"
     ]
    },
    {
     "name": "stdout",
     "output_type": "stream",
     "text": [
      "(Steps: 644) Finished 78 epoch training (161 steps per epoch).\n",
      "(Epoch: 78) train/loss = 0.00000.\n",
      "(Epoch: 78) train/epoch_metric = 0.00829.\n",
      "(Epoch: 78) train/epoch_auc = 0.98193.\n",
      "(Epoch: 78) train/epoch_acc = 0.99804.\n",
      "(Epoch: 78) train/epoch_recall = 0.51160.\n",
      "(Epoch: 78) train/epoch_precision = 0.93022.\n"
     ]
    },
    {
     "name": "stderr",
     "output_type": "stream",
     "text": [
      "[train]:  32%|███▏      | 802/2500 [00:46<00:47, 35.60it/s]"
     ]
    },
    {
     "name": "stdout",
     "output_type": "stream",
     "text": [
      "(Steps: 805) Finished 79 epoch training (161 steps per epoch).\n",
      "(Epoch: 79) train/loss = 0.00000.\n",
      "(Epoch: 79) train/epoch_metric = 0.00819.\n",
      "(Epoch: 79) train/epoch_auc = 0.98279.\n",
      "(Epoch: 79) train/epoch_acc = 0.99803.\n",
      "(Epoch: 79) train/epoch_recall = 0.51230.\n",
      "(Epoch: 79) train/epoch_precision = 0.92403.\n"
     ]
    },
    {
     "name": "stderr",
     "output_type": "stream",
     "text": [
      "[train]:  39%|███▊      | 965/2500 [00:57<01:24, 18.09it/s]"
     ]
    },
    {
     "name": "stdout",
     "output_type": "stream",
     "text": [
      "(Steps: 966) Finished 80 epoch training (161 steps per epoch).\n",
      "(Epoch: 80) train/loss = 0.00000.\n",
      "(Epoch: 80) train/epoch_metric = 0.00811.\n",
      "(Epoch: 80) train/epoch_auc = 0.98405.\n",
      "(Epoch: 80) train/epoch_acc = 0.99805.\n",
      "(Epoch: 80) train/epoch_recall = 0.51825.\n",
      "(Epoch: 80) train/epoch_precision = 0.92724.\n"
     ]
    },
    {
     "name": "stderr",
     "output_type": "stream",
     "text": [
      "[train]:  45%|████▌     | 1127/2500 [01:08<00:37, 36.17it/s]"
     ]
    },
    {
     "name": "stdout",
     "output_type": "stream",
     "text": [
      "(Steps: 1127) Finished 81 epoch training (161 steps per epoch).\n",
      "(Epoch: 81) train/loss = 0.00000.\n",
      "(Epoch: 81) train/epoch_metric = 0.00811.\n",
      "(Epoch: 81) train/epoch_auc = 0.98404.\n",
      "(Epoch: 81) train/epoch_acc = 0.99805.\n",
      "(Epoch: 81) train/epoch_recall = 0.51618.\n",
      "(Epoch: 81) train/epoch_precision = 0.92940.\n"
     ]
    },
    {
     "name": "stderr",
     "output_type": "stream",
     "text": [
      "[train]:  52%|█████▏    | 1288/2500 [01:18<00:48, 25.21it/s]"
     ]
    },
    {
     "name": "stdout",
     "output_type": "stream",
     "text": [
      "(Steps: 1288) Finished 82 epoch training (161 steps per epoch).\n",
      "(Epoch: 82) train/loss = 0.00000.\n",
      "(Epoch: 82) train/epoch_metric = 0.00804.\n",
      "(Epoch: 82) train/epoch_auc = 0.98456.\n",
      "(Epoch: 82) train/epoch_acc = 0.99805.\n",
      "(Epoch: 82) train/epoch_recall = 0.51888.\n",
      "(Epoch: 82) train/epoch_precision = 0.92606.\n"
     ]
    },
    {
     "name": "stderr",
     "output_type": "stream",
     "text": [
      "[train]:  58%|█████▊    | 1447/2500 [01:28<00:29, 35.84it/s]"
     ]
    },
    {
     "name": "stdout",
     "output_type": "stream",
     "text": [
      "(Steps: 1449) Finished 83 epoch training (161 steps per epoch).\n",
      "(Epoch: 83) train/loss = 0.00000.\n",
      "(Epoch: 83) train/epoch_metric = 0.00804.\n",
      "(Epoch: 83) train/epoch_auc = 0.98489.\n",
      "(Epoch: 83) train/epoch_acc = 0.99807.\n",
      "(Epoch: 83) train/epoch_recall = 0.52227.\n",
      "(Epoch: 83) train/epoch_precision = 0.92845.\n"
     ]
    },
    {
     "name": "stderr",
     "output_type": "stream",
     "text": [
      "[train]:  64%|██████▍   | 1609/2500 [01:39<00:31, 28.24it/s]"
     ]
    },
    {
     "name": "stdout",
     "output_type": "stream",
     "text": [
      "(Steps: 1610) Finished 84 epoch training (161 steps per epoch).\n",
      "(Epoch: 84) train/loss = 0.00000.\n",
      "(Epoch: 84) train/epoch_metric = 0.00800.\n",
      "(Epoch: 84) train/epoch_auc = 0.98527.\n",
      "(Epoch: 84) train/epoch_acc = 0.99806.\n",
      "(Epoch: 84) train/epoch_recall = 0.52075.\n",
      "(Epoch: 84) train/epoch_precision = 0.92688.\n"
     ]
    },
    {
     "name": "stderr",
     "output_type": "stream",
     "text": [
      "[train]:  71%|███████   | 1769/2500 [01:50<00:20, 35.16it/s]"
     ]
    },
    {
     "name": "stdout",
     "output_type": "stream",
     "text": [
      "(Steps: 1771) Finished 85 epoch training (161 steps per epoch).\n",
      "(Epoch: 85) train/loss = 0.00000.\n",
      "(Epoch: 85) train/epoch_metric = 0.00800.\n",
      "(Epoch: 85) train/epoch_auc = 0.98472.\n",
      "(Epoch: 85) train/epoch_acc = 0.99805.\n",
      "(Epoch: 85) train/epoch_recall = 0.52200.\n",
      "(Epoch: 85) train/epoch_precision = 0.92183.\n"
     ]
    },
    {
     "name": "stderr",
     "output_type": "stream",
     "text": [
      "[train]:  77%|███████▋  | 1930/2500 [02:00<00:15, 36.31it/s]"
     ]
    },
    {
     "name": "stdout",
     "output_type": "stream",
     "text": [
      "(Steps: 1932) Finished 86 epoch training (161 steps per epoch).\n",
      "(Epoch: 86) train/loss = 0.00000.\n",
      "(Epoch: 86) train/epoch_metric = 0.00796.\n",
      "(Epoch: 86) train/epoch_auc = 0.98577.\n",
      "(Epoch: 86) train/epoch_acc = 0.99806.\n",
      "(Epoch: 86) train/epoch_recall = 0.52546.\n",
      "(Epoch: 86) train/epoch_precision = 0.91973.\n"
     ]
    },
    {
     "name": "stderr",
     "output_type": "stream",
     "text": [
      "[train]:  84%|████████▎ | 2093/2500 [02:10<00:12, 33.68it/s]"
     ]
    },
    {
     "name": "stdout",
     "output_type": "stream",
     "text": [
      "(Steps: 2093) Finished 87 epoch training (161 steps per epoch).\n",
      "(Epoch: 87) train/loss = 0.00000.\n",
      "(Epoch: 87) train/epoch_metric = 0.00800.\n",
      "(Epoch: 87) train/epoch_auc = 0.98506.\n",
      "(Epoch: 87) train/epoch_acc = 0.99807.\n",
      "(Epoch: 87) train/epoch_recall = 0.52213.\n",
      "(Epoch: 87) train/epoch_precision = 0.92889.\n"
     ]
    },
    {
     "name": "stderr",
     "output_type": "stream",
     "text": [
      "[train]:  90%|█████████ | 2254/2500 [02:22<00:08, 27.91it/s]"
     ]
    },
    {
     "name": "stdout",
     "output_type": "stream",
     "text": [
      "(Steps: 2254) Finished 88 epoch training (161 steps per epoch).\n",
      "(Epoch: 88) train/loss = 0.00000.\n",
      "(Epoch: 88) train/epoch_metric = 0.00800.\n",
      "(Epoch: 88) train/epoch_auc = 0.98529.\n",
      "(Epoch: 88) train/epoch_acc = 0.99807.\n",
      "(Epoch: 88) train/epoch_recall = 0.52255.\n",
      "(Epoch: 88) train/epoch_precision = 0.92609.\n"
     ]
    },
    {
     "name": "stderr",
     "output_type": "stream",
     "text": [
      "[train]:  97%|█████████▋| 2415/2500 [02:32<00:02, 35.70it/s]\n",
      "[dev]:   0%|          | 0/25 [00:00<?, ?it/s]\u001b[A"
     ]
    },
    {
     "name": "stdout",
     "output_type": "stream",
     "text": [
      "(Steps: 2415) Finished 89 epoch training (161 steps per epoch).\n",
      "(Epoch: 89) train/loss = 0.00000.\n",
      "(Epoch: 89) train/epoch_metric = 0.00794.\n",
      "(Epoch: 89) train/epoch_auc = 0.98578.\n",
      "(Epoch: 89) train/epoch_acc = 0.99808.\n",
      "(Epoch: 89) train/epoch_recall = 0.52581.\n",
      "(Epoch: 89) train/epoch_precision = 0.92776.\n",
      "(Steps: 2415) Start dev data's evaluation.\n"
     ]
    },
    {
     "name": "stderr",
     "output_type": "stream",
     "text": [
      "\n",
      "[dev]:   4%|▍         | 1/25 [00:00<00:02,  8.85it/s]\u001b[A\n",
      "[dev]:  48%|████▊     | 12/25 [00:00<00:01, 12.20it/s]\u001b[A\n",
      "[dev]: 100%|██████████| 25/25 [00:00<00:00, 53.87it/s]\n"
     ]
    },
    {
     "name": "stdout",
     "output_type": "stream",
     "text": [
      "(Steps: 2415) Finished dev data's evaluation (25 steps per epoch).\n",
      "(Epoch: 90) dev/loss = 0.00000.\n",
      "(Epoch: 90) dev/epoch_metric = 0.00480.\n",
      "(Epoch: 90) dev/epoch_auc = 0.99665.\n",
      "(Epoch: 90) dev/epoch_acc = 0.99873.\n",
      "(Epoch: 90) dev/epoch_recall = 0.66390.\n",
      "(Epoch: 90) dev/epoch_precision = 0.99502.\n",
      "(Steps: 2415) Start eval data's evaluation.\n"
     ]
    },
    {
     "name": "stderr",
     "output_type": "stream",
     "text": [
      "[train]: 100%|█████████▉| 2498/2500 [02:42<00:00, 36.19it/s]\n",
      "[dev]:   0%|          | 0/25 [00:00<?, ?it/s]\u001b[A"
     ]
    },
    {
     "name": "stdout",
     "output_type": "stream",
     "text": [
      "(Steps: 2500) Start dev data's evaluation.\n"
     ]
    },
    {
     "name": "stderr",
     "output_type": "stream",
     "text": [
      "\n",
      "[dev]:   4%|▍         | 1/25 [00:00<00:02,  9.08it/s]\u001b[A\n",
      "[dev]: 100%|██████████| 25/25 [00:00<00:00, 71.74it/s]\n",
      "[train]: 100%|██████████| 2500/2500 [02:43<00:00, 15.25it/s]\n",
      "[INFO] 2020-11-30 13:59:15,931 >>\tSuccessfully load checkpoint from exp/node/v010/best/best_loss5fold.pkl.\n",
      "  0%|          | 0/25 [00:00<?, ?it/s]"
     ]
    },
    {
     "name": "stdout",
     "output_type": "stream",
     "text": [
      "(Steps: 2500) Finished dev data's evaluation (25 steps per epoch).\n",
      "(Epoch: 90) dev/loss = 0.00000.\n",
      "(Epoch: 90) dev/epoch_metric = 0.00475.\n",
      "(Epoch: 90) dev/epoch_auc = 0.99681.\n",
      "(Epoch: 90) dev/epoch_acc = 0.99873.\n",
      "(Epoch: 90) dev/epoch_recall = 0.66390.\n",
      "(Epoch: 90) dev/epoch_precision = 0.99256.\n",
      "(Steps: 2500) Start eval data's evaluation.\n",
      "Finished training.\n"
     ]
    },
    {
     "name": "stderr",
     "output_type": "stream",
     "text": [
      "100%|██████████| 25/25 [00:00<00:00, 83.03it/s]\n",
      "[INFO] 2020-11-30 13:59:16,249 >>\tSuccessfully inference dev data at fold5.\n",
      "[INFO] 2020-11-30 13:59:16,493 >>\tfold5 score: 0.004749, Step:2500, Epoch:90.\n",
      "[INFO] 2020-11-30 13:59:16,536 >>\tStart to train fold 6.\n",
      "[INFO] 2020-11-30 13:59:16,699 >>\tThe number of pseudo labels is (2363, 206)\n",
      "[INFO] 2020-11-30 13:59:17,013 >>\ttrain_set:torch.Size([1452]), val_set:torch.Size([1452])\n",
      "[INFO] 2020-11-30 13:59:17,040 >>\tSuccessfully resumed from exp/node/v010/best/best_loss5fold.pkl.\n",
      "[INFO] 2020-11-30 13:59:17,041 >>\tStart training!\n",
      "[train]:   1%|          | 15/2500 [00:00<03:01, 13.72it/s]"
     ]
    },
    {
     "name": "stdout",
     "output_type": "stream",
     "text": [
      "recalibrate layer.weight_v\n"
     ]
    },
    {
     "name": "stderr",
     "output_type": "stream",
     "text": [
      "[train]:   7%|▋         | 164/2500 [00:03<01:07, 34.39it/s]"
     ]
    },
    {
     "name": "stdout",
     "output_type": "stream",
     "text": [
      "(Steps: 166) Finished 90 epoch training (166 steps per epoch).\n",
      "(Epoch: 90) train/loss = 0.00000.\n",
      "(Epoch: 90) train/epoch_metric = 0.00976.\n",
      "(Epoch: 90) train/epoch_auc = 0.97500.\n",
      "(Epoch: 90) train/epoch_acc = 0.99770.\n",
      "(Epoch: 90) train/epoch_recall = 0.43468.\n",
      "(Epoch: 90) train/epoch_precision = 0.89339.\n"
     ]
    },
    {
     "name": "stderr",
     "output_type": "stream",
     "text": [
      "[train]:  13%|█▎        | 332/2500 [00:14<01:11, 30.35it/s]"
     ]
    },
    {
     "name": "stdout",
     "output_type": "stream",
     "text": [
      "(Steps: 332) Finished 91 epoch training (166 steps per epoch).\n",
      "(Epoch: 91) train/loss = 0.00000.\n",
      "(Epoch: 91) train/epoch_metric = 0.00895.\n",
      "(Epoch: 91) train/epoch_auc = 0.98277.\n",
      "(Epoch: 91) train/epoch_acc = 0.99783.\n",
      "(Epoch: 91) train/epoch_recall = 0.46379.\n",
      "(Epoch: 91) train/epoch_precision = 0.91226.\n"
     ]
    },
    {
     "name": "stderr",
     "output_type": "stream",
     "text": [
      "[train]:  20%|█▉        | 497/2500 [00:25<00:56, 35.43it/s]"
     ]
    },
    {
     "name": "stdout",
     "output_type": "stream",
     "text": [
      "(Steps: 498) Finished 92 epoch training (166 steps per epoch).\n",
      "(Epoch: 92) train/loss = 0.00000.\n",
      "(Epoch: 92) train/epoch_metric = 0.00839.\n",
      "(Epoch: 92) train/epoch_auc = 0.98631.\n",
      "(Epoch: 92) train/epoch_acc = 0.99793.\n",
      "(Epoch: 92) train/epoch_recall = 0.48855.\n",
      "(Epoch: 92) train/epoch_precision = 0.92003.\n"
     ]
    },
    {
     "name": "stderr",
     "output_type": "stream",
     "text": [
      "[train]:  27%|██▋       | 663/2500 [00:36<00:51, 35.87it/s]"
     ]
    },
    {
     "name": "stdout",
     "output_type": "stream",
     "text": [
      "(Steps: 664) Finished 93 epoch training (166 steps per epoch).\n",
      "(Epoch: 93) train/loss = 0.00000.\n",
      "(Epoch: 93) train/epoch_metric = 0.00786.\n",
      "(Epoch: 93) train/epoch_auc = 0.98861.\n",
      "(Epoch: 93) train/epoch_acc = 0.99804.\n",
      "(Epoch: 93) train/epoch_recall = 0.51456.\n",
      "(Epoch: 93) train/epoch_precision = 0.92641.\n"
     ]
    },
    {
     "name": "stderr",
     "output_type": "stream",
     "text": [
      "[train]:  33%|███▎      | 828/2500 [00:46<00:55, 30.26it/s]"
     ]
    },
    {
     "name": "stdout",
     "output_type": "stream",
     "text": [
      "(Steps: 830) Finished 94 epoch training (166 steps per epoch).\n",
      "(Epoch: 94) train/loss = 0.00000.\n",
      "(Epoch: 94) train/epoch_metric = 0.00761.\n",
      "(Epoch: 94) train/epoch_auc = 0.99022.\n",
      "(Epoch: 94) train/epoch_acc = 0.99808.\n",
      "(Epoch: 94) train/epoch_recall = 0.52936.\n",
      "(Epoch: 94) train/epoch_precision = 0.92295.\n"
     ]
    },
    {
     "name": "stderr",
     "output_type": "stream",
     "text": [
      "[train]:  40%|███▉      | 993/2500 [00:58<00:42, 35.66it/s]"
     ]
    },
    {
     "name": "stdout",
     "output_type": "stream",
     "text": [
      "(Steps: 996) Finished 95 epoch training (166 steps per epoch).\n",
      "(Epoch: 95) train/loss = 0.00000.\n",
      "(Epoch: 95) train/epoch_metric = 0.00740.\n",
      "(Epoch: 95) train/epoch_auc = 0.99051.\n",
      "(Epoch: 95) train/epoch_acc = 0.99813.\n",
      "(Epoch: 95) train/epoch_recall = 0.54312.\n",
      "(Epoch: 95) train/epoch_precision = 0.92258.\n"
     ]
    },
    {
     "name": "stderr",
     "output_type": "stream",
     "text": [
      "[train]:  46%|████▋     | 1159/2500 [01:08<00:36, 36.62it/s]"
     ]
    },
    {
     "name": "stdout",
     "output_type": "stream",
     "text": [
      "(Steps: 1162) Finished 96 epoch training (166 steps per epoch).\n",
      "(Epoch: 96) train/loss = 0.00000.\n",
      "(Epoch: 96) train/epoch_metric = 0.00735.\n",
      "(Epoch: 96) train/epoch_auc = 0.99118.\n",
      "(Epoch: 96) train/epoch_acc = 0.99813.\n",
      "(Epoch: 96) train/epoch_recall = 0.54534.\n",
      "(Epoch: 96) train/epoch_precision = 0.92341.\n"
     ]
    },
    {
     "name": "stderr",
     "output_type": "stream",
     "text": [
      "[train]:  53%|█████▎    | 1328/2500 [01:18<00:32, 35.62it/s]"
     ]
    },
    {
     "name": "stdout",
     "output_type": "stream",
     "text": [
      "(Steps: 1328) Finished 97 epoch training (166 steps per epoch).\n",
      "(Epoch: 97) train/loss = 0.00000.\n",
      "(Epoch: 97) train/epoch_metric = 0.00721.\n",
      "(Epoch: 97) train/epoch_auc = 0.99201.\n",
      "(Epoch: 97) train/epoch_acc = 0.99815.\n",
      "(Epoch: 97) train/epoch_recall = 0.54845.\n",
      "(Epoch: 97) train/epoch_precision = 0.92554.\n"
     ]
    },
    {
     "name": "stderr",
     "output_type": "stream",
     "text": [
      "[train]:  54%|█████▍    | 1353/2500 [01:25<01:40, 11.38it/s]"
     ]
    },
    {
     "name": "stdout",
     "output_type": "stream",
     "text": [
      "recalibrate layer.weight_v\n"
     ]
    },
    {
     "name": "stderr",
     "output_type": "stream",
     "text": [
      "[train]:  60%|█████▉    | 1493/2500 [01:30<00:41, 24.15it/s]"
     ]
    },
    {
     "name": "stdout",
     "output_type": "stream",
     "text": [
      "(Steps: 1494) Finished 98 epoch training (166 steps per epoch).\n",
      "(Epoch: 98) train/loss = 0.00000.\n",
      "(Epoch: 98) train/epoch_metric = 0.00685.\n",
      "(Epoch: 98) train/epoch_auc = 0.99247.\n",
      "(Epoch: 98) train/epoch_acc = 0.99825.\n",
      "(Epoch: 98) train/epoch_recall = 0.57148.\n",
      "(Epoch: 98) train/epoch_precision = 0.93199.\n"
     ]
    },
    {
     "name": "stderr",
     "output_type": "stream",
     "text": [
      "[train]:  66%|██████▋   | 1658/2500 [01:41<00:23, 36.03it/s]"
     ]
    },
    {
     "name": "stdout",
     "output_type": "stream",
     "text": [
      "(Steps: 1660) Finished 99 epoch training (166 steps per epoch).\n",
      "(Epoch: 99) train/loss = 0.00000.\n",
      "(Epoch: 99) train/epoch_metric = 0.00676.\n",
      "(Epoch: 99) train/epoch_auc = 0.99310.\n",
      "(Epoch: 99) train/epoch_acc = 0.99826.\n",
      "(Epoch: 99) train/epoch_recall = 0.57646.\n",
      "(Epoch: 99) train/epoch_precision = 0.93243.\n"
     ]
    },
    {
     "name": "stderr",
     "output_type": "stream",
     "text": [
      "[train]:  73%|███████▎  | 1823/2500 [01:50<00:19, 34.79it/s]"
     ]
    },
    {
     "name": "stdout",
     "output_type": "stream",
     "text": [
      "(Steps: 1826) Finished 100 epoch training (166 steps per epoch).\n",
      "(Epoch: 100) train/loss = 0.00000.\n",
      "(Epoch: 100) train/epoch_metric = 0.00670.\n",
      "(Epoch: 100) train/epoch_auc = 0.99354.\n",
      "(Epoch: 100) train/epoch_acc = 0.99826.\n",
      "(Epoch: 100) train/epoch_recall = 0.57590.\n",
      "(Epoch: 100) train/epoch_precision = 0.93227.\n"
     ]
    },
    {
     "name": "stderr",
     "output_type": "stream",
     "text": [
      "[train]:  80%|███████▉  | 1990/2500 [02:01<00:14, 34.32it/s]"
     ]
    },
    {
     "name": "stdout",
     "output_type": "stream",
     "text": [
      "(Steps: 1992) Finished 101 epoch training (166 steps per epoch).\n",
      "(Epoch: 101) train/loss = 0.00000.\n",
      "(Epoch: 101) train/epoch_metric = 0.00668.\n",
      "(Epoch: 101) train/epoch_auc = 0.99325.\n",
      "(Epoch: 101) train/epoch_acc = 0.99828.\n",
      "(Epoch: 101) train/epoch_recall = 0.58192.\n",
      "(Epoch: 101) train/epoch_precision = 0.93086.\n"
     ]
    },
    {
     "name": "stderr",
     "output_type": "stream",
     "text": [
      "[train]:  86%|████████▌ | 2155/2500 [02:11<00:09, 35.14it/s]"
     ]
    },
    {
     "name": "stdout",
     "output_type": "stream",
     "text": [
      "(Steps: 2158) Finished 102 epoch training (166 steps per epoch).\n",
      "(Epoch: 102) train/loss = 0.00000.\n",
      "(Epoch: 102) train/epoch_metric = 0.00669.\n",
      "(Epoch: 102) train/epoch_auc = 0.99323.\n",
      "(Epoch: 102) train/epoch_acc = 0.99828.\n",
      "(Epoch: 102) train/epoch_recall = 0.57964.\n",
      "(Epoch: 102) train/epoch_precision = 0.93340.\n"
     ]
    },
    {
     "name": "stderr",
     "output_type": "stream",
     "text": [
      "[train]:  93%|█████████▎| 2324/2500 [02:21<00:04, 35.84it/s]"
     ]
    },
    {
     "name": "stdout",
     "output_type": "stream",
     "text": [
      "(Steps: 2324) Finished 103 epoch training (166 steps per epoch).\n",
      "(Epoch: 103) train/loss = 0.00000.\n",
      "(Epoch: 103) train/epoch_metric = 0.00667.\n",
      "(Epoch: 103) train/epoch_auc = 0.99325.\n",
      "(Epoch: 103) train/epoch_acc = 0.99830.\n",
      "(Epoch: 103) train/epoch_recall = 0.58386.\n",
      "(Epoch: 103) train/epoch_precision = 0.93551.\n"
     ]
    },
    {
     "name": "stderr",
     "output_type": "stream",
     "text": [
      "[train]: 100%|█████████▉| 2490/2500 [02:33<00:00, 26.88it/s]\n",
      "[dev]:   0%|          | 0/25 [00:00<?, ?it/s]\u001b[A"
     ]
    },
    {
     "name": "stdout",
     "output_type": "stream",
     "text": [
      "(Steps: 2490) Finished 104 epoch training (166 steps per epoch).\n",
      "(Epoch: 104) train/loss = 0.00000.\n",
      "(Epoch: 104) train/epoch_metric = 0.00669.\n",
      "(Epoch: 104) train/epoch_auc = 0.99315.\n",
      "(Epoch: 104) train/epoch_acc = 0.99827.\n",
      "(Epoch: 104) train/epoch_recall = 0.58337.\n",
      "(Epoch: 104) train/epoch_precision = 0.92631.\n",
      "(Steps: 2490) Start dev data's evaluation.\n"
     ]
    },
    {
     "name": "stderr",
     "output_type": "stream",
     "text": [
      "\n",
      "[dev]:   4%|▍         | 1/25 [00:00<00:02,  9.33it/s]\u001b[A\n",
      "[dev]:  52%|█████▏    | 13/25 [00:00<00:00, 12.89it/s]\u001b[A\n",
      "[dev]: 100%|██████████| 25/25 [00:00<00:00, 69.09it/s]\n"
     ]
    },
    {
     "name": "stdout",
     "output_type": "stream",
     "text": [
      "(Steps: 2490) Finished dev data's evaluation (25 steps per epoch).\n",
      "(Epoch: 105) dev/loss = 0.00000.\n",
      "(Epoch: 105) dev/epoch_metric = 0.01161.\n",
      "(Epoch: 105) dev/epoch_auc = 0.97138.\n",
      "(Epoch: 105) dev/epoch_acc = 0.99739.\n",
      "(Epoch: 105) dev/epoch_recall = 0.30637.\n",
      "(Epoch: 105) dev/epoch_precision = 0.95556.\n",
      "(Steps: 2490) Start eval data's evaluation.\n"
     ]
    },
    {
     "name": "stderr",
     "output_type": "stream",
     "text": [
      "[train]: 100%|██████████| 2500/2500 [02:42<00:00,  1.48it/s]\n",
      "[dev]:   0%|          | 0/25 [00:00<?, ?it/s]\u001b[A"
     ]
    },
    {
     "name": "stdout",
     "output_type": "stream",
     "text": [
      "(Steps: 2500) Start dev data's evaluation.\n"
     ]
    },
    {
     "name": "stderr",
     "output_type": "stream",
     "text": [
      "\n",
      "[dev]:   4%|▍         | 1/25 [00:00<00:02,  9.09it/s]\u001b[A\n",
      "[dev]: 100%|██████████| 25/25 [00:00<00:00, 72.71it/s]\n",
      "[train]: 100%|██████████| 2500/2500 [02:43<00:00, 15.25it/s]\n",
      "[INFO] 2020-11-30 14:02:00,978 >>\tSuccessfully load checkpoint from exp/node/v010/best/best_loss6fold.pkl.\n",
      "  0%|          | 0/25 [00:00<?, ?it/s]"
     ]
    },
    {
     "name": "stdout",
     "output_type": "stream",
     "text": [
      "(Steps: 2500) Finished dev data's evaluation (25 steps per epoch).\n",
      "(Epoch: 105) dev/loss = 0.00000.\n",
      "(Epoch: 105) dev/epoch_metric = 0.01162.\n",
      "(Epoch: 105) dev/epoch_auc = 0.97126.\n",
      "(Epoch: 105) dev/epoch_acc = 0.99738.\n",
      "(Epoch: 105) dev/epoch_recall = 0.30386.\n",
      "(Epoch: 105) dev/epoch_precision = 0.95773.\n",
      "(Steps: 2500) Start eval data's evaluation.\n",
      "Finished training.\n"
     ]
    },
    {
     "name": "stderr",
     "output_type": "stream",
     "text": [
      "100%|██████████| 25/25 [00:00<00:00, 84.10it/s]\n",
      "[INFO] 2020-11-30 14:02:01,290 >>\tSuccessfully inference dev data at fold6.\n",
      "[INFO] 2020-11-30 14:02:01,531 >>\tfold6 score: 0.011609, Step:2490, Epoch:105.\n",
      "[INFO] 2020-11-30 14:02:02,372 >>\tCV score: 0.012405\n",
      "[INFO] 2020-11-30 14:02:18,838 >>\tsaved at exp/node/v010/mlp_fine_oof.csv\n",
      "[INFO] 2020-11-30 14:02:18,862 >>\tStart to train fold 0.\n",
      "[INFO] 2020-11-30 14:02:18,894 >>\tSuccessfully load checkpoint from exp/node/v010/best/best_loss0fold.pkl.\n",
      "100%|██████████| 32/32 [00:00<00:00, 78.81it/s]\n",
      "[INFO] 2020-11-30 14:02:19,310 >>\tSuccessfully inference eval data at fold0.\n",
      "Step:2205, Epoch:15\n",
      "[INFO] 2020-11-30 14:02:19,311 >>\tStart to train fold 1.\n",
      "[INFO] 2020-11-30 14:02:19,335 >>\tSuccessfully load checkpoint from exp/node/v010/best/best_loss1fold.pkl.\n",
      "100%|██████████| 32/32 [00:00<00:00, 87.61it/s]\n",
      "[INFO] 2020-11-30 14:02:19,710 >>\tSuccessfully inference eval data at fold1.\n",
      "Step:2235, Epoch:30\n",
      "[INFO] 2020-11-30 14:02:19,711 >>\tStart to train fold 2.\n",
      "[INFO] 2020-11-30 14:02:19,736 >>\tSuccessfully load checkpoint from exp/node/v010/best/best_loss2fold.pkl.\n",
      "100%|██████████| 32/32 [00:00<00:00, 90.35it/s]\n",
      "[INFO] 2020-11-30 14:02:20,097 >>\tSuccessfully inference eval data at fold2.\n",
      "Step:2280, Epoch:45\n",
      "[INFO] 2020-11-30 14:02:20,100 >>\tStart to train fold 3.\n",
      "[INFO] 2020-11-30 14:02:20,125 >>\tSuccessfully load checkpoint from exp/node/v010/best/best_loss3fold.pkl.\n",
      "100%|██████████| 32/32 [00:00<00:00, 91.21it/s]\n",
      "[INFO] 2020-11-30 14:02:20,485 >>\tSuccessfully inference eval data at fold3.\n",
      "Step:2340, Epoch:60\n",
      "[INFO] 2020-11-30 14:02:20,487 >>\tStart to train fold 4.\n",
      "[INFO] 2020-11-30 14:02:20,522 >>\tSuccessfully load checkpoint from exp/node/v010/best/best_loss4fold.pkl.\n",
      "100%|██████████| 32/32 [00:00<00:00, 87.64it/s]\n",
      "[INFO] 2020-11-30 14:02:20,895 >>\tSuccessfully inference eval data at fold4.\n",
      "Step:2370, Epoch:75\n",
      "[INFO] 2020-11-30 14:02:20,899 >>\tStart to train fold 5.\n",
      "[INFO] 2020-11-30 14:02:20,923 >>\tSuccessfully load checkpoint from exp/node/v010/best/best_loss5fold.pkl.\n",
      "100%|██████████| 32/32 [00:00<00:00, 91.53it/s]\n",
      "[INFO] 2020-11-30 14:02:21,282 >>\tSuccessfully inference eval data at fold5.\n",
      "Step:2500, Epoch:90\n",
      "[INFO] 2020-11-30 14:02:21,283 >>\tStart to train fold 6.\n",
      "[INFO] 2020-11-30 14:02:21,307 >>\tSuccessfully load checkpoint from exp/node/v010/best/best_loss6fold.pkl.\n",
      "100%|██████████| 32/32 [00:00<00:00, 91.51it/s]\n",
      "[INFO] 2020-11-30 14:02:21,664 >>\tSuccessfully inference eval data at fold6.\n",
      "Step:2490, Epoch:105\n",
      "[INFO] 2020-11-30 14:02:23,939 >>\tsaved at submission.csv\n"
     ]
    }
   ],
   "source": [
    "# training\n",
    "if config.get(\"loss_type\", \"BCELoss\") == \"SmoothBCEwLogits\":\n",
    "    loss_class = SmoothBCEwLogits\n",
    "else:\n",
    "    loss_class = getattr(\n",
    "        torch.nn,\n",
    "        # keep compatibility\n",
    "        config.get(\"loss_type\", \"BCELoss\"),\n",
    "    )\n",
    "criterion = loss_class(**config[\"loss_params\"]).to(device)\n",
    "model_class = getattr(\n",
    "    node,\n",
    "    # keep compatibility\n",
    "    config.get(\"model_type\", \"NODE\"),\n",
    ")\n",
    "oof_targets = np.zeros((len(train), config[\"out_dim\"]))\n",
    "# for GPU/CPU\n",
    "kfold = MultilabelStratifiedKFold(\n",
    "    n_splits=config[\"n_fold\"], random_state=config[\"seed\"]+2, shuffle=True\n",
    ")\n",
    "for n, (tr, te) in enumerate(kfold.split(train_targets, train_targets)):\n",
    "    logging.info(f\"Start to train fold {n}.\")\n",
    "    xtrain, xval = train[tr], train[te]\n",
    "    ytrain, yval = train_targets[tr], train_targets[te]\n",
    "    if is_pseudo_label and (n >= 1):\n",
    "        logging.info(f\"The number of pseudo labels is {add_ytrain.shape}\")\n",
    "        xtrain = np.concatenate([xtrain, add_xtrain], axis=0)\n",
    "        ytrain = np.concatenate([ytrain, add_ytrain], axis=0)\n",
    "    train_set = MoaDataset(xtrain, ytrain, top_feats)\n",
    "    val_set = MoaDataset(xval, yval, top_feats)\n",
    "    logging.info(\n",
    "        f\"train_set:{train_set[0]['X'].shape}, val_set:{val_set[0]['X'].shape}\"\n",
    "    )\n",
    "\n",
    "    data_loader = {\n",
    "        \"train\": DataLoader(\n",
    "            train_set,\n",
    "            batch_size=config[\"batch_size\"],\n",
    "            num_workers=config[\"num_workers\"],\n",
    "            pin_memory=config[\"pin_memory\"],\n",
    "            shuffle=True,\n",
    "        ),\n",
    "        \"dev\": DataLoader(\n",
    "            val_set,\n",
    "            batch_size=config[\"batch_size\"],\n",
    "            num_workers=config[\"num_workers\"],\n",
    "            pin_memory=config[\"pin_memory\"],\n",
    "            shuffle=False,\n",
    "        ),\n",
    "        \"eval\": DataLoader(\n",
    "            val_set,\n",
    "            batch_size=config[\"batch_size\"],\n",
    "            num_workers=config[\"num_workers\"],\n",
    "            pin_memory=config[\"pin_memory\"],\n",
    "            shuffle=False,\n",
    "        ),\n",
    "    }\n",
    "    model = model_class(\n",
    "        input_dim=len(top_feats),\n",
    "        out_dim=config[\"out_dim\"],\n",
    "        **config[\"model_params\"],\n",
    "    ).to(device)\n",
    "\n",
    "    if config[\"optimizer_type\"] == \"QHAdam\":\n",
    "        optimizer_class = QHAdam\n",
    "    else:\n",
    "        optimizer_class = getattr(\n",
    "            torch.optim,\n",
    "            # keep compatibility\n",
    "            config.get(\"optimizer_type\", \"Adam\"),\n",
    "        )\n",
    "    optimizer = optimizer_class(\n",
    "        params=model.parameters(), **config[\"optimizer_params\"]\n",
    "    )\n",
    "\n",
    "    scheduler_class = getattr(\n",
    "        torch.optim.lr_scheduler,\n",
    "        # keep compatibility\n",
    "        config.get(\"scheduler_type\", \"StepLR\"),\n",
    "    )\n",
    "    scheduler = scheduler_class(optimizer=optimizer, **config[\"scheduler_params\"])\n",
    "    trainer = TabTrainer(\n",
    "        steps=0,\n",
    "        epochs=0,\n",
    "        data_loader=data_loader,\n",
    "        model=model.to(device),\n",
    "        criterion=criterion,\n",
    "        optimizer=optimizer,\n",
    "        scheduler=scheduler,\n",
    "        config=config,\n",
    "        device=device,\n",
    "        add_name=f\"{n}fold\",\n",
    "        train=True,\n",
    "        is_kernel=True,\n",
    "        verbose=15,\n",
    "    )\n",
    "    # resume from checkpoint\n",
    "    if len(resumes[n]) != 0:\n",
    "        trainer.load_checkpoint(resumes[n])\n",
    "        trainer.steps = 0\n",
    "        logging.info(f\"Successfully resumed from {resumes[n]}.\")\n",
    "\n",
    "    # run training loop\n",
    "    try:\n",
    "        logging.info(\"Start training!\")\n",
    "        trainer.run()\n",
    "    except KeyboardInterrupt:\n",
    "        trainer.save_checkpoint(\n",
    "            os.path.join(config[\"outdir\"], f\"checkpoint-{trainer.steps}steps.pkl\")\n",
    "        )\n",
    "        logging.info(f\"Successfully saved checkpoint @ {trainer.steps}steps.\")\n",
    "    trainer.load_checkpoint(checkpoints[n])\n",
    "    logging.info(f\"Successfully load checkpoint from {checkpoints[n]}.\")\n",
    "    oof_targets[te] = trainer.inference()\n",
    "    logging.info(f\"Successfully inference dev data at fold{n}.\")\n",
    "    fold_score = mean_log_loss(yval, oof_targets[te])\n",
    "    logging.info(\n",
    "        f\"fold{n} score: {fold_score:.6f}, Step:{trainer.steps}, Epoch:{trainer.epochs}.\"\n",
    "    )\n",
    "    if is_pseudo_label:\n",
    "        add_train_idx = (oof_targets > pseudo_label_threshold).any(axis=1)\n",
    "        add_ytrain = oof_targets[add_train_idx]\n",
    "        add_xtrain = train[add_train_idx]\n",
    "        \n",
    "# calculate oof score\n",
    "cv_score = mean_log_loss(train_targets, oof_targets)\n",
    "logging.info(f\"CV score: {cv_score:.6f}\")\n",
    "oof = pd.read_csv(\"../input/lish-moa/train_targets_scored.csv\")\n",
    "oof.loc[drop_idx, targets] = oof_targets\n",
    "oof_path = os.path.join(config[\"outdir\"], \"mlp_fine_oof.csv\")\n",
    "oof.to_csv(oof_path, index=False)\n",
    "# save oof\n",
    "logging.info(f\"saved at {oof_path}\")\n",
    "oof_list.append(oof)\n",
    "\n",
    "# inference\n",
    "eval_set = MoaDataset(test, None, top_feats, mode=\"test\")\n",
    "eval_loader = {\n",
    "    \"eval\": DataLoader(\n",
    "        eval_set,\n",
    "        batch_size=config[\"batch_size\"],\n",
    "        num_workers=config[\"num_workers\"],\n",
    "        pin_memory=config[\"pin_memory\"],\n",
    "        shuffle=False,\n",
    "    ),\n",
    "}\n",
    "preds = np.zeros((len(checkpoints), len(test), ntargets))\n",
    "for n, checkpoint in enumerate(checkpoints):\n",
    "    logging.info(f\"Start to train fold {n}.\")\n",
    "    model = model_class(\n",
    "        input_dim=len(top_feats),\n",
    "        out_dim=config[\"out_dim\"],\n",
    "        **config[\"model_params\"],\n",
    "    ).to(device)\n",
    "    # eval data\n",
    "    trainer = TabTrainer(\n",
    "        steps=0,\n",
    "        epochs=0,\n",
    "        data_loader=eval_loader,\n",
    "        model=model.to(device),\n",
    "        criterion={},\n",
    "        optimizer={},\n",
    "        scheduler={},\n",
    "        config=config,\n",
    "        device=device,\n",
    "        add_name=f\"{n}fold\",\n",
    "    )\n",
    "    trainer.load_checkpoint(checkpoint)\n",
    "    logging.info(f\"Successfully load checkpoint from {checkpoint}.\")\n",
    "    # run training loop\n",
    "    preds[n] = trainer.inference()\n",
    "    logging.info(f\"Successfully inference eval data at fold{n}.\\nStep:{trainer.steps}, Epoch:{trainer.epochs}\")\n",
    "\n",
    "# calculate eval data's submission file\n",
    "preds_mean = preds.mean(axis=0)\n",
    "ss = pd.read_csv(\"../input/lish-moa/sample_submission.csv\")\n",
    "ss[targets] = preds_mean\n",
    "ss.loc[test_features[\"cp_type\"] == \"ctl_vehicle\", targets] = 0\n",
    "sub_path = os.path.join(\"submission.csv\")\n",
    "ss.to_csv(sub_path, index=False)\n",
    "logging.info(f\"saved at {sub_path}\")\n",
    "preds_list.append(ss)"
   ]
  },
  {
   "cell_type": "markdown",
   "metadata": {
    "papermill": {
     "duration": 3.687917,
     "end_time": "2020-11-30T14:02:31.176655",
     "exception": false,
     "start_time": "2020-11-30T14:02:27.488738",
     "status": "completed"
    },
    "tags": []
   },
   "source": [
    "## Stacking by CNN"
   ]
  },
  {
   "cell_type": "code",
   "execution_count": 8,
   "metadata": {
    "execution": {
     "iopub.execute_input": "2020-11-30T14:02:38.195858Z",
     "iopub.status.busy": "2020-11-30T14:02:38.195147Z",
     "iopub.status.idle": "2020-11-30T14:02:38.265482Z",
     "shell.execute_reply": "2020-11-30T14:02:38.251598Z"
    },
    "papermill": {
     "duration": 3.581126,
     "end_time": "2020-11-30T14:02:38.265603",
     "exception": false,
     "start_time": "2020-11-30T14:02:34.684477",
     "status": "completed"
    },
    "tags": []
   },
   "outputs": [
    {
     "name": "stderr",
     "output_type": "stream",
     "text": [
      "[INFO] 2020-11-30 14:02:38,212 >>\tseed: 4\n",
      "[INFO] 2020-11-30 14:02:38,214 >>\tis_concat: True\n",
      "[INFO] 2020-11-30 14:02:38,215 >>\tnorm_type: RankGauss\n",
      "[INFO] 2020-11-30 14:02:38,216 >>\tQuantileTransformer: {'n_quantiles': 100, 'random_state': 1, 'output_distribution': 'normal'}\n",
      "[INFO] 2020-11-30 14:02:38,218 >>\tpca_threshold: 0.9\n",
      "[INFO] 2020-11-30 14:02:38,219 >>\tVarianceThreshold: 0\n",
      "[INFO] 2020-11-30 14:02:38,220 >>\tn_cluster_g: 20\n",
      "[INFO] 2020-11-30 14:02:38,221 >>\tn_cluster_c: 10\n",
      "[INFO] 2020-11-30 14:02:38,222 >>\tBayesianGaussianMixture_g: {'n_components': 40, 'covariance_type': 'diag', 'max_iter': 2000, 'random_state': 1, 'n_init': 3, 'weight_concentration_prior_type': 'dirichlet_process', 'verbose': -1}\n",
      "[INFO] 2020-11-30 14:02:38,224 >>\tBayesianGaussianMixture_c: {'n_components': 20, 'covariance_type': 'diag', 'max_iter': 2000, 'random_state': 1, 'n_init': 3, 'weight_concentration_prior_type': 'dirichlet_process', 'verbose': -1}\n",
      "[INFO] 2020-11-30 14:02:38,224 >>\tmodel_type: NODE\n",
      "[INFO] 2020-11-30 14:02:38,226 >>\tmodel_params: {'layer_dim': 256, 'num_layers': 4, 'tree_dim': 1, 'depth': 4, 'input_dropout': 0.4, 'flatten_output': True}\n",
      "[INFO] 2020-11-30 14:02:38,227 >>\tout_dim: 206\n",
      "[INFO] 2020-11-30 14:02:38,228 >>\tn_fold: 7\n",
      "[INFO] 2020-11-30 14:02:38,229 >>\tbatch_size: 128\n",
      "[INFO] 2020-11-30 14:02:38,230 >>\tnum_workers: 2\n",
      "[INFO] 2020-11-30 14:02:38,231 >>\tpin_memory: True\n",
      "[INFO] 2020-11-30 14:02:38,232 >>\taccum_grads: 1\n",
      "[INFO] 2020-11-30 14:02:38,232 >>\tloss_type: SmoothBCEwLogits\n",
      "[INFO] 2020-11-30 14:02:38,233 >>\tloss_params: {'reduction': 'sum', 'smoothing': 0.0008}\n",
      "[INFO] 2020-11-30 14:02:38,234 >>\toptimizer_type: QHAdam\n",
      "[INFO] 2020-11-30 14:02:38,235 >>\toptimizer_params: {'lr': 0.001, 'nus': [0.7, 1.0], 'betas': [0.995, 0.999], 'weight_decay': 1e-05}\n",
      "[INFO] 2020-11-30 14:02:38,236 >>\tscheduler_type: CosineAnnealingLR\n",
      "[INFO] 2020-11-30 14:02:38,237 >>\tscheduler_params: {'T_max': 1000, 'eta_min': 5e-06}\n",
      "[INFO] 2020-11-30 14:02:38,238 >>\ttrain_max_steps: 4000\n",
      "[INFO] 2020-11-30 14:02:38,239 >>\tsave_interval_steps: 2000\n",
      "[INFO] 2020-11-30 14:02:38,239 >>\toutdir: exp/node/v009-2\n",
      "[INFO] 2020-11-30 14:02:38,240 >>\tresumes: ['', '', '', '', '', '', '']\n",
      "[INFO] 2020-11-30 14:02:38,242 >>\tcheckpoints: ['exp/node/v009-2/best/best_loss0fold_stack.pkl', 'exp/node/v009-2/best/best_loss1fold_stack.pkl', 'exp/node/v009-2/best/best_loss2fold_stack.pkl', 'exp/node/v009-2/best/best_loss3fold_stack.pkl', 'exp/node/v009-2/best/best_loss4fold_stack.pkl', 'exp/node/v009-2/best/best_loss5fold_stack.pkl', 'exp/node/v009-2/best/best_loss6fold_stack.pkl']\n"
     ]
    }
   ],
   "source": [
    "import torch\n",
    "import torch.nn as nn\n",
    "import torch.nn.functional as F\n",
    "from torch.utils.data import Dataset\n",
    "No = \"009-2\"\n",
    "conf_path = f\"../input/node-base/conf/tuning/node.v{No}.yaml\"\n",
    "with open(conf_path) as f:\n",
    "    config = yaml.load(f, Loader=yaml.Loader)\n",
    "config[\"outdir\"] = f\"exp/node/v{No}\"\n",
    "\n",
    "for k, v in config.items():\n",
    "    logging.info(f'{k}: {v}')\n",
    "\n",
    "resumes = [\"\" for _ in range(config[\"n_fold\"])]\n",
    "# resumes = [\"\"]\n",
    "# resumes += [f\"{config['outdir']}/best/best_loss{fold}fold_stack.pkl\" for fold in range(config[\"n_fold\"] - 1)]\n",
    "logging.info(f\"resumes: {resumes}\")\n",
    "checkpoints = [f\"{config['outdir']}/best/best_loss{fold}fold_stack.pkl\" for fold in range(config[\"n_fold\"])]\n",
    "logging.info(f\"checkpoints: {checkpoints}\")\n",
    "\n",
    "\n",
    "class StackingDataset(Dataset):\n",
    "    def __init__(self, data, targets, mode=\"train\"):\n",
    "        \"\"\"TabNet dataset.\n",
    "\n",
    "        Args:\n",
    "            data: ndarray (N, n_model, original_cols)\n",
    "            target: ndarray (N, 1)\n",
    "            mode : str train or test\n",
    "        Returns:\n",
    "            X,\n",
    "        \"\"\"\n",
    "        self.mode = mode\n",
    "        self.data = data\n",
    "        if mode == \"train\":\n",
    "            self.targets = targets\n",
    "\n",
    "    def __len__(self):\n",
    "        return len(self.data)\n",
    "\n",
    "    def __getitem__(self, idx):\n",
    "        if self.mode == \"train\":\n",
    "            return {\n",
    "                \"X\": torch.FloatTensor(self.data[idx]),\n",
    "                \"y\": torch.FloatTensor(self.targets[idx]),\n",
    "            }\n",
    "        elif self.mode == \"test\":\n",
    "            return {\"X\": torch.FloatTensor(self.data[idx]), \"y\": 0}\n",
    "\n",
    "\n",
    "class StackingCNN(nn.Module):\n",
    "    def __init__(self, out_dim=206, kernel_size=2):\n",
    "        super(StackingCNN, self).__init__()\n",
    "        self.conv1 = nn.utils.weight_norm(nn.Conv1d(out_dim, out_dim, kernel_size=kernel_size))\n",
    "        self.batch_norm1 = nn.BatchNorm1d(out_dim)\n",
    "        self.dropout1 = nn.Dropout(0.1)\n",
    "        self.dense1 = nn.utils.weight_norm(nn.Linear(out_dim, out_dim))\n",
    "\n",
    "    def recalibrate_layer(self, layer):\n",
    "        if torch.isnan(layer.weight_v).sum() > 0:\n",
    "            print(\"recalibrate layer.weight_v\")\n",
    "            layer.weight_v = torch.nn.Parameter(\n",
    "                torch.where(\n",
    "                    torch.isnan(layer.weight_v),\n",
    "                    torch.zeros_like(layer.weight_v),\n",
    "                    layer.weight_v,\n",
    "                )\n",
    "            )\n",
    "            layer.weight_v = torch.nn.Parameter(layer.weight_v + 1e-7)\n",
    "        if torch.isnan(layer.weight).sum() > 0:\n",
    "            print(\"recalibrate layer.weight\")\n",
    "            layer.weight = torch.where(\n",
    "                torch.isnan(layer.weight), torch.zeros_like(layer.weight), layer.weight\n",
    "            )\n",
    "            layer.weight += 1e-7\n",
    "\n",
    "    def forward(self, x):\n",
    "        x = self.conv1(x).squeeze(-1)\n",
    "        x = self.dropout1(self.batch_norm1(x))\n",
    "        self.recalibrate_layer(self.dense1)\n",
    "        x = self.dense1(x)\n",
    "        return x\n"
   ]
  },
  {
   "cell_type": "code",
   "execution_count": 9,
   "metadata": {
    "execution": {
     "iopub.execute_input": "2020-11-30T14:02:46.029034Z",
     "iopub.status.busy": "2020-11-30T14:02:46.027257Z",
     "iopub.status.idle": "2020-11-30T14:02:46.206807Z",
     "shell.execute_reply": "2020-11-30T14:02:46.206294Z"
    },
    "papermill": {
     "duration": 4.227498,
     "end_time": "2020-11-30T14:02:46.206913",
     "exception": false,
     "start_time": "2020-11-30T14:02:41.979415",
     "status": "completed"
    },
    "tags": []
   },
   "outputs": [
    {
     "name": "stdout",
     "output_type": "stream",
     "text": [
      "(21948, 206, 3)\n",
      "(3982, 206, 3)\n"
     ]
    }
   ],
   "source": [
    "# concatenate all oof\n",
    "if DEBUG:\n",
    "    # oof_list = []\n",
    "    # preds_list = []\n",
    "    oof_path = [\"../input/node-base/base_oof.csv\", \"../input/node-base/node_oof.csv\", \"../input/node-base/node_oof.csv\"]\n",
    "    for path in oof_path:\n",
    "        oof_list.append(pd.read_csv(path))\n",
    "    preds_path = [\"../input/lish-moa/sample_submission.csv\", \"../input/lish-moa/sample_submission.csv\", \"../input/lish-moa/sample_submission.csv\"]\n",
    "    for path in preds_path:\n",
    "        preds_list.append(pd.read_csv(path))\n",
    "    train_features = pd.read_csv(\"../input/lish-moa/train_features.csv\")\n",
    "    train_targets = pd.read_csv(\"../input/lish-moa/train_targets_scored.csv\")\n",
    "    drop_idx = train_features[\"cp_type\"] != \"ctl_vehicle\"\n",
    "    del train_targets[\"sig_id\"]\n",
    "    train_targets = train_targets.loc[drop_idx].reset_index(drop=True).values\n",
    "oof_dataset = []\n",
    "for oof in oof_list:\n",
    "    oof_dataset.append(oof.iloc[:, 1:].values)\n",
    "oof_dataset = np.stack(oof_dataset).transpose(1, 2, 0)\n",
    "oof_dataset = oof_dataset[drop_idx]\n",
    "print(oof_dataset.shape)\n",
    "preds_dataset = []\n",
    "for preds in preds_list:\n",
    "    preds_dataset.append(preds.iloc[:, 1:].values)\n",
    "preds_dataset = np.stack(preds_dataset).transpose(1, 2, 0)\n",
    "print(preds_dataset.shape)"
   ]
  },
  {
   "cell_type": "code",
   "execution_count": 10,
   "metadata": {
    "execution": {
     "iopub.execute_input": "2020-11-30T14:02:54.315669Z",
     "iopub.status.busy": "2020-11-30T14:02:54.305398Z",
     "iopub.status.idle": "2020-11-30T14:20:18.711567Z",
     "shell.execute_reply": "2020-11-30T14:20:18.712444Z"
    },
    "papermill": {
     "duration": 1048.483281,
     "end_time": "2020-11-30T14:20:18.712660",
     "exception": false,
     "start_time": "2020-11-30T14:02:50.229379",
     "status": "completed"
    },
    "tags": []
   },
   "outputs": [
    {
     "name": "stderr",
     "output_type": "stream",
     "text": [
      "[INFO] 2020-11-30 14:02:55,929 >>\tStart to train fold 0.\n",
      "[INFO] 2020-11-30 14:02:55,988 >>\tStart training!\n",
      "[train]:   6%|▌         | 143/2400 [00:02<00:47, 47.93it/s]"
     ]
    },
    {
     "name": "stdout",
     "output_type": "stream",
     "text": [
      "(Steps: 147) Finished 0 epoch training (147 steps per epoch).\n",
      "(Epoch: 0) train/loss = 0.00002.\n",
      "(Epoch: 0) train/epoch_metric = 0.47290.\n",
      "(Epoch: 0) train/epoch_auc = 0.68247.\n",
      "(Epoch: 0) train/epoch_acc = 0.88822.\n",
      "(Epoch: 0) train/epoch_recall = 0.41555.\n",
      "(Epoch: 0) train/epoch_precision = 0.01394.\n"
     ]
    },
    {
     "name": "stderr",
     "output_type": "stream",
     "text": [
      "[train]:  12%|█▏        | 290/2400 [00:11<00:43, 48.19it/s]"
     ]
    },
    {
     "name": "stdout",
     "output_type": "stream",
     "text": [
      "(Steps: 294) Finished 1 epoch training (147 steps per epoch).\n",
      "(Epoch: 1) train/loss = 0.00000.\n",
      "(Epoch: 1) train/epoch_metric = 0.09790.\n",
      "(Epoch: 1) train/epoch_auc = 0.65354.\n",
      "(Epoch: 1) train/epoch_acc = 0.99669.\n",
      "(Epoch: 1) train/epoch_recall = 0.18150.\n",
      "(Epoch: 1) train/epoch_precision = 0.72491.\n"
     ]
    },
    {
     "name": "stderr",
     "output_type": "stream",
     "text": [
      "[train]:  18%|█▊        | 437/2400 [00:19<00:42, 46.34it/s]"
     ]
    },
    {
     "name": "stdout",
     "output_type": "stream",
     "text": [
      "(Steps: 441) Finished 2 epoch training (147 steps per epoch).\n",
      "(Epoch: 2) train/loss = 0.00000.\n",
      "(Epoch: 2) train/epoch_metric = 0.03104.\n",
      "(Epoch: 2) train/epoch_auc = 0.69070.\n",
      "(Epoch: 2) train/epoch_acc = 0.99692.\n",
      "(Epoch: 2) train/epoch_recall = 0.18323.\n",
      "(Epoch: 2) train/epoch_precision = 0.95560.\n"
     ]
    },
    {
     "name": "stderr",
     "output_type": "stream",
     "text": [
      "[train]:  24%|██▍       | 584/2400 [00:28<00:37, 48.60it/s]"
     ]
    },
    {
     "name": "stdout",
     "output_type": "stream",
     "text": [
      "(Steps: 588) Finished 3 epoch training (147 steps per epoch).\n",
      "(Epoch: 3) train/loss = 0.00000.\n",
      "(Epoch: 3) train/epoch_metric = 0.02013.\n",
      "(Epoch: 3) train/epoch_auc = 0.78269.\n",
      "(Epoch: 3) train/epoch_acc = 0.99700.\n",
      "(Epoch: 3) train/epoch_recall = 0.20469.\n",
      "(Epoch: 3) train/epoch_precision = 0.95851.\n"
     ]
    },
    {
     "name": "stderr",
     "output_type": "stream",
     "text": [
      "[train]:  31%|███       | 734/2400 [00:36<00:34, 47.86it/s]"
     ]
    },
    {
     "name": "stdout",
     "output_type": "stream",
     "text": [
      "(Steps: 735) Finished 4 epoch training (147 steps per epoch).\n",
      "(Epoch: 4) train/loss = 0.00000.\n",
      "(Epoch: 4) train/epoch_metric = 0.01757.\n",
      "(Epoch: 4) train/epoch_auc = 0.83507.\n",
      "(Epoch: 4) train/epoch_acc = 0.99708.\n",
      "(Epoch: 4) train/epoch_recall = 0.22823.\n",
      "(Epoch: 4) train/epoch_precision = 0.94769.\n"
     ]
    },
    {
     "name": "stderr",
     "output_type": "stream",
     "text": [
      "[train]:  37%|███▋      | 882/2400 [00:45<00:33, 45.74it/s]"
     ]
    },
    {
     "name": "stdout",
     "output_type": "stream",
     "text": [
      "(Steps: 882) Finished 5 epoch training (147 steps per epoch).\n",
      "(Epoch: 5) train/loss = 0.00000.\n",
      "(Epoch: 5) train/epoch_metric = 0.01652.\n",
      "(Epoch: 5) train/epoch_auc = 0.85818.\n",
      "(Epoch: 5) train/epoch_acc = 0.99718.\n",
      "(Epoch: 5) train/epoch_recall = 0.26146.\n",
      "(Epoch: 5) train/epoch_precision = 0.93560.\n"
     ]
    },
    {
     "name": "stderr",
     "output_type": "stream",
     "text": [
      "[train]:  43%|████▎     | 1026/2400 [00:55<00:33, 40.88it/s]"
     ]
    },
    {
     "name": "stdout",
     "output_type": "stream",
     "text": [
      "(Steps: 1029) Finished 6 epoch training (147 steps per epoch).\n",
      "(Epoch: 6) train/loss = 0.00000.\n",
      "(Epoch: 6) train/epoch_metric = 0.01588.\n",
      "(Epoch: 6) train/epoch_auc = 0.87335.\n",
      "(Epoch: 6) train/epoch_acc = 0.99727.\n",
      "(Epoch: 6) train/epoch_recall = 0.28693.\n",
      "(Epoch: 6) train/epoch_precision = 0.93588.\n"
     ]
    },
    {
     "name": "stderr",
     "output_type": "stream",
     "text": [
      "[train]:  49%|████▉     | 1175/2400 [01:05<00:32, 37.77it/s]"
     ]
    },
    {
     "name": "stdout",
     "output_type": "stream",
     "text": [
      "(Steps: 1176) Finished 7 epoch training (147 steps per epoch).\n",
      "(Epoch: 7) train/loss = 0.00000.\n",
      "(Epoch: 7) train/epoch_metric = 0.01538.\n",
      "(Epoch: 7) train/epoch_auc = 0.88443.\n",
      "(Epoch: 7) train/epoch_acc = 0.99734.\n",
      "(Epoch: 7) train/epoch_recall = 0.30770.\n",
      "(Epoch: 7) train/epoch_precision = 0.93226.\n"
     ]
    },
    {
     "name": "stderr",
     "output_type": "stream",
     "text": [
      "[train]:  55%|█████▌    | 1321/2400 [01:14<00:22, 48.38it/s]"
     ]
    },
    {
     "name": "stdout",
     "output_type": "stream",
     "text": [
      "(Steps: 1323) Finished 8 epoch training (147 steps per epoch).\n",
      "(Epoch: 8) train/loss = 0.00000.\n",
      "(Epoch: 8) train/epoch_metric = 0.01501.\n",
      "(Epoch: 8) train/epoch_auc = 0.89216.\n",
      "(Epoch: 8) train/epoch_acc = 0.99740.\n",
      "(Epoch: 8) train/epoch_recall = 0.32743.\n",
      "(Epoch: 8) train/epoch_precision = 0.93074.\n"
     ]
    },
    {
     "name": "stderr",
     "output_type": "stream",
     "text": [
      "[train]:  61%|██████    | 1467/2400 [01:22<00:19, 48.57it/s]"
     ]
    },
    {
     "name": "stdout",
     "output_type": "stream",
     "text": [
      "(Steps: 1470) Finished 9 epoch training (147 steps per epoch).\n",
      "(Epoch: 9) train/loss = 0.00000.\n",
      "(Epoch: 9) train/epoch_metric = 0.01472.\n",
      "(Epoch: 9) train/epoch_auc = 0.89943.\n",
      "(Epoch: 9) train/epoch_acc = 0.99743.\n",
      "(Epoch: 9) train/epoch_recall = 0.33836.\n",
      "(Epoch: 9) train/epoch_precision = 0.92734.\n"
     ]
    },
    {
     "name": "stderr",
     "output_type": "stream",
     "text": [
      "[train]:  67%|██████▋   | 1615/2400 [01:31<00:17, 45.13it/s]"
     ]
    },
    {
     "name": "stdout",
     "output_type": "stream",
     "text": [
      "(Steps: 1617) Finished 10 epoch training (147 steps per epoch).\n",
      "(Epoch: 10) train/loss = 0.00000.\n",
      "(Epoch: 10) train/epoch_metric = 0.01449.\n",
      "(Epoch: 10) train/epoch_auc = 0.90453.\n",
      "(Epoch: 10) train/epoch_acc = 0.99747.\n",
      "(Epoch: 10) train/epoch_recall = 0.34930.\n",
      "(Epoch: 10) train/epoch_precision = 0.92826.\n"
     ]
    },
    {
     "name": "stderr",
     "output_type": "stream",
     "text": [
      "[train]:  73%|███████▎  | 1762/2400 [01:40<00:13, 46.28it/s]"
     ]
    },
    {
     "name": "stdout",
     "output_type": "stream",
     "text": [
      "(Steps: 1764) Finished 11 epoch training (147 steps per epoch).\n",
      "(Epoch: 11) train/loss = 0.00000.\n",
      "(Epoch: 11) train/epoch_metric = 0.01428.\n",
      "(Epoch: 11) train/epoch_auc = 0.90979.\n",
      "(Epoch: 11) train/epoch_acc = 0.99750.\n",
      "(Epoch: 11) train/epoch_recall = 0.35802.\n",
      "(Epoch: 11) train/epoch_precision = 0.92489.\n"
     ]
    },
    {
     "name": "stderr",
     "output_type": "stream",
     "text": [
      "[train]:  80%|███████▉  | 1909/2400 [01:49<00:13, 35.17it/s]"
     ]
    },
    {
     "name": "stdout",
     "output_type": "stream",
     "text": [
      "(Steps: 1911) Finished 12 epoch training (147 steps per epoch).\n",
      "(Epoch: 12) train/loss = 0.00000.\n",
      "(Epoch: 12) train/epoch_metric = 0.01411.\n",
      "(Epoch: 12) train/epoch_auc = 0.91469.\n",
      "(Epoch: 12) train/epoch_acc = 0.99753.\n",
      "(Epoch: 12) train/epoch_recall = 0.36543.\n",
      "(Epoch: 12) train/epoch_precision = 0.92598.\n"
     ]
    },
    {
     "name": "stderr",
     "output_type": "stream",
     "text": [
      "[train]:  86%|████████▌ | 2057/2400 [01:58<00:07, 46.79it/s]"
     ]
    },
    {
     "name": "stdout",
     "output_type": "stream",
     "text": [
      "(Steps: 2058) Finished 13 epoch training (147 steps per epoch).\n",
      "(Epoch: 13) train/loss = 0.00000.\n",
      "(Epoch: 13) train/epoch_metric = 0.01393.\n",
      "(Epoch: 13) train/epoch_auc = 0.91785.\n",
      "(Epoch: 13) train/epoch_acc = 0.99756.\n",
      "(Epoch: 13) train/epoch_recall = 0.37374.\n",
      "(Epoch: 13) train/epoch_precision = 0.92671.\n"
     ]
    },
    {
     "name": "stderr",
     "output_type": "stream",
     "text": [
      "[train]:  92%|█████████▏| 2204/2400 [02:07<00:04, 47.76it/s]\n",
      "[dev]:   0%|          | 0/25 [00:00<?, ?it/s]\u001b[A"
     ]
    },
    {
     "name": "stdout",
     "output_type": "stream",
     "text": [
      "(Steps: 2205) Finished 14 epoch training (147 steps per epoch).\n",
      "(Epoch: 14) train/loss = 0.00000.\n",
      "(Epoch: 14) train/epoch_metric = 0.01380.\n",
      "(Epoch: 14) train/epoch_auc = 0.92103.\n",
      "(Epoch: 14) train/epoch_acc = 0.99758.\n",
      "(Epoch: 14) train/epoch_recall = 0.37948.\n",
      "(Epoch: 14) train/epoch_precision = 0.92837.\n",
      "(Steps: 2205) Start dev data's evaluation.\n"
     ]
    },
    {
     "name": "stderr",
     "output_type": "stream",
     "text": [
      "\n",
      "[dev]:   4%|▍         | 1/25 [00:00<00:03,  7.30it/s]\u001b[A\n",
      "[dev]:  36%|███▌      | 9/25 [00:00<00:01, 10.01it/s]\u001b[A\n",
      "[dev]: 100%|██████████| 25/25 [00:00<00:00, 50.74it/s]\n"
     ]
    },
    {
     "name": "stdout",
     "output_type": "stream",
     "text": [
      "(Steps: 2205) Finished dev data's evaluation (25 steps per epoch).\n",
      "(Epoch: 15) dev/loss = 0.00000.\n",
      "(Epoch: 15) dev/epoch_metric = 0.01436.\n",
      "(Epoch: 15) dev/epoch_auc = 0.92189.\n",
      "(Epoch: 15) dev/epoch_acc = 0.99729.\n",
      "(Epoch: 15) dev/epoch_recall = 0.36906.\n",
      "(Epoch: 15) dev/epoch_precision = 0.78737.\n",
      "(Steps: 2205) Start eval data's evaluation.\n"
     ]
    },
    {
     "name": "stderr",
     "output_type": "stream",
     "text": [
      "[train]:  98%|█████████▊| 2350/2400 [02:18<00:01, 29.02it/s]"
     ]
    },
    {
     "name": "stdout",
     "output_type": "stream",
     "text": [
      "(Steps: 2352) Finished 15 epoch training (147 steps per epoch).\n",
      "(Epoch: 15) train/loss = 0.00000.\n",
      "(Epoch: 15) train/epoch_metric = 0.01366.\n",
      "(Epoch: 15) train/epoch_auc = 0.92371.\n",
      "(Epoch: 15) train/epoch_acc = 0.99759.\n",
      "(Epoch: 15) train/epoch_recall = 0.38225.\n",
      "(Epoch: 15) train/epoch_precision = 0.92900.\n"
     ]
    },
    {
     "name": "stderr",
     "output_type": "stream",
     "text": [
      "[train]: 100%|██████████| 2400/2400 [02:25<00:00, 16.46it/s]\n",
      "[INFO] 2020-11-30 14:05:21,838 >>\tSuccessfully load checkpoint from exp/node/v009-2/best/best_loss0fold_stack.pkl.\n",
      "  0%|          | 0/25 [00:00<?, ?it/s]"
     ]
    },
    {
     "name": "stdout",
     "output_type": "stream",
     "text": [
      "Finished training.\n"
     ]
    },
    {
     "name": "stderr",
     "output_type": "stream",
     "text": [
      "100%|██████████| 25/25 [00:00<00:00, 95.83it/s]\n",
      "[INFO] 2020-11-30 14:05:22,109 >>\tSuccessfully inference dev data at fold0.\n",
      "[INFO] 2020-11-30 14:05:22,354 >>\tfold0 score: 0.014359, Step:2205, Epoch:15.\n",
      "[INFO] 2020-11-30 14:05:22,357 >>\tStart to train fold 1.\n",
      "[INFO] 2020-11-30 14:05:22,421 >>\tStart training!\n",
      "[train]:   6%|▌         | 144/2400 [00:02<00:46, 48.98it/s]"
     ]
    },
    {
     "name": "stdout",
     "output_type": "stream",
     "text": [
      "(Steps: 147) Finished 0 epoch training (147 steps per epoch).\n",
      "(Epoch: 0) train/loss = 0.00002.\n",
      "(Epoch: 0) train/epoch_metric = 0.47443.\n",
      "(Epoch: 0) train/epoch_auc = 0.68731.\n",
      "(Epoch: 0) train/epoch_acc = 0.89040.\n",
      "(Epoch: 0) train/epoch_recall = 0.42253.\n",
      "(Epoch: 0) train/epoch_precision = 0.01444.\n"
     ]
    },
    {
     "name": "stderr",
     "output_type": "stream",
     "text": [
      "[train]:  12%|█▏        | 293/2400 [00:11<00:42, 49.14it/s]"
     ]
    },
    {
     "name": "stdout",
     "output_type": "stream",
     "text": [
      "(Steps: 294) Finished 1 epoch training (147 steps per epoch).\n",
      "(Epoch: 1) train/loss = 0.00000.\n",
      "(Epoch: 1) train/epoch_metric = 0.09861.\n",
      "(Epoch: 1) train/epoch_auc = 0.65117.\n",
      "(Epoch: 1) train/epoch_acc = 0.99656.\n",
      "(Epoch: 1) train/epoch_recall = 0.17718.\n",
      "(Epoch: 1) train/epoch_precision = 0.63743.\n"
     ]
    },
    {
     "name": "stderr",
     "output_type": "stream",
     "text": [
      "[train]:  18%|█▊        | 440/2400 [00:19<00:40, 47.83it/s]"
     ]
    },
    {
     "name": "stdout",
     "output_type": "stream",
     "text": [
      "(Steps: 441) Finished 2 epoch training (147 steps per epoch).\n",
      "(Epoch: 2) train/loss = 0.00000.\n",
      "(Epoch: 2) train/epoch_metric = 0.03104.\n",
      "(Epoch: 2) train/epoch_auc = 0.69238.\n",
      "(Epoch: 2) train/epoch_acc = 0.99693.\n",
      "(Epoch: 2) train/epoch_recall = 0.18245.\n",
      "(Epoch: 2) train/epoch_precision = 0.95921.\n"
     ]
    },
    {
     "name": "stderr",
     "output_type": "stream",
     "text": [
      "[train]:  24%|██▍       | 585/2400 [00:29<00:39, 45.64it/s]"
     ]
    },
    {
     "name": "stdout",
     "output_type": "stream",
     "text": [
      "(Steps: 588) Finished 3 epoch training (147 steps per epoch).\n",
      "(Epoch: 3) train/loss = 0.00000.\n",
      "(Epoch: 3) train/epoch_metric = 0.02015.\n",
      "(Epoch: 3) train/epoch_auc = 0.77932.\n",
      "(Epoch: 3) train/epoch_acc = 0.99701.\n",
      "(Epoch: 3) train/epoch_recall = 0.20738.\n",
      "(Epoch: 3) train/epoch_precision = 0.95168.\n"
     ]
    },
    {
     "name": "stderr",
     "output_type": "stream",
     "text": [
      "[train]:  31%|███       | 733/2400 [00:37<00:36, 45.86it/s]"
     ]
    },
    {
     "name": "stdout",
     "output_type": "stream",
     "text": [
      "(Steps: 735) Finished 4 epoch training (147 steps per epoch).\n",
      "(Epoch: 4) train/loss = 0.00000.\n",
      "(Epoch: 4) train/epoch_metric = 0.01766.\n",
      "(Epoch: 4) train/epoch_auc = 0.83126.\n",
      "(Epoch: 4) train/epoch_acc = 0.99707.\n",
      "(Epoch: 4) train/epoch_recall = 0.22920.\n",
      "(Epoch: 4) train/epoch_precision = 0.94059.\n"
     ]
    },
    {
     "name": "stderr",
     "output_type": "stream",
     "text": [
      "[train]:  37%|███▋      | 879/2400 [00:46<00:31, 47.95it/s]"
     ]
    },
    {
     "name": "stdout",
     "output_type": "stream",
     "text": [
      "(Steps: 882) Finished 5 epoch training (147 steps per epoch).\n",
      "(Epoch: 5) train/loss = 0.00000.\n",
      "(Epoch: 5) train/epoch_metric = 0.01660.\n",
      "(Epoch: 5) train/epoch_auc = 0.85609.\n",
      "(Epoch: 5) train/epoch_acc = 0.99716.\n",
      "(Epoch: 5) train/epoch_recall = 0.25559.\n",
      "(Epoch: 5) train/epoch_precision = 0.93750.\n"
     ]
    },
    {
     "name": "stderr",
     "output_type": "stream",
     "text": [
      "[train]:  43%|████▎     | 1027/2400 [00:55<00:35, 38.23it/s]"
     ]
    },
    {
     "name": "stdout",
     "output_type": "stream",
     "text": [
      "(Steps: 1029) Finished 6 epoch training (147 steps per epoch).\n",
      "(Epoch: 6) train/loss = 0.00000.\n",
      "(Epoch: 6) train/epoch_metric = 0.01601.\n",
      "(Epoch: 6) train/epoch_auc = 0.87222.\n",
      "(Epoch: 6) train/epoch_acc = 0.99722.\n",
      "(Epoch: 6) train/epoch_recall = 0.28136.\n",
      "(Epoch: 6) train/epoch_precision = 0.90670.\n"
     ]
    },
    {
     "name": "stderr",
     "output_type": "stream",
     "text": [
      "[train]:  49%|████▉     | 1172/2400 [01:05<00:25, 47.69it/s]"
     ]
    },
    {
     "name": "stdout",
     "output_type": "stream",
     "text": [
      "(Steps: 1176) Finished 7 epoch training (147 steps per epoch).\n",
      "(Epoch: 7) train/loss = 0.00000.\n",
      "(Epoch: 7) train/epoch_metric = 0.01555.\n",
      "(Epoch: 7) train/epoch_auc = 0.88045.\n",
      "(Epoch: 7) train/epoch_acc = 0.99732.\n",
      "(Epoch: 7) train/epoch_recall = 0.30145.\n",
      "(Epoch: 7) train/epoch_precision = 0.93531.\n"
     ]
    },
    {
     "name": "stderr",
     "output_type": "stream",
     "text": [
      "[train]:  55%|█████▌    | 1320/2400 [01:14<00:23, 45.85it/s]"
     ]
    },
    {
     "name": "stdout",
     "output_type": "stream",
     "text": [
      "(Steps: 1323) Finished 8 epoch training (147 steps per epoch).\n",
      "(Epoch: 8) train/loss = 0.00000.\n",
      "(Epoch: 8) train/epoch_metric = 0.01515.\n",
      "(Epoch: 8) train/epoch_auc = 0.88856.\n",
      "(Epoch: 8) train/epoch_acc = 0.99738.\n",
      "(Epoch: 8) train/epoch_recall = 0.32098.\n",
      "(Epoch: 8) train/epoch_precision = 0.93296.\n"
     ]
    },
    {
     "name": "stderr",
     "output_type": "stream",
     "text": [
      "[train]:  61%|██████    | 1468/2400 [01:22<00:26, 35.55it/s]"
     ]
    },
    {
     "name": "stdout",
     "output_type": "stream",
     "text": [
      "(Steps: 1470) Finished 9 epoch training (147 steps per epoch).\n",
      "(Epoch: 9) train/loss = 0.00000.\n",
      "(Epoch: 9) train/epoch_metric = 0.01485.\n",
      "(Epoch: 9) train/epoch_auc = 0.89569.\n",
      "(Epoch: 9) train/epoch_acc = 0.99742.\n",
      "(Epoch: 9) train/epoch_recall = 0.33470.\n",
      "(Epoch: 9) train/epoch_precision = 0.92496.\n"
     ]
    },
    {
     "name": "stderr",
     "output_type": "stream",
     "text": [
      "[train]:  67%|██████▋   | 1614/2400 [01:31<00:20, 37.82it/s]"
     ]
    },
    {
     "name": "stdout",
     "output_type": "stream",
     "text": [
      "(Steps: 1617) Finished 10 epoch training (147 steps per epoch).\n",
      "(Epoch: 10) train/loss = 0.00000.\n",
      "(Epoch: 10) train/epoch_metric = 0.01456.\n",
      "(Epoch: 10) train/epoch_auc = 0.90406.\n",
      "(Epoch: 10) train/epoch_acc = 0.99746.\n",
      "(Epoch: 10) train/epoch_recall = 0.34606.\n",
      "(Epoch: 10) train/epoch_precision = 0.92793.\n"
     ]
    },
    {
     "name": "stderr",
     "output_type": "stream",
     "text": [
      "[train]:  73%|███████▎  | 1763/2400 [01:40<00:13, 47.88it/s]"
     ]
    },
    {
     "name": "stdout",
     "output_type": "stream",
     "text": [
      "(Steps: 1764) Finished 11 epoch training (147 steps per epoch).\n",
      "(Epoch: 11) train/loss = 0.00000.\n",
      "(Epoch: 11) train/epoch_metric = 0.01436.\n",
      "(Epoch: 11) train/epoch_auc = 0.90875.\n",
      "(Epoch: 11) train/epoch_acc = 0.99750.\n",
      "(Epoch: 11) train/epoch_recall = 0.35568.\n",
      "(Epoch: 11) train/epoch_precision = 0.92958.\n"
     ]
    },
    {
     "name": "stderr",
     "output_type": "stream",
     "text": [
      "[train]:  80%|███████▉  | 1908/2400 [01:49<00:10, 48.02it/s]"
     ]
    },
    {
     "name": "stdout",
     "output_type": "stream",
     "text": [
      "(Steps: 1911) Finished 12 epoch training (147 steps per epoch).\n",
      "(Epoch: 12) train/loss = 0.00000.\n",
      "(Epoch: 12) train/epoch_metric = 0.01418.\n",
      "(Epoch: 12) train/epoch_auc = 0.91284.\n",
      "(Epoch: 12) train/epoch_acc = 0.99752.\n",
      "(Epoch: 12) train/epoch_recall = 0.36337.\n",
      "(Epoch: 12) train/epoch_precision = 0.92751.\n"
     ]
    },
    {
     "name": "stderr",
     "output_type": "stream",
     "text": [
      "[train]:  86%|████████▌ | 2054/2400 [01:57<00:07, 47.59it/s]"
     ]
    },
    {
     "name": "stdout",
     "output_type": "stream",
     "text": [
      "(Steps: 2058) Finished 13 epoch training (147 steps per epoch).\n",
      "(Epoch: 13) train/loss = 0.00000.\n",
      "(Epoch: 13) train/epoch_metric = 0.01400.\n",
      "(Epoch: 13) train/epoch_auc = 0.91714.\n",
      "(Epoch: 13) train/epoch_acc = 0.99755.\n",
      "(Epoch: 13) train/epoch_recall = 0.37016.\n",
      "(Epoch: 13) train/epoch_precision = 0.92858.\n"
     ]
    },
    {
     "name": "stderr",
     "output_type": "stream",
     "text": [
      "[train]:  92%|█████████▏| 2204/2400 [02:07<00:04, 39.39it/s]\n",
      "[dev]:   0%|          | 0/25 [00:00<?, ?it/s]\u001b[A"
     ]
    },
    {
     "name": "stdout",
     "output_type": "stream",
     "text": [
      "(Steps: 2205) Finished 14 epoch training (147 steps per epoch).\n",
      "(Epoch: 14) train/loss = 0.00000.\n",
      "(Epoch: 14) train/epoch_metric = 0.01386.\n",
      "(Epoch: 14) train/epoch_auc = 0.92000.\n",
      "(Epoch: 14) train/epoch_acc = 0.99755.\n",
      "(Epoch: 14) train/epoch_recall = 0.37549.\n",
      "(Epoch: 14) train/epoch_precision = 0.92147.\n",
      "(Steps: 2205) Start dev data's evaluation.\n"
     ]
    },
    {
     "name": "stderr",
     "output_type": "stream",
     "text": [
      "\n",
      "[dev]:   4%|▍         | 1/25 [00:00<00:02,  9.27it/s]\u001b[A\n",
      "[dev]: 100%|██████████| 25/25 [00:00<00:00, 79.93it/s]\n"
     ]
    },
    {
     "name": "stdout",
     "output_type": "stream",
     "text": [
      "(Steps: 2205) Finished dev data's evaluation (25 steps per epoch).\n",
      "(Epoch: 15) dev/loss = 0.00000.\n",
      "(Epoch: 15) dev/epoch_metric = 0.01374.\n",
      "(Epoch: 15) dev/epoch_auc = 0.92004.\n",
      "(Epoch: 15) dev/epoch_acc = 0.99758.\n",
      "(Epoch: 15) dev/epoch_recall = 0.38139.\n",
      "(Epoch: 15) dev/epoch_precision = 0.92354.\n",
      "(Steps: 2205) Start eval data's evaluation.\n"
     ]
    },
    {
     "name": "stderr",
     "output_type": "stream",
     "text": [
      "[train]:  98%|█████████▊| 2350/2400 [02:18<00:01, 47.63it/s]"
     ]
    },
    {
     "name": "stdout",
     "output_type": "stream",
     "text": [
      "(Steps: 2352) Finished 15 epoch training (147 steps per epoch).\n",
      "(Epoch: 15) train/loss = 0.00000.\n",
      "(Epoch: 15) train/epoch_metric = 0.01373.\n",
      "(Epoch: 15) train/epoch_auc = 0.92240.\n",
      "(Epoch: 15) train/epoch_acc = 0.99759.\n",
      "(Epoch: 15) train/epoch_recall = 0.38173.\n",
      "(Epoch: 15) train/epoch_precision = 0.93013.\n"
     ]
    },
    {
     "name": "stderr",
     "output_type": "stream",
     "text": [
      "[train]: 100%|██████████| 2400/2400 [02:25<00:00, 16.50it/s]\n",
      "[INFO] 2020-11-30 14:07:47,887 >>\tSuccessfully load checkpoint from exp/node/v009-2/best/best_loss1fold_stack.pkl.\n",
      "  0%|          | 0/25 [00:00<?, ?it/s]"
     ]
    },
    {
     "name": "stdout",
     "output_type": "stream",
     "text": [
      "Finished training.\n"
     ]
    },
    {
     "name": "stderr",
     "output_type": "stream",
     "text": [
      "100%|██████████| 25/25 [00:00<00:00, 95.29it/s]\n",
      "[INFO] 2020-11-30 14:07:48,159 >>\tSuccessfully inference dev data at fold1.\n",
      "[INFO] 2020-11-30 14:07:48,405 >>\tfold1 score: 0.013739, Step:2205, Epoch:15.\n",
      "[INFO] 2020-11-30 14:07:48,407 >>\tStart to train fold 2.\n",
      "[INFO] 2020-11-30 14:07:48,465 >>\tStart training!\n",
      "[train]:   6%|▌         | 146/2400 [00:03<00:49, 45.50it/s]"
     ]
    },
    {
     "name": "stdout",
     "output_type": "stream",
     "text": [
      "(Steps: 147) Finished 0 epoch training (147 steps per epoch).\n",
      "(Epoch: 0) train/loss = 0.00002.\n",
      "(Epoch: 0) train/epoch_metric = 0.47143.\n",
      "(Epoch: 0) train/epoch_auc = 0.68524.\n",
      "(Epoch: 0) train/epoch_acc = 0.89314.\n",
      "(Epoch: 0) train/epoch_recall = 0.41270.\n",
      "(Epoch: 0) train/epoch_precision = 0.01448.\n"
     ]
    },
    {
     "name": "stderr",
     "output_type": "stream",
     "text": [
      "[train]:  12%|█▏        | 293/2400 [00:11<00:46, 45.69it/s]"
     ]
    },
    {
     "name": "stdout",
     "output_type": "stream",
     "text": [
      "(Steps: 294) Finished 1 epoch training (147 steps per epoch).\n",
      "(Epoch: 1) train/loss = 0.00000.\n",
      "(Epoch: 1) train/epoch_metric = 0.09866.\n",
      "(Epoch: 1) train/epoch_auc = 0.65590.\n",
      "(Epoch: 1) train/epoch_acc = 0.99680.\n",
      "(Epoch: 1) train/epoch_recall = 0.18845.\n",
      "(Epoch: 1) train/epoch_precision = 0.80035.\n"
     ]
    },
    {
     "name": "stderr",
     "output_type": "stream",
     "text": [
      "[train]:  18%|█▊        | 438/2400 [00:20<00:41, 47.76it/s]"
     ]
    },
    {
     "name": "stdout",
     "output_type": "stream",
     "text": [
      "(Steps: 441) Finished 2 epoch training (147 steps per epoch).\n",
      "(Epoch: 2) train/loss = 0.00000.\n",
      "(Epoch: 2) train/epoch_metric = 0.03115.\n",
      "(Epoch: 2) train/epoch_auc = 0.69987.\n",
      "(Epoch: 2) train/epoch_acc = 0.99694.\n",
      "(Epoch: 2) train/epoch_recall = 0.18610.\n",
      "(Epoch: 2) train/epoch_precision = 0.95795.\n"
     ]
    },
    {
     "name": "stderr",
     "output_type": "stream",
     "text": [
      "[train]:  24%|██▍       | 584/2400 [00:28<00:38, 46.87it/s]"
     ]
    },
    {
     "name": "stdout",
     "output_type": "stream",
     "text": [
      "(Steps: 588) Finished 3 epoch training (147 steps per epoch).\n",
      "(Epoch: 3) train/loss = 0.00000.\n",
      "(Epoch: 3) train/epoch_metric = 0.02008.\n",
      "(Epoch: 3) train/epoch_auc = 0.78524.\n",
      "(Epoch: 3) train/epoch_acc = 0.99700.\n",
      "(Epoch: 3) train/epoch_recall = 0.20631.\n",
      "(Epoch: 3) train/epoch_precision = 0.95299.\n"
     ]
    },
    {
     "name": "stderr",
     "output_type": "stream",
     "text": [
      "[train]:  31%|███       | 733/2400 [00:37<00:34, 48.62it/s]"
     ]
    },
    {
     "name": "stdout",
     "output_type": "stream",
     "text": [
      "(Steps: 735) Finished 4 epoch training (147 steps per epoch).\n",
      "(Epoch: 4) train/loss = 0.00000.\n",
      "(Epoch: 4) train/epoch_metric = 0.01749.\n",
      "(Epoch: 4) train/epoch_auc = 0.83581.\n",
      "(Epoch: 4) train/epoch_acc = 0.99709.\n",
      "(Epoch: 4) train/epoch_recall = 0.23221.\n",
      "(Epoch: 4) train/epoch_precision = 0.94826.\n"
     ]
    },
    {
     "name": "stderr",
     "output_type": "stream",
     "text": [
      "[train]:  37%|███▋      | 880/2400 [00:46<00:43, 35.32it/s]"
     ]
    },
    {
     "name": "stdout",
     "output_type": "stream",
     "text": [
      "(Steps: 882) Finished 5 epoch training (147 steps per epoch).\n",
      "(Epoch: 5) train/loss = 0.00000.\n",
      "(Epoch: 5) train/epoch_metric = 0.01639.\n",
      "(Epoch: 5) train/epoch_auc = 0.85958.\n",
      "(Epoch: 5) train/epoch_acc = 0.99719.\n",
      "(Epoch: 5) train/epoch_recall = 0.26412.\n",
      "(Epoch: 5) train/epoch_precision = 0.93873.\n"
     ]
    },
    {
     "name": "stderr",
     "output_type": "stream",
     "text": [
      "[train]:  43%|████▎     | 1029/2400 [00:57<00:39, 35.05it/s]"
     ]
    },
    {
     "name": "stdout",
     "output_type": "stream",
     "text": [
      "(Steps: 1029) Finished 6 epoch training (147 steps per epoch).\n",
      "(Epoch: 6) train/loss = 0.00000.\n",
      "(Epoch: 6) train/epoch_metric = 0.01577.\n",
      "(Epoch: 6) train/epoch_auc = 0.87492.\n",
      "(Epoch: 6) train/epoch_acc = 0.99729.\n",
      "(Epoch: 6) train/epoch_recall = 0.29313.\n",
      "(Epoch: 6) train/epoch_precision = 0.93260.\n"
     ]
    },
    {
     "name": "stderr",
     "output_type": "stream",
     "text": [
      "[train]:  49%|████▉     | 1175/2400 [01:06<00:31, 39.24it/s]"
     ]
    },
    {
     "name": "stdout",
     "output_type": "stream",
     "text": [
      "(Steps: 1176) Finished 7 epoch training (147 steps per epoch).\n",
      "(Epoch: 7) train/loss = 0.00000.\n",
      "(Epoch: 7) train/epoch_metric = 0.01530.\n",
      "(Epoch: 7) train/epoch_auc = 0.88556.\n",
      "(Epoch: 7) train/epoch_acc = 0.99736.\n",
      "(Epoch: 7) train/epoch_recall = 0.31453.\n",
      "(Epoch: 7) train/epoch_precision = 0.93171.\n"
     ]
    },
    {
     "name": "stderr",
     "output_type": "stream",
     "text": [
      "[train]:  55%|█████▌    | 1320/2400 [01:14<00:22, 47.79it/s]"
     ]
    },
    {
     "name": "stdout",
     "output_type": "stream",
     "text": [
      "(Steps: 1323) Finished 8 epoch training (147 steps per epoch).\n",
      "(Epoch: 8) train/loss = 0.00000.\n",
      "(Epoch: 8) train/epoch_metric = 0.01494.\n",
      "(Epoch: 8) train/epoch_auc = 0.89326.\n",
      "(Epoch: 8) train/epoch_acc = 0.99741.\n",
      "(Epoch: 8) train/epoch_recall = 0.33232.\n",
      "(Epoch: 8) train/epoch_precision = 0.92718.\n"
     ]
    },
    {
     "name": "stderr",
     "output_type": "stream",
     "text": [
      "[train]:  61%|██████▏   | 1470/2400 [01:23<00:19, 47.21it/s]"
     ]
    },
    {
     "name": "stdout",
     "output_type": "stream",
     "text": [
      "(Steps: 1470) Finished 9 epoch training (147 steps per epoch).\n",
      "(Epoch: 9) train/loss = 0.00000.\n",
      "(Epoch: 9) train/epoch_metric = 0.01467.\n",
      "(Epoch: 9) train/epoch_auc = 0.89973.\n",
      "(Epoch: 9) train/epoch_acc = 0.99745.\n",
      "(Epoch: 9) train/epoch_recall = 0.34229.\n",
      "(Epoch: 9) train/epoch_precision = 0.93037.\n"
     ]
    },
    {
     "name": "stderr",
     "output_type": "stream",
     "text": [
      "[train]:  67%|██████▋   | 1615/2400 [01:32<00:16, 48.35it/s]"
     ]
    },
    {
     "name": "stdout",
     "output_type": "stream",
     "text": [
      "(Steps: 1617) Finished 10 epoch training (147 steps per epoch).\n",
      "(Epoch: 10) train/loss = 0.00000.\n",
      "(Epoch: 10) train/epoch_metric = 0.01445.\n",
      "(Epoch: 10) train/epoch_auc = 0.90548.\n",
      "(Epoch: 10) train/epoch_acc = 0.99748.\n",
      "(Epoch: 10) train/epoch_recall = 0.35212.\n",
      "(Epoch: 10) train/epoch_precision = 0.92776.\n"
     ]
    },
    {
     "name": "stderr",
     "output_type": "stream",
     "text": [
      "[train]:  73%|███████▎  | 1762/2400 [01:40<00:13, 45.91it/s]"
     ]
    },
    {
     "name": "stdout",
     "output_type": "stream",
     "text": [
      "(Steps: 1764) Finished 11 epoch training (147 steps per epoch).\n",
      "(Epoch: 11) train/loss = 0.00000.\n",
      "(Epoch: 11) train/epoch_metric = 0.01427.\n",
      "(Epoch: 11) train/epoch_auc = 0.91023.\n",
      "(Epoch: 11) train/epoch_acc = 0.99750.\n",
      "(Epoch: 11) train/epoch_recall = 0.35980.\n",
      "(Epoch: 11) train/epoch_precision = 0.92358.\n"
     ]
    },
    {
     "name": "stderr",
     "output_type": "stream",
     "text": [
      "[train]:  80%|███████▉  | 1909/2400 [01:48<00:10, 47.35it/s]"
     ]
    },
    {
     "name": "stdout",
     "output_type": "stream",
     "text": [
      "(Steps: 1911) Finished 12 epoch training (147 steps per epoch).\n",
      "(Epoch: 12) train/loss = 0.00000.\n",
      "(Epoch: 12) train/epoch_metric = 0.01410.\n",
      "(Epoch: 12) train/epoch_auc = 0.91383.\n",
      "(Epoch: 12) train/epoch_acc = 0.99754.\n",
      "(Epoch: 12) train/epoch_recall = 0.36901.\n",
      "(Epoch: 12) train/epoch_precision = 0.92647.\n"
     ]
    },
    {
     "name": "stderr",
     "output_type": "stream",
     "text": [
      "[train]:  86%|████████▌ | 2057/2400 [01:59<00:09, 34.93it/s]"
     ]
    },
    {
     "name": "stdout",
     "output_type": "stream",
     "text": [
      "(Steps: 2058) Finished 13 epoch training (147 steps per epoch).\n",
      "(Epoch: 13) train/loss = 0.00000.\n",
      "(Epoch: 13) train/epoch_metric = 0.01395.\n",
      "(Epoch: 13) train/epoch_auc = 0.91802.\n",
      "(Epoch: 13) train/epoch_acc = 0.99755.\n",
      "(Epoch: 13) train/epoch_recall = 0.37247.\n",
      "(Epoch: 13) train/epoch_precision = 0.92535.\n"
     ]
    },
    {
     "name": "stderr",
     "output_type": "stream",
     "text": [
      "[train]:  92%|█████████▏| 2205/2400 [02:09<00:04, 47.56it/s]\n",
      "[dev]:   0%|          | 0/25 [00:00<?, ?it/s]\u001b[A"
     ]
    },
    {
     "name": "stdout",
     "output_type": "stream",
     "text": [
      "(Steps: 2205) Finished 14 epoch training (147 steps per epoch).\n",
      "(Epoch: 14) train/loss = 0.00000.\n",
      "(Epoch: 14) train/epoch_metric = 0.01381.\n",
      "(Epoch: 14) train/epoch_auc = 0.92128.\n",
      "(Epoch: 14) train/epoch_acc = 0.99757.\n",
      "(Epoch: 14) train/epoch_recall = 0.37988.\n",
      "(Epoch: 14) train/epoch_precision = 0.92498.\n",
      "(Steps: 2205) Start dev data's evaluation.\n"
     ]
    },
    {
     "name": "stderr",
     "output_type": "stream",
     "text": [
      "\n",
      "[dev]:   4%|▍         | 1/25 [00:00<00:02,  8.92it/s]\u001b[A\n",
      "[dev]: 100%|██████████| 25/25 [00:00<00:00, 77.14it/s]\n"
     ]
    },
    {
     "name": "stdout",
     "output_type": "stream",
     "text": [
      "(Steps: 2205) Finished dev data's evaluation (25 steps per epoch).\n",
      "(Epoch: 15) dev/loss = 0.00000.\n",
      "(Epoch: 15) dev/epoch_metric = 0.01385.\n",
      "(Epoch: 15) dev/epoch_auc = 0.91981.\n",
      "(Epoch: 15) dev/epoch_acc = 0.99755.\n",
      "(Epoch: 15) dev/epoch_recall = 0.36833.\n",
      "(Epoch: 15) dev/epoch_precision = 0.93151.\n",
      "(Steps: 2205) Start eval data's evaluation.\n"
     ]
    },
    {
     "name": "stderr",
     "output_type": "stream",
     "text": [
      "[train]:  98%|█████████▊| 2349/2400 [02:19<00:01, 48.78it/s]"
     ]
    },
    {
     "name": "stdout",
     "output_type": "stream",
     "text": [
      "(Steps: 2352) Finished 15 epoch training (147 steps per epoch).\n",
      "(Epoch: 15) train/loss = 0.00000.\n",
      "(Epoch: 15) train/epoch_metric = 0.01369.\n",
      "(Epoch: 15) train/epoch_auc = 0.92358.\n",
      "(Epoch: 15) train/epoch_acc = 0.99759.\n",
      "(Epoch: 15) train/epoch_recall = 0.38424.\n",
      "(Epoch: 15) train/epoch_precision = 0.92608.\n"
     ]
    },
    {
     "name": "stderr",
     "output_type": "stream",
     "text": [
      "[train]: 100%|██████████| 2400/2400 [02:26<00:00, 16.41it/s]\n",
      "[INFO] 2020-11-30 14:10:14,751 >>\tSuccessfully load checkpoint from exp/node/v009-2/best/best_loss2fold_stack.pkl.\n",
      "  0%|          | 0/25 [00:00<?, ?it/s]"
     ]
    },
    {
     "name": "stdout",
     "output_type": "stream",
     "text": [
      "Finished training.\n"
     ]
    },
    {
     "name": "stderr",
     "output_type": "stream",
     "text": [
      "100%|██████████| 25/25 [00:00<00:00, 97.81it/s]\n",
      "[INFO] 2020-11-30 14:10:15,016 >>\tSuccessfully inference dev data at fold2.\n",
      "[INFO] 2020-11-30 14:10:15,272 >>\tfold2 score: 0.013851, Step:2205, Epoch:15.\n",
      "[INFO] 2020-11-30 14:10:15,275 >>\tStart to train fold 3.\n",
      "[INFO] 2020-11-30 14:10:15,340 >>\tStart training!\n",
      "[train]:   6%|▌         | 144/2400 [00:02<00:59, 37.66it/s]"
     ]
    },
    {
     "name": "stdout",
     "output_type": "stream",
     "text": [
      "(Steps: 147) Finished 0 epoch training (147 steps per epoch).\n",
      "(Epoch: 0) train/loss = 0.00002.\n",
      "(Epoch: 0) train/epoch_metric = 0.47405.\n",
      "(Epoch: 0) train/epoch_auc = 0.68481.\n",
      "(Epoch: 0) train/epoch_acc = 0.88758.\n",
      "(Epoch: 0) train/epoch_recall = 0.41961.\n",
      "(Epoch: 0) train/epoch_precision = 0.01400.\n"
     ]
    },
    {
     "name": "stderr",
     "output_type": "stream",
     "text": [
      "[train]:  12%|█▏        | 291/2400 [00:11<00:42, 49.09it/s]"
     ]
    },
    {
     "name": "stdout",
     "output_type": "stream",
     "text": [
      "(Steps: 294) Finished 1 epoch training (147 steps per epoch).\n",
      "(Epoch: 1) train/loss = 0.00000.\n",
      "(Epoch: 1) train/epoch_metric = 0.09889.\n",
      "(Epoch: 1) train/epoch_auc = 0.65576.\n",
      "(Epoch: 1) train/epoch_acc = 0.99672.\n",
      "(Epoch: 1) train/epoch_recall = 0.18313.\n",
      "(Epoch: 1) train/epoch_precision = 0.74859.\n"
     ]
    },
    {
     "name": "stderr",
     "output_type": "stream",
     "text": [
      "[train]:  18%|█▊        | 439/2400 [00:19<00:40, 48.10it/s]"
     ]
    },
    {
     "name": "stdout",
     "output_type": "stream",
     "text": [
      "(Steps: 441) Finished 2 epoch training (147 steps per epoch).\n",
      "(Epoch: 2) train/loss = 0.00000.\n",
      "(Epoch: 2) train/epoch_metric = 0.03118.\n",
      "(Epoch: 2) train/epoch_auc = 0.70103.\n",
      "(Epoch: 2) train/epoch_acc = 0.99691.\n",
      "(Epoch: 2) train/epoch_recall = 0.17912.\n",
      "(Epoch: 2) train/epoch_precision = 0.96281.\n"
     ]
    },
    {
     "name": "stderr",
     "output_type": "stream",
     "text": [
      "[train]:  24%|██▍       | 587/2400 [00:28<00:37, 48.58it/s]"
     ]
    },
    {
     "name": "stdout",
     "output_type": "stream",
     "text": [
      "(Steps: 588) Finished 3 epoch training (147 steps per epoch).\n",
      "(Epoch: 3) train/loss = 0.00000.\n",
      "(Epoch: 3) train/epoch_metric = 0.02007.\n",
      "(Epoch: 3) train/epoch_auc = 0.78888.\n",
      "(Epoch: 3) train/epoch_acc = 0.99700.\n",
      "(Epoch: 3) train/epoch_recall = 0.20672.\n",
      "(Epoch: 3) train/epoch_precision = 0.95129.\n"
     ]
    },
    {
     "name": "stderr",
     "output_type": "stream",
     "text": [
      "[train]:  30%|███       | 731/2400 [00:38<00:48, 34.19it/s]"
     ]
    },
    {
     "name": "stdout",
     "output_type": "stream",
     "text": [
      "(Steps: 735) Finished 4 epoch training (147 steps per epoch).\n",
      "(Epoch: 4) train/loss = 0.00000.\n",
      "(Epoch: 4) train/epoch_metric = 0.01752.\n",
      "(Epoch: 4) train/epoch_auc = 0.83668.\n",
      "(Epoch: 4) train/epoch_acc = 0.99708.\n",
      "(Epoch: 4) train/epoch_recall = 0.23135.\n",
      "(Epoch: 4) train/epoch_precision = 0.94704.\n"
     ]
    },
    {
     "name": "stderr",
     "output_type": "stream",
     "text": [
      "[train]:  37%|███▋      | 879/2400 [00:48<00:31, 48.21it/s]"
     ]
    },
    {
     "name": "stdout",
     "output_type": "stream",
     "text": [
      "(Steps: 882) Finished 5 epoch training (147 steps per epoch).\n",
      "(Epoch: 5) train/loss = 0.00000.\n",
      "(Epoch: 5) train/epoch_metric = 0.01647.\n",
      "(Epoch: 5) train/epoch_auc = 0.86126.\n",
      "(Epoch: 5) train/epoch_acc = 0.99718.\n",
      "(Epoch: 5) train/epoch_recall = 0.26076.\n",
      "(Epoch: 5) train/epoch_precision = 0.93733.\n"
     ]
    },
    {
     "name": "stderr",
     "output_type": "stream",
     "text": [
      "[train]:  43%|████▎     | 1024/2400 [00:56<00:29, 46.78it/s]"
     ]
    },
    {
     "name": "stdout",
     "output_type": "stream",
     "text": [
      "(Steps: 1029) Finished 6 epoch training (147 steps per epoch).\n",
      "(Epoch: 6) train/loss = 0.00000.\n",
      "(Epoch: 6) train/epoch_metric = 0.01579.\n",
      "(Epoch: 6) train/epoch_auc = 0.87596.\n",
      "(Epoch: 6) train/epoch_acc = 0.99727.\n",
      "(Epoch: 6) train/epoch_recall = 0.28885.\n",
      "(Epoch: 6) train/epoch_precision = 0.93463.\n"
     ]
    },
    {
     "name": "stderr",
     "output_type": "stream",
     "text": [
      "[train]:  49%|████▉     | 1174/2400 [01:05<00:24, 50.48it/s]"
     ]
    },
    {
     "name": "stdout",
     "output_type": "stream",
     "text": [
      "(Steps: 1176) Finished 7 epoch training (147 steps per epoch).\n",
      "(Epoch: 7) train/loss = 0.00000.\n",
      "(Epoch: 7) train/epoch_metric = 0.01530.\n",
      "(Epoch: 7) train/epoch_auc = 0.88649.\n",
      "(Epoch: 7) train/epoch_acc = 0.99735.\n",
      "(Epoch: 7) train/epoch_recall = 0.31023.\n",
      "(Epoch: 7) train/epoch_precision = 0.93670.\n"
     ]
    },
    {
     "name": "stderr",
     "output_type": "stream",
     "text": [
      "[train]:  55%|█████▍    | 1319/2400 [01:14<00:25, 42.79it/s]"
     ]
    },
    {
     "name": "stdout",
     "output_type": "stream",
     "text": [
      "(Steps: 1323) Finished 8 epoch training (147 steps per epoch).\n",
      "(Epoch: 8) train/loss = 0.00000.\n",
      "(Epoch: 8) train/epoch_metric = 0.01494.\n",
      "(Epoch: 8) train/epoch_auc = 0.89425.\n",
      "(Epoch: 8) train/epoch_acc = 0.99740.\n",
      "(Epoch: 8) train/epoch_recall = 0.32808.\n",
      "(Epoch: 8) train/epoch_precision = 0.93072.\n"
     ]
    },
    {
     "name": "stderr",
     "output_type": "stream",
     "text": [
      "[train]:  61%|██████    | 1467/2400 [01:22<00:20, 46.07it/s]"
     ]
    },
    {
     "name": "stdout",
     "output_type": "stream",
     "text": [
      "(Steps: 1470) Finished 9 epoch training (147 steps per epoch).\n",
      "(Epoch: 9) train/loss = 0.00000.\n",
      "(Epoch: 9) train/epoch_metric = 0.01463.\n",
      "(Epoch: 9) train/epoch_auc = 0.90149.\n",
      "(Epoch: 9) train/epoch_acc = 0.99745.\n",
      "(Epoch: 9) train/epoch_recall = 0.34337.\n",
      "(Epoch: 9) train/epoch_precision = 0.92369.\n"
     ]
    },
    {
     "name": "stderr",
     "output_type": "stream",
     "text": [
      "[train]:  67%|██████▋   | 1615/2400 [01:31<00:16, 47.87it/s]"
     ]
    },
    {
     "name": "stdout",
     "output_type": "stream",
     "text": [
      "(Steps: 1617) Finished 10 epoch training (147 steps per epoch).\n",
      "(Epoch: 10) train/loss = 0.00000.\n",
      "(Epoch: 10) train/epoch_metric = 0.01441.\n",
      "(Epoch: 10) train/epoch_auc = 0.90681.\n",
      "(Epoch: 10) train/epoch_acc = 0.99748.\n",
      "(Epoch: 10) train/epoch_recall = 0.35333.\n",
      "(Epoch: 10) train/epoch_precision = 0.92501.\n"
     ]
    },
    {
     "name": "stderr",
     "output_type": "stream",
     "text": [
      "[train]:  73%|███████▎  | 1759/2400 [01:40<00:13, 47.16it/s]"
     ]
    },
    {
     "name": "stdout",
     "output_type": "stream",
     "text": [
      "(Steps: 1764) Finished 11 epoch training (147 steps per epoch).\n",
      "(Epoch: 11) train/loss = 0.00000.\n",
      "(Epoch: 11) train/epoch_metric = 0.01421.\n",
      "(Epoch: 11) train/epoch_auc = 0.91063.\n",
      "(Epoch: 11) train/epoch_acc = 0.99751.\n",
      "(Epoch: 11) train/epoch_recall = 0.36205.\n",
      "(Epoch: 11) train/epoch_precision = 0.92669.\n"
     ]
    },
    {
     "name": "stderr",
     "output_type": "stream",
     "text": [
      "[train]:  79%|███████▉  | 1907/2400 [01:50<00:13, 35.77it/s]"
     ]
    },
    {
     "name": "stdout",
     "output_type": "stream",
     "text": [
      "(Steps: 1911) Finished 12 epoch training (147 steps per epoch).\n",
      "(Epoch: 12) train/loss = 0.00000.\n",
      "(Epoch: 12) train/epoch_metric = 0.01404.\n",
      "(Epoch: 12) train/epoch_auc = 0.91586.\n",
      "(Epoch: 12) train/epoch_acc = 0.99754.\n",
      "(Epoch: 12) train/epoch_recall = 0.37014.\n",
      "(Epoch: 12) train/epoch_precision = 0.92850.\n"
     ]
    },
    {
     "name": "stderr",
     "output_type": "stream",
     "text": [
      "[train]:  86%|████████▌ | 2056/2400 [01:59<00:07, 49.00it/s]"
     ]
    },
    {
     "name": "stdout",
     "output_type": "stream",
     "text": [
      "(Steps: 2058) Finished 13 epoch training (147 steps per epoch).\n",
      "(Epoch: 13) train/loss = 0.00000.\n",
      "(Epoch: 13) train/epoch_metric = 0.01388.\n",
      "(Epoch: 13) train/epoch_auc = 0.91936.\n",
      "(Epoch: 13) train/epoch_acc = 0.99756.\n",
      "(Epoch: 13) train/epoch_recall = 0.37581.\n",
      "(Epoch: 13) train/epoch_precision = 0.92601.\n"
     ]
    },
    {
     "name": "stderr",
     "output_type": "stream",
     "text": [
      "[train]:  92%|█████████▏| 2202/2400 [02:07<00:04, 48.86it/s]\n",
      "[dev]:   0%|          | 0/25 [00:00<?, ?it/s]\u001b[A"
     ]
    },
    {
     "name": "stdout",
     "output_type": "stream",
     "text": [
      "(Steps: 2205) Finished 14 epoch training (147 steps per epoch).\n",
      "(Epoch: 14) train/loss = 0.00000.\n",
      "(Epoch: 14) train/epoch_metric = 0.01377.\n",
      "(Epoch: 14) train/epoch_auc = 0.92192.\n",
      "(Epoch: 14) train/epoch_acc = 0.99758.\n",
      "(Epoch: 14) train/epoch_recall = 0.38024.\n",
      "(Epoch: 14) train/epoch_precision = 0.92634.\n",
      "(Steps: 2205) Start dev data's evaluation.\n"
     ]
    },
    {
     "name": "stderr",
     "output_type": "stream",
     "text": [
      "\n",
      "[dev]:   4%|▍         | 1/25 [00:00<00:02,  9.32it/s]\u001b[A\n",
      "[dev]: 100%|██████████| 25/25 [00:00<00:00, 82.59it/s]\n"
     ]
    },
    {
     "name": "stdout",
     "output_type": "stream",
     "text": [
      "(Steps: 2205) Finished dev data's evaluation (25 steps per epoch).\n",
      "(Epoch: 15) dev/loss = 0.00000.\n",
      "(Epoch: 15) dev/epoch_metric = 0.01410.\n",
      "(Epoch: 15) dev/epoch_auc = 0.91833.\n",
      "(Epoch: 15) dev/epoch_acc = 0.99752.\n",
      "(Epoch: 15) dev/epoch_recall = 0.37155.\n",
      "(Epoch: 15) dev/epoch_precision = 0.89697.\n",
      "(Steps: 2205) Start eval data's evaluation.\n"
     ]
    },
    {
     "name": "stderr",
     "output_type": "stream",
     "text": [
      "[train]:  98%|█████████▊| 2349/2400 [02:17<00:01, 49.09it/s]"
     ]
    },
    {
     "name": "stdout",
     "output_type": "stream",
     "text": [
      "(Steps: 2352) Finished 15 epoch training (147 steps per epoch).\n",
      "(Epoch: 15) train/loss = 0.00000.\n",
      "(Epoch: 15) train/epoch_metric = 0.01362.\n",
      "(Epoch: 15) train/epoch_auc = 0.92474.\n",
      "(Epoch: 15) train/epoch_acc = 0.99759.\n",
      "(Epoch: 15) train/epoch_recall = 0.38495.\n",
      "(Epoch: 15) train/epoch_precision = 0.92718.\n"
     ]
    },
    {
     "name": "stderr",
     "output_type": "stream",
     "text": [
      "[train]: 100%|██████████| 2400/2400 [02:24<00:00, 16.59it/s]\n",
      "[INFO] 2020-11-30 14:12:40,057 >>\tSuccessfully load checkpoint from exp/node/v009-2/best/best_loss3fold_stack.pkl.\n",
      "  0%|          | 0/25 [00:00<?, ?it/s]"
     ]
    },
    {
     "name": "stdout",
     "output_type": "stream",
     "text": [
      "Finished training.\n"
     ]
    },
    {
     "name": "stderr",
     "output_type": "stream",
     "text": [
      "100%|██████████| 25/25 [00:00<00:00, 93.89it/s]\n",
      "[INFO] 2020-11-30 14:12:40,334 >>\tSuccessfully inference dev data at fold3.\n",
      "[INFO] 2020-11-30 14:12:40,574 >>\tfold3 score: 0.014103, Step:2205, Epoch:15.\n",
      "[INFO] 2020-11-30 14:12:40,577 >>\tStart to train fold 4.\n",
      "[INFO] 2020-11-30 14:12:40,638 >>\tStart training!\n",
      "[train]:   6%|▌         | 146/2400 [00:02<00:44, 51.16it/s]"
     ]
    },
    {
     "name": "stdout",
     "output_type": "stream",
     "text": [
      "(Steps: 147) Finished 0 epoch training (147 steps per epoch).\n",
      "(Epoch: 0) train/loss = 0.00002.\n",
      "(Epoch: 0) train/epoch_metric = 0.47464.\n",
      "(Epoch: 0) train/epoch_auc = 0.68170.\n",
      "(Epoch: 0) train/epoch_acc = 0.88873.\n",
      "(Epoch: 0) train/epoch_recall = 0.41238.\n",
      "(Epoch: 0) train/epoch_precision = 0.01388.\n"
     ]
    },
    {
     "name": "stderr",
     "output_type": "stream",
     "text": [
      "[train]:  12%|█▏        | 289/2400 [00:11<00:41, 50.74it/s]"
     ]
    },
    {
     "name": "stdout",
     "output_type": "stream",
     "text": [
      "(Steps: 294) Finished 1 epoch training (147 steps per epoch).\n",
      "(Epoch: 1) train/loss = 0.00000.\n",
      "(Epoch: 1) train/epoch_metric = 0.09860.\n",
      "(Epoch: 1) train/epoch_auc = 0.64986.\n",
      "(Epoch: 1) train/epoch_acc = 0.99662.\n",
      "(Epoch: 1) train/epoch_recall = 0.18259.\n",
      "(Epoch: 1) train/epoch_precision = 0.66768.\n"
     ]
    },
    {
     "name": "stderr",
     "output_type": "stream",
     "text": [
      "[train]:  18%|█▊        | 436/2400 [00:20<00:39, 50.08it/s]"
     ]
    },
    {
     "name": "stdout",
     "output_type": "stream",
     "text": [
      "(Steps: 441) Finished 2 epoch training (147 steps per epoch).\n",
      "(Epoch: 2) train/loss = 0.00000.\n",
      "(Epoch: 2) train/epoch_metric = 0.03109.\n",
      "(Epoch: 2) train/epoch_auc = 0.69142.\n",
      "(Epoch: 2) train/epoch_acc = 0.99692.\n",
      "(Epoch: 2) train/epoch_recall = 0.17940.\n",
      "(Epoch: 2) train/epoch_precision = 0.96030.\n"
     ]
    },
    {
     "name": "stderr",
     "output_type": "stream",
     "text": [
      "[train]:  24%|██▍       | 584/2400 [00:28<00:39, 45.61it/s]"
     ]
    },
    {
     "name": "stdout",
     "output_type": "stream",
     "text": [
      "(Steps: 588) Finished 3 epoch training (147 steps per epoch).\n",
      "(Epoch: 3) train/loss = 0.00000.\n",
      "(Epoch: 3) train/epoch_metric = 0.02017.\n",
      "(Epoch: 3) train/epoch_auc = 0.78101.\n",
      "(Epoch: 3) train/epoch_acc = 0.99700.\n",
      "(Epoch: 3) train/epoch_recall = 0.20421.\n",
      "(Epoch: 3) train/epoch_precision = 0.95774.\n"
     ]
    },
    {
     "name": "stderr",
     "output_type": "stream",
     "text": [
      "[train]:  30%|███       | 732/2400 [00:38<00:38, 43.17it/s]"
     ]
    },
    {
     "name": "stdout",
     "output_type": "stream",
     "text": [
      "(Steps: 735) Finished 4 epoch training (147 steps per epoch).\n",
      "(Epoch: 4) train/loss = 0.00000.\n",
      "(Epoch: 4) train/epoch_metric = 0.01765.\n",
      "(Epoch: 4) train/epoch_auc = 0.83320.\n",
      "(Epoch: 4) train/epoch_acc = 0.99707.\n",
      "(Epoch: 4) train/epoch_recall = 0.22640.\n",
      "(Epoch: 4) train/epoch_precision = 0.94804.\n"
     ]
    },
    {
     "name": "stderr",
     "output_type": "stream",
     "text": [
      "[train]:  37%|███▋      | 878/2400 [00:46<00:30, 49.67it/s]"
     ]
    },
    {
     "name": "stdout",
     "output_type": "stream",
     "text": [
      "(Steps: 882) Finished 5 epoch training (147 steps per epoch).\n",
      "(Epoch: 5) train/loss = 0.00000.\n",
      "(Epoch: 5) train/epoch_metric = 0.01660.\n",
      "(Epoch: 5) train/epoch_auc = 0.85609.\n",
      "(Epoch: 5) train/epoch_acc = 0.99716.\n",
      "(Epoch: 5) train/epoch_recall = 0.25461.\n",
      "(Epoch: 5) train/epoch_precision = 0.93318.\n"
     ]
    },
    {
     "name": "stderr",
     "output_type": "stream",
     "text": [
      "[train]:  43%|████▎     | 1027/2400 [00:55<00:27, 49.85it/s]"
     ]
    },
    {
     "name": "stdout",
     "output_type": "stream",
     "text": [
      "(Steps: 1029) Finished 6 epoch training (147 steps per epoch).\n",
      "(Epoch: 6) train/loss = 0.00000.\n",
      "(Epoch: 6) train/epoch_metric = 0.01591.\n",
      "(Epoch: 6) train/epoch_auc = 0.87229.\n",
      "(Epoch: 6) train/epoch_acc = 0.99726.\n",
      "(Epoch: 6) train/epoch_recall = 0.28310.\n",
      "(Epoch: 6) train/epoch_precision = 0.93799.\n"
     ]
    },
    {
     "name": "stderr",
     "output_type": "stream",
     "text": [
      "[train]:  49%|████▉     | 1175/2400 [01:03<00:24, 50.18it/s]"
     ]
    },
    {
     "name": "stdout",
     "output_type": "stream",
     "text": [
      "(Steps: 1176) Finished 7 epoch training (147 steps per epoch).\n",
      "(Epoch: 7) train/loss = 0.00000.\n",
      "(Epoch: 7) train/epoch_metric = 0.01539.\n",
      "(Epoch: 7) train/epoch_auc = 0.88366.\n",
      "(Epoch: 7) train/epoch_acc = 0.99733.\n",
      "(Epoch: 7) train/epoch_recall = 0.30507.\n",
      "(Epoch: 7) train/epoch_precision = 0.93281.\n"
     ]
    },
    {
     "name": "stderr",
     "output_type": "stream",
     "text": [
      "[train]:  55%|█████▌    | 1320/2400 [01:12<00:22, 48.16it/s]"
     ]
    },
    {
     "name": "stdout",
     "output_type": "stream",
     "text": [
      "(Steps: 1323) Finished 8 epoch training (147 steps per epoch).\n",
      "(Epoch: 8) train/loss = 0.00000.\n",
      "(Epoch: 8) train/epoch_metric = 0.01499.\n",
      "(Epoch: 8) train/epoch_auc = 0.89240.\n",
      "(Epoch: 8) train/epoch_acc = 0.99739.\n",
      "(Epoch: 8) train/epoch_recall = 0.32344.\n",
      "(Epoch: 8) train/epoch_precision = 0.92948.\n"
     ]
    },
    {
     "name": "stderr",
     "output_type": "stream",
     "text": [
      "[train]:  61%|██████    | 1465/2400 [01:21<00:18, 49.57it/s]"
     ]
    },
    {
     "name": "stdout",
     "output_type": "stream",
     "text": [
      "(Steps: 1470) Finished 9 epoch training (147 steps per epoch).\n",
      "(Epoch: 9) train/loss = 0.00000.\n",
      "(Epoch: 9) train/epoch_metric = 0.01470.\n",
      "(Epoch: 9) train/epoch_auc = 0.89907.\n",
      "(Epoch: 9) train/epoch_acc = 0.99744.\n",
      "(Epoch: 9) train/epoch_recall = 0.33731.\n",
      "(Epoch: 9) train/epoch_precision = 0.92774.\n"
     ]
    },
    {
     "name": "stderr",
     "output_type": "stream",
     "text": [
      "[train]:  67%|██████▋   | 1616/2400 [01:29<00:15, 50.51it/s]"
     ]
    },
    {
     "name": "stdout",
     "output_type": "stream",
     "text": [
      "(Steps: 1617) Finished 10 epoch training (147 steps per epoch).\n",
      "(Epoch: 10) train/loss = 0.00000.\n",
      "(Epoch: 10) train/epoch_metric = 0.01445.\n",
      "(Epoch: 10) train/epoch_auc = 0.90536.\n",
      "(Epoch: 10) train/epoch_acc = 0.99747.\n",
      "(Epoch: 10) train/epoch_recall = 0.34881.\n",
      "(Epoch: 10) train/epoch_precision = 0.92449.\n"
     ]
    },
    {
     "name": "stderr",
     "output_type": "stream",
     "text": [
      "[train]:  73%|███████▎  | 1762/2400 [01:39<00:17, 36.20it/s]"
     ]
    },
    {
     "name": "stdout",
     "output_type": "stream",
     "text": [
      "(Steps: 1764) Finished 11 epoch training (147 steps per epoch).\n",
      "(Epoch: 11) train/loss = 0.00000.\n",
      "(Epoch: 11) train/epoch_metric = 0.01424.\n",
      "(Epoch: 11) train/epoch_auc = 0.91033.\n",
      "(Epoch: 11) train/epoch_acc = 0.99751.\n",
      "(Epoch: 11) train/epoch_recall = 0.35970.\n",
      "(Epoch: 11) train/epoch_precision = 0.92727.\n"
     ]
    },
    {
     "name": "stderr",
     "output_type": "stream",
     "text": [
      "[train]:  80%|███████▉  | 1908/2400 [01:48<00:10, 47.58it/s]"
     ]
    },
    {
     "name": "stdout",
     "output_type": "stream",
     "text": [
      "(Steps: 1911) Finished 12 epoch training (147 steps per epoch).\n",
      "(Epoch: 12) train/loss = 0.00000.\n",
      "(Epoch: 12) train/epoch_metric = 0.01406.\n",
      "(Epoch: 12) train/epoch_auc = 0.91490.\n",
      "(Epoch: 12) train/epoch_acc = 0.99753.\n",
      "(Epoch: 12) train/epoch_recall = 0.36684.\n",
      "(Epoch: 12) train/epoch_precision = 0.92259.\n"
     ]
    },
    {
     "name": "stderr",
     "output_type": "stream",
     "text": [
      "[train]:  86%|████████▌ | 2057/2400 [01:57<00:07, 48.89it/s]"
     ]
    },
    {
     "name": "stdout",
     "output_type": "stream",
     "text": [
      "(Steps: 2058) Finished 13 epoch training (147 steps per epoch).\n",
      "(Epoch: 13) train/loss = 0.00000.\n",
      "(Epoch: 13) train/epoch_metric = 0.01390.\n",
      "(Epoch: 13) train/epoch_auc = 0.91858.\n",
      "(Epoch: 13) train/epoch_acc = 0.99756.\n",
      "(Epoch: 13) train/epoch_recall = 0.37224.\n",
      "(Epoch: 13) train/epoch_precision = 0.92891.\n"
     ]
    },
    {
     "name": "stderr",
     "output_type": "stream",
     "text": [
      "[train]:  92%|█████████▏| 2205/2400 [02:06<00:04, 41.51it/s]\n",
      "[dev]:   0%|          | 0/25 [00:00<?, ?it/s]\u001b[A"
     ]
    },
    {
     "name": "stdout",
     "output_type": "stream",
     "text": [
      "(Steps: 2205) Finished 14 epoch training (147 steps per epoch).\n",
      "(Epoch: 14) train/loss = 0.00000.\n",
      "(Epoch: 14) train/epoch_metric = 0.01377.\n",
      "(Epoch: 14) train/epoch_auc = 0.92118.\n",
      "(Epoch: 14) train/epoch_acc = 0.99757.\n",
      "(Epoch: 14) train/epoch_recall = 0.37938.\n",
      "(Epoch: 14) train/epoch_precision = 0.92340.\n",
      "(Steps: 2205) Start dev data's evaluation.\n"
     ]
    },
    {
     "name": "stderr",
     "output_type": "stream",
     "text": [
      "\n",
      "[dev]:   4%|▍         | 1/25 [00:00<00:02,  9.16it/s]\u001b[A\n",
      "[dev]: 100%|██████████| 25/25 [00:00<00:00, 73.25it/s]\n"
     ]
    },
    {
     "name": "stdout",
     "output_type": "stream",
     "text": [
      "(Steps: 2205) Finished dev data's evaluation (25 steps per epoch).\n",
      "(Epoch: 15) dev/loss = 0.00000.\n",
      "(Epoch: 15) dev/epoch_metric = 0.01396.\n",
      "(Epoch: 15) dev/epoch_auc = 0.91667.\n",
      "(Epoch: 15) dev/epoch_acc = 0.99757.\n",
      "(Epoch: 15) dev/epoch_recall = 0.38544.\n",
      "(Epoch: 15) dev/epoch_precision = 0.92004.\n",
      "(Steps: 2205) Start eval data's evaluation.\n"
     ]
    },
    {
     "name": "stderr",
     "output_type": "stream",
     "text": [
      "[train]:  98%|█████████▊| 2351/2400 [02:16<00:00, 50.23it/s]"
     ]
    },
    {
     "name": "stdout",
     "output_type": "stream",
     "text": [
      "(Steps: 2352) Finished 15 epoch training (147 steps per epoch).\n",
      "(Epoch: 15) train/loss = 0.00000.\n",
      "(Epoch: 15) train/epoch_metric = 0.01362.\n",
      "(Epoch: 15) train/epoch_auc = 0.92462.\n",
      "(Epoch: 15) train/epoch_acc = 0.99759.\n",
      "(Epoch: 15) train/epoch_recall = 0.38195.\n",
      "(Epoch: 15) train/epoch_precision = 0.92761.\n"
     ]
    },
    {
     "name": "stderr",
     "output_type": "stream",
     "text": [
      "[train]: 100%|██████████| 2400/2400 [02:23<00:00, 16.76it/s]\n",
      "[INFO] 2020-11-30 14:15:03,833 >>\tSuccessfully load checkpoint from exp/node/v009-2/best/best_loss4fold_stack.pkl.\n",
      "  0%|          | 0/25 [00:00<?, ?it/s]"
     ]
    },
    {
     "name": "stdout",
     "output_type": "stream",
     "text": [
      "Finished training.\n"
     ]
    },
    {
     "name": "stderr",
     "output_type": "stream",
     "text": [
      "100%|██████████| 25/25 [00:00<00:00, 93.52it/s]\n",
      "[INFO] 2020-11-30 14:15:04,111 >>\tSuccessfully inference dev data at fold4.\n",
      "[INFO] 2020-11-30 14:15:04,350 >>\tfold4 score: 0.013958, Step:2205, Epoch:15.\n",
      "[INFO] 2020-11-30 14:15:04,354 >>\tStart to train fold 5.\n",
      "[INFO] 2020-11-30 14:15:04,414 >>\tStart training!\n",
      "[train]:   6%|▌         | 145/2400 [00:02<00:52, 42.81it/s]"
     ]
    },
    {
     "name": "stdout",
     "output_type": "stream",
     "text": [
      "(Steps: 147) Finished 0 epoch training (147 steps per epoch).\n",
      "(Epoch: 0) train/loss = 0.00002.\n",
      "(Epoch: 0) train/epoch_metric = 0.47339.\n",
      "(Epoch: 0) train/epoch_auc = 0.68082.\n",
      "(Epoch: 0) train/epoch_acc = 0.88984.\n",
      "(Epoch: 0) train/epoch_recall = 0.41103.\n",
      "(Epoch: 0) train/epoch_precision = 0.01398.\n"
     ]
    },
    {
     "name": "stderr",
     "output_type": "stream",
     "text": [
      "[train]:  12%|█▏        | 292/2400 [00:11<00:42, 49.17it/s]"
     ]
    },
    {
     "name": "stdout",
     "output_type": "stream",
     "text": [
      "(Steps: 294) Finished 1 epoch training (147 steps per epoch).\n",
      "(Epoch: 1) train/loss = 0.00000.\n",
      "(Epoch: 1) train/epoch_metric = 0.09868.\n",
      "(Epoch: 1) train/epoch_auc = 0.65100.\n",
      "(Epoch: 1) train/epoch_acc = 0.99659.\n",
      "(Epoch: 1) train/epoch_recall = 0.17676.\n",
      "(Epoch: 1) train/epoch_precision = 0.65461.\n"
     ]
    },
    {
     "name": "stderr",
     "output_type": "stream",
     "text": [
      "[train]:  18%|█▊        | 440/2400 [00:19<00:48, 40.18it/s]"
     ]
    },
    {
     "name": "stdout",
     "output_type": "stream",
     "text": [
      "(Steps: 441) Finished 2 epoch training (147 steps per epoch).\n",
      "(Epoch: 2) train/loss = 0.00000.\n",
      "(Epoch: 2) train/epoch_metric = 0.03120.\n",
      "(Epoch: 2) train/epoch_auc = 0.69088.\n",
      "(Epoch: 2) train/epoch_acc = 0.99691.\n",
      "(Epoch: 2) train/epoch_recall = 0.17877.\n",
      "(Epoch: 2) train/epoch_precision = 0.95556.\n"
     ]
    },
    {
     "name": "stderr",
     "output_type": "stream",
     "text": [
      "[train]:  24%|██▍       | 588/2400 [00:30<00:38, 46.82it/s]"
     ]
    },
    {
     "name": "stdout",
     "output_type": "stream",
     "text": [
      "(Steps: 588) Finished 3 epoch training (147 steps per epoch).\n",
      "(Epoch: 3) train/loss = 0.00000.\n",
      "(Epoch: 3) train/epoch_metric = 0.02023.\n",
      "(Epoch: 3) train/epoch_auc = 0.78452.\n",
      "(Epoch: 3) train/epoch_acc = 0.99700.\n",
      "(Epoch: 3) train/epoch_recall = 0.20427.\n",
      "(Epoch: 3) train/epoch_precision = 0.95559.\n"
     ]
    },
    {
     "name": "stderr",
     "output_type": "stream",
     "text": [
      "[train]:  31%|███       | 735/2400 [00:39<00:33, 49.30it/s]"
     ]
    },
    {
     "name": "stdout",
     "output_type": "stream",
     "text": [
      "(Steps: 735) Finished 4 epoch training (147 steps per epoch).\n",
      "(Epoch: 4) train/loss = 0.00000.\n",
      "(Epoch: 4) train/epoch_metric = 0.01770.\n",
      "(Epoch: 4) train/epoch_auc = 0.83176.\n",
      "(Epoch: 4) train/epoch_acc = 0.99707.\n",
      "(Epoch: 4) train/epoch_recall = 0.22540.\n",
      "(Epoch: 4) train/epoch_precision = 0.94812.\n"
     ]
    },
    {
     "name": "stderr",
     "output_type": "stream",
     "text": [
      "[train]:  37%|███▋      | 878/2400 [00:48<00:32, 46.65it/s]"
     ]
    },
    {
     "name": "stdout",
     "output_type": "stream",
     "text": [
      "(Steps: 882) Finished 5 epoch training (147 steps per epoch).\n",
      "(Epoch: 5) train/loss = 0.00000.\n",
      "(Epoch: 5) train/epoch_metric = 0.01659.\n",
      "(Epoch: 5) train/epoch_auc = 0.85590.\n",
      "(Epoch: 5) train/epoch_acc = 0.99716.\n",
      "(Epoch: 5) train/epoch_recall = 0.25360.\n",
      "(Epoch: 5) train/epoch_precision = 0.94379.\n"
     ]
    },
    {
     "name": "stderr",
     "output_type": "stream",
     "text": [
      "[train]:  43%|████▎     | 1029/2400 [00:56<00:28, 48.82it/s]"
     ]
    },
    {
     "name": "stdout",
     "output_type": "stream",
     "text": [
      "(Steps: 1029) Finished 6 epoch training (147 steps per epoch).\n",
      "(Epoch: 6) train/loss = 0.00000.\n",
      "(Epoch: 6) train/epoch_metric = 0.01592.\n",
      "(Epoch: 6) train/epoch_auc = 0.87304.\n",
      "(Epoch: 6) train/epoch_acc = 0.99726.\n",
      "(Epoch: 6) train/epoch_recall = 0.28361.\n",
      "(Epoch: 6) train/epoch_precision = 0.93490.\n"
     ]
    },
    {
     "name": "stderr",
     "output_type": "stream",
     "text": [
      "[train]:  49%|████▉     | 1175/2400 [01:05<00:24, 49.10it/s]"
     ]
    },
    {
     "name": "stdout",
     "output_type": "stream",
     "text": [
      "(Steps: 1176) Finished 7 epoch training (147 steps per epoch).\n",
      "(Epoch: 7) train/loss = 0.00000.\n",
      "(Epoch: 7) train/epoch_metric = 0.01540.\n",
      "(Epoch: 7) train/epoch_auc = 0.88434.\n",
      "(Epoch: 7) train/epoch_acc = 0.99733.\n",
      "(Epoch: 7) train/epoch_recall = 0.30543.\n",
      "(Epoch: 7) train/epoch_precision = 0.93271.\n"
     ]
    },
    {
     "name": "stderr",
     "output_type": "stream",
     "text": [
      "[train]:  55%|█████▌    | 1321/2400 [01:14<00:21, 49.13it/s]"
     ]
    },
    {
     "name": "stdout",
     "output_type": "stream",
     "text": [
      "(Steps: 1323) Finished 8 epoch training (147 steps per epoch).\n",
      "(Epoch: 8) train/loss = 0.00000.\n",
      "(Epoch: 8) train/epoch_metric = 0.01501.\n",
      "(Epoch: 8) train/epoch_auc = 0.89337.\n",
      "(Epoch: 8) train/epoch_acc = 0.99739.\n",
      "(Epoch: 8) train/epoch_recall = 0.32463.\n",
      "(Epoch: 8) train/epoch_precision = 0.92938.\n"
     ]
    },
    {
     "name": "stderr",
     "output_type": "stream",
     "text": [
      "[train]:  61%|██████    | 1466/2400 [01:22<00:20, 45.39it/s]"
     ]
    },
    {
     "name": "stdout",
     "output_type": "stream",
     "text": [
      "(Steps: 1470) Finished 9 epoch training (147 steps per epoch).\n",
      "(Epoch: 9) train/loss = 0.00000.\n",
      "(Epoch: 9) train/epoch_metric = 0.01477.\n",
      "(Epoch: 9) train/epoch_auc = 0.89844.\n",
      "(Epoch: 9) train/epoch_acc = 0.99743.\n",
      "(Epoch: 9) train/epoch_recall = 0.33481.\n",
      "(Epoch: 9) train/epoch_precision = 0.92852.\n"
     ]
    },
    {
     "name": "stderr",
     "output_type": "stream",
     "text": [
      "[train]:  67%|██████▋   | 1614/2400 [01:31<00:19, 39.93it/s]"
     ]
    },
    {
     "name": "stdout",
     "output_type": "stream",
     "text": [
      "(Steps: 1617) Finished 10 epoch training (147 steps per epoch).\n",
      "(Epoch: 10) train/loss = 0.00000.\n",
      "(Epoch: 10) train/epoch_metric = 0.01448.\n",
      "(Epoch: 10) train/epoch_auc = 0.90539.\n",
      "(Epoch: 10) train/epoch_acc = 0.99746.\n",
      "(Epoch: 10) train/epoch_recall = 0.34659.\n",
      "(Epoch: 10) train/epoch_precision = 0.92578.\n"
     ]
    },
    {
     "name": "stderr",
     "output_type": "stream",
     "text": [
      "[train]:  73%|███████▎  | 1760/2400 [01:42<00:13, 46.89it/s]"
     ]
    },
    {
     "name": "stdout",
     "output_type": "stream",
     "text": [
      "(Steps: 1764) Finished 11 epoch training (147 steps per epoch).\n",
      "(Epoch: 11) train/loss = 0.00000.\n",
      "(Epoch: 11) train/epoch_metric = 0.01427.\n",
      "(Epoch: 11) train/epoch_auc = 0.91022.\n",
      "(Epoch: 11) train/epoch_acc = 0.99751.\n",
      "(Epoch: 11) train/epoch_recall = 0.35795.\n",
      "(Epoch: 11) train/epoch_precision = 0.92814.\n"
     ]
    },
    {
     "name": "stderr",
     "output_type": "stream",
     "text": [
      "[train]:  79%|███████▉  | 1907/2400 [01:51<00:10, 48.03it/s]"
     ]
    },
    {
     "name": "stdout",
     "output_type": "stream",
     "text": [
      "(Steps: 1911) Finished 12 epoch training (147 steps per epoch).\n",
      "(Epoch: 12) train/loss = 0.00000.\n",
      "(Epoch: 12) train/epoch_metric = 0.01411.\n",
      "(Epoch: 12) train/epoch_auc = 0.91417.\n",
      "(Epoch: 12) train/epoch_acc = 0.99754.\n",
      "(Epoch: 12) train/epoch_recall = 0.36793.\n",
      "(Epoch: 12) train/epoch_precision = 0.92800.\n"
     ]
    },
    {
     "name": "stderr",
     "output_type": "stream",
     "text": [
      "[train]:  86%|████████▌ | 2056/2400 [02:00<00:06, 49.23it/s]"
     ]
    },
    {
     "name": "stdout",
     "output_type": "stream",
     "text": [
      "(Steps: 2058) Finished 13 epoch training (147 steps per epoch).\n",
      "(Epoch: 13) train/loss = 0.00000.\n",
      "(Epoch: 13) train/epoch_metric = 0.01393.\n",
      "(Epoch: 13) train/epoch_auc = 0.91807.\n",
      "(Epoch: 13) train/epoch_acc = 0.99756.\n",
      "(Epoch: 13) train/epoch_recall = 0.37334.\n",
      "(Epoch: 13) train/epoch_precision = 0.92593.\n"
     ]
    },
    {
     "name": "stderr",
     "output_type": "stream",
     "text": [
      "[train]:  92%|█████████▏| 2204/2400 [02:08<00:04, 47.97it/s]\n",
      "[dev]:   0%|          | 0/25 [00:00<?, ?it/s]\u001b[A"
     ]
    },
    {
     "name": "stdout",
     "output_type": "stream",
     "text": [
      "(Steps: 2205) Finished 14 epoch training (147 steps per epoch).\n",
      "(Epoch: 14) train/loss = 0.00000.\n",
      "(Epoch: 14) train/epoch_metric = 0.01382.\n",
      "(Epoch: 14) train/epoch_auc = 0.92144.\n",
      "(Epoch: 14) train/epoch_acc = 0.99756.\n",
      "(Epoch: 14) train/epoch_recall = 0.37569.\n",
      "(Epoch: 14) train/epoch_precision = 0.92133.\n",
      "(Steps: 2205) Start dev data's evaluation.\n"
     ]
    },
    {
     "name": "stderr",
     "output_type": "stream",
     "text": [
      "\n",
      "[dev]:   4%|▍         | 1/25 [00:00<00:02,  9.44it/s]\u001b[A\n",
      "[dev]: 100%|██████████| 25/25 [00:00<00:00, 80.46it/s]\n"
     ]
    },
    {
     "name": "stdout",
     "output_type": "stream",
     "text": [
      "(Steps: 2205) Finished dev data's evaluation (25 steps per epoch).\n",
      "(Epoch: 15) dev/loss = 0.00000.\n",
      "(Epoch: 15) dev/epoch_metric = 0.01376.\n",
      "(Epoch: 15) dev/epoch_auc = 0.92050.\n",
      "(Epoch: 15) dev/epoch_acc = 0.99758.\n",
      "(Epoch: 15) dev/epoch_recall = 0.38267.\n",
      "(Epoch: 15) dev/epoch_precision = 0.92392.\n",
      "(Steps: 2205) Start eval data's evaluation.\n"
     ]
    },
    {
     "name": "stderr",
     "output_type": "stream",
     "text": [
      "[train]:  98%|█████████▊| 2349/2400 [02:19<00:01, 45.01it/s]"
     ]
    },
    {
     "name": "stdout",
     "output_type": "stream",
     "text": [
      "(Steps: 2352) Finished 15 epoch training (147 steps per epoch).\n",
      "(Epoch: 15) train/loss = 0.00000.\n",
      "(Epoch: 15) train/epoch_metric = 0.01370.\n",
      "(Epoch: 15) train/epoch_auc = 0.92385.\n",
      "(Epoch: 15) train/epoch_acc = 0.99758.\n",
      "(Epoch: 15) train/epoch_recall = 0.38117.\n",
      "(Epoch: 15) train/epoch_precision = 0.92719.\n"
     ]
    },
    {
     "name": "stderr",
     "output_type": "stream",
     "text": [
      "[train]: 100%|██████████| 2400/2400 [02:25<00:00, 16.49it/s]\n",
      "[INFO] 2020-11-30 14:17:29,982 >>\tSuccessfully load checkpoint from exp/node/v009-2/best/best_loss5fold_stack.pkl.\n",
      "  0%|          | 0/25 [00:00<?, ?it/s]"
     ]
    },
    {
     "name": "stdout",
     "output_type": "stream",
     "text": [
      "Finished training.\n"
     ]
    },
    {
     "name": "stderr",
     "output_type": "stream",
     "text": [
      "100%|██████████| 25/25 [00:00<00:00, 96.87it/s]\n",
      "[INFO] 2020-11-30 14:17:30,249 >>\tSuccessfully inference dev data at fold5.\n",
      "[INFO] 2020-11-30 14:17:30,493 >>\tfold5 score: 0.013761, Step:2205, Epoch:15.\n",
      "[INFO] 2020-11-30 14:17:30,495 >>\tStart to train fold 6.\n",
      "[INFO] 2020-11-30 14:17:30,558 >>\tStart training!\n",
      "[train]:   6%|▌         | 145/2400 [00:02<00:46, 48.87it/s]"
     ]
    },
    {
     "name": "stdout",
     "output_type": "stream",
     "text": [
      "(Steps: 147) Finished 0 epoch training (147 steps per epoch).\n",
      "(Epoch: 0) train/loss = 0.00002.\n",
      "(Epoch: 0) train/epoch_metric = 0.47221.\n",
      "(Epoch: 0) train/epoch_auc = 0.68796.\n",
      "(Epoch: 0) train/epoch_acc = 0.89138.\n",
      "(Epoch: 0) train/epoch_recall = 0.42107.\n",
      "(Epoch: 0) train/epoch_precision = 0.01451.\n"
     ]
    },
    {
     "name": "stderr",
     "output_type": "stream",
     "text": [
      "[train]:  12%|█▏        | 292/2400 [00:10<00:47, 44.47it/s]"
     ]
    },
    {
     "name": "stdout",
     "output_type": "stream",
     "text": [
      "(Steps: 294) Finished 1 epoch training (147 steps per epoch).\n",
      "(Epoch: 1) train/loss = 0.00000.\n",
      "(Epoch: 1) train/epoch_metric = 0.09884.\n",
      "(Epoch: 1) train/epoch_auc = 0.65790.\n",
      "(Epoch: 1) train/epoch_acc = 0.99669.\n",
      "(Epoch: 1) train/epoch_recall = 0.18315.\n",
      "(Epoch: 1) train/epoch_precision = 0.71348.\n"
     ]
    },
    {
     "name": "stderr",
     "output_type": "stream",
     "text": [
      "[train]:  18%|█▊        | 439/2400 [00:23<00:49, 39.87it/s]"
     ]
    },
    {
     "name": "stdout",
     "output_type": "stream",
     "text": [
      "(Steps: 441) Finished 2 epoch training (147 steps per epoch).\n",
      "(Epoch: 2) train/loss = 0.00000.\n",
      "(Epoch: 2) train/epoch_metric = 0.03110.\n",
      "(Epoch: 2) train/epoch_auc = 0.70335.\n",
      "(Epoch: 2) train/epoch_acc = 0.99693.\n",
      "(Epoch: 2) train/epoch_recall = 0.18343.\n",
      "(Epoch: 2) train/epoch_precision = 0.95939.\n"
     ]
    },
    {
     "name": "stderr",
     "output_type": "stream",
     "text": [
      "[train]:  24%|██▍       | 587/2400 [00:31<00:36, 49.40it/s]"
     ]
    },
    {
     "name": "stdout",
     "output_type": "stream",
     "text": [
      "(Steps: 588) Finished 3 epoch training (147 steps per epoch).\n",
      "(Epoch: 3) train/loss = 0.00000.\n",
      "(Epoch: 3) train/epoch_metric = 0.02011.\n",
      "(Epoch: 3) train/epoch_auc = 0.78447.\n",
      "(Epoch: 3) train/epoch_acc = 0.99700.\n",
      "(Epoch: 3) train/epoch_recall = 0.20430.\n",
      "(Epoch: 3) train/epoch_precision = 0.95034.\n"
     ]
    },
    {
     "name": "stderr",
     "output_type": "stream",
     "text": [
      "[train]:  30%|███       | 731/2400 [00:39<00:33, 50.47it/s]"
     ]
    },
    {
     "name": "stdout",
     "output_type": "stream",
     "text": [
      "(Steps: 735) Finished 4 epoch training (147 steps per epoch).\n",
      "(Epoch: 4) train/loss = 0.00000.\n",
      "(Epoch: 4) train/epoch_metric = 0.01761.\n",
      "(Epoch: 4) train/epoch_auc = 0.83236.\n",
      "(Epoch: 4) train/epoch_acc = 0.99707.\n",
      "(Epoch: 4) train/epoch_recall = 0.22586.\n",
      "(Epoch: 4) train/epoch_precision = 0.94847.\n"
     ]
    },
    {
     "name": "stderr",
     "output_type": "stream",
     "text": [
      "[train]:  37%|███▋      | 877/2400 [00:47<00:31, 48.82it/s]"
     ]
    },
    {
     "name": "stdout",
     "output_type": "stream",
     "text": [
      "(Steps: 882) Finished 5 epoch training (147 steps per epoch).\n",
      "(Epoch: 5) train/loss = 0.00000.\n",
      "(Epoch: 5) train/epoch_metric = 0.01653.\n",
      "(Epoch: 5) train/epoch_auc = 0.85856.\n",
      "(Epoch: 5) train/epoch_acc = 0.99718.\n",
      "(Epoch: 5) train/epoch_recall = 0.25976.\n",
      "(Epoch: 5) train/epoch_precision = 0.94098.\n"
     ]
    },
    {
     "name": "stderr",
     "output_type": "stream",
     "text": [
      "[train]:  43%|████▎     | 1025/2400 [00:56<00:35, 38.47it/s]"
     ]
    },
    {
     "name": "stdout",
     "output_type": "stream",
     "text": [
      "(Steps: 1029) Finished 6 epoch training (147 steps per epoch).\n",
      "(Epoch: 6) train/loss = 0.00000.\n",
      "(Epoch: 6) train/epoch_metric = 0.01586.\n",
      "(Epoch: 6) train/epoch_auc = 0.87398.\n",
      "(Epoch: 6) train/epoch_acc = 0.99727.\n",
      "(Epoch: 6) train/epoch_recall = 0.28575.\n",
      "(Epoch: 6) train/epoch_precision = 0.93300.\n"
     ]
    },
    {
     "name": "stderr",
     "output_type": "stream",
     "text": [
      "[train]:  49%|████▉     | 1174/2400 [01:04<00:25, 48.67it/s]"
     ]
    },
    {
     "name": "stdout",
     "output_type": "stream",
     "text": [
      "(Steps: 1176) Finished 7 epoch training (147 steps per epoch).\n",
      "(Epoch: 7) train/loss = 0.00000.\n",
      "(Epoch: 7) train/epoch_metric = 0.01536.\n",
      "(Epoch: 7) train/epoch_auc = 0.88489.\n",
      "(Epoch: 7) train/epoch_acc = 0.99735.\n",
      "(Epoch: 7) train/epoch_recall = 0.30960.\n",
      "(Epoch: 7) train/epoch_precision = 0.93392.\n"
     ]
    },
    {
     "name": "stderr",
     "output_type": "stream",
     "text": [
      "[train]:  55%|█████▌    | 1321/2400 [01:12<00:21, 51.13it/s]"
     ]
    },
    {
     "name": "stdout",
     "output_type": "stream",
     "text": [
      "(Steps: 1323) Finished 8 epoch training (147 steps per epoch).\n",
      "(Epoch: 8) train/loss = 0.00000.\n",
      "(Epoch: 8) train/epoch_metric = 0.01498.\n",
      "(Epoch: 8) train/epoch_auc = 0.89242.\n",
      "(Epoch: 8) train/epoch_acc = 0.99740.\n",
      "(Epoch: 8) train/epoch_recall = 0.32652.\n",
      "(Epoch: 8) train/epoch_precision = 0.93083.\n"
     ]
    },
    {
     "name": "stderr",
     "output_type": "stream",
     "text": [
      "[train]:  61%|██████▏   | 1470/2400 [01:23<00:24, 37.75it/s]"
     ]
    },
    {
     "name": "stdout",
     "output_type": "stream",
     "text": [
      "(Steps: 1470) Finished 9 epoch training (147 steps per epoch).\n",
      "(Epoch: 9) train/loss = 0.00000.\n",
      "(Epoch: 9) train/epoch_metric = 0.01469.\n",
      "(Epoch: 9) train/epoch_auc = 0.89871.\n",
      "(Epoch: 9) train/epoch_acc = 0.99744.\n",
      "(Epoch: 9) train/epoch_recall = 0.33893.\n",
      "(Epoch: 9) train/epoch_precision = 0.92560.\n"
     ]
    },
    {
     "name": "stderr",
     "output_type": "stream",
     "text": [
      "[train]:  67%|██████▋   | 1612/2400 [01:33<00:15, 49.55it/s]"
     ]
    },
    {
     "name": "stdout",
     "output_type": "stream",
     "text": [
      "(Steps: 1617) Finished 10 epoch training (147 steps per epoch).\n",
      "(Epoch: 10) train/loss = 0.00000.\n",
      "(Epoch: 10) train/epoch_metric = 0.01445.\n",
      "(Epoch: 10) train/epoch_auc = 0.90441.\n",
      "(Epoch: 10) train/epoch_acc = 0.99747.\n",
      "(Epoch: 10) train/epoch_recall = 0.34738.\n",
      "(Epoch: 10) train/epoch_precision = 0.92591.\n"
     ]
    },
    {
     "name": "stderr",
     "output_type": "stream",
     "text": [
      "[train]:  73%|███████▎  | 1760/2400 [01:41<00:13, 47.87it/s]"
     ]
    },
    {
     "name": "stdout",
     "output_type": "stream",
     "text": [
      "(Steps: 1764) Finished 11 epoch training (147 steps per epoch).\n",
      "(Epoch: 11) train/loss = 0.00000.\n",
      "(Epoch: 11) train/epoch_metric = 0.01424.\n",
      "(Epoch: 11) train/epoch_auc = 0.91022.\n",
      "(Epoch: 11) train/epoch_acc = 0.99750.\n",
      "(Epoch: 11) train/epoch_recall = 0.35660.\n",
      "(Epoch: 11) train/epoch_precision = 0.92451.\n"
     ]
    },
    {
     "name": "stderr",
     "output_type": "stream",
     "text": [
      "[train]:  80%|███████▉  | 1911/2400 [01:49<00:09, 49.30it/s]"
     ]
    },
    {
     "name": "stdout",
     "output_type": "stream",
     "text": [
      "(Steps: 1911) Finished 12 epoch training (147 steps per epoch).\n",
      "(Epoch: 12) train/loss = 0.00000.\n",
      "(Epoch: 12) train/epoch_metric = 0.01406.\n",
      "(Epoch: 12) train/epoch_auc = 0.91420.\n",
      "(Epoch: 12) train/epoch_acc = 0.99753.\n",
      "(Epoch: 12) train/epoch_recall = 0.36749.\n",
      "(Epoch: 12) train/epoch_precision = 0.92449.\n"
     ]
    },
    {
     "name": "stderr",
     "output_type": "stream",
     "text": [
      "[train]:  86%|████████▌ | 2057/2400 [01:58<00:07, 48.22it/s]"
     ]
    },
    {
     "name": "stdout",
     "output_type": "stream",
     "text": [
      "(Steps: 2058) Finished 13 epoch training (147 steps per epoch).\n",
      "(Epoch: 13) train/loss = 0.00000.\n",
      "(Epoch: 13) train/epoch_metric = 0.01389.\n",
      "(Epoch: 13) train/epoch_auc = 0.91812.\n",
      "(Epoch: 13) train/epoch_acc = 0.99757.\n",
      "(Epoch: 13) train/epoch_recall = 0.37456.\n",
      "(Epoch: 13) train/epoch_precision = 0.92883.\n"
     ]
    },
    {
     "name": "stderr",
     "output_type": "stream",
     "text": [
      "[train]:  92%|█████████▏| 2202/2400 [02:07<00:04, 46.17it/s]\n",
      "[dev]:   0%|          | 0/25 [00:00<?, ?it/s]\u001b[A"
     ]
    },
    {
     "name": "stdout",
     "output_type": "stream",
     "text": [
      "(Steps: 2205) Finished 14 epoch training (147 steps per epoch).\n",
      "(Epoch: 14) train/loss = 0.00000.\n",
      "(Epoch: 14) train/epoch_metric = 0.01375.\n",
      "(Epoch: 14) train/epoch_auc = 0.92155.\n",
      "(Epoch: 14) train/epoch_acc = 0.99758.\n",
      "(Epoch: 14) train/epoch_recall = 0.37976.\n",
      "(Epoch: 14) train/epoch_precision = 0.92549.\n",
      "(Steps: 2205) Start dev data's evaluation.\n"
     ]
    },
    {
     "name": "stderr",
     "output_type": "stream",
     "text": [
      "\n",
      "[dev]:   4%|▍         | 1/25 [00:00<00:03,  6.35it/s]\u001b[A\n",
      "[dev]:  40%|████      | 10/25 [00:00<00:01,  8.80it/s]\u001b[A\n",
      "[dev]: 100%|██████████| 25/25 [00:00<00:00, 52.57it/s]\n"
     ]
    },
    {
     "name": "stdout",
     "output_type": "stream",
     "text": [
      "(Steps: 2205) Finished dev data's evaluation (25 steps per epoch).\n",
      "(Epoch: 15) dev/loss = 0.00000.\n",
      "(Epoch: 15) dev/epoch_metric = 0.01415.\n",
      "(Epoch: 15) dev/epoch_auc = 0.91915.\n",
      "(Epoch: 15) dev/epoch_acc = 0.99754.\n",
      "(Epoch: 15) dev/epoch_recall = 0.37288.\n",
      "(Epoch: 15) dev/epoch_precision = 0.92418.\n",
      "(Steps: 2205) Start eval data's evaluation.\n"
     ]
    },
    {
     "name": "stderr",
     "output_type": "stream",
     "text": [
      "[train]:  98%|█████████▊| 2350/2400 [02:17<00:01, 45.11it/s]"
     ]
    },
    {
     "name": "stdout",
     "output_type": "stream",
     "text": [
      "(Steps: 2352) Finished 15 epoch training (147 steps per epoch).\n",
      "(Epoch: 15) train/loss = 0.00000.\n",
      "(Epoch: 15) train/epoch_metric = 0.01363.\n",
      "(Epoch: 15) train/epoch_auc = 0.92439.\n",
      "(Epoch: 15) train/epoch_acc = 0.99759.\n",
      "(Epoch: 15) train/epoch_recall = 0.38343.\n",
      "(Epoch: 15) train/epoch_precision = 0.92678.\n"
     ]
    },
    {
     "name": "stderr",
     "output_type": "stream",
     "text": [
      "[train]: 100%|██████████| 2400/2400 [02:24<00:00, 16.60it/s]\n",
      "[INFO] 2020-11-30 14:19:55,178 >>\tSuccessfully load checkpoint from exp/node/v009-2/best/best_loss6fold_stack.pkl.\n",
      "  0%|          | 0/25 [00:00<?, ?it/s]"
     ]
    },
    {
     "name": "stdout",
     "output_type": "stream",
     "text": [
      "Finished training.\n"
     ]
    },
    {
     "name": "stderr",
     "output_type": "stream",
     "text": [
      "100%|██████████| 25/25 [00:00<00:00, 68.97it/s]\n",
      "[INFO] 2020-11-30 14:19:55,554 >>\tSuccessfully inference dev data at fold6.\n",
      "[INFO] 2020-11-30 14:19:55,801 >>\tfold6 score: 0.014153, Step:2205, Epoch:15.\n",
      "[INFO] 2020-11-30 14:19:56,664 >>\tCV score: 0.013989\n",
      "[INFO] 2020-11-30 14:20:13,870 >>\tsaved at exp/node/v009-2/stacking_oof.csv\n"
     ]
    }
   ],
   "source": [
    "config[\"train_max_steps\"] = 2400\n",
    "oof_targets = np.zeros((len(oof_dataset), config[\"out_dim\"]))\n",
    "# for GPU/CPU\n",
    "kfold = MultilabelStratifiedKFold(\n",
    "    n_splits=config[\"n_fold\"], random_state=config[\"seed\"]+1, shuffle=True\n",
    ")\n",
    "if config.get(\"loss_type\", \"BCELoss\") == \"SmoothBCEwLogits\":\n",
    "    loss_class = SmoothBCEwLogits\n",
    "else:\n",
    "    loss_class = getattr(\n",
    "        torch.nn,\n",
    "        # keep compatibility\n",
    "        config.get(\"loss_type\", \"BCELoss\"),\n",
    "    )\n",
    "criterion = loss_class(**config[\"loss_params\"]).to(device)\n",
    "for n, (tr, te) in enumerate(kfold.split(train_targets, train_targets)):\n",
    "    logging.info(f\"Start to train fold {n}.\")\n",
    "    xtrain, xval = oof_dataset[tr], oof_dataset[te]\n",
    "    ytrain, yval = train_targets[tr], train_targets[te]\n",
    "    train_set = StackingDataset(xtrain, ytrain)\n",
    "    val_set = StackingDataset(xval, yval)\n",
    "    data_loader = {\n",
    "        \"train\": DataLoader(\n",
    "            train_set,\n",
    "            batch_size=config[\"batch_size\"],\n",
    "            num_workers=config[\"num_workers\"],\n",
    "            pin_memory=config[\"pin_memory\"],\n",
    "            shuffle=True,\n",
    "        ),\n",
    "        \"dev\": DataLoader(\n",
    "            val_set,\n",
    "            batch_size=config[\"batch_size\"],\n",
    "            num_workers=config[\"num_workers\"],\n",
    "            pin_memory=config[\"pin_memory\"],\n",
    "            shuffle=False,\n",
    "        ),\n",
    "        \"eval\": DataLoader(\n",
    "            val_set,\n",
    "            batch_size=config[\"batch_size\"],\n",
    "            num_workers=config[\"num_workers\"],\n",
    "            pin_memory=config[\"pin_memory\"],\n",
    "            shuffle=False,\n",
    "        ),\n",
    "    }\n",
    "    model = StackingCNN(out_dim=config[\"out_dim\"], kernel_size=3).to(device)\n",
    "\n",
    "    if config[\"optimizer_type\"] == \"QHAdam\":\n",
    "        optimizer_class = QHAdam\n",
    "    else:\n",
    "        optimizer_class = getattr(\n",
    "            torch.optim,\n",
    "            # keep compatibility\n",
    "            config.get(\"optimizer_type\", \"Adam\"),\n",
    "        )\n",
    "    optimizer = optimizer_class(\n",
    "        params=model.parameters(), **config[\"optimizer_params\"]\n",
    "    )\n",
    "\n",
    "    scheduler_class = getattr(\n",
    "        torch.optim.lr_scheduler,\n",
    "        # keep compatibility\n",
    "        config.get(\"scheduler_type\", \"StepLR\"),\n",
    "    )\n",
    "    scheduler = scheduler_class(optimizer=optimizer, **config[\"scheduler_params\"])\n",
    "    trainer = TabTrainer(\n",
    "        steps=0,\n",
    "        epochs=0,\n",
    "        data_loader=data_loader,\n",
    "        model=model.to(device),\n",
    "        criterion=criterion,\n",
    "        optimizer=optimizer,\n",
    "        scheduler=scheduler,\n",
    "        config=config,\n",
    "        device=device,\n",
    "        add_name=f\"{n}fold_stack\",\n",
    "        train=True,\n",
    "        is_kernel=True,\n",
    "        verbose=15\n",
    "    )\n",
    "    # resume from checkpoint\n",
    "    # if len(resumes[n]) != 0:\n",
    "    #     trainer.load_checkpoint(resumes[n])\n",
    "    #     trainer.steps = 0\n",
    "    #     logging.info(f\"Successfully resumed from {resumes[n]}.\")\n",
    "\n",
    "    # run training loop\n",
    "    try:\n",
    "        logging.info(\"Start training!\")\n",
    "        trainer.run()\n",
    "    except KeyboardInterrupt:\n",
    "        trainer.save_checkpoint(\n",
    "            os.path.join(config[\"outdir\"], f\"checkpoint-{trainer.steps}steps_stack.pkl\")\n",
    "        )\n",
    "        logging.info(f\"Successfully saved checkpoint @ {trainer.steps}steps_stack.\")\n",
    "    \n",
    "    trainer.load_checkpoint(checkpoints[n])\n",
    "    logging.info(f\"Successfully load checkpoint from {checkpoints[n]}.\")\n",
    "    oof_targets[te] = trainer.inference()\n",
    "    logging.info(f\"Successfully inference dev data at fold{n}.\")\n",
    "    fold_score = mean_log_loss(yval, oof_targets[te])\n",
    "    logging.info(\n",
    "        f\"fold{n} score: {fold_score:.6f}, Step:{trainer.steps}, Epoch:{trainer.epochs}.\"\n",
    "    )\n",
    "# calculate oof score\n",
    "cv_score = mean_log_loss(train_targets, oof_targets)\n",
    "logging.info(f\"CV score: {cv_score:.6f}\")\n",
    "oof = pd.read_csv(\"../input/lish-moa/train_targets_scored.csv\")\n",
    "oof.loc[drop_idx, targets] = oof_targets\n",
    "oof_path = os.path.join(config[\"outdir\"], \"stacking_oof.csv\")\n",
    "oof.to_csv(oof_path, index=False)\n",
    "logging.info(f\"saved at {oof_path}\")\n",
    "oof_list.append(oof)"
   ]
  },
  {
   "cell_type": "code",
   "execution_count": 11,
   "metadata": {
    "execution": {
     "iopub.execute_input": "2020-11-30T14:20:28.573197Z",
     "iopub.status.busy": "2020-11-30T14:20:28.571530Z",
     "iopub.status.idle": "2020-11-30T14:20:33.727119Z",
     "shell.execute_reply": "2020-11-30T14:20:33.727868Z"
    },
    "papermill": {
     "duration": 10.328662,
     "end_time": "2020-11-30T14:20:33.728031",
     "exception": false,
     "start_time": "2020-11-30T14:20:23.399369",
     "status": "completed"
    },
    "tags": []
   },
   "outputs": [
    {
     "name": "stderr",
     "output_type": "stream",
     "text": [
      "[INFO] 2020-11-30 14:20:28,588 >>\tStart to train fold 0.\n",
      "[INFO] 2020-11-30 14:20:28,598 >>\tSuccessfully load checkpoint from exp/node/v009-2/best/best_loss0fold_stack.pkl.\n",
      "100%|██████████| 32/32 [00:00<00:00, 66.00it/s]\n",
      "[INFO] 2020-11-30 14:20:29,100 >>\tSuccessfully inference eval data at fold0.\n",
      "Step:2205, Epoch:15\n",
      "[INFO] 2020-11-30 14:20:29,102 >>\tStart to train fold 1.\n",
      "[INFO] 2020-11-30 14:20:29,113 >>\tSuccessfully load checkpoint from exp/node/v009-2/best/best_loss1fold_stack.pkl.\n",
      "100%|██████████| 32/32 [00:00<00:00, 66.32it/s]\n",
      "[INFO] 2020-11-30 14:20:29,607 >>\tSuccessfully inference eval data at fold1.\n",
      "Step:2205, Epoch:15\n",
      "[INFO] 2020-11-30 14:20:29,608 >>\tStart to train fold 2.\n",
      "[INFO] 2020-11-30 14:20:29,620 >>\tSuccessfully load checkpoint from exp/node/v009-2/best/best_loss2fold_stack.pkl.\n",
      "100%|██████████| 32/32 [00:00<00:00, 88.98it/s]\n",
      "[INFO] 2020-11-30 14:20:29,988 >>\tSuccessfully inference eval data at fold2.\n",
      "Step:2205, Epoch:15\n",
      "[INFO] 2020-11-30 14:20:29,992 >>\tStart to train fold 3.\n",
      "[INFO] 2020-11-30 14:20:30,002 >>\tSuccessfully load checkpoint from exp/node/v009-2/best/best_loss3fold_stack.pkl.\n",
      "100%|██████████| 32/32 [00:00<00:00, 105.82it/s]\n",
      "[INFO] 2020-11-30 14:20:30,315 >>\tSuccessfully inference eval data at fold3.\n",
      "Step:2205, Epoch:15\n",
      "[INFO] 2020-11-30 14:20:30,316 >>\tStart to train fold 4.\n",
      "[INFO] 2020-11-30 14:20:30,328 >>\tSuccessfully load checkpoint from exp/node/v009-2/best/best_loss4fold_stack.pkl.\n",
      "100%|██████████| 32/32 [00:00<00:00, 106.31it/s]\n",
      "[INFO] 2020-11-30 14:20:30,642 >>\tSuccessfully inference eval data at fold4.\n",
      "Step:2205, Epoch:15\n",
      "[INFO] 2020-11-30 14:20:30,644 >>\tStart to train fold 5.\n",
      "[INFO] 2020-11-30 14:20:30,654 >>\tSuccessfully load checkpoint from exp/node/v009-2/best/best_loss5fold_stack.pkl.\n",
      "100%|██████████| 32/32 [00:00<00:00, 111.32it/s]\n",
      "[INFO] 2020-11-30 14:20:30,951 >>\tSuccessfully inference eval data at fold5.\n",
      "Step:2205, Epoch:15\n",
      "[INFO] 2020-11-30 14:20:30,952 >>\tStart to train fold 6.\n",
      "[INFO] 2020-11-30 14:20:30,964 >>\tSuccessfully load checkpoint from exp/node/v009-2/best/best_loss6fold_stack.pkl.\n",
      "100%|██████████| 32/32 [00:00<00:00, 105.31it/s]\n",
      "[INFO] 2020-11-30 14:20:31,277 >>\tSuccessfully inference eval data at fold6.\n",
      "Step:2205, Epoch:15\n",
      "[INFO] 2020-11-30 14:20:33,718 >>\tsaved at submission.csv\n"
     ]
    }
   ],
   "source": [
    "# inference\n",
    "eval_set = StackingDataset(preds_dataset, None, mode=\"test\")\n",
    "eval_loader = {\n",
    "    \"eval\": DataLoader(\n",
    "        eval_set,\n",
    "        batch_size=config[\"batch_size\"],\n",
    "        num_workers=config[\"num_workers\"],\n",
    "        pin_memory=config[\"pin_memory\"],\n",
    "        shuffle=False,\n",
    "    ),\n",
    "}\n",
    "preds = np.zeros((len(checkpoints), len(preds_dataset), ntargets))\n",
    "for n, checkpoint in enumerate(checkpoints):\n",
    "    logging.info(f\"Start to train fold {n}.\")\n",
    "    model = StackingCNN(out_dim=config[\"out_dim\"], kernel_size=3).to(device)\n",
    "    # eval data\n",
    "    trainer = TabTrainer(\n",
    "        steps=0,\n",
    "        epochs=0,\n",
    "        data_loader=eval_loader,\n",
    "        model=model.to(device),\n",
    "        criterion={},\n",
    "        optimizer={},\n",
    "        scheduler={},\n",
    "        config=config,\n",
    "        device=device,\n",
    "        add_name=f\"{n}fold\",\n",
    "    )\n",
    "    trainer.load_checkpoint(checkpoint)\n",
    "    logging.info(f\"Successfully load checkpoint from {checkpoint}.\")\n",
    "    # run training loop\n",
    "    preds[n] = trainer.inference()\n",
    "    logging.info(f\"Successfully inference eval data at fold{n}.\\nStep:{trainer.steps}, Epoch:{trainer.epochs}\")\n",
    "\n",
    "# calculate eval data's submission file\n",
    "preds_mean = preds.mean(axis=0)\n",
    "ss = pd.read_csv(\"../input/lish-moa/sample_submission.csv\")\n",
    "ss[targets] = preds_mean\n",
    "ss.loc[test_features[\"cp_type\"] == \"ctl_vehicle\", targets] = 0\n",
    "sub_path = os.path.join(\"submission.csv\")\n",
    "ss.to_csv(sub_path, index=False)\n",
    "logging.info(f\"saved at {sub_path}\")\n",
    "preds_list.append(ss)"
   ]
  },
  {
   "cell_type": "code",
   "execution_count": 12,
   "metadata": {
    "execution": {
     "iopub.execute_input": "2020-11-30T14:20:43.944649Z",
     "iopub.status.busy": "2020-11-30T14:20:43.943563Z",
     "iopub.status.idle": "2020-11-30T14:20:44.368884Z",
     "shell.execute_reply": "2020-11-30T14:20:44.368244Z"
    },
    "papermill": {
     "duration": 5.448051,
     "end_time": "2020-11-30T14:20:44.369009",
     "exception": false,
     "start_time": "2020-11-30T14:20:38.920958",
     "status": "completed"
    },
    "tags": []
   },
   "outputs": [
    {
     "data": {
      "text/plain": [
       "(array([7.88679e+05, 2.73090e+04, 2.21800e+03, 4.94000e+02, 2.19000e+02,\n",
       "        1.42000e+02, 8.80000e+01, 6.50000e+01, 6.00000e+01, 2.90000e+01,\n",
       "        2.50000e+01, 2.10000e+01, 1.40000e+01, 2.00000e+01, 1.40000e+01,\n",
       "        1.20000e+01, 1.00000e+01, 1.00000e+01, 1.10000e+01, 1.20000e+01,\n",
       "        5.00000e+00, 8.00000e+00, 7.00000e+00, 9.00000e+00, 4.00000e+00,\n",
       "        6.00000e+00, 3.00000e+00, 3.00000e+00, 2.00000e+00, 2.00000e+00,\n",
       "        0.00000e+00, 3.00000e+00, 4.00000e+00, 1.00000e+00, 1.00000e+00,\n",
       "        1.00000e+00, 2.00000e+00, 4.00000e+00, 1.00000e+00, 1.00000e+00,\n",
       "        4.00000e+00, 3.00000e+00, 2.00000e+00, 4.00000e+00, 2.00000e+00,\n",
       "        1.00000e+00, 2.00000e+00, 3.00000e+00, 3.00000e+00, 1.00000e+00,\n",
       "        4.00000e+00, 3.00000e+00, 0.00000e+00, 6.00000e+00, 2.00000e+00,\n",
       "        1.00000e+00, 3.00000e+00, 5.00000e+00, 1.00000e+00, 3.00000e+00,\n",
       "        2.00000e+00, 3.00000e+00, 1.00000e+01, 3.00000e+00, 1.00000e+00,\n",
       "        3.00000e+00, 1.00000e+00, 0.00000e+00, 3.00000e+00, 2.00000e+00,\n",
       "        2.00000e+00, 2.00000e+00, 3.00000e+00, 3.00000e+00, 5.00000e+00,\n",
       "        6.00000e+00, 0.00000e+00, 8.00000e+00, 2.00000e+00, 2.00000e+00,\n",
       "        4.00000e+00, 3.00000e+00, 5.00000e+00, 6.00000e+00, 8.00000e+00,\n",
       "        1.20000e+01, 4.00000e+00, 7.00000e+00, 9.00000e+00, 9.00000e+00,\n",
       "        6.00000e+00, 1.60000e+01, 8.00000e+00, 1.30000e+01, 1.90000e+01,\n",
       "        1.00000e+01, 1.20000e+01, 2.40000e+01, 2.70000e+01, 4.57000e+02]),\n",
       " array([0.        , 0.00999995, 0.0199999 , 0.02999984, 0.03999979,\n",
       "        0.04999974, 0.05999969, 0.06999963, 0.07999958, 0.08999953,\n",
       "        0.09999948, 0.10999942, 0.11999937, 0.12999932, 0.13999927,\n",
       "        0.14999921, 0.15999916, 0.16999911, 0.17999906, 0.189999  ,\n",
       "        0.19999895, 0.2099989 , 0.21999885, 0.22999879, 0.23999874,\n",
       "        0.24999869, 0.25999864, 0.26999858, 0.27999853, 0.28999848,\n",
       "        0.29999843, 0.30999837, 0.31999832, 0.32999827, 0.33999822,\n",
       "        0.34999816, 0.35999811, 0.36999806, 0.37999801, 0.38999795,\n",
       "        0.3999979 , 0.40999785, 0.4199978 , 0.42999774, 0.43999769,\n",
       "        0.44999764, 0.45999759, 0.46999753, 0.47999748, 0.48999743,\n",
       "        0.49999738, 0.50999732, 0.51999727, 0.52999722, 0.53999717,\n",
       "        0.54999712, 0.55999706, 0.56999701, 0.57999696, 0.58999691,\n",
       "        0.59999685, 0.6099968 , 0.61999675, 0.6299967 , 0.63999664,\n",
       "        0.64999659, 0.65999654, 0.66999649, 0.67999643, 0.68999638,\n",
       "        0.69999633, 0.70999628, 0.71999622, 0.72999617, 0.73999612,\n",
       "        0.74999607, 0.75999601, 0.76999596, 0.77999591, 0.78999586,\n",
       "        0.7999958 , 0.80999575, 0.8199957 , 0.82999565, 0.83999559,\n",
       "        0.84999554, 0.85999549, 0.86999544, 0.87999538, 0.88999533,\n",
       "        0.89999528, 0.90999523, 0.91999517, 0.92999512, 0.93999507,\n",
       "        0.94999502, 0.95999496, 0.96999491, 0.97999486, 0.98999481,\n",
       "        0.99999475]),\n",
       " <a list of 100 Patch objects>)"
      ]
     },
     "execution_count": 12,
     "metadata": {},
     "output_type": "execute_result"
    },
    {
     "data": {
      "image/png": "[encoded data removed]",
      "text/plain": [
       "<Figure size 1152x288 with 1 Axes>"
      ]
     },
     "metadata": {},
     "output_type": "display_data"
    }
   ],
   "source": [
    "hist = ss.iloc[:, 1:].values.flatten()\n",
    "import matplotlib.pyplot as plt\n",
    "plt.figure(figsize=(16,4))\n",
    "plt.hist(hist, bins=100)"
   ]
  },
  {
   "cell_type": "code",
   "execution_count": 13,
   "metadata": {
    "execution": {
     "iopub.execute_input": "2020-11-30T14:20:54.752294Z",
     "iopub.status.busy": "2020-11-30T14:20:54.750479Z",
     "iopub.status.idle": "2020-11-30T14:21:15.954326Z",
     "shell.execute_reply": "2020-11-30T14:21:15.954857Z"
    },
    "papermill": {
     "duration": 26.510532,
     "end_time": "2020-11-30T14:21:15.954995",
     "exception": false,
     "start_time": "2020-11-30T14:20:49.444463",
     "status": "completed"
    },
    "tags": []
   },
   "outputs": [
    {
     "name": "stdout",
     "output_type": "stream",
     "text": [
      "(21948, 206, 4)\n",
      "(3982, 206, 4)\n"
     ]
    },
    {
     "name": "stderr",
     "output_type": "stream",
     "text": [
      "[INFO] 2020-11-30 14:20:55,924 >>\tCV score: 0.013989\n",
      "[INFO] 2020-11-30 14:21:13,648 >>\tsaved at weighted_oof.csv\n",
      "[INFO] 2020-11-30 14:21:15,948 >>\tsaved at submission.csv\n"
     ]
    }
   ],
   "source": [
    "oof_dataset = []\n",
    "for oof in oof_list:\n",
    "    oof_dataset.append(oof.iloc[:, 1:].values)\n",
    "oof_dataset = np.stack(oof_dataset).transpose(1, 2, 0)\n",
    "oof_dataset = oof_dataset[drop_idx]\n",
    "print(oof_dataset.shape)\n",
    "preds_dataset = []\n",
    "for preds in preds_list:\n",
    "    preds_dataset.append(preds.iloc[:, 1:].values)\n",
    "preds_dataset = np.stack(preds_dataset).transpose(1, 2, 0)\n",
    "print(preds_dataset.shape)\n",
    "\n",
    "weighted_oof = np.zeros((len(oof_dataset), config[\"out_dim\"]))\n",
    "weighted_preds = np.zeros((len(preds_dataset), ntargets))\n",
    "\n",
    "weights = np.array([0.036818, 0.005844, 0.955763, 0.001575])\n",
    "for i, weight in enumerate(weights):\n",
    "    weighted_oof += weight * oof_dataset[:,:,i]\n",
    "    weighted_preds += weight * preds_dataset[:,:,i]\n",
    "\n",
    "    \n",
    "# calculate oof score\n",
    "cv_score = mean_log_loss(train_targets, oof_targets)\n",
    "logging.info(f\"CV score: {cv_score:.6f}\")\n",
    "oof = pd.read_csv(\"../input/lish-moa/train_targets_scored.csv\")\n",
    "oof.iloc[drop_idx, 1:] = weighted_oof\n",
    "oof_path = \"weighted_oof.csv\"\n",
    "oof.to_csv(oof_path, index=False)\n",
    "logging.info(f\"saved at {oof_path}\")\n",
    "\n",
    "ss = pd.read_csv(\"../input/lish-moa/sample_submission.csv\")\n",
    "ss.iloc[:,1:] = weighted_preds\n",
    "ss.iloc[test_features[\"cp_type\"] == \"ctl_vehicle\", 1:] = 0\n",
    "sub_path = \"submission.csv\"\n",
    "ss.to_csv(sub_path, index=False)\n",
    "logging.info(f\"saved at {sub_path}\")"
   ]
  },
  {
   "cell_type": "code",
   "execution_count": 14,
   "metadata": {
    "execution": {
     "iopub.execute_input": "2020-11-30T14:21:25.759481Z",
     "iopub.status.busy": "2020-11-30T14:21:25.757704Z",
     "iopub.status.idle": "2020-11-30T14:21:25.761821Z",
     "shell.execute_reply": "2020-11-30T14:21:25.761321Z"
    },
    "papermill": {
     "duration": 4.782506,
     "end_time": "2020-11-30T14:21:25.761920",
     "exception": false,
     "start_time": "2020-11-30T14:21:20.979414",
     "status": "completed"
    },
    "tags": []
   },
   "outputs": [
    {
     "data": {
      "text/plain": [
       "(3982, 206)"
      ]
     },
     "execution_count": 14,
     "metadata": {},
     "output_type": "execute_result"
    }
   ],
   "source": [
    "weighted_preds.shape"
   ]
  },
  {
   "cell_type": "code",
   "execution_count": 15,
   "metadata": {
    "execution": {
     "iopub.execute_input": "2020-11-30T14:21:35.866113Z",
     "iopub.status.busy": "2020-11-30T14:21:35.864997Z",
     "iopub.status.idle": "2020-11-30T14:21:36.192487Z",
     "shell.execute_reply": "2020-11-30T14:21:36.193626Z"
    },
    "papermill": {
     "duration": 5.702882,
     "end_time": "2020-11-30T14:21:36.193842",
     "exception": false,
     "start_time": "2020-11-30T14:21:30.490960",
     "status": "completed"
    },
    "tags": []
   },
   "outputs": [
    {
     "data": {
      "text/plain": [
       "(array([8.00725e+05, 1.24070e+04, 2.96500e+03, 1.23800e+03, 6.48000e+02,\n",
       "        3.88000e+02, 2.61000e+02, 1.73000e+02, 1.13000e+02, 7.30000e+01,\n",
       "        7.60000e+01, 7.50000e+01, 4.40000e+01, 3.80000e+01, 3.90000e+01,\n",
       "        3.10000e+01, 1.90000e+01, 2.40000e+01, 2.00000e+01, 3.10000e+01,\n",
       "        1.50000e+01, 1.60000e+01, 2.10000e+01, 1.50000e+01, 1.30000e+01,\n",
       "        4.00000e+00, 1.30000e+01, 6.00000e+00, 8.00000e+00, 7.00000e+00,\n",
       "        4.00000e+00, 1.00000e+01, 5.00000e+00, 4.00000e+00, 7.00000e+00,\n",
       "        4.00000e+00, 1.00000e+01, 8.00000e+00, 7.00000e+00, 3.00000e+00,\n",
       "        6.00000e+00, 3.00000e+00, 3.00000e+00, 8.00000e+00, 7.00000e+00,\n",
       "        2.00000e+00, 3.00000e+00, 3.00000e+00, 3.00000e+00, 5.00000e+00,\n",
       "        7.00000e+00, 2.00000e+00, 5.00000e+00, 5.00000e+00, 4.00000e+00,\n",
       "        7.00000e+00, 3.00000e+00, 2.00000e+00, 7.00000e+00, 7.00000e+00,\n",
       "        2.00000e+00, 8.00000e+00, 3.00000e+00, 5.00000e+00, 5.00000e+00,\n",
       "        3.00000e+00, 7.00000e+00, 2.00000e+00, 3.00000e+00, 4.00000e+00,\n",
       "        1.00000e+00, 4.00000e+00, 5.00000e+00, 3.00000e+00, 5.00000e+00,\n",
       "        4.00000e+00, 7.00000e+00, 4.00000e+00, 2.00000e+00, 1.00000e+00,\n",
       "        7.00000e+00, 6.00000e+00, 4.00000e+00, 8.00000e+00, 7.00000e+00,\n",
       "        7.00000e+00, 3.00000e+00, 6.00000e+00, 6.00000e+00, 2.00000e+00,\n",
       "        1.00000e+01, 7.00000e+00, 8.00000e+00, 9.00000e+00, 9.00000e+00,\n",
       "        1.00000e+01, 2.20000e+01, 3.30000e+01, 8.30000e+01, 3.07000e+02]),\n",
       " array([0.        , 0.00999836, 0.01999673, 0.02999509, 0.03999346,\n",
       "        0.04999182, 0.05999019, 0.06998855, 0.07998692, 0.08998528,\n",
       "        0.09998365, 0.10998201, 0.11998038, 0.12997874, 0.13997711,\n",
       "        0.14997547, 0.15997384, 0.1699722 , 0.17997057, 0.18996893,\n",
       "        0.1999673 , 0.20996566, 0.21996403, 0.22996239, 0.23996076,\n",
       "        0.24995912, 0.25995749, 0.26995585, 0.27995422, 0.28995258,\n",
       "        0.29995095, 0.30994931, 0.31994768, 0.32994604, 0.33994441,\n",
       "        0.34994277, 0.35994114, 0.3699395 , 0.37993787, 0.38993623,\n",
       "        0.3999346 , 0.40993296, 0.41993133, 0.42992969, 0.43992806,\n",
       "        0.44992642, 0.45992479, 0.46992315, 0.47992152, 0.48991988,\n",
       "        0.49991825, 0.50991661, 0.51991498, 0.52991334, 0.53991171,\n",
       "        0.54991007, 0.55990844, 0.5699068 , 0.57990517, 0.58990353,\n",
       "        0.5999019 , 0.60990026, 0.61989863, 0.62989699, 0.63989536,\n",
       "        0.64989372, 0.65989209, 0.66989045, 0.67988882, 0.68988718,\n",
       "        0.69988555, 0.70988391, 0.71988228, 0.72988064, 0.73987901,\n",
       "        0.74987737, 0.75987574, 0.7698741 , 0.77987247, 0.78987083,\n",
       "        0.7998692 , 0.80986756, 0.81986593, 0.82986429, 0.83986266,\n",
       "        0.84986102, 0.85985939, 0.86985775, 0.87985612, 0.88985448,\n",
       "        0.89985285, 0.90985121, 0.91984958, 0.92984794, 0.93984631,\n",
       "        0.94984467, 0.95984304, 0.9698414 , 0.97983977, 0.98983813,\n",
       "        0.9998365 ]),\n",
       " <a list of 100 Patch objects>)"
      ]
     },
     "execution_count": 15,
     "metadata": {},
     "output_type": "execute_result"
    },
    {
     "data": {
      "image/png": "[encoded data removed]",
      "text/plain": [
       "<Figure size 1152x288 with 1 Axes>"
      ]
     },
     "metadata": {},
     "output_type": "display_data"
    }
   ],
   "source": [
    "hist = ss.iloc[:, 1:].values.flatten()\n",
    "import matplotlib.pyplot as plt\n",
    "plt.figure(figsize=(16,4))\n",
    "plt.hist(hist, bins=100)"
   ]
  },
  {
   "cell_type": "code",
   "execution_count": null,
   "metadata": {
    "papermill": {
     "duration": 5.100737,
     "end_time": "2020-11-30T14:21:45.764216",
     "exception": false,
     "start_time": "2020-11-30T14:21:40.663479",
     "status": "completed"
    },
    "tags": []
   },
   "outputs": [],
   "source": []
  }
 ],
 "metadata": {
  "kernelspec": {
   "display_name": "Python 3",
   "language": "python",
   "name": "python3"
  },
  "language_info": {
   "codemirror_mode": {
    "name": "ipython",
    "version": 3
   },
   "file_extension": ".py",
   "mimetype": "text/x-python",
   "name": "python",
   "nbconvert_exporter": "python",
   "pygments_lexer": "ipython3",
   "version": "3.7.6"
  },
  "papermill": {
   "duration": 5681.75788,
   "end_time": "2020-11-30T14:21:51.851442",
   "environment_variables": {},
   "exception": null,
   "input_path": "__notebook__.ipynb",
   "output_path": "__notebook__.ipynb",
   "parameters": {},
   "start_time": "2020-11-30T12:47:10.093562",
   "version": "2.1.0"
  }
 },
 "nbformat": 4,
 "nbformat_minor": 4
}
